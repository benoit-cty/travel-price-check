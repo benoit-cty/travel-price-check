{
 "cells": [
  {
   "cell_type": "markdown",
   "id": "88ccc157",
   "metadata": {},
   "source": [
    "# Flight Price Analysis\n",
    "\n",
    "This notebook visualizes flight price trends from the CSV data, plotting datetime on the x-axis and Price_EUR on the y-axis with different colors for each flight route. We'll use Plotly for interactive visualizations."
   ]
  },
  {
   "cell_type": "markdown",
   "id": "e7f33f3c",
   "metadata": {},
   "source": [
    "# Import Required Libraries\n",
    "\n",
    "Import libraries such as pandas for data manipulation and matplotlib for plotting."
   ]
  },
  {
   "cell_type": "code",
   "execution_count": 1,
   "id": "386dad18",
   "metadata": {},
   "outputs": [],
   "source": [
    "# Import necessary libraries\n",
    "import pandas as pd\n",
    "import numpy as np\n",
    "import plotly.express as px\n",
    "import plotly.graph_objects as go\n",
    "from plotly.subplots import make_subplots\n",
    "from datetime import datetime"
   ]
  },
  {
   "cell_type": "markdown",
   "id": "ca673f6c",
   "metadata": {},
   "source": [
    "# Load and Inspect the Dataset\n",
    "\n",
    "Load the flight_prices.csv file into a pandas DataFrame and inspect the first few rows to understand its structure."
   ]
  },
  {
   "cell_type": "code",
   "execution_count": 2,
   "id": "810449fc",
   "metadata": {},
   "outputs": [
    {
     "name": "stdout",
     "output_type": "stream",
     "text": [
      "Successfully loaded flight_prices.csv\n",
      "\n",
      "First 5 rows of the dataset:\n",
      "         Date      Time              Flight  Price_EUR  Price_BRL  \\\n",
      "0  2025-03-25  11:32:55            SDU->BSB     250.29    1555.31   \n",
      "1  2025-03-25  11:33:10            BSB->SSA     292.79    1819.40   \n",
      "2  2025-03-25  11:33:33  ORY->GIG, SSA->ORY    4415.09   27435.04   \n",
      "3  2025-03-25  11:47:05            BSB->SSA     292.79    1819.40   \n",
      "4  2025-03-25  11:47:28  ORY->GIG, SSA->ORY    4415.09   27435.04   \n",
      "\n",
      "   Target_Price  \n",
      "0          1500  \n",
      "1          1700  \n",
      "2         27000  \n",
      "3          1700  \n",
      "4         27000  \n",
      "\n",
      "Dataset information:\n",
      "<class 'pandas.core.frame.DataFrame'>\n",
      "RangeIndex: 518 entries, 0 to 517\n",
      "Data columns (total 6 columns):\n",
      " #   Column        Non-Null Count  Dtype  \n",
      "---  ------        --------------  -----  \n",
      " 0   Date          518 non-null    object \n",
      " 1   Time          518 non-null    object \n",
      " 2   Flight        518 non-null    object \n",
      " 3   Price_EUR     518 non-null    float64\n",
      " 4   Price_BRL     518 non-null    float64\n",
      " 5   Target_Price  518 non-null    int64  \n",
      "dtypes: float64(2), int64(1), object(3)\n",
      "memory usage: 24.4+ KB\n",
      "None\n",
      "\n",
      "Summary statistics:\n",
      "         Price_EUR     Price_BRL  Target_Price\n",
      "count   518.000000    518.000000    518.000000\n",
      "mean   1851.030386  11502.155290  11162.355212\n",
      "std    2075.479792  12896.866348  12317.857956\n",
      "min     142.370000    884.650000   1500.000000\n",
      "25%     229.070000   1423.400000   1500.000000\n",
      "50%     289.220000   1797.210000   1700.000000\n",
      "75%    4420.940000  27471.390000  27000.000000\n",
      "max    4956.950000  30802.080000  27000.000000\n"
     ]
    }
   ],
   "source": [
    "# Load the dataset\n",
    "file_path = 'flight_prices.csv'\n",
    "try:\n",
    "    df = pd.read_csv(file_path)\n",
    "    print(f\"Successfully loaded {file_path}\")\n",
    "    \n",
    "    # Display the first 5 rows\n",
    "    print(\"\\nFirst 5 rows of the dataset:\")\n",
    "    print(df.head())\n",
    "    \n",
    "    # Display basic information about the dataset\n",
    "    print(\"\\nDataset information:\")\n",
    "    print(df.info())\n",
    "    \n",
    "    # Display summary statistics\n",
    "    print(\"\\nSummary statistics:\")\n",
    "    print(df.describe())\n",
    "except FileNotFoundError:\n",
    "    print(f\"Error: File {file_path} not found.\")\n",
    "except Exception as e:\n",
    "    print(f\"An error occurred: {e}\")"
   ]
  },
  {
   "cell_type": "markdown",
   "id": "62746e98",
   "metadata": {},
   "source": [
    "# Preprocess the Data\n",
    "\n",
    "Convert the datetime column to a pandas datetime object and ensure the data is sorted by datetime. Identify unique flights for color differentiation."
   ]
  },
  {
   "cell_type": "code",
   "execution_count": 3,
   "id": "01379dfb",
   "metadata": {},
   "outputs": [
    {
     "name": "stdout",
     "output_type": "stream",
     "text": [
      "Using Date as datetime column\n",
      "Using Flight to identify unique flights\n",
      "\n",
      "Number of unique flights: 3\n",
      "Unique flights: ['SDU->BSB' 'ORY->GIG, SSA->ORY' 'BSB->SSA'] \n"
     ]
    }
   ],
   "source": [
    "# Convert datetime column to datetime object\n",
    "try:\n",
    "    # Check if 'datetime' column exists\n",
    "    if 'datetime' in df.columns:\n",
    "        df['datetime'] = pd.to_datetime(df['datetime'])\n",
    "    else:\n",
    "        # Try to find a column that might contain datetime information\n",
    "        datetime_cols = [col for col in df.columns if 'date' in col.lower() or 'time' in col.lower()]\n",
    "        if datetime_cols:\n",
    "            df['datetime'] = pd.to_datetime(df[datetime_cols[0]])\n",
    "            print(f\"Using {datetime_cols[0]} as datetime column\")\n",
    "        else:\n",
    "            print(\"No datetime column found. Please specify the correct column name.\")\n",
    "\n",
    "    # Sort DataFrame by datetime\n",
    "    df.sort_values('datetime', inplace=True)\n",
    "    \n",
    "    # Identify unique flights\n",
    "    # Checking if columns that might identify flights exist\n",
    "    flight_id_columns = [col for col in df.columns if 'flight' in col.lower() or 'route' in col.lower() or 'id' in col.lower()]\n",
    "    \n",
    "    if flight_id_columns:\n",
    "        flight_id_col = flight_id_columns[0]\n",
    "        print(f\"Using {flight_id_col} to identify unique flights\")\n",
    "    else:\n",
    "        # If no obvious flight ID column, we'll check if origin and destination columns exist\n",
    "        origin_dest_cols = [col for col in df.columns if 'origin' in col.lower() or 'destination' in col.lower() \n",
    "                           or 'from' in col.lower() or 'to' in col.lower()]\n",
    "        \n",
    "        if len(origin_dest_cols) >= 2:\n",
    "            # Create a flight identifier from origin and destination\n",
    "            flight_id_col = 'flight_id'\n",
    "            df[flight_id_col] = df[origin_dest_cols[0]] + '-' + df[origin_dest_cols[1]]\n",
    "            print(f\"Created {flight_id_col} from {origin_dest_cols[0]} and {origin_dest_cols[1]}\")\n",
    "        else:\n",
    "            # If we can't find appropriate columns, warn the user\n",
    "            print(\"Warning: Could not identify flight identifiers. Using row indices as flight identifiers.\")\n",
    "            flight_id_col = 'index'\n",
    "            df[flight_id_col] = df.index\n",
    "    \n",
    "    # Get unique flights\n",
    "    unique_flights = df[flight_id_col].unique()\n",
    "    print(f\"\\nNumber of unique flights: {len(unique_flights)}\")\n",
    "    print(f\"Unique flights: {unique_flights[:5]} {'...' if len(unique_flights) > 5 else ''}\")\n",
    "\n",
    "except Exception as e:\n",
    "    print(f\"Error during preprocessing: {e}\")"
   ]
  },
  {
   "cell_type": "markdown",
   "id": "a830523e",
   "metadata": {},
   "source": [
    "# Plot Flight Prices\n",
    "\n",
    "Use matplotlib to create a scatter plot with datetime on the x-axis and Price_EUR on the y-axis. Assign a unique color to each flight using a colormap."
   ]
  },
  {
   "cell_type": "code",
   "execution_count": 4,
   "id": "79d6ee35",
   "metadata": {},
   "outputs": [
    {
     "name": "stdout",
     "output_type": "stream",
     "text": [
      "Error during plotting: name 'plt' is not defined\n"
     ]
    }
   ],
   "source": [
    "# Plot flight prices over time\n",
    "try:\n",
    "    # Set up the figure with a larger size\n",
    "    plt.figure(figsize=(14, 8))\n",
    "    \n",
    "    # Check if Price_EUR column exists, if not try to find a price column\n",
    "    if 'Price_EUR' in df.columns:\n",
    "        price_col = 'Price_EUR'\n",
    "    else:\n",
    "        price_cols = [col for col in df.columns if 'price' in col.lower() or 'cost' in col.lower() or 'fare' in col.lower()]\n",
    "        if price_cols:\n",
    "            price_col = price_cols[0]\n",
    "            print(f\"Using {price_col} as price column\")\n",
    "        else:\n",
    "            price_col = df.select_dtypes(include=[np.number]).columns[0]  # Use the first numeric column\n",
    "            print(f\"No obvious price column found. Using {price_col} as price column\")\n",
    "    \n",
    "    # Create a colormap\n",
    "    cmap = plt.cm.get_cmap('viridis', len(unique_flights))\n",
    "    \n",
    "    # Plot each flight with a different color\n",
    "    for i, flight in enumerate(unique_flights):\n",
    "        flight_data = df[df[flight_id_col] == flight]\n",
    "        plt.scatter(flight_data['datetime'], flight_data[price_col], \n",
    "                   label=f\"Flight: {flight}\", \n",
    "                   color=cmap(i), \n",
    "                   alpha=0.7, \n",
    "                   s=50)  # s is the marker size\n",
    "    \n",
    "    # Formatting the plot\n",
    "    plt.title('Flight Price Trends Over Time', fontsize=16)\n",
    "    plt.xlabel('Date', fontsize=14)\n",
    "    plt.ylabel(price_col, fontsize=14)\n",
    "    plt.grid(True, alpha=0.3)\n",
    "    \n",
    "    # Format the x-axis to show dates nicely\n",
    "    plt.gca().xaxis.set_major_formatter(mdates.DateFormatter('%Y-%m-%d'))\n",
    "    plt.gca().xaxis.set_major_locator(mdates.AutoDateLocator())\n",
    "    plt.gcf().autofmt_xdate()  # Rotate date labels for better readability\n",
    "    \n",
    "    # Add legend with smaller font to accommodate many flights\n",
    "    if len(unique_flights) > 10:\n",
    "        plt.legend(fontsize=8, loc='upper center', bbox_to_anchor=(0.5, -0.15), \n",
    "                  fancybox=True, shadow=True, ncol=5)\n",
    "    else:\n",
    "        plt.legend(fontsize=10)\n",
    "        \n",
    "    # Show the plot\n",
    "    plt.tight_layout()\n",
    "    plt.show()\n",
    "    \n",
    "    # Save the figure\n",
    "    plt.savefig('flight_price_trends.png', dpi=300, bbox_inches='tight')\n",
    "    print(\"Plot saved as 'flight_price_trends.png'\")\n",
    "    \n",
    "except Exception as e:\n",
    "    print(f\"Error during plotting: {e}\")"
   ]
  },
  {
   "cell_type": "markdown",
   "id": "1d7c3a9a",
   "metadata": {},
   "source": [
    "# Additional Analysis (Optional)\n",
    "\n",
    "Let's add some statistical analysis to better understand the price variations."
   ]
  },
  {
   "cell_type": "code",
   "execution_count": 5,
   "id": "f7a17a39",
   "metadata": {},
   "outputs": [
    {
     "name": "stdout",
     "output_type": "stream",
     "text": [
      "Error during additional analysis: name 'price_col' is not defined\n"
     ]
    }
   ],
   "source": [
    "# Calculate price statistics by flight\n",
    "try:\n",
    "    # Group by flight and calculate statistics\n",
    "    flight_stats = df.groupby(flight_id_col)[price_col].agg(['mean', 'min', 'max', 'std', 'count'])\n",
    "    flight_stats = flight_stats.sort_values('mean', ascending=False)\n",
    "    \n",
    "    print(\"Price statistics by flight:\")\n",
    "    print(flight_stats)\n",
    "    \n",
    "    # Plot a bar chart of average prices by flight\n",
    "    plt.figure(figsize=(12, 6))\n",
    "    flight_stats['mean'].plot(kind='bar', color='skyblue', alpha=0.7)\n",
    "    plt.title('Average Price by Flight', fontsize=16)\n",
    "    plt.xlabel('Flight', fontsize=14)\n",
    "    plt.ylabel(f'Average {price_col}', fontsize=14)\n",
    "    plt.xticks(rotation=45, ha='right')\n",
    "    plt.tight_layout()\n",
    "    plt.grid(axis='y', alpha=0.3)\n",
    "    plt.show()\n",
    "    \n",
    "    # Time-based analysis: Calculate average price by month or day of week if data spans a long enough period\n",
    "    if df['datetime'].max() - df['datetime'].min() > pd.Timedelta(days=30):\n",
    "        df['month'] = df['datetime'].dt.month_name()\n",
    "        df['day_of_week'] = df['datetime'].dt.day_name()\n",
    "        \n",
    "        # Average price by month\n",
    "        monthly_avg = df.groupby('month')[price_col].mean().reindex(\n",
    "            ['January', 'February', 'March', 'April', 'May', 'June', \n",
    "             'July', 'August', 'September', 'October', 'November', 'December']\n",
    "        )\n",
    "        \n",
    "        plt.figure(figsize=(12, 6))\n",
    "        monthly_avg.plot(kind='bar', color='lightgreen', alpha=0.7)\n",
    "        plt.title('Average Price by Month', fontsize=16)\n",
    "        plt.xlabel('Month', fontsize=14)\n",
    "        plt.ylabel(f'Average {price_col}', fontsize=14)\n",
    "        plt.grid(axis='y', alpha=0.3)\n",
    "        plt.tight_layout()\n",
    "        plt.show()\n",
    "        \n",
    "        # Average price by day of week\n",
    "        dow_avg = df.groupby('day_of_week')[price_col].mean().reindex(\n",
    "            ['Monday', 'Tuesday', 'Wednesday', 'Thursday', 'Friday', 'Saturday', 'Sunday']\n",
    "        )\n",
    "        \n",
    "        plt.figure(figsize=(12, 6))\n",
    "        dow_avg.plot(kind='bar', color='salmon', alpha=0.7)\n",
    "        plt.title('Average Price by Day of Week', fontsize=16)\n",
    "        plt.xlabel('Day of Week', fontsize=14)\n",
    "        plt.ylabel(f'Average {price_col}', fontsize=14)\n",
    "        plt.grid(axis='y', alpha=0.3)\n",
    "        plt.tight_layout()\n",
    "        plt.show()\n",
    "    \n",
    "except Exception as e:\n",
    "    print(f\"Error during additional analysis: {e}\")"
   ]
  },
  {
   "cell_type": "markdown",
   "id": "fdf16237",
   "metadata": {},
   "source": [
    "# Conclusion\n",
    "\n",
    "Summary of findings from the flight price analysis:\n",
    "\n",
    "1. We've visualized how flight prices change over time for different flights\n",
    "2. Identified which flights tend to be more expensive on average\n",
    "3. Analyzed price trends over months and days of the week (if data permits)\n",
    "\n",
    "This information can help travelers make more informed decisions about when to book flights to get better prices."
   ]
  },
  {
   "cell_type": "code",
   "execution_count": 6,
   "id": "2af03283",
   "metadata": {},
   "outputs": [
    {
     "data": {
      "application/vnd.microsoft.datawrangler.viewer.v0+json": {
       "columns": [
        {
         "name": "index",
         "rawType": "int64",
         "type": "integer"
        },
        {
         "name": "Date",
         "rawType": "object",
         "type": "string"
        },
        {
         "name": "Time",
         "rawType": "object",
         "type": "string"
        },
        {
         "name": "Flight",
         "rawType": "object",
         "type": "string"
        },
        {
         "name": "Price_EUR",
         "rawType": "float64",
         "type": "float"
        },
        {
         "name": "Price_BRL",
         "rawType": "float64",
         "type": "float"
        },
        {
         "name": "Target_Price",
         "rawType": "int64",
         "type": "integer"
        }
       ],
       "conversionMethod": "pd.DataFrame",
       "ref": "6fb2b947-6207-4dbe-b4b1-d57abf19b1e9",
       "rows": [
        [
         "0",
         "2025-03-25",
         "11:32:55",
         "SDU->BSB",
         "250.29",
         "1555.31",
         "1500"
        ],
        [
         "1",
         "2025-03-25",
         "11:33:10",
         "BSB->SSA",
         "292.79",
         "1819.4",
         "1700"
        ],
        [
         "2",
         "2025-03-25",
         "11:33:33",
         "ORY->GIG, SSA->ORY",
         "4415.09",
         "27435.04",
         "27000"
        ],
        [
         "3",
         "2025-03-25",
         "11:47:05",
         "BSB->SSA",
         "292.79",
         "1819.4",
         "1700"
        ],
        [
         "4",
         "2025-03-25",
         "11:47:28",
         "ORY->GIG, SSA->ORY",
         "4415.09",
         "27435.04",
         "27000"
        ]
       ],
       "shape": {
        "columns": 6,
        "rows": 5
       }
      },
      "text/html": [
       "<div>\n",
       "<style scoped>\n",
       "    .dataframe tbody tr th:only-of-type {\n",
       "        vertical-align: middle;\n",
       "    }\n",
       "\n",
       "    .dataframe tbody tr th {\n",
       "        vertical-align: top;\n",
       "    }\n",
       "\n",
       "    .dataframe thead th {\n",
       "        text-align: right;\n",
       "    }\n",
       "</style>\n",
       "<table border=\"1\" class=\"dataframe\">\n",
       "  <thead>\n",
       "    <tr style=\"text-align: right;\">\n",
       "      <th></th>\n",
       "      <th>Date</th>\n",
       "      <th>Time</th>\n",
       "      <th>Flight</th>\n",
       "      <th>Price_EUR</th>\n",
       "      <th>Price_BRL</th>\n",
       "      <th>Target_Price</th>\n",
       "    </tr>\n",
       "  </thead>\n",
       "  <tbody>\n",
       "    <tr>\n",
       "      <th>0</th>\n",
       "      <td>2025-03-25</td>\n",
       "      <td>11:32:55</td>\n",
       "      <td>SDU-&gt;BSB</td>\n",
       "      <td>250.29</td>\n",
       "      <td>1555.31</td>\n",
       "      <td>1500</td>\n",
       "    </tr>\n",
       "    <tr>\n",
       "      <th>1</th>\n",
       "      <td>2025-03-25</td>\n",
       "      <td>11:33:10</td>\n",
       "      <td>BSB-&gt;SSA</td>\n",
       "      <td>292.79</td>\n",
       "      <td>1819.40</td>\n",
       "      <td>1700</td>\n",
       "    </tr>\n",
       "    <tr>\n",
       "      <th>2</th>\n",
       "      <td>2025-03-25</td>\n",
       "      <td>11:33:33</td>\n",
       "      <td>ORY-&gt;GIG, SSA-&gt;ORY</td>\n",
       "      <td>4415.09</td>\n",
       "      <td>27435.04</td>\n",
       "      <td>27000</td>\n",
       "    </tr>\n",
       "    <tr>\n",
       "      <th>3</th>\n",
       "      <td>2025-03-25</td>\n",
       "      <td>11:47:05</td>\n",
       "      <td>BSB-&gt;SSA</td>\n",
       "      <td>292.79</td>\n",
       "      <td>1819.40</td>\n",
       "      <td>1700</td>\n",
       "    </tr>\n",
       "    <tr>\n",
       "      <th>4</th>\n",
       "      <td>2025-03-25</td>\n",
       "      <td>11:47:28</td>\n",
       "      <td>ORY-&gt;GIG, SSA-&gt;ORY</td>\n",
       "      <td>4415.09</td>\n",
       "      <td>27435.04</td>\n",
       "      <td>27000</td>\n",
       "    </tr>\n",
       "  </tbody>\n",
       "</table>\n",
       "</div>"
      ],
      "text/plain": [
       "         Date      Time              Flight  Price_EUR  Price_BRL  \\\n",
       "0  2025-03-25  11:32:55            SDU->BSB     250.29    1555.31   \n",
       "1  2025-03-25  11:33:10            BSB->SSA     292.79    1819.40   \n",
       "2  2025-03-25  11:33:33  ORY->GIG, SSA->ORY    4415.09   27435.04   \n",
       "3  2025-03-25  11:47:05            BSB->SSA     292.79    1819.40   \n",
       "4  2025-03-25  11:47:28  ORY->GIG, SSA->ORY    4415.09   27435.04   \n",
       "\n",
       "   Target_Price  \n",
       "0          1500  \n",
       "1          1700  \n",
       "2         27000  \n",
       "3          1700  \n",
       "4         27000  "
      ]
     },
     "execution_count": 6,
     "metadata": {},
     "output_type": "execute_result"
    }
   ],
   "source": [
    "# Load the flight price data\n",
    "df = pd.read_csv('flight_prices.csv')\n",
    "\n",
    "# Display the first few rows to understand the data\n",
    "df.head()"
   ]
  },
  {
   "cell_type": "code",
   "execution_count": 7,
   "id": "b3baee68",
   "metadata": {},
   "outputs": [
    {
     "name": "stdout",
     "output_type": "stream",
     "text": [
      "Unique flights in the dataset: ['SDU->BSB' 'BSB->SSA' 'ORY->GIG, SSA->ORY']\n",
      "Total number of unique flights: 3\n"
     ]
    }
   ],
   "source": [
    "# Create a proper datetime column by combining Date and Time columns\n",
    "df['Datetime'] = pd.to_datetime(df['Date'] + ' ' + df['Time'])\n",
    "\n",
    "# Check the unique flights in the dataset\n",
    "unique_flights = df['Flight'].unique()\n",
    "print(f\"Unique flights in the dataset: {unique_flights}\")\n",
    "print(f\"Total number of unique flights: {len(unique_flights)}\")"
   ]
  },
  {
   "cell_type": "markdown",
   "id": "e3cbd931",
   "metadata": {},
   "source": [
    "## Interactive Flight Price Trends with Plotly\n",
    "\n",
    "Create an interactive plot using Plotly with datetime on the x-axis and Price_EUR on the y-axis. Each flight will be represented with a different color."
   ]
  },
  {
   "cell_type": "code",
   "execution_count": 8,
   "id": "d1fa987d",
   "metadata": {},
   "outputs": [
    {
     "data": {
      "application/vnd.plotly.v1+json": {
       "config": {
        "plotlyServerURL": "https://plot.ly"
       },
       "data": [
        {
         "hovertemplate": "<b>%{fullData.name}</b><br>Date: %{x|%Y-%m-%d %H:%M}<br>Price: €%{y:.2f}",
         "legendgroup": "SDU->BSB",
         "line": {
          "color": "#636efa",
          "dash": "solid",
          "shape": "linear"
         },
         "marker": {
          "symbol": "circle"
         },
         "mode": "lines+markers",
         "name": "SDU->BSB",
         "orientation": "v",
         "showlegend": true,
         "type": "scatter",
         "x": [
          "2025-03-25T11:32:55.000000000",
          "2025-03-25T12:46:21.000000000",
          "2025-03-25T13:46:23.000000000",
          "2025-03-25T14:46:21.000000000",
          "2025-03-25T15:46:20.000000000",
          "2025-03-25T16:15:01.000000000",
          "2025-03-25T16:19:10.000000000",
          "2025-03-25T21:53:00.000000000",
          "2025-03-25T23:07:06.000000000",
          "2025-03-26T09:16:27.000000000",
          "2025-03-26T10:16:21.000000000",
          "2025-03-26T11:16:23.000000000",
          "2025-03-26T13:16:19.000000000",
          "2025-03-26T14:16:21.000000000",
          "2025-03-26T17:16:22.000000000",
          "2025-03-28T20:02:14.000000000",
          "2025-03-28T21:02:12.000000000",
          "2025-03-29T09:00:24.000000000",
          "2025-03-29T11:12:45.000000000",
          "2025-03-29T11:18:20.000000000",
          "2025-03-29T12:18:23.000000000",
          "2025-03-29T13:18:23.000000000",
          "2025-03-29T14:18:22.000000000",
          "2025-03-29T16:18:24.000000000",
          "2025-03-29T17:18:29.000000000",
          "2025-03-29T20:18:22.000000000",
          "2025-03-30T18:15:13.000000000",
          "2025-03-30T20:15:14.000000000",
          "2025-03-30T21:15:15.000000000",
          "2025-03-31T10:47:30.000000000",
          "2025-03-31T10:48:33.000000000",
          "2025-03-31T11:48:34.000000000",
          "2025-03-31T14:48:39.000000000",
          "2025-03-31T15:48:34.000000000",
          "2025-04-04T10:19:49.000000000",
          "2025-04-04T11:19:47.000000000",
          "2025-04-04T12:19:47.000000000",
          "2025-04-04T13:19:47.000000000",
          "2025-04-04T15:19:47.000000000",
          "2025-04-04T16:19:47.000000000",
          "2025-04-04T17:19:45.000000000",
          "2025-04-04T18:19:47.000000000",
          "2025-04-04T19:19:53.000000000",
          "2025-04-04T20:19:47.000000000",
          "2025-04-05T17:22:26.000000000",
          "2025-04-05T18:22:23.000000000",
          "2025-04-06T09:29:50.000000000",
          "2025-04-06T10:29:51.000000000",
          "2025-04-06T11:29:59.000000000",
          "2025-04-06T12:29:53.000000000",
          "2025-04-06T13:29:53.000000000",
          "2025-04-06T15:29:54.000000000",
          "2025-04-06T17:29:54.000000000",
          "2025-04-06T18:29:53.000000000",
          "2025-04-06T19:29:54.000000000",
          "2025-04-06T20:29:51.000000000",
          "2025-04-06T21:29:53.000000000",
          "2025-04-06T22:29:54.000000000",
          "2025-04-08T09:52:50.000000000",
          "2025-04-08T10:52:52.000000000",
          "2025-04-08T11:52:51.000000000",
          "2025-04-08T12:52:53.000000000",
          "2025-04-08T13:52:50.000000000",
          "2025-04-08T14:52:51.000000000",
          "2025-04-08T15:52:52.000000000",
          "2025-04-08T16:52:53.000000000",
          "2025-04-08T17:52:50.000000000",
          "2025-04-08T18:52:49.000000000",
          "2025-04-08T20:52:52.000000000",
          "2025-04-08T21:52:57.000000000",
          "2025-04-08T22:52:50.000000000",
          "2025-04-08T23:52:50.000000000",
          "2025-04-09T00:52:52.000000000",
          "2025-04-09T01:52:53.000000000",
          "2025-04-09T02:52:50.000000000",
          "2025-04-09T03:52:50.000000000",
          "2025-04-09T04:52:53.000000000",
          "2025-04-09T05:52:53.000000000",
          "2025-04-09T06:52:53.000000000",
          "2025-04-09T07:52:53.000000000",
          "2025-04-09T09:52:53.000000000",
          "2025-04-09T11:52:54.000000000",
          "2025-04-09T12:52:51.000000000",
          "2025-04-09T13:52:53.000000000",
          "2025-04-09T14:52:53.000000000",
          "2025-04-09T15:52:53.000000000",
          "2025-04-09T16:52:53.000000000",
          "2025-04-09T18:52:59.000000000",
          "2025-04-09T19:52:54.000000000",
          "2025-04-09T21:52:53.000000000",
          "2025-04-09T23:52:53.000000000",
          "2025-04-10T00:52:53.000000000",
          "2025-04-10T01:52:53.000000000",
          "2025-04-10T03:52:54.000000000",
          "2025-04-10T04:52:54.000000000",
          "2025-04-10T05:52:54.000000000",
          "2025-04-10T06:52:55.000000000",
          "2025-04-10T07:52:55.000000000",
          "2025-04-10T08:52:52.000000000",
          "2025-04-10T09:52:52.000000000",
          "2025-04-10T10:52:55.000000000",
          "2025-04-10T11:52:54.000000000",
          "2025-04-10T12:53:02.000000000",
          "2025-04-10T13:52:54.000000000",
          "2025-04-10T14:52:54.000000000",
          "2025-04-10T15:52:55.000000000",
          "2025-04-10T16:52:56.000000000",
          "2025-04-10T18:52:53.000000000",
          "2025-04-10T21:52:56.000000000",
          "2025-04-10T22:53:03.000000000",
          "2025-04-11T00:52:56.000000000",
          "2025-04-11T01:53:04.000000000",
          "2025-04-11T02:52:56.000000000",
          "2025-04-11T03:52:55.000000000",
          "2025-04-11T04:52:56.000000000",
          "2025-04-11T05:53:00.000000000",
          "2025-04-11T07:52:56.000000000",
          "2025-04-11T08:53:02.000000000",
          "2025-04-11T09:52:57.000000000",
          "2025-04-11T11:52:56.000000000",
          "2025-04-11T12:52:54.000000000",
          "2025-04-11T13:52:56.000000000",
          "2025-04-11T14:52:56.000000000",
          "2025-04-11T16:52:56.000000000",
          "2025-04-11T17:52:57.000000000",
          "2025-04-11T18:52:57.000000000",
          "2025-04-11T19:52:57.000000000",
          "2025-04-11T20:53:00.000000000",
          "2025-04-11T21:52:53.000000000",
          "2025-04-11T22:52:55.000000000",
          "2025-04-11T23:52:57.000000000",
          "2025-04-12T00:52:54.000000000",
          "2025-04-12T02:52:56.000000000",
          "2025-04-12T03:52:57.000000000",
          "2025-04-12T05:52:56.000000000",
          "2025-04-12T06:52:57.000000000",
          "2025-04-12T07:53:01.000000000",
          "2025-04-12T08:52:59.000000000",
          "2025-04-12T09:52:58.000000000",
          "2025-04-12T10:52:57.000000000",
          "2025-04-12T11:52:57.000000000",
          "2025-04-12T12:53:03.000000000",
          "2025-04-12T13:53:02.000000000",
          "2025-04-12T14:52:57.000000000",
          "2025-04-12T15:52:55.000000000",
          "2025-04-12T16:53:06.000000000",
          "2025-04-12T17:52:53.000000000",
          "2025-04-12T18:52:54.000000000",
          "2025-04-12T19:52:58.000000000",
          "2025-04-12T20:53:02.000000000",
          "2025-04-12T21:52:57.000000000",
          "2025-04-13T10:11:43.000000000",
          "2025-04-13T12:11:52.000000000",
          "2025-04-13T13:11:46.000000000",
          "2025-04-13T15:11:48.000000000",
          "2025-04-13T16:11:44.000000000",
          "2025-04-13T18:11:41.000000000",
          "2025-04-13T20:11:49.000000000",
          "2025-04-13T21:11:43.000000000",
          "2025-04-13T22:11:43.000000000"
         ],
         "xaxis": "x",
         "y": {
          "bdata": "4XoUrkdJb0DhehSuR0lvQOF6FK5HSW9A4XoUrkdJb0DhehSuR0lvQOF6FK5HSW9A4XoUrkdJb0DhehSuR0lvQOF6FK5HSW9APQrXo3CVb0A9CtejcJVvQD0K16NwlW9APQrXo3CVb0A9CtejcJVvQAAAAAAAiG9Aw/UoXI/iY0DD9Shcj+JjQK5H4XoUTm1ArkfhehRObUCuR+F6FE5tQK5H4XoUTm1ArkfhehRObUDNzMzMzHRtQM3MzMzMdG1A16NwPQrjcEDNzMzMzHRtQKRwPQrXi25ApHA9CteLbkCkcD0K14tuQOxRuB6FU29A7FG4HoVTb0DsUbgehVNvQOxRuB6FU29A7FG4HoVTb0C4HoXrUSBnQEjhehSub2dASOF6FK5vZ0BI4XoUrm9nQEjhehSub2dASOF6FK5vZ0AK16NwPQpmQHsUrkfhem1AKVyPwvW4b0ApXI/C9bhvQMP1KFyP2mxAw/UoXI/abEAAAAAAAHhuQAAAAAAAeG5AAAAAAAB4bkAAAAAAAHhuQAAAAAAAeG5AAAAAAAB4bkAAAAAAAHhuQAAAAAAAeG5AAAAAAAB4bkAAAAAAAHhuQAAAAAAAeG5AAAAAAAB4bkBSuB6F6+FhQFK4HoXr4WFApHA9CtfLYUCkcD0K18thQKRwPQrXy2FApHA9CtfLYUCkcD0K18thQKRwPQrXy2FApHA9CtfLYUCkcD0K18thQKRwPQrXy2FApHA9CtfLYUCkcD0K18thQKRwPQrXy2FACtejcD0iYkBmZmZmZuZlQGZmZmZm5mVAZmZmZmbmZUBmZmZmZuZlQPYoXI/CvWVA9ihcj8K9ZUD2KFyPwr1lQPYoXI/CvWVA9ihcj8K9ZUD2KFyPwr1lQPYoXI/CvWVA16NwPQrnZUDXo3A9CudlQNejcD0K52VA16NwPQrnZUC4HoXrUVhrQLgehetRWGtAuB6F61FYa0DD9Shcj5JrQMP1KFyPkmtAw/UoXI+Sa0DD9Shcj5JrQJqZmZmZEWtAmpmZmZkRa0CamZmZmRFrQJqZmZmZEWtAmpmZmZkRa0CamZmZmRFrQJqZmZmZEWtAmpmZmZkRa0CamZmZmRFrQJqZmZmZEWtAmpmZmZkRa0BSuB6F67FlQFK4HoXrsWVAUrgeheuxZUBSuB6F67FlQGZmZmZmJmZAZmZmZmYmZkBmZmZmZiZmQGZmZmZmJmZAZmZmZmYmZkCamZmZmaFmQJqZmZmZoWZAmpmZmZmhZkCamZmZmaFmQJqZmZmZoWZAmpmZmZmhZkCamZmZmaFmQJqZmZmZoWZAmpmZmZmhZkBSuB6F60FsQFK4HoXrQWxAUrgehetBbEBSuB6F60FsQFK4HoXrQWxAUrgehetBbEBSuB6F60FsQFK4HoXrkWtAUrgeheuRa0BSuB6F65FrQHsUrkfhumtAexSuR+G6a0B7FK5H4bprQHsUrkfhumtAexSuR+G6a0B7FK5H4bprQHsUrkfhumtAexSuR+G6a0B7FK5H4bprQHsUrkfhumtAexSuR+G6a0B7FK5H4bprQHsUrkfhumtAexSuR+G6a0B7FK5H4bprQHsUrkfhumtAexSuR+G6a0CuR+F6FI5rQK5H4XoUjmtArkfhehSOa0CuR+F6FI5rQK5H4XoUjmtArkfhehSOa0CuR+F6FI5rQK5H4XoUjmtArkfhehSOa0A=",
          "dtype": "f8"
         },
         "yaxis": "y"
        },
        {
         "hovertemplate": "<b>%{fullData.name}</b><br>Date: %{x|%Y-%m-%d %H:%M}<br>Price: €%{y:.2f}",
         "legendgroup": "BSB->SSA",
         "line": {
          "color": "#EF553B",
          "dash": "solid",
          "shape": "linear"
         },
         "marker": {
          "symbol": "circle"
         },
         "mode": "lines+markers",
         "name": "BSB->SSA",
         "orientation": "v",
         "showlegend": true,
         "type": "scatter",
         "x": [
          "2025-03-25T11:33:10.000000000",
          "2025-03-25T11:47:05.000000000",
          "2025-03-25T12:46:40.000000000",
          "2025-03-25T13:46:40.000000000",
          "2025-03-25T14:46:40.000000000",
          "2025-03-25T15:46:41.000000000",
          "2025-03-25T16:15:20.000000000",
          "2025-03-25T16:19:25.000000000",
          "2025-03-25T23:07:21.000000000",
          "2025-03-26T09:16:43.000000000",
          "2025-03-26T10:16:35.000000000",
          "2025-03-26T11:16:38.000000000",
          "2025-03-26T12:16:31.000000000",
          "2025-03-26T13:16:33.000000000",
          "2025-03-26T14:16:38.000000000",
          "2025-03-26T16:16:30.000000000",
          "2025-03-26T17:16:36.000000000",
          "2025-03-28T20:02:29.000000000",
          "2025-03-28T21:02:25.000000000",
          "2025-03-28T22:02:22.000000000",
          "2025-03-29T11:18:34.000000000",
          "2025-03-29T12:18:41.000000000",
          "2025-03-29T13:18:40.000000000",
          "2025-03-29T14:18:41.000000000",
          "2025-03-29T16:18:37.000000000",
          "2025-03-29T17:18:48.000000000",
          "2025-03-29T20:18:39.000000000",
          "2025-03-30T18:15:27.000000000",
          "2025-03-30T20:15:28.000000000",
          "2025-03-30T21:15:33.000000000",
          "2025-03-31T10:48:49.000000000",
          "2025-03-31T11:48:48.000000000",
          "2025-03-31T13:48:47.000000000",
          "2025-03-31T14:48:56.000000000",
          "2025-03-31T15:48:47.000000000",
          "2025-04-04T10:20:17.000000000",
          "2025-04-04T11:20:10.000000000",
          "2025-04-04T12:20:10.000000000",
          "2025-04-04T13:20:10.000000000",
          "2025-04-04T15:20:11.000000000",
          "2025-04-04T16:20:14.000000000",
          "2025-04-04T17:20:10.000000000",
          "2025-04-04T18:20:10.000000000",
          "2025-04-04T19:20:18.000000000",
          "2025-04-04T20:20:12.000000000",
          "2025-04-05T17:22:49.000000000",
          "2025-04-05T18:22:48.000000000",
          "2025-04-06T09:30:17.000000000",
          "2025-04-06T10:30:18.000000000",
          "2025-04-06T11:30:24.000000000",
          "2025-04-06T12:30:18.000000000",
          "2025-04-06T13:30:17.000000000",
          "2025-04-06T15:30:17.000000000",
          "2025-04-06T16:31:09.000000000",
          "2025-04-06T17:30:17.000000000",
          "2025-04-06T18:30:17.000000000",
          "2025-04-06T19:30:17.000000000",
          "2025-04-06T20:30:14.000000000",
          "2025-04-06T21:30:19.000000000",
          "2025-04-06T22:30:20.000000000",
          "2025-04-08T09:53:13.000000000",
          "2025-04-08T10:53:19.000000000",
          "2025-04-08T11:53:16.000000000",
          "2025-04-08T12:53:17.000000000",
          "2025-04-08T13:53:16.000000000",
          "2025-04-08T14:53:16.000000000",
          "2025-04-08T15:53:15.000000000",
          "2025-04-08T16:53:17.000000000",
          "2025-04-08T17:53:13.000000000",
          "2025-04-08T18:53:11.000000000",
          "2025-04-08T20:53:14.000000000",
          "2025-04-08T21:53:22.000000000",
          "2025-04-08T22:53:16.000000000",
          "2025-04-08T23:53:13.000000000",
          "2025-04-09T00:53:17.000000000",
          "2025-04-09T01:53:16.000000000",
          "2025-04-09T02:53:16.000000000",
          "2025-04-09T03:53:13.000000000",
          "2025-04-09T04:53:19.000000000",
          "2025-04-09T05:53:16.000000000",
          "2025-04-09T06:53:19.000000000",
          "2025-04-09T07:53:19.000000000",
          "2025-04-09T09:53:17.000000000",
          "2025-04-09T11:53:20.000000000",
          "2025-04-09T12:53:14.000000000",
          "2025-04-09T13:53:16.000000000",
          "2025-04-09T14:53:18.000000000",
          "2025-04-09T15:53:17.000000000",
          "2025-04-09T16:53:19.000000000",
          "2025-04-09T18:53:24.000000000",
          "2025-04-09T19:53:20.000000000",
          "2025-04-09T21:53:17.000000000",
          "2025-04-09T23:53:17.000000000",
          "2025-04-10T00:53:16.000000000",
          "2025-04-10T01:53:20.000000000",
          "2025-04-10T03:53:17.000000000",
          "2025-04-10T04:53:17.000000000",
          "2025-04-10T05:53:21.000000000",
          "2025-04-10T06:53:21.000000000",
          "2025-04-10T07:53:21.000000000",
          "2025-04-10T08:53:21.000000000",
          "2025-04-10T09:53:18.000000000",
          "2025-04-10T10:53:21.000000000",
          "2025-04-10T11:53:20.000000000",
          "2025-04-10T12:53:28.000000000",
          "2025-04-10T13:53:20.000000000",
          "2025-04-10T14:53:21.000000000",
          "2025-04-10T15:53:21.000000000",
          "2025-04-10T16:53:21.000000000",
          "2025-04-10T18:53:16.000000000",
          "2025-04-10T21:53:19.000000000",
          "2025-04-10T22:53:26.000000000",
          "2025-04-11T00:53:20.000000000",
          "2025-04-11T01:53:29.000000000",
          "2025-04-11T02:53:19.000000000",
          "2025-04-11T03:53:18.000000000",
          "2025-04-11T04:53:19.000000000",
          "2025-04-11T05:53:26.000000000",
          "2025-04-11T07:53:24.000000000",
          "2025-04-11T08:53:29.000000000",
          "2025-04-11T09:53:20.000000000",
          "2025-04-11T11:53:23.000000000",
          "2025-04-11T12:53:18.000000000",
          "2025-04-11T13:53:19.000000000",
          "2025-04-11T14:53:19.000000000",
          "2025-04-11T16:53:23.000000000",
          "2025-04-11T17:53:23.000000000",
          "2025-04-11T18:53:22.000000000",
          "2025-04-11T19:53:20.000000000",
          "2025-04-11T20:53:27.000000000",
          "2025-04-11T21:53:17.000000000",
          "2025-04-11T22:53:22.000000000",
          "2025-04-11T23:53:21.000000000",
          "2025-04-12T00:53:20.000000000",
          "2025-04-12T02:53:21.000000000",
          "2025-04-12T03:53:19.000000000",
          "2025-04-12T05:53:21.000000000",
          "2025-04-12T06:53:24.000000000",
          "2025-04-12T07:53:28.000000000",
          "2025-04-12T08:53:25.000000000",
          "2025-04-12T09:53:22.000000000",
          "2025-04-12T10:53:21.000000000",
          "2025-04-12T11:53:23.000000000",
          "2025-04-12T12:53:30.000000000",
          "2025-04-12T13:53:28.000000000",
          "2025-04-12T14:53:21.000000000",
          "2025-04-12T15:53:21.000000000",
          "2025-04-12T16:53:32.000000000",
          "2025-04-12T17:53:17.000000000",
          "2025-04-12T18:53:19.000000000",
          "2025-04-12T19:53:22.000000000",
          "2025-04-12T20:53:29.000000000",
          "2025-04-12T21:53:24.000000000",
          "2025-04-13T10:12:06.000000000",
          "2025-04-13T11:11:55.000000000",
          "2025-04-13T12:12:19.000000000",
          "2025-04-13T13:12:11.000000000",
          "2025-04-13T15:12:12.000000000",
          "2025-04-13T16:12:12.000000000",
          "2025-04-13T18:12:06.000000000",
          "2025-04-13T20:12:15.000000000",
          "2025-04-13T21:12:06.000000000",
          "2025-04-13T22:12:09.000000000"
         ],
         "xaxis": "x",
         "y": {
          "bdata": "cT0K16NMckBxPQrXo0xyQHE9CtejTHJAcT0K16NMckBxPQrXo0xyQHE9CtejTHJAcT0K16NMckBxPQrXo0xyQHE9CtejTHJAcT0K16NMckBxPQrXo0xyQHE9CtejTHJAcT0K16NMckBxPQrXo0xyQHE9CtejTHJAcT0K16NMckBxPQrXo0xyQHE9CtejTHJAcT0K16NMckBxPQrXo0xyQJqZmZmZEXJAmpmZmZkRckCamZmZmRFyQJqZmZmZEXJAmpmZmZkRckApXI/C9TRyQM3MzMzM9HFApHA9CtcDckCkcD0K1wNyQKRwPQrXA3JAcT0K16NMckBxPQrXo0xyQHE9CtejTHJAcT0K16NMckBxPQrXo0xyQHE9CtejTHJAcT0K16NMckBxPQrXo0xyQHE9CtejTHJAcT0K16NMckBxPQrXo0xyQHE9CtejTHJAcT0K16NMckDsUbgehSNyQOxRuB6FI3JAexSuR+FycUB7FK5H4XJxQClcj8L1lHFAKVyPwvWUcUApXI/C9ZRxQClcj8L1lHFAKVyPwvWUcUApXI/C9ZRxQClcj8L1lHFAKVyPwvWUcUApXI/C9ZRxQClcj8L1lHFAKVyPwvWUcUApXI/C9ZRxQClcj8L1lHFAXI/C9Sg4ckBcj8L1KDhyQFyPwvUoOHJAXI/C9Sg4ckBcj8L1KDhyQFyPwvUoOHJAXI/C9Sg4ckBcj8L1KDhyQFyPwvUoOHJAXI/C9Sg4ckBcj8L1KDhyQFyPwvUoOHJAXI/C9Sg4ckCF61G4Hr1xQOxRuB6FE3JA7FG4HoUTckDsUbgehRNyQOxRuB6FE3JA7FG4HoUTckBcj8L1KDhyQFyPwvUoOHJAXI/C9Sg4ckBcj8L1KDhyQFyPwvUoOHJAXI/C9Sg4ckBcj8L1KDhyQFyPwvUoOHJAXI/C9Sg4ckBcj8L1KDhyQFyPwvUoOHJAXI/C9Sg4ckDsUbgehQ9yQMP1KFyP5nBAw/UoXI8KcUDNzMzMzLBwQM3MzMzMsHBAzczMzMywcEDNzMzMzLBwQClcj8L14HFAKVyPwvXgcUApXI/C9eBxQClcj8L14HFAKVyPwvXgcUApXI/C9eBxQClcj8L14HFAKVyPwvXgcUApXI/C9eBxQClcj8L14HFASOF6FK7XcUBI4XoUrtdxQEjhehSu13FASOF6FK7XcUCamZmZmdlwQM3MzMzMsHBAzczMzMywcEDNzMzMzLBwQJqZmZmZ2XBArkfhehRqcUCuR+F6FGpxQK5H4XoUanFArkfhehRqcUCuR+F6FGpxQK5H4XoUanFArkfhehRqcUCuR+F6FGpxQK5H4XoUanFAmpmZmZm5cEAAAAAAAAxwQOF6FK5HcW1ACtejcD2ibEAK16NwPaJsQArXo3A9omxACtejcD2ibEAK16NwPaJsQArXo3A9omxACtejcD2ibEAK16NwPaJsQArXo3A9omxACtejcD2ibEAK16NwPaJsQArXo3A9omxACtejcD2ibEAK16NwPaJsQArXo3A9omxACtejcD2ibEAK16NwPaJsQArXo3A9omxACtejcD2ibEAK16NwPaJsQArXo3A9omxACtejcD2ibEAK16NwPaJsQArXo3A9omxA9ihcj8KdbED2KFyPwp1sQPYoXI/CnWxA9ihcj8KdbED2KFyPwp1sQPYoXI/CnWxA9ihcj8KdbED2KFyPwp1sQArXo3A9YmxACtejcD1ibEA=",
          "dtype": "f8"
         },
         "yaxis": "y"
        },
        {
         "hovertemplate": "<b>%{fullData.name}</b><br>Date: %{x|%Y-%m-%d %H:%M}<br>Price: €%{y:.2f}",
         "legendgroup": "ORY->GIG, SSA->ORY",
         "line": {
          "color": "#00cc96",
          "dash": "solid",
          "shape": "linear"
         },
         "marker": {
          "symbol": "circle"
         },
         "mode": "lines+markers",
         "name": "ORY->GIG, SSA->ORY",
         "orientation": "v",
         "showlegend": true,
         "type": "scatter",
         "x": [
          "2025-03-25T11:33:33.000000000",
          "2025-03-25T11:47:28.000000000",
          "2025-03-25T12:47:03.000000000",
          "2025-03-25T13:47:03.000000000",
          "2025-03-25T14:47:03.000000000",
          "2025-03-25T15:47:05.000000000",
          "2025-03-25T16:15:42.000000000",
          "2025-03-25T16:19:40.000000000",
          "2025-03-25T23:07:44.000000000",
          "2025-03-26T09:17:06.000000000",
          "2025-03-26T10:16:57.000000000",
          "2025-03-26T11:17:01.000000000",
          "2025-03-26T12:16:53.000000000",
          "2025-03-26T13:17:05.000000000",
          "2025-03-26T14:17:00.000000000",
          "2025-03-26T15:17:29.000000000",
          "2025-03-26T16:16:52.000000000",
          "2025-03-26T17:16:58.000000000",
          "2025-03-28T20:02:51.000000000",
          "2025-03-28T21:02:47.000000000",
          "2025-03-28T22:02:44.000000000",
          "2025-03-29T11:18:56.000000000",
          "2025-03-29T12:19:03.000000000",
          "2025-03-29T13:19:01.000000000",
          "2025-03-29T14:19:02.000000000",
          "2025-03-29T15:19:29.000000000",
          "2025-03-29T16:18:58.000000000",
          "2025-03-29T17:19:09.000000000",
          "2025-03-29T18:19:30.000000000",
          "2025-03-29T19:20:25.000000000",
          "2025-03-29T20:19:00.000000000",
          "2025-03-29T21:19:30.000000000",
          "2025-03-30T18:15:49.000000000",
          "2025-03-30T19:16:18.000000000",
          "2025-03-30T20:15:50.000000000",
          "2025-03-30T21:15:54.000000000",
          "2025-03-31T10:49:10.000000000",
          "2025-03-31T11:49:09.000000000",
          "2025-03-31T12:49:41.000000000",
          "2025-03-31T13:49:08.000000000",
          "2025-03-31T14:49:19.000000000",
          "2025-03-31T15:49:09.000000000",
          "2025-03-31T16:49:43.000000000",
          "2025-03-31T17:49:43.000000000",
          "2025-04-04T10:20:50.000000000",
          "2025-04-04T11:20:44.000000000",
          "2025-04-04T12:20:43.000000000",
          "2025-04-04T13:20:42.000000000",
          "2025-04-04T14:20:59.000000000",
          "2025-04-04T15:20:43.000000000",
          "2025-04-04T16:20:46.000000000",
          "2025-04-04T17:20:42.000000000",
          "2025-04-04T18:20:43.000000000",
          "2025-04-04T19:20:51.000000000",
          "2025-04-04T20:20:45.000000000",
          "2025-04-04T21:20:59.000000000",
          "2025-04-05T17:23:21.000000000",
          "2025-04-05T18:23:20.000000000",
          "2025-04-06T09:30:51.000000000",
          "2025-04-06T10:30:53.000000000",
          "2025-04-06T11:30:57.000000000",
          "2025-04-06T12:30:50.000000000",
          "2025-04-06T13:30:50.000000000",
          "2025-04-06T14:31:06.000000000",
          "2025-04-06T15:30:49.000000000",
          "2025-04-06T16:31:41.000000000",
          "2025-04-06T17:30:50.000000000",
          "2025-04-06T18:30:50.000000000",
          "2025-04-06T19:30:49.000000000",
          "2025-04-06T20:30:46.000000000",
          "2025-04-06T21:30:52.000000000",
          "2025-04-06T22:30:52.000000000",
          "2025-04-08T09:53:46.000000000",
          "2025-04-08T10:53:53.000000000",
          "2025-04-08T11:53:49.000000000",
          "2025-04-08T12:53:49.000000000",
          "2025-04-08T13:53:49.000000000",
          "2025-04-08T14:53:49.000000000",
          "2025-04-08T15:53:47.000000000",
          "2025-04-08T16:53:49.000000000",
          "2025-04-08T17:53:46.000000000",
          "2025-04-08T18:53:44.000000000",
          "2025-04-08T19:54:05.000000000",
          "2025-04-08T20:53:47.000000000",
          "2025-04-08T21:53:55.000000000",
          "2025-04-08T22:53:49.000000000",
          "2025-04-08T23:53:45.000000000",
          "2025-04-09T00:53:49.000000000",
          "2025-04-09T01:53:50.000000000",
          "2025-04-09T02:53:48.000000000",
          "2025-04-09T03:53:46.000000000",
          "2025-04-09T04:53:51.000000000",
          "2025-04-09T05:53:48.000000000",
          "2025-04-09T06:53:52.000000000",
          "2025-04-09T07:53:52.000000000",
          "2025-04-09T08:54:05.000000000",
          "2025-04-09T09:53:49.000000000",
          "2025-04-09T10:54:06.000000000",
          "2025-04-09T11:53:53.000000000",
          "2025-04-09T12:53:47.000000000",
          "2025-04-09T13:53:48.000000000",
          "2025-04-09T14:53:51.000000000",
          "2025-04-09T15:53:49.000000000",
          "2025-04-09T16:53:51.000000000",
          "2025-04-09T17:54:06.000000000",
          "2025-04-09T18:53:58.000000000",
          "2025-04-09T19:53:53.000000000",
          "2025-04-09T20:54:07.000000000",
          "2025-04-09T21:53:49.000000000",
          "2025-04-09T22:54:06.000000000",
          "2025-04-09T23:53:49.000000000",
          "2025-04-10T00:53:48.000000000",
          "2025-04-10T01:53:53.000000000",
          "2025-04-10T02:54:30.000000000",
          "2025-04-10T03:53:50.000000000",
          "2025-04-10T04:53:49.000000000",
          "2025-04-10T05:53:54.000000000",
          "2025-04-10T06:53:54.000000000",
          "2025-04-10T07:53:54.000000000",
          "2025-04-10T08:53:55.000000000",
          "2025-04-10T09:53:52.000000000",
          "2025-04-10T10:53:54.000000000",
          "2025-04-10T11:53:53.000000000",
          "2025-04-10T12:54:01.000000000",
          "2025-04-10T13:53:53.000000000",
          "2025-04-10T14:53:54.000000000",
          "2025-04-10T15:53:53.000000000",
          "2025-04-10T16:53:54.000000000",
          "2025-04-10T17:54:08.000000000",
          "2025-04-10T18:53:48.000000000",
          "2025-04-10T19:54:12.000000000",
          "2025-04-10T20:54:08.000000000",
          "2025-04-10T21:53:52.000000000",
          "2025-04-10T22:54:00.000000000",
          "2025-04-10T23:54:07.000000000",
          "2025-04-11T00:53:53.000000000",
          "2025-04-11T01:54:02.000000000",
          "2025-04-11T02:53:51.000000000",
          "2025-04-11T03:53:50.000000000",
          "2025-04-11T04:53:51.000000000",
          "2025-04-11T05:53:59.000000000",
          "2025-04-11T06:54:08.000000000",
          "2025-04-11T07:53:57.000000000",
          "2025-04-11T08:54:02.000000000",
          "2025-04-11T09:53:54.000000000",
          "2025-04-11T10:54:10.000000000",
          "2025-04-11T11:53:55.000000000",
          "2025-04-11T12:53:51.000000000",
          "2025-04-11T13:53:52.000000000",
          "2025-04-11T14:53:51.000000000",
          "2025-04-11T15:54:09.000000000",
          "2025-04-11T16:53:55.000000000",
          "2025-04-11T17:53:56.000000000",
          "2025-04-11T18:53:54.000000000",
          "2025-04-11T19:53:52.000000000",
          "2025-04-11T20:54:01.000000000",
          "2025-04-11T21:53:50.000000000",
          "2025-04-11T22:53:55.000000000",
          "2025-04-11T23:53:53.000000000",
          "2025-04-12T00:53:52.000000000",
          "2025-04-12T01:54:11.000000000",
          "2025-04-12T02:53:54.000000000",
          "2025-04-12T03:53:52.000000000",
          "2025-04-12T04:54:12.000000000",
          "2025-04-12T05:53:53.000000000",
          "2025-04-12T06:53:56.000000000",
          "2025-04-12T07:54:02.000000000",
          "2025-04-12T08:53:58.000000000",
          "2025-04-12T09:53:55.000000000",
          "2025-04-12T10:53:54.000000000",
          "2025-04-12T11:53:56.000000000",
          "2025-04-12T12:54:03.000000000",
          "2025-04-12T13:54:01.000000000",
          "2025-04-12T14:53:53.000000000",
          "2025-04-12T15:53:53.000000000",
          "2025-04-12T16:54:07.000000000",
          "2025-04-12T17:53:50.000000000",
          "2025-04-12T18:53:52.000000000",
          "2025-04-12T19:53:54.000000000",
          "2025-04-12T20:54:03.000000000",
          "2025-04-12T21:53:57.000000000",
          "2025-04-13T09:12:55.000000000",
          "2025-04-13T10:12:40.000000000",
          "2025-04-13T11:12:28.000000000",
          "2025-04-13T12:12:53.000000000",
          "2025-04-13T13:12:45.000000000",
          "2025-04-13T14:12:55.000000000",
          "2025-04-13T15:12:45.000000000",
          "2025-04-13T16:12:45.000000000",
          "2025-04-13T17:13:18.000000000",
          "2025-04-13T18:12:43.000000000",
          "2025-04-13T19:12:56.000000000",
          "2025-04-13T20:12:49.000000000",
          "2025-04-13T21:12:39.000000000",
          "2025-04-13T22:12:41.000000000"
         ],
         "xaxis": "x",
         "y": {
          "bdata": "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",
          "dtype": "f8"
         },
         "yaxis": "y"
        }
       ],
       "layout": {
        "height": 600,
        "hoverlabel": {
         "bgcolor": "white",
         "font": {
          "size": 12
         }
        },
        "hovermode": "closest",
        "legend": {
         "title": {
          "text": "Flight Routes"
         },
         "tracegroupgap": 0
        },
        "template": {
         "data": {
          "bar": [
           {
            "error_x": {
             "color": "#2a3f5f"
            },
            "error_y": {
             "color": "#2a3f5f"
            },
            "marker": {
             "line": {
              "color": "#E5ECF6",
              "width": 0.5
             },
             "pattern": {
              "fillmode": "overlay",
              "size": 10,
              "solidity": 0.2
             }
            },
            "type": "bar"
           }
          ],
          "barpolar": [
           {
            "marker": {
             "line": {
              "color": "#E5ECF6",
              "width": 0.5
             },
             "pattern": {
              "fillmode": "overlay",
              "size": 10,
              "solidity": 0.2
             }
            },
            "type": "barpolar"
           }
          ],
          "carpet": [
           {
            "aaxis": {
             "endlinecolor": "#2a3f5f",
             "gridcolor": "white",
             "linecolor": "white",
             "minorgridcolor": "white",
             "startlinecolor": "#2a3f5f"
            },
            "baxis": {
             "endlinecolor": "#2a3f5f",
             "gridcolor": "white",
             "linecolor": "white",
             "minorgridcolor": "white",
             "startlinecolor": "#2a3f5f"
            },
            "type": "carpet"
           }
          ],
          "choropleth": [
           {
            "colorbar": {
             "outlinewidth": 0,
             "ticks": ""
            },
            "type": "choropleth"
           }
          ],
          "contour": [
           {
            "colorbar": {
             "outlinewidth": 0,
             "ticks": ""
            },
            "colorscale": [
             [
              0,
              "#0d0887"
             ],
             [
              0.1111111111111111,
              "#46039f"
             ],
             [
              0.2222222222222222,
              "#7201a8"
             ],
             [
              0.3333333333333333,
              "#9c179e"
             ],
             [
              0.4444444444444444,
              "#bd3786"
             ],
             [
              0.5555555555555556,
              "#d8576b"
             ],
             [
              0.6666666666666666,
              "#ed7953"
             ],
             [
              0.7777777777777778,
              "#fb9f3a"
             ],
             [
              0.8888888888888888,
              "#fdca26"
             ],
             [
              1,
              "#f0f921"
             ]
            ],
            "type": "contour"
           }
          ],
          "contourcarpet": [
           {
            "colorbar": {
             "outlinewidth": 0,
             "ticks": ""
            },
            "type": "contourcarpet"
           }
          ],
          "heatmap": [
           {
            "colorbar": {
             "outlinewidth": 0,
             "ticks": ""
            },
            "colorscale": [
             [
              0,
              "#0d0887"
             ],
             [
              0.1111111111111111,
              "#46039f"
             ],
             [
              0.2222222222222222,
              "#7201a8"
             ],
             [
              0.3333333333333333,
              "#9c179e"
             ],
             [
              0.4444444444444444,
              "#bd3786"
             ],
             [
              0.5555555555555556,
              "#d8576b"
             ],
             [
              0.6666666666666666,
              "#ed7953"
             ],
             [
              0.7777777777777778,
              "#fb9f3a"
             ],
             [
              0.8888888888888888,
              "#fdca26"
             ],
             [
              1,
              "#f0f921"
             ]
            ],
            "type": "heatmap"
           }
          ],
          "histogram": [
           {
            "marker": {
             "pattern": {
              "fillmode": "overlay",
              "size": 10,
              "solidity": 0.2
             }
            },
            "type": "histogram"
           }
          ],
          "histogram2d": [
           {
            "colorbar": {
             "outlinewidth": 0,
             "ticks": ""
            },
            "colorscale": [
             [
              0,
              "#0d0887"
             ],
             [
              0.1111111111111111,
              "#46039f"
             ],
             [
              0.2222222222222222,
              "#7201a8"
             ],
             [
              0.3333333333333333,
              "#9c179e"
             ],
             [
              0.4444444444444444,
              "#bd3786"
             ],
             [
              0.5555555555555556,
              "#d8576b"
             ],
             [
              0.6666666666666666,
              "#ed7953"
             ],
             [
              0.7777777777777778,
              "#fb9f3a"
             ],
             [
              0.8888888888888888,
              "#fdca26"
             ],
             [
              1,
              "#f0f921"
             ]
            ],
            "type": "histogram2d"
           }
          ],
          "histogram2dcontour": [
           {
            "colorbar": {
             "outlinewidth": 0,
             "ticks": ""
            },
            "colorscale": [
             [
              0,
              "#0d0887"
             ],
             [
              0.1111111111111111,
              "#46039f"
             ],
             [
              0.2222222222222222,
              "#7201a8"
             ],
             [
              0.3333333333333333,
              "#9c179e"
             ],
             [
              0.4444444444444444,
              "#bd3786"
             ],
             [
              0.5555555555555556,
              "#d8576b"
             ],
             [
              0.6666666666666666,
              "#ed7953"
             ],
             [
              0.7777777777777778,
              "#fb9f3a"
             ],
             [
              0.8888888888888888,
              "#fdca26"
             ],
             [
              1,
              "#f0f921"
             ]
            ],
            "type": "histogram2dcontour"
           }
          ],
          "mesh3d": [
           {
            "colorbar": {
             "outlinewidth": 0,
             "ticks": ""
            },
            "type": "mesh3d"
           }
          ],
          "parcoords": [
           {
            "line": {
             "colorbar": {
              "outlinewidth": 0,
              "ticks": ""
             }
            },
            "type": "parcoords"
           }
          ],
          "pie": [
           {
            "automargin": true,
            "type": "pie"
           }
          ],
          "scatter": [
           {
            "fillpattern": {
             "fillmode": "overlay",
             "size": 10,
             "solidity": 0.2
            },
            "type": "scatter"
           }
          ],
          "scatter3d": [
           {
            "line": {
             "colorbar": {
              "outlinewidth": 0,
              "ticks": ""
             }
            },
            "marker": {
             "colorbar": {
              "outlinewidth": 0,
              "ticks": ""
             }
            },
            "type": "scatter3d"
           }
          ],
          "scattercarpet": [
           {
            "marker": {
             "colorbar": {
              "outlinewidth": 0,
              "ticks": ""
             }
            },
            "type": "scattercarpet"
           }
          ],
          "scattergeo": [
           {
            "marker": {
             "colorbar": {
              "outlinewidth": 0,
              "ticks": ""
             }
            },
            "type": "scattergeo"
           }
          ],
          "scattergl": [
           {
            "marker": {
             "colorbar": {
              "outlinewidth": 0,
              "ticks": ""
             }
            },
            "type": "scattergl"
           }
          ],
          "scattermap": [
           {
            "marker": {
             "colorbar": {
              "outlinewidth": 0,
              "ticks": ""
             }
            },
            "type": "scattermap"
           }
          ],
          "scattermapbox": [
           {
            "marker": {
             "colorbar": {
              "outlinewidth": 0,
              "ticks": ""
             }
            },
            "type": "scattermapbox"
           }
          ],
          "scatterpolar": [
           {
            "marker": {
             "colorbar": {
              "outlinewidth": 0,
              "ticks": ""
             }
            },
            "type": "scatterpolar"
           }
          ],
          "scatterpolargl": [
           {
            "marker": {
             "colorbar": {
              "outlinewidth": 0,
              "ticks": ""
             }
            },
            "type": "scatterpolargl"
           }
          ],
          "scatterternary": [
           {
            "marker": {
             "colorbar": {
              "outlinewidth": 0,
              "ticks": ""
             }
            },
            "type": "scatterternary"
           }
          ],
          "surface": [
           {
            "colorbar": {
             "outlinewidth": 0,
             "ticks": ""
            },
            "colorscale": [
             [
              0,
              "#0d0887"
             ],
             [
              0.1111111111111111,
              "#46039f"
             ],
             [
              0.2222222222222222,
              "#7201a8"
             ],
             [
              0.3333333333333333,
              "#9c179e"
             ],
             [
              0.4444444444444444,
              "#bd3786"
             ],
             [
              0.5555555555555556,
              "#d8576b"
             ],
             [
              0.6666666666666666,
              "#ed7953"
             ],
             [
              0.7777777777777778,
              "#fb9f3a"
             ],
             [
              0.8888888888888888,
              "#fdca26"
             ],
             [
              1,
              "#f0f921"
             ]
            ],
            "type": "surface"
           }
          ],
          "table": [
           {
            "cells": {
             "fill": {
              "color": "#EBF0F8"
             },
             "line": {
              "color": "white"
             }
            },
            "header": {
             "fill": {
              "color": "#C8D4E3"
             },
             "line": {
              "color": "white"
             }
            },
            "type": "table"
           }
          ]
         },
         "layout": {
          "annotationdefaults": {
           "arrowcolor": "#2a3f5f",
           "arrowhead": 0,
           "arrowwidth": 1
          },
          "autotypenumbers": "strict",
          "coloraxis": {
           "colorbar": {
            "outlinewidth": 0,
            "ticks": ""
           }
          },
          "colorscale": {
           "diverging": [
            [
             0,
             "#8e0152"
            ],
            [
             0.1,
             "#c51b7d"
            ],
            [
             0.2,
             "#de77ae"
            ],
            [
             0.3,
             "#f1b6da"
            ],
            [
             0.4,
             "#fde0ef"
            ],
            [
             0.5,
             "#f7f7f7"
            ],
            [
             0.6,
             "#e6f5d0"
            ],
            [
             0.7,
             "#b8e186"
            ],
            [
             0.8,
             "#7fbc41"
            ],
            [
             0.9,
             "#4d9221"
            ],
            [
             1,
             "#276419"
            ]
           ],
           "sequential": [
            [
             0,
             "#0d0887"
            ],
            [
             0.1111111111111111,
             "#46039f"
            ],
            [
             0.2222222222222222,
             "#7201a8"
            ],
            [
             0.3333333333333333,
             "#9c179e"
            ],
            [
             0.4444444444444444,
             "#bd3786"
            ],
            [
             0.5555555555555556,
             "#d8576b"
            ],
            [
             0.6666666666666666,
             "#ed7953"
            ],
            [
             0.7777777777777778,
             "#fb9f3a"
            ],
            [
             0.8888888888888888,
             "#fdca26"
            ],
            [
             1,
             "#f0f921"
            ]
           ],
           "sequentialminus": [
            [
             0,
             "#0d0887"
            ],
            [
             0.1111111111111111,
             "#46039f"
            ],
            [
             0.2222222222222222,
             "#7201a8"
            ],
            [
             0.3333333333333333,
             "#9c179e"
            ],
            [
             0.4444444444444444,
             "#bd3786"
            ],
            [
             0.5555555555555556,
             "#d8576b"
            ],
            [
             0.6666666666666666,
             "#ed7953"
            ],
            [
             0.7777777777777778,
             "#fb9f3a"
            ],
            [
             0.8888888888888888,
             "#fdca26"
            ],
            [
             1,
             "#f0f921"
            ]
           ]
          },
          "colorway": [
           "#636efa",
           "#EF553B",
           "#00cc96",
           "#ab63fa",
           "#FFA15A",
           "#19d3f3",
           "#FF6692",
           "#B6E880",
           "#FF97FF",
           "#FECB52"
          ],
          "font": {
           "color": "#2a3f5f"
          },
          "geo": {
           "bgcolor": "white",
           "lakecolor": "white",
           "landcolor": "#E5ECF6",
           "showlakes": true,
           "showland": true,
           "subunitcolor": "white"
          },
          "hoverlabel": {
           "align": "left"
          },
          "hovermode": "closest",
          "mapbox": {
           "style": "light"
          },
          "paper_bgcolor": "white",
          "plot_bgcolor": "#E5ECF6",
          "polar": {
           "angularaxis": {
            "gridcolor": "white",
            "linecolor": "white",
            "ticks": ""
           },
           "bgcolor": "#E5ECF6",
           "radialaxis": {
            "gridcolor": "white",
            "linecolor": "white",
            "ticks": ""
           }
          },
          "scene": {
           "xaxis": {
            "backgroundcolor": "#E5ECF6",
            "gridcolor": "white",
            "gridwidth": 2,
            "linecolor": "white",
            "showbackground": true,
            "ticks": "",
            "zerolinecolor": "white"
           },
           "yaxis": {
            "backgroundcolor": "#E5ECF6",
            "gridcolor": "white",
            "gridwidth": 2,
            "linecolor": "white",
            "showbackground": true,
            "ticks": "",
            "zerolinecolor": "white"
           },
           "zaxis": {
            "backgroundcolor": "#E5ECF6",
            "gridcolor": "white",
            "gridwidth": 2,
            "linecolor": "white",
            "showbackground": true,
            "ticks": "",
            "zerolinecolor": "white"
           }
          },
          "shapedefaults": {
           "line": {
            "color": "#2a3f5f"
           }
          },
          "ternary": {
           "aaxis": {
            "gridcolor": "white",
            "linecolor": "white",
            "ticks": ""
           },
           "baxis": {
            "gridcolor": "white",
            "linecolor": "white",
            "ticks": ""
           },
           "bgcolor": "#E5ECF6",
           "caxis": {
            "gridcolor": "white",
            "linecolor": "white",
            "ticks": ""
           }
          },
          "title": {
           "x": 0.05
          },
          "xaxis": {
           "automargin": true,
           "gridcolor": "white",
           "linecolor": "white",
           "ticks": "",
           "title": {
            "standoff": 15
           },
           "zerolinecolor": "white",
           "zerolinewidth": 2
          },
          "yaxis": {
           "automargin": true,
           "gridcolor": "white",
           "linecolor": "white",
           "ticks": "",
           "title": {
            "standoff": 15
           },
           "zerolinecolor": "white",
           "zerolinewidth": 2
          }
         }
        },
        "title": {
         "font": {
          "size": 20
         },
         "text": "Flight Price Trends Over Time",
         "x": 0.5
        },
        "width": 1000,
        "xaxis": {
         "anchor": "y",
         "domain": [
          0,
          1
         ],
         "tickformat": "%Y-%m-%d %H:%M",
         "title": {
          "text": "Date and Time"
         }
        },
        "yaxis": {
         "anchor": "x",
         "domain": [
          0,
          1
         ],
         "title": {
          "text": "Price (EUR)"
         }
        }
       }
      }
     },
     "metadata": {},
     "output_type": "display_data"
    }
   ],
   "source": [
    "# Create an interactive plot with Plotly\n",
    "fig = px.line(df, x='Datetime', y='Price_EUR', color='Flight',\n",
    "              title='Flight Price Trends Over Time',\n",
    "              labels={'Datetime': 'Date and Time', 'Price_EUR': 'Price (EUR)', 'Flight': 'Flight Route'},\n",
    "              markers=True, line_shape='linear')\n",
    "\n",
    "# Improve the layout\n",
    "fig.update_layout(\n",
    "    xaxis_title='Date and Time',\n",
    "    yaxis_title='Price (EUR)',\n",
    "    legend_title='Flight Routes',\n",
    "    height=600,\n",
    "    width=1000,\n",
    "    hovermode='closest',\n",
    "    hoverlabel=dict(bgcolor=\"white\", font_size=12),\n",
    "    xaxis=dict(tickformat='%Y-%m-%d %H:%M'),\n",
    "    title=dict(font=dict(size=20), x=0.5)\n",
    ")\n",
    "\n",
    "# Add hover data for better information display\n",
    "fig.update_traces(hovertemplate='<b>%{fullData.name}</b><br>Date: %{x|%Y-%m-%d %H:%M}<br>Price: €%{y:.2f}')\n",
    "\n",
    "# Show the plot\n",
    "fig.show()"
   ]
  },
  {
   "cell_type": "markdown",
   "id": "2b11e019",
   "metadata": {},
   "source": [
    "## Price Comparison with Target Prices"
   ]
  },
  {
   "cell_type": "code",
   "execution_count": 9,
   "id": "921fb17d",
   "metadata": {},
   "outputs": [
    {
     "data": {
      "application/vnd.plotly.v1+json": {
       "config": {
        "plotlyServerURL": "https://plot.ly"
       },
       "data": [
        {
         "hovertemplate": "Date: %{x|%Y-%m-%d %H:%M}<br>Price: €%{y:.2f}",
         "line": {
          "width": 2
         },
         "mode": "lines+markers",
         "name": "SDU->BSB - Price",
         "type": "scatter",
         "x": [
          "2025-03-25T11:32:55.000000000",
          "2025-03-25T12:46:21.000000000",
          "2025-03-25T13:46:23.000000000",
          "2025-03-25T14:46:21.000000000",
          "2025-03-25T15:46:20.000000000",
          "2025-03-25T16:15:01.000000000",
          "2025-03-25T16:19:10.000000000",
          "2025-03-25T21:53:00.000000000",
          "2025-03-25T23:07:06.000000000",
          "2025-03-26T09:16:27.000000000",
          "2025-03-26T10:16:21.000000000",
          "2025-03-26T11:16:23.000000000",
          "2025-03-26T13:16:19.000000000",
          "2025-03-26T14:16:21.000000000",
          "2025-03-26T17:16:22.000000000",
          "2025-03-28T20:02:14.000000000",
          "2025-03-28T21:02:12.000000000",
          "2025-03-29T09:00:24.000000000",
          "2025-03-29T11:12:45.000000000",
          "2025-03-29T11:18:20.000000000",
          "2025-03-29T12:18:23.000000000",
          "2025-03-29T13:18:23.000000000",
          "2025-03-29T14:18:22.000000000",
          "2025-03-29T16:18:24.000000000",
          "2025-03-29T17:18:29.000000000",
          "2025-03-29T20:18:22.000000000",
          "2025-03-30T18:15:13.000000000",
          "2025-03-30T20:15:14.000000000",
          "2025-03-30T21:15:15.000000000",
          "2025-03-31T10:47:30.000000000",
          "2025-03-31T10:48:33.000000000",
          "2025-03-31T11:48:34.000000000",
          "2025-03-31T14:48:39.000000000",
          "2025-03-31T15:48:34.000000000",
          "2025-04-04T10:19:49.000000000",
          "2025-04-04T11:19:47.000000000",
          "2025-04-04T12:19:47.000000000",
          "2025-04-04T13:19:47.000000000",
          "2025-04-04T15:19:47.000000000",
          "2025-04-04T16:19:47.000000000",
          "2025-04-04T17:19:45.000000000",
          "2025-04-04T18:19:47.000000000",
          "2025-04-04T19:19:53.000000000",
          "2025-04-04T20:19:47.000000000",
          "2025-04-05T17:22:26.000000000",
          "2025-04-05T18:22:23.000000000",
          "2025-04-06T09:29:50.000000000",
          "2025-04-06T10:29:51.000000000",
          "2025-04-06T11:29:59.000000000",
          "2025-04-06T12:29:53.000000000",
          "2025-04-06T13:29:53.000000000",
          "2025-04-06T15:29:54.000000000",
          "2025-04-06T17:29:54.000000000",
          "2025-04-06T18:29:53.000000000",
          "2025-04-06T19:29:54.000000000",
          "2025-04-06T20:29:51.000000000",
          "2025-04-06T21:29:53.000000000",
          "2025-04-06T22:29:54.000000000",
          "2025-04-08T09:52:50.000000000",
          "2025-04-08T10:52:52.000000000",
          "2025-04-08T11:52:51.000000000",
          "2025-04-08T12:52:53.000000000",
          "2025-04-08T13:52:50.000000000",
          "2025-04-08T14:52:51.000000000",
          "2025-04-08T15:52:52.000000000",
          "2025-04-08T16:52:53.000000000",
          "2025-04-08T17:52:50.000000000",
          "2025-04-08T18:52:49.000000000",
          "2025-04-08T20:52:52.000000000",
          "2025-04-08T21:52:57.000000000",
          "2025-04-08T22:52:50.000000000",
          "2025-04-08T23:52:50.000000000",
          "2025-04-09T00:52:52.000000000",
          "2025-04-09T01:52:53.000000000",
          "2025-04-09T02:52:50.000000000",
          "2025-04-09T03:52:50.000000000",
          "2025-04-09T04:52:53.000000000",
          "2025-04-09T05:52:53.000000000",
          "2025-04-09T06:52:53.000000000",
          "2025-04-09T07:52:53.000000000",
          "2025-04-09T09:52:53.000000000",
          "2025-04-09T11:52:54.000000000",
          "2025-04-09T12:52:51.000000000",
          "2025-04-09T13:52:53.000000000",
          "2025-04-09T14:52:53.000000000",
          "2025-04-09T15:52:53.000000000",
          "2025-04-09T16:52:53.000000000",
          "2025-04-09T18:52:59.000000000",
          "2025-04-09T19:52:54.000000000",
          "2025-04-09T21:52:53.000000000",
          "2025-04-09T23:52:53.000000000",
          "2025-04-10T00:52:53.000000000",
          "2025-04-10T01:52:53.000000000",
          "2025-04-10T03:52:54.000000000",
          "2025-04-10T04:52:54.000000000",
          "2025-04-10T05:52:54.000000000",
          "2025-04-10T06:52:55.000000000",
          "2025-04-10T07:52:55.000000000",
          "2025-04-10T08:52:52.000000000",
          "2025-04-10T09:52:52.000000000",
          "2025-04-10T10:52:55.000000000",
          "2025-04-10T11:52:54.000000000",
          "2025-04-10T12:53:02.000000000",
          "2025-04-10T13:52:54.000000000",
          "2025-04-10T14:52:54.000000000",
          "2025-04-10T15:52:55.000000000",
          "2025-04-10T16:52:56.000000000",
          "2025-04-10T18:52:53.000000000",
          "2025-04-10T21:52:56.000000000",
          "2025-04-10T22:53:03.000000000",
          "2025-04-11T00:52:56.000000000",
          "2025-04-11T01:53:04.000000000",
          "2025-04-11T02:52:56.000000000",
          "2025-04-11T03:52:55.000000000",
          "2025-04-11T04:52:56.000000000",
          "2025-04-11T05:53:00.000000000",
          "2025-04-11T07:52:56.000000000",
          "2025-04-11T08:53:02.000000000",
          "2025-04-11T09:52:57.000000000",
          "2025-04-11T11:52:56.000000000",
          "2025-04-11T12:52:54.000000000",
          "2025-04-11T13:52:56.000000000",
          "2025-04-11T14:52:56.000000000",
          "2025-04-11T16:52:56.000000000",
          "2025-04-11T17:52:57.000000000",
          "2025-04-11T18:52:57.000000000",
          "2025-04-11T19:52:57.000000000",
          "2025-04-11T20:53:00.000000000",
          "2025-04-11T21:52:53.000000000",
          "2025-04-11T22:52:55.000000000",
          "2025-04-11T23:52:57.000000000",
          "2025-04-12T00:52:54.000000000",
          "2025-04-12T02:52:56.000000000",
          "2025-04-12T03:52:57.000000000",
          "2025-04-12T05:52:56.000000000",
          "2025-04-12T06:52:57.000000000",
          "2025-04-12T07:53:01.000000000",
          "2025-04-12T08:52:59.000000000",
          "2025-04-12T09:52:58.000000000",
          "2025-04-12T10:52:57.000000000",
          "2025-04-12T11:52:57.000000000",
          "2025-04-12T12:53:03.000000000",
          "2025-04-12T13:53:02.000000000",
          "2025-04-12T14:52:57.000000000",
          "2025-04-12T15:52:55.000000000",
          "2025-04-12T16:53:06.000000000",
          "2025-04-12T17:52:53.000000000",
          "2025-04-12T18:52:54.000000000",
          "2025-04-12T19:52:58.000000000",
          "2025-04-12T20:53:02.000000000",
          "2025-04-12T21:52:57.000000000",
          "2025-04-13T10:11:43.000000000",
          "2025-04-13T12:11:52.000000000",
          "2025-04-13T13:11:46.000000000",
          "2025-04-13T15:11:48.000000000",
          "2025-04-13T16:11:44.000000000",
          "2025-04-13T18:11:41.000000000",
          "2025-04-13T20:11:49.000000000",
          "2025-04-13T21:11:43.000000000",
          "2025-04-13T22:11:43.000000000"
         ],
         "xaxis": "x",
         "y": {
          "bdata": "4XoUrkdJb0DhehSuR0lvQOF6FK5HSW9A4XoUrkdJb0DhehSuR0lvQOF6FK5HSW9A4XoUrkdJb0DhehSuR0lvQOF6FK5HSW9APQrXo3CVb0A9CtejcJVvQD0K16NwlW9APQrXo3CVb0A9CtejcJVvQAAAAAAAiG9Aw/UoXI/iY0DD9Shcj+JjQK5H4XoUTm1ArkfhehRObUCuR+F6FE5tQK5H4XoUTm1ArkfhehRObUDNzMzMzHRtQM3MzMzMdG1A16NwPQrjcEDNzMzMzHRtQKRwPQrXi25ApHA9CteLbkCkcD0K14tuQOxRuB6FU29A7FG4HoVTb0DsUbgehVNvQOxRuB6FU29A7FG4HoVTb0C4HoXrUSBnQEjhehSub2dASOF6FK5vZ0BI4XoUrm9nQEjhehSub2dASOF6FK5vZ0AK16NwPQpmQHsUrkfhem1AKVyPwvW4b0ApXI/C9bhvQMP1KFyP2mxAw/UoXI/abEAAAAAAAHhuQAAAAAAAeG5AAAAAAAB4bkAAAAAAAHhuQAAAAAAAeG5AAAAAAAB4bkAAAAAAAHhuQAAAAAAAeG5AAAAAAAB4bkAAAAAAAHhuQAAAAAAAeG5AAAAAAAB4bkBSuB6F6+FhQFK4HoXr4WFApHA9CtfLYUCkcD0K18thQKRwPQrXy2FApHA9CtfLYUCkcD0K18thQKRwPQrXy2FApHA9CtfLYUCkcD0K18thQKRwPQrXy2FApHA9CtfLYUCkcD0K18thQKRwPQrXy2FACtejcD0iYkBmZmZmZuZlQGZmZmZm5mVAZmZmZmbmZUBmZmZmZuZlQPYoXI/CvWVA9ihcj8K9ZUD2KFyPwr1lQPYoXI/CvWVA9ihcj8K9ZUD2KFyPwr1lQPYoXI/CvWVA16NwPQrnZUDXo3A9CudlQNejcD0K52VA16NwPQrnZUC4HoXrUVhrQLgehetRWGtAuB6F61FYa0DD9Shcj5JrQMP1KFyPkmtAw/UoXI+Sa0DD9Shcj5JrQJqZmZmZEWtAmpmZmZkRa0CamZmZmRFrQJqZmZmZEWtAmpmZmZkRa0CamZmZmRFrQJqZmZmZEWtAmpmZmZkRa0CamZmZmRFrQJqZmZmZEWtAmpmZmZkRa0BSuB6F67FlQFK4HoXrsWVAUrgeheuxZUBSuB6F67FlQGZmZmZmJmZAZmZmZmYmZkBmZmZmZiZmQGZmZmZmJmZAZmZmZmYmZkCamZmZmaFmQJqZmZmZoWZAmpmZmZmhZkCamZmZmaFmQJqZmZmZoWZAmpmZmZmhZkCamZmZmaFmQJqZmZmZoWZAmpmZmZmhZkBSuB6F60FsQFK4HoXrQWxAUrgehetBbEBSuB6F60FsQFK4HoXrQWxAUrgehetBbEBSuB6F60FsQFK4HoXrkWtAUrgeheuRa0BSuB6F65FrQHsUrkfhumtAexSuR+G6a0B7FK5H4bprQHsUrkfhumtAexSuR+G6a0B7FK5H4bprQHsUrkfhumtAexSuR+G6a0B7FK5H4bprQHsUrkfhumtAexSuR+G6a0B7FK5H4bprQHsUrkfhumtAexSuR+G6a0B7FK5H4bprQHsUrkfhumtAexSuR+G6a0CuR+F6FI5rQK5H4XoUjmtArkfhehSOa0CuR+F6FI5rQK5H4XoUjmtArkfhehSOa0CuR+F6FI5rQK5H4XoUjmtArkfhehSOa0A=",
          "dtype": "f8"
         },
         "yaxis": "y"
        },
        {
         "hoverinfo": "skip",
         "line": {
          "color": "red",
          "dash": "dash"
         },
         "mode": "lines",
         "name": "SDU->BSB - Target (€1500)",
         "type": "scatter",
         "x": [
          "2025-03-25T11:32:55",
          "2025-04-13T22:11:43"
         ],
         "xaxis": "x",
         "y": [
          1500,
          1500
         ],
         "yaxis": "y"
        },
        {
         "hoverinfo": "skip",
         "line": {
          "color": "green",
          "dash": "dot"
         },
         "mode": "lines",
         "name": "SDU->BSB - Avg (€209.62)",
         "type": "scatter",
         "x": [
          "2025-03-25T11:32:55",
          "2025-04-13T22:11:43"
         ],
         "xaxis": "x",
         "y": [
          209.62006249999996,
          209.62006249999996
         ],
         "yaxis": "y"
        },
        {
         "hovertemplate": "Date: %{x|%Y-%m-%d %H:%M}<br>Price: €%{y:.2f}",
         "line": {
          "width": 2
         },
         "mode": "lines+markers",
         "name": "BSB->SSA - Price",
         "type": "scatter",
         "x": [
          "2025-03-25T11:33:10.000000000",
          "2025-03-25T11:47:05.000000000",
          "2025-03-25T12:46:40.000000000",
          "2025-03-25T13:46:40.000000000",
          "2025-03-25T14:46:40.000000000",
          "2025-03-25T15:46:41.000000000",
          "2025-03-25T16:15:20.000000000",
          "2025-03-25T16:19:25.000000000",
          "2025-03-25T23:07:21.000000000",
          "2025-03-26T09:16:43.000000000",
          "2025-03-26T10:16:35.000000000",
          "2025-03-26T11:16:38.000000000",
          "2025-03-26T12:16:31.000000000",
          "2025-03-26T13:16:33.000000000",
          "2025-03-26T14:16:38.000000000",
          "2025-03-26T16:16:30.000000000",
          "2025-03-26T17:16:36.000000000",
          "2025-03-28T20:02:29.000000000",
          "2025-03-28T21:02:25.000000000",
          "2025-03-28T22:02:22.000000000",
          "2025-03-29T11:18:34.000000000",
          "2025-03-29T12:18:41.000000000",
          "2025-03-29T13:18:40.000000000",
          "2025-03-29T14:18:41.000000000",
          "2025-03-29T16:18:37.000000000",
          "2025-03-29T17:18:48.000000000",
          "2025-03-29T20:18:39.000000000",
          "2025-03-30T18:15:27.000000000",
          "2025-03-30T20:15:28.000000000",
          "2025-03-30T21:15:33.000000000",
          "2025-03-31T10:48:49.000000000",
          "2025-03-31T11:48:48.000000000",
          "2025-03-31T13:48:47.000000000",
          "2025-03-31T14:48:56.000000000",
          "2025-03-31T15:48:47.000000000",
          "2025-04-04T10:20:17.000000000",
          "2025-04-04T11:20:10.000000000",
          "2025-04-04T12:20:10.000000000",
          "2025-04-04T13:20:10.000000000",
          "2025-04-04T15:20:11.000000000",
          "2025-04-04T16:20:14.000000000",
          "2025-04-04T17:20:10.000000000",
          "2025-04-04T18:20:10.000000000",
          "2025-04-04T19:20:18.000000000",
          "2025-04-04T20:20:12.000000000",
          "2025-04-05T17:22:49.000000000",
          "2025-04-05T18:22:48.000000000",
          "2025-04-06T09:30:17.000000000",
          "2025-04-06T10:30:18.000000000",
          "2025-04-06T11:30:24.000000000",
          "2025-04-06T12:30:18.000000000",
          "2025-04-06T13:30:17.000000000",
          "2025-04-06T15:30:17.000000000",
          "2025-04-06T16:31:09.000000000",
          "2025-04-06T17:30:17.000000000",
          "2025-04-06T18:30:17.000000000",
          "2025-04-06T19:30:17.000000000",
          "2025-04-06T20:30:14.000000000",
          "2025-04-06T21:30:19.000000000",
          "2025-04-06T22:30:20.000000000",
          "2025-04-08T09:53:13.000000000",
          "2025-04-08T10:53:19.000000000",
          "2025-04-08T11:53:16.000000000",
          "2025-04-08T12:53:17.000000000",
          "2025-04-08T13:53:16.000000000",
          "2025-04-08T14:53:16.000000000",
          "2025-04-08T15:53:15.000000000",
          "2025-04-08T16:53:17.000000000",
          "2025-04-08T17:53:13.000000000",
          "2025-04-08T18:53:11.000000000",
          "2025-04-08T20:53:14.000000000",
          "2025-04-08T21:53:22.000000000",
          "2025-04-08T22:53:16.000000000",
          "2025-04-08T23:53:13.000000000",
          "2025-04-09T00:53:17.000000000",
          "2025-04-09T01:53:16.000000000",
          "2025-04-09T02:53:16.000000000",
          "2025-04-09T03:53:13.000000000",
          "2025-04-09T04:53:19.000000000",
          "2025-04-09T05:53:16.000000000",
          "2025-04-09T06:53:19.000000000",
          "2025-04-09T07:53:19.000000000",
          "2025-04-09T09:53:17.000000000",
          "2025-04-09T11:53:20.000000000",
          "2025-04-09T12:53:14.000000000",
          "2025-04-09T13:53:16.000000000",
          "2025-04-09T14:53:18.000000000",
          "2025-04-09T15:53:17.000000000",
          "2025-04-09T16:53:19.000000000",
          "2025-04-09T18:53:24.000000000",
          "2025-04-09T19:53:20.000000000",
          "2025-04-09T21:53:17.000000000",
          "2025-04-09T23:53:17.000000000",
          "2025-04-10T00:53:16.000000000",
          "2025-04-10T01:53:20.000000000",
          "2025-04-10T03:53:17.000000000",
          "2025-04-10T04:53:17.000000000",
          "2025-04-10T05:53:21.000000000",
          "2025-04-10T06:53:21.000000000",
          "2025-04-10T07:53:21.000000000",
          "2025-04-10T08:53:21.000000000",
          "2025-04-10T09:53:18.000000000",
          "2025-04-10T10:53:21.000000000",
          "2025-04-10T11:53:20.000000000",
          "2025-04-10T12:53:28.000000000",
          "2025-04-10T13:53:20.000000000",
          "2025-04-10T14:53:21.000000000",
          "2025-04-10T15:53:21.000000000",
          "2025-04-10T16:53:21.000000000",
          "2025-04-10T18:53:16.000000000",
          "2025-04-10T21:53:19.000000000",
          "2025-04-10T22:53:26.000000000",
          "2025-04-11T00:53:20.000000000",
          "2025-04-11T01:53:29.000000000",
          "2025-04-11T02:53:19.000000000",
          "2025-04-11T03:53:18.000000000",
          "2025-04-11T04:53:19.000000000",
          "2025-04-11T05:53:26.000000000",
          "2025-04-11T07:53:24.000000000",
          "2025-04-11T08:53:29.000000000",
          "2025-04-11T09:53:20.000000000",
          "2025-04-11T11:53:23.000000000",
          "2025-04-11T12:53:18.000000000",
          "2025-04-11T13:53:19.000000000",
          "2025-04-11T14:53:19.000000000",
          "2025-04-11T16:53:23.000000000",
          "2025-04-11T17:53:23.000000000",
          "2025-04-11T18:53:22.000000000",
          "2025-04-11T19:53:20.000000000",
          "2025-04-11T20:53:27.000000000",
          "2025-04-11T21:53:17.000000000",
          "2025-04-11T22:53:22.000000000",
          "2025-04-11T23:53:21.000000000",
          "2025-04-12T00:53:20.000000000",
          "2025-04-12T02:53:21.000000000",
          "2025-04-12T03:53:19.000000000",
          "2025-04-12T05:53:21.000000000",
          "2025-04-12T06:53:24.000000000",
          "2025-04-12T07:53:28.000000000",
          "2025-04-12T08:53:25.000000000",
          "2025-04-12T09:53:22.000000000",
          "2025-04-12T10:53:21.000000000",
          "2025-04-12T11:53:23.000000000",
          "2025-04-12T12:53:30.000000000",
          "2025-04-12T13:53:28.000000000",
          "2025-04-12T14:53:21.000000000",
          "2025-04-12T15:53:21.000000000",
          "2025-04-12T16:53:32.000000000",
          "2025-04-12T17:53:17.000000000",
          "2025-04-12T18:53:19.000000000",
          "2025-04-12T19:53:22.000000000",
          "2025-04-12T20:53:29.000000000",
          "2025-04-12T21:53:24.000000000",
          "2025-04-13T10:12:06.000000000",
          "2025-04-13T11:11:55.000000000",
          "2025-04-13T12:12:19.000000000",
          "2025-04-13T13:12:11.000000000",
          "2025-04-13T15:12:12.000000000",
          "2025-04-13T16:12:12.000000000",
          "2025-04-13T18:12:06.000000000",
          "2025-04-13T20:12:15.000000000",
          "2025-04-13T21:12:06.000000000",
          "2025-04-13T22:12:09.000000000"
         ],
         "xaxis": "x2",
         "y": {
          "bdata": "cT0K16NMckBxPQrXo0xyQHE9CtejTHJAcT0K16NMckBxPQrXo0xyQHE9CtejTHJAcT0K16NMckBxPQrXo0xyQHE9CtejTHJAcT0K16NMckBxPQrXo0xyQHE9CtejTHJAcT0K16NMckBxPQrXo0xyQHE9CtejTHJAcT0K16NMckBxPQrXo0xyQHE9CtejTHJAcT0K16NMckBxPQrXo0xyQJqZmZmZEXJAmpmZmZkRckCamZmZmRFyQJqZmZmZEXJAmpmZmZkRckApXI/C9TRyQM3MzMzM9HFApHA9CtcDckCkcD0K1wNyQKRwPQrXA3JAcT0K16NMckBxPQrXo0xyQHE9CtejTHJAcT0K16NMckBxPQrXo0xyQHE9CtejTHJAcT0K16NMckBxPQrXo0xyQHE9CtejTHJAcT0K16NMckBxPQrXo0xyQHE9CtejTHJAcT0K16NMckDsUbgehSNyQOxRuB6FI3JAexSuR+FycUB7FK5H4XJxQClcj8L1lHFAKVyPwvWUcUApXI/C9ZRxQClcj8L1lHFAKVyPwvWUcUApXI/C9ZRxQClcj8L1lHFAKVyPwvWUcUApXI/C9ZRxQClcj8L1lHFAKVyPwvWUcUApXI/C9ZRxQClcj8L1lHFAXI/C9Sg4ckBcj8L1KDhyQFyPwvUoOHJAXI/C9Sg4ckBcj8L1KDhyQFyPwvUoOHJAXI/C9Sg4ckBcj8L1KDhyQFyPwvUoOHJAXI/C9Sg4ckBcj8L1KDhyQFyPwvUoOHJAXI/C9Sg4ckCF61G4Hr1xQOxRuB6FE3JA7FG4HoUTckDsUbgehRNyQOxRuB6FE3JA7FG4HoUTckBcj8L1KDhyQFyPwvUoOHJAXI/C9Sg4ckBcj8L1KDhyQFyPwvUoOHJAXI/C9Sg4ckBcj8L1KDhyQFyPwvUoOHJAXI/C9Sg4ckBcj8L1KDhyQFyPwvUoOHJAXI/C9Sg4ckDsUbgehQ9yQMP1KFyP5nBAw/UoXI8KcUDNzMzMzLBwQM3MzMzMsHBAzczMzMywcEDNzMzMzLBwQClcj8L14HFAKVyPwvXgcUApXI/C9eBxQClcj8L14HFAKVyPwvXgcUApXI/C9eBxQClcj8L14HFAKVyPwvXgcUApXI/C9eBxQClcj8L14HFASOF6FK7XcUBI4XoUrtdxQEjhehSu13FASOF6FK7XcUCamZmZmdlwQM3MzMzMsHBAzczMzMywcEDNzMzMzLBwQJqZmZmZ2XBArkfhehRqcUCuR+F6FGpxQK5H4XoUanFArkfhehRqcUCuR+F6FGpxQK5H4XoUanFArkfhehRqcUCuR+F6FGpxQK5H4XoUanFAmpmZmZm5cEAAAAAAAAxwQOF6FK5HcW1ACtejcD2ibEAK16NwPaJsQArXo3A9omxACtejcD2ibEAK16NwPaJsQArXo3A9omxACtejcD2ibEAK16NwPaJsQArXo3A9omxACtejcD2ibEAK16NwPaJsQArXo3A9omxACtejcD2ibEAK16NwPaJsQArXo3A9omxACtejcD2ibEAK16NwPaJsQArXo3A9omxACtejcD2ibEAK16NwPaJsQArXo3A9omxACtejcD2ibEAK16NwPaJsQArXo3A9omxA9ihcj8KdbED2KFyPwp1sQPYoXI/CnWxA9ihcj8KdbED2KFyPwp1sQPYoXI/CnWxA9ihcj8KdbED2KFyPwp1sQArXo3A9YmxACtejcD1ibEA=",
          "dtype": "f8"
         },
         "yaxis": "y2"
        },
        {
         "hoverinfo": "skip",
         "line": {
          "color": "red",
          "dash": "dash"
         },
         "mode": "lines",
         "name": "BSB->SSA - Target (€1700)",
         "type": "scatter",
         "x": [
          "2025-03-25T11:33:10",
          "2025-04-13T22:12:09"
         ],
         "xaxis": "x2",
         "y": [
          1700,
          1700
         ],
         "yaxis": "y2"
        },
        {
         "hoverinfo": "skip",
         "line": {
          "color": "green",
          "dash": "dot"
         },
         "mode": "lines",
         "name": "BSB->SSA - Avg (€273.98)",
         "type": "scatter",
         "x": [
          "2025-03-25T11:33:10",
          "2025-04-13T22:12:09"
         ],
         "xaxis": "x2",
         "y": [
          273.97748466257667,
          273.97748466257667
         ],
         "yaxis": "y2"
        },
        {
         "hovertemplate": "Date: %{x|%Y-%m-%d %H:%M}<br>Price: €%{y:.2f}",
         "line": {
          "width": 2
         },
         "mode": "lines+markers",
         "name": "ORY->GIG, SSA->ORY - Price",
         "type": "scatter",
         "x": [
          "2025-03-25T11:33:33.000000000",
          "2025-03-25T11:47:28.000000000",
          "2025-03-25T12:47:03.000000000",
          "2025-03-25T13:47:03.000000000",
          "2025-03-25T14:47:03.000000000",
          "2025-03-25T15:47:05.000000000",
          "2025-03-25T16:15:42.000000000",
          "2025-03-25T16:19:40.000000000",
          "2025-03-25T23:07:44.000000000",
          "2025-03-26T09:17:06.000000000",
          "2025-03-26T10:16:57.000000000",
          "2025-03-26T11:17:01.000000000",
          "2025-03-26T12:16:53.000000000",
          "2025-03-26T13:17:05.000000000",
          "2025-03-26T14:17:00.000000000",
          "2025-03-26T15:17:29.000000000",
          "2025-03-26T16:16:52.000000000",
          "2025-03-26T17:16:58.000000000",
          "2025-03-28T20:02:51.000000000",
          "2025-03-28T21:02:47.000000000",
          "2025-03-28T22:02:44.000000000",
          "2025-03-29T11:18:56.000000000",
          "2025-03-29T12:19:03.000000000",
          "2025-03-29T13:19:01.000000000",
          "2025-03-29T14:19:02.000000000",
          "2025-03-29T15:19:29.000000000",
          "2025-03-29T16:18:58.000000000",
          "2025-03-29T17:19:09.000000000",
          "2025-03-29T18:19:30.000000000",
          "2025-03-29T19:20:25.000000000",
          "2025-03-29T20:19:00.000000000",
          "2025-03-29T21:19:30.000000000",
          "2025-03-30T18:15:49.000000000",
          "2025-03-30T19:16:18.000000000",
          "2025-03-30T20:15:50.000000000",
          "2025-03-30T21:15:54.000000000",
          "2025-03-31T10:49:10.000000000",
          "2025-03-31T11:49:09.000000000",
          "2025-03-31T12:49:41.000000000",
          "2025-03-31T13:49:08.000000000",
          "2025-03-31T14:49:19.000000000",
          "2025-03-31T15:49:09.000000000",
          "2025-03-31T16:49:43.000000000",
          "2025-03-31T17:49:43.000000000",
          "2025-04-04T10:20:50.000000000",
          "2025-04-04T11:20:44.000000000",
          "2025-04-04T12:20:43.000000000",
          "2025-04-04T13:20:42.000000000",
          "2025-04-04T14:20:59.000000000",
          "2025-04-04T15:20:43.000000000",
          "2025-04-04T16:20:46.000000000",
          "2025-04-04T17:20:42.000000000",
          "2025-04-04T18:20:43.000000000",
          "2025-04-04T19:20:51.000000000",
          "2025-04-04T20:20:45.000000000",
          "2025-04-04T21:20:59.000000000",
          "2025-04-05T17:23:21.000000000",
          "2025-04-05T18:23:20.000000000",
          "2025-04-06T09:30:51.000000000",
          "2025-04-06T10:30:53.000000000",
          "2025-04-06T11:30:57.000000000",
          "2025-04-06T12:30:50.000000000",
          "2025-04-06T13:30:50.000000000",
          "2025-04-06T14:31:06.000000000",
          "2025-04-06T15:30:49.000000000",
          "2025-04-06T16:31:41.000000000",
          "2025-04-06T17:30:50.000000000",
          "2025-04-06T18:30:50.000000000",
          "2025-04-06T19:30:49.000000000",
          "2025-04-06T20:30:46.000000000",
          "2025-04-06T21:30:52.000000000",
          "2025-04-06T22:30:52.000000000",
          "2025-04-08T09:53:46.000000000",
          "2025-04-08T10:53:53.000000000",
          "2025-04-08T11:53:49.000000000",
          "2025-04-08T12:53:49.000000000",
          "2025-04-08T13:53:49.000000000",
          "2025-04-08T14:53:49.000000000",
          "2025-04-08T15:53:47.000000000",
          "2025-04-08T16:53:49.000000000",
          "2025-04-08T17:53:46.000000000",
          "2025-04-08T18:53:44.000000000",
          "2025-04-08T19:54:05.000000000",
          "2025-04-08T20:53:47.000000000",
          "2025-04-08T21:53:55.000000000",
          "2025-04-08T22:53:49.000000000",
          "2025-04-08T23:53:45.000000000",
          "2025-04-09T00:53:49.000000000",
          "2025-04-09T01:53:50.000000000",
          "2025-04-09T02:53:48.000000000",
          "2025-04-09T03:53:46.000000000",
          "2025-04-09T04:53:51.000000000",
          "2025-04-09T05:53:48.000000000",
          "2025-04-09T06:53:52.000000000",
          "2025-04-09T07:53:52.000000000",
          "2025-04-09T08:54:05.000000000",
          "2025-04-09T09:53:49.000000000",
          "2025-04-09T10:54:06.000000000",
          "2025-04-09T11:53:53.000000000",
          "2025-04-09T12:53:47.000000000",
          "2025-04-09T13:53:48.000000000",
          "2025-04-09T14:53:51.000000000",
          "2025-04-09T15:53:49.000000000",
          "2025-04-09T16:53:51.000000000",
          "2025-04-09T17:54:06.000000000",
          "2025-04-09T18:53:58.000000000",
          "2025-04-09T19:53:53.000000000",
          "2025-04-09T20:54:07.000000000",
          "2025-04-09T21:53:49.000000000",
          "2025-04-09T22:54:06.000000000",
          "2025-04-09T23:53:49.000000000",
          "2025-04-10T00:53:48.000000000",
          "2025-04-10T01:53:53.000000000",
          "2025-04-10T02:54:30.000000000",
          "2025-04-10T03:53:50.000000000",
          "2025-04-10T04:53:49.000000000",
          "2025-04-10T05:53:54.000000000",
          "2025-04-10T06:53:54.000000000",
          "2025-04-10T07:53:54.000000000",
          "2025-04-10T08:53:55.000000000",
          "2025-04-10T09:53:52.000000000",
          "2025-04-10T10:53:54.000000000",
          "2025-04-10T11:53:53.000000000",
          "2025-04-10T12:54:01.000000000",
          "2025-04-10T13:53:53.000000000",
          "2025-04-10T14:53:54.000000000",
          "2025-04-10T15:53:53.000000000",
          "2025-04-10T16:53:54.000000000",
          "2025-04-10T17:54:08.000000000",
          "2025-04-10T18:53:48.000000000",
          "2025-04-10T19:54:12.000000000",
          "2025-04-10T20:54:08.000000000",
          "2025-04-10T21:53:52.000000000",
          "2025-04-10T22:54:00.000000000",
          "2025-04-10T23:54:07.000000000",
          "2025-04-11T00:53:53.000000000",
          "2025-04-11T01:54:02.000000000",
          "2025-04-11T02:53:51.000000000",
          "2025-04-11T03:53:50.000000000",
          "2025-04-11T04:53:51.000000000",
          "2025-04-11T05:53:59.000000000",
          "2025-04-11T06:54:08.000000000",
          "2025-04-11T07:53:57.000000000",
          "2025-04-11T08:54:02.000000000",
          "2025-04-11T09:53:54.000000000",
          "2025-04-11T10:54:10.000000000",
          "2025-04-11T11:53:55.000000000",
          "2025-04-11T12:53:51.000000000",
          "2025-04-11T13:53:52.000000000",
          "2025-04-11T14:53:51.000000000",
          "2025-04-11T15:54:09.000000000",
          "2025-04-11T16:53:55.000000000",
          "2025-04-11T17:53:56.000000000",
          "2025-04-11T18:53:54.000000000",
          "2025-04-11T19:53:52.000000000",
          "2025-04-11T20:54:01.000000000",
          "2025-04-11T21:53:50.000000000",
          "2025-04-11T22:53:55.000000000",
          "2025-04-11T23:53:53.000000000",
          "2025-04-12T00:53:52.000000000",
          "2025-04-12T01:54:11.000000000",
          "2025-04-12T02:53:54.000000000",
          "2025-04-12T03:53:52.000000000",
          "2025-04-12T04:54:12.000000000",
          "2025-04-12T05:53:53.000000000",
          "2025-04-12T06:53:56.000000000",
          "2025-04-12T07:54:02.000000000",
          "2025-04-12T08:53:58.000000000",
          "2025-04-12T09:53:55.000000000",
          "2025-04-12T10:53:54.000000000",
          "2025-04-12T11:53:56.000000000",
          "2025-04-12T12:54:03.000000000",
          "2025-04-12T13:54:01.000000000",
          "2025-04-12T14:53:53.000000000",
          "2025-04-12T15:53:53.000000000",
          "2025-04-12T16:54:07.000000000",
          "2025-04-12T17:53:50.000000000",
          "2025-04-12T18:53:52.000000000",
          "2025-04-12T19:53:54.000000000",
          "2025-04-12T20:54:03.000000000",
          "2025-04-12T21:53:57.000000000",
          "2025-04-13T09:12:55.000000000",
          "2025-04-13T10:12:40.000000000",
          "2025-04-13T11:12:28.000000000",
          "2025-04-13T12:12:53.000000000",
          "2025-04-13T13:12:45.000000000",
          "2025-04-13T14:12:55.000000000",
          "2025-04-13T15:12:45.000000000",
          "2025-04-13T16:12:45.000000000",
          "2025-04-13T17:13:18.000000000",
          "2025-04-13T18:12:43.000000000",
          "2025-04-13T19:12:56.000000000",
          "2025-04-13T20:12:49.000000000",
          "2025-04-13T21:12:39.000000000",
          "2025-04-13T22:12:41.000000000"
         ],
         "xaxis": "x3",
         "y": {
          "bdata": "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",
          "dtype": "f8"
         },
         "yaxis": "y3"
        },
        {
         "hoverinfo": "skip",
         "line": {
          "color": "red",
          "dash": "dash"
         },
         "mode": "lines",
         "name": "ORY->GIG, SSA->ORY - Target (€27000)",
         "type": "scatter",
         "x": [
          "2025-03-25T11:33:33",
          "2025-04-13T22:12:41"
         ],
         "xaxis": "x3",
         "y": [
          27000,
          27000
         ],
         "yaxis": "y3"
        },
        {
         "hoverinfo": "skip",
         "line": {
          "color": "green",
          "dash": "dot"
         },
         "mode": "lines",
         "name": "ORY->GIG, SSA->ORY - Avg (€4516.08)",
         "type": "scatter",
         "x": [
          "2025-03-25T11:33:33",
          "2025-04-13T22:12:41"
         ],
         "xaxis": "x3",
         "y": [
          4516.083076923077,
          4516.083076923077
         ],
         "yaxis": "y3"
        }
       ],
       "layout": {
        "annotations": [
         {
          "font": {
           "size": 16
          },
          "showarrow": false,
          "text": "Flight: SDU->BSB",
          "x": 0.5,
          "xanchor": "center",
          "xref": "paper",
          "y": 1,
          "yanchor": "bottom",
          "yref": "paper"
         },
         {
          "font": {
           "size": 16
          },
          "showarrow": false,
          "text": "Flight: BSB->SSA",
          "x": 0.5,
          "xanchor": "center",
          "xref": "paper",
          "y": 0.6333333333333333,
          "yanchor": "bottom",
          "yref": "paper"
         },
         {
          "font": {
           "size": 16
          },
          "showarrow": false,
          "text": "Flight: ORY->GIG, SSA->ORY",
          "x": 0.5,
          "xanchor": "center",
          "xref": "paper",
          "y": 0.26666666666666666,
          "yanchor": "bottom",
          "yref": "paper"
         }
        ],
        "height": 1200,
        "hovermode": "closest",
        "legend": {
         "groupclick": "toggleitem"
        },
        "showlegend": true,
        "template": {
         "data": {
          "bar": [
           {
            "error_x": {
             "color": "#2a3f5f"
            },
            "error_y": {
             "color": "#2a3f5f"
            },
            "marker": {
             "line": {
              "color": "#E5ECF6",
              "width": 0.5
             },
             "pattern": {
              "fillmode": "overlay",
              "size": 10,
              "solidity": 0.2
             }
            },
            "type": "bar"
           }
          ],
          "barpolar": [
           {
            "marker": {
             "line": {
              "color": "#E5ECF6",
              "width": 0.5
             },
             "pattern": {
              "fillmode": "overlay",
              "size": 10,
              "solidity": 0.2
             }
            },
            "type": "barpolar"
           }
          ],
          "carpet": [
           {
            "aaxis": {
             "endlinecolor": "#2a3f5f",
             "gridcolor": "white",
             "linecolor": "white",
             "minorgridcolor": "white",
             "startlinecolor": "#2a3f5f"
            },
            "baxis": {
             "endlinecolor": "#2a3f5f",
             "gridcolor": "white",
             "linecolor": "white",
             "minorgridcolor": "white",
             "startlinecolor": "#2a3f5f"
            },
            "type": "carpet"
           }
          ],
          "choropleth": [
           {
            "colorbar": {
             "outlinewidth": 0,
             "ticks": ""
            },
            "type": "choropleth"
           }
          ],
          "contour": [
           {
            "colorbar": {
             "outlinewidth": 0,
             "ticks": ""
            },
            "colorscale": [
             [
              0,
              "#0d0887"
             ],
             [
              0.1111111111111111,
              "#46039f"
             ],
             [
              0.2222222222222222,
              "#7201a8"
             ],
             [
              0.3333333333333333,
              "#9c179e"
             ],
             [
              0.4444444444444444,
              "#bd3786"
             ],
             [
              0.5555555555555556,
              "#d8576b"
             ],
             [
              0.6666666666666666,
              "#ed7953"
             ],
             [
              0.7777777777777778,
              "#fb9f3a"
             ],
             [
              0.8888888888888888,
              "#fdca26"
             ],
             [
              1,
              "#f0f921"
             ]
            ],
            "type": "contour"
           }
          ],
          "contourcarpet": [
           {
            "colorbar": {
             "outlinewidth": 0,
             "ticks": ""
            },
            "type": "contourcarpet"
           }
          ],
          "heatmap": [
           {
            "colorbar": {
             "outlinewidth": 0,
             "ticks": ""
            },
            "colorscale": [
             [
              0,
              "#0d0887"
             ],
             [
              0.1111111111111111,
              "#46039f"
             ],
             [
              0.2222222222222222,
              "#7201a8"
             ],
             [
              0.3333333333333333,
              "#9c179e"
             ],
             [
              0.4444444444444444,
              "#bd3786"
             ],
             [
              0.5555555555555556,
              "#d8576b"
             ],
             [
              0.6666666666666666,
              "#ed7953"
             ],
             [
              0.7777777777777778,
              "#fb9f3a"
             ],
             [
              0.8888888888888888,
              "#fdca26"
             ],
             [
              1,
              "#f0f921"
             ]
            ],
            "type": "heatmap"
           }
          ],
          "histogram": [
           {
            "marker": {
             "pattern": {
              "fillmode": "overlay",
              "size": 10,
              "solidity": 0.2
             }
            },
            "type": "histogram"
           }
          ],
          "histogram2d": [
           {
            "colorbar": {
             "outlinewidth": 0,
             "ticks": ""
            },
            "colorscale": [
             [
              0,
              "#0d0887"
             ],
             [
              0.1111111111111111,
              "#46039f"
             ],
             [
              0.2222222222222222,
              "#7201a8"
             ],
             [
              0.3333333333333333,
              "#9c179e"
             ],
             [
              0.4444444444444444,
              "#bd3786"
             ],
             [
              0.5555555555555556,
              "#d8576b"
             ],
             [
              0.6666666666666666,
              "#ed7953"
             ],
             [
              0.7777777777777778,
              "#fb9f3a"
             ],
             [
              0.8888888888888888,
              "#fdca26"
             ],
             [
              1,
              "#f0f921"
             ]
            ],
            "type": "histogram2d"
           }
          ],
          "histogram2dcontour": [
           {
            "colorbar": {
             "outlinewidth": 0,
             "ticks": ""
            },
            "colorscale": [
             [
              0,
              "#0d0887"
             ],
             [
              0.1111111111111111,
              "#46039f"
             ],
             [
              0.2222222222222222,
              "#7201a8"
             ],
             [
              0.3333333333333333,
              "#9c179e"
             ],
             [
              0.4444444444444444,
              "#bd3786"
             ],
             [
              0.5555555555555556,
              "#d8576b"
             ],
             [
              0.6666666666666666,
              "#ed7953"
             ],
             [
              0.7777777777777778,
              "#fb9f3a"
             ],
             [
              0.8888888888888888,
              "#fdca26"
             ],
             [
              1,
              "#f0f921"
             ]
            ],
            "type": "histogram2dcontour"
           }
          ],
          "mesh3d": [
           {
            "colorbar": {
             "outlinewidth": 0,
             "ticks": ""
            },
            "type": "mesh3d"
           }
          ],
          "parcoords": [
           {
            "line": {
             "colorbar": {
              "outlinewidth": 0,
              "ticks": ""
             }
            },
            "type": "parcoords"
           }
          ],
          "pie": [
           {
            "automargin": true,
            "type": "pie"
           }
          ],
          "scatter": [
           {
            "fillpattern": {
             "fillmode": "overlay",
             "size": 10,
             "solidity": 0.2
            },
            "type": "scatter"
           }
          ],
          "scatter3d": [
           {
            "line": {
             "colorbar": {
              "outlinewidth": 0,
              "ticks": ""
             }
            },
            "marker": {
             "colorbar": {
              "outlinewidth": 0,
              "ticks": ""
             }
            },
            "type": "scatter3d"
           }
          ],
          "scattercarpet": [
           {
            "marker": {
             "colorbar": {
              "outlinewidth": 0,
              "ticks": ""
             }
            },
            "type": "scattercarpet"
           }
          ],
          "scattergeo": [
           {
            "marker": {
             "colorbar": {
              "outlinewidth": 0,
              "ticks": ""
             }
            },
            "type": "scattergeo"
           }
          ],
          "scattergl": [
           {
            "marker": {
             "colorbar": {
              "outlinewidth": 0,
              "ticks": ""
             }
            },
            "type": "scattergl"
           }
          ],
          "scattermap": [
           {
            "marker": {
             "colorbar": {
              "outlinewidth": 0,
              "ticks": ""
             }
            },
            "type": "scattermap"
           }
          ],
          "scattermapbox": [
           {
            "marker": {
             "colorbar": {
              "outlinewidth": 0,
              "ticks": ""
             }
            },
            "type": "scattermapbox"
           }
          ],
          "scatterpolar": [
           {
            "marker": {
             "colorbar": {
              "outlinewidth": 0,
              "ticks": ""
             }
            },
            "type": "scatterpolar"
           }
          ],
          "scatterpolargl": [
           {
            "marker": {
             "colorbar": {
              "outlinewidth": 0,
              "ticks": ""
             }
            },
            "type": "scatterpolargl"
           }
          ],
          "scatterternary": [
           {
            "marker": {
             "colorbar": {
              "outlinewidth": 0,
              "ticks": ""
             }
            },
            "type": "scatterternary"
           }
          ],
          "surface": [
           {
            "colorbar": {
             "outlinewidth": 0,
             "ticks": ""
            },
            "colorscale": [
             [
              0,
              "#0d0887"
             ],
             [
              0.1111111111111111,
              "#46039f"
             ],
             [
              0.2222222222222222,
              "#7201a8"
             ],
             [
              0.3333333333333333,
              "#9c179e"
             ],
             [
              0.4444444444444444,
              "#bd3786"
             ],
             [
              0.5555555555555556,
              "#d8576b"
             ],
             [
              0.6666666666666666,
              "#ed7953"
             ],
             [
              0.7777777777777778,
              "#fb9f3a"
             ],
             [
              0.8888888888888888,
              "#fdca26"
             ],
             [
              1,
              "#f0f921"
             ]
            ],
            "type": "surface"
           }
          ],
          "table": [
           {
            "cells": {
             "fill": {
              "color": "#EBF0F8"
             },
             "line": {
              "color": "white"
             }
            },
            "header": {
             "fill": {
              "color": "#C8D4E3"
             },
             "line": {
              "color": "white"
             }
            },
            "type": "table"
           }
          ]
         },
         "layout": {
          "annotationdefaults": {
           "arrowcolor": "#2a3f5f",
           "arrowhead": 0,
           "arrowwidth": 1
          },
          "autotypenumbers": "strict",
          "coloraxis": {
           "colorbar": {
            "outlinewidth": 0,
            "ticks": ""
           }
          },
          "colorscale": {
           "diverging": [
            [
             0,
             "#8e0152"
            ],
            [
             0.1,
             "#c51b7d"
            ],
            [
             0.2,
             "#de77ae"
            ],
            [
             0.3,
             "#f1b6da"
            ],
            [
             0.4,
             "#fde0ef"
            ],
            [
             0.5,
             "#f7f7f7"
            ],
            [
             0.6,
             "#e6f5d0"
            ],
            [
             0.7,
             "#b8e186"
            ],
            [
             0.8,
             "#7fbc41"
            ],
            [
             0.9,
             "#4d9221"
            ],
            [
             1,
             "#276419"
            ]
           ],
           "sequential": [
            [
             0,
             "#0d0887"
            ],
            [
             0.1111111111111111,
             "#46039f"
            ],
            [
             0.2222222222222222,
             "#7201a8"
            ],
            [
             0.3333333333333333,
             "#9c179e"
            ],
            [
             0.4444444444444444,
             "#bd3786"
            ],
            [
             0.5555555555555556,
             "#d8576b"
            ],
            [
             0.6666666666666666,
             "#ed7953"
            ],
            [
             0.7777777777777778,
             "#fb9f3a"
            ],
            [
             0.8888888888888888,
             "#fdca26"
            ],
            [
             1,
             "#f0f921"
            ]
           ],
           "sequentialminus": [
            [
             0,
             "#0d0887"
            ],
            [
             0.1111111111111111,
             "#46039f"
            ],
            [
             0.2222222222222222,
             "#7201a8"
            ],
            [
             0.3333333333333333,
             "#9c179e"
            ],
            [
             0.4444444444444444,
             "#bd3786"
            ],
            [
             0.5555555555555556,
             "#d8576b"
            ],
            [
             0.6666666666666666,
             "#ed7953"
            ],
            [
             0.7777777777777778,
             "#fb9f3a"
            ],
            [
             0.8888888888888888,
             "#fdca26"
            ],
            [
             1,
             "#f0f921"
            ]
           ]
          },
          "colorway": [
           "#636efa",
           "#EF553B",
           "#00cc96",
           "#ab63fa",
           "#FFA15A",
           "#19d3f3",
           "#FF6692",
           "#B6E880",
           "#FF97FF",
           "#FECB52"
          ],
          "font": {
           "color": "#2a3f5f"
          },
          "geo": {
           "bgcolor": "white",
           "lakecolor": "white",
           "landcolor": "#E5ECF6",
           "showlakes": true,
           "showland": true,
           "subunitcolor": "white"
          },
          "hoverlabel": {
           "align": "left"
          },
          "hovermode": "closest",
          "mapbox": {
           "style": "light"
          },
          "paper_bgcolor": "white",
          "plot_bgcolor": "#E5ECF6",
          "polar": {
           "angularaxis": {
            "gridcolor": "white",
            "linecolor": "white",
            "ticks": ""
           },
           "bgcolor": "#E5ECF6",
           "radialaxis": {
            "gridcolor": "white",
            "linecolor": "white",
            "ticks": ""
           }
          },
          "scene": {
           "xaxis": {
            "backgroundcolor": "#E5ECF6",
            "gridcolor": "white",
            "gridwidth": 2,
            "linecolor": "white",
            "showbackground": true,
            "ticks": "",
            "zerolinecolor": "white"
           },
           "yaxis": {
            "backgroundcolor": "#E5ECF6",
            "gridcolor": "white",
            "gridwidth": 2,
            "linecolor": "white",
            "showbackground": true,
            "ticks": "",
            "zerolinecolor": "white"
           },
           "zaxis": {
            "backgroundcolor": "#E5ECF6",
            "gridcolor": "white",
            "gridwidth": 2,
            "linecolor": "white",
            "showbackground": true,
            "ticks": "",
            "zerolinecolor": "white"
           }
          },
          "shapedefaults": {
           "line": {
            "color": "#2a3f5f"
           }
          },
          "ternary": {
           "aaxis": {
            "gridcolor": "white",
            "linecolor": "white",
            "ticks": ""
           },
           "baxis": {
            "gridcolor": "white",
            "linecolor": "white",
            "ticks": ""
           },
           "bgcolor": "#E5ECF6",
           "caxis": {
            "gridcolor": "white",
            "linecolor": "white",
            "ticks": ""
           }
          },
          "title": {
           "x": 0.05
          },
          "xaxis": {
           "automargin": true,
           "gridcolor": "white",
           "linecolor": "white",
           "ticks": "",
           "title": {
            "standoff": 15
           },
           "zerolinecolor": "white",
           "zerolinewidth": 2
          },
          "yaxis": {
           "automargin": true,
           "gridcolor": "white",
           "linecolor": "white",
           "ticks": "",
           "title": {
            "standoff": 15
           },
           "zerolinecolor": "white",
           "zerolinewidth": 2
          }
         }
        },
        "title": {
         "text": "Flight Price Trends vs Target Prices"
        },
        "width": 1000,
        "xaxis": {
         "anchor": "y",
         "domain": [
          0,
          1
         ],
         "matches": "x3",
         "showticklabels": false,
         "tickformat": "%Y-%m-%d %H:%M"
        },
        "xaxis2": {
         "anchor": "y2",
         "domain": [
          0,
          1
         ],
         "matches": "x3",
         "showticklabels": false
        },
        "xaxis3": {
         "anchor": "y3",
         "domain": [
          0,
          1
         ],
         "title": {
          "text": "Date and Time"
         }
        },
        "yaxis": {
         "anchor": "x",
         "domain": [
          0.7333333333333334,
          1
         ],
         "title": {
          "text": "Price (EUR)"
         }
        },
        "yaxis2": {
         "anchor": "x2",
         "domain": [
          0.3666666666666667,
          0.6333333333333333
         ],
         "title": {
          "text": "Price (EUR)"
         }
        },
        "yaxis3": {
         "anchor": "x3",
         "domain": [
          0,
          0.26666666666666666
         ],
         "title": {
          "text": "Price (EUR)"
         }
        }
       }
      }
     },
     "metadata": {},
     "output_type": "display_data"
    }
   ],
   "source": [
    "# Create a figure with subplots for each flight\n",
    "fig = make_subplots(rows=len(unique_flights), cols=1,\n",
    "                   subplot_titles=[f'Flight: {flight}' for flight in unique_flights],\n",
    "                   shared_xaxes=True,\n",
    "                   vertical_spacing=0.1)\n",
    "\n",
    "# Add traces for each flight\n",
    "for i, flight in enumerate(unique_flights):\n",
    "    flight_data = df[df['Flight'] == flight]\n",
    "    \n",
    "    # Add line trace for price\n",
    "    fig.add_trace(\n",
    "        go.Scatter(x=flight_data['Datetime'], y=flight_data['Price_EUR'],\n",
    "                  mode='lines+markers', name=f'{flight} - Price',\n",
    "                  line=dict(width=2),\n",
    "                  hovertemplate='Date: %{x|%Y-%m-%d %H:%M}<br>Price: €%{y:.2f}'),\n",
    "        row=i+1, col=1\n",
    "    )\n",
    "    \n",
    "    # Add horizontal line for target price\n",
    "    target_price = flight_data['Target_Price'].iloc[0]\n",
    "    fig.add_trace(\n",
    "        go.Scatter(x=[flight_data['Datetime'].min(), flight_data['Datetime'].max()], \n",
    "                  y=[target_price, target_price], mode='lines',\n",
    "                  name=f'{flight} - Target (€{target_price})',\n",
    "                  line=dict(dash='dash', color='red'),\n",
    "                  hoverinfo='skip'),\n",
    "        row=i+1, col=1\n",
    "    )\n",
    "    \n",
    "    # Add horizontal line for average price\n",
    "    avg_price = flight_data['Price_EUR'].mean()\n",
    "    fig.add_trace(\n",
    "        go.Scatter(x=[flight_data['Datetime'].min(), flight_data['Datetime'].max()], \n",
    "                  y=[avg_price, avg_price], mode='lines',\n",
    "                  name=f'{flight} - Avg (€{avg_price:.2f})',\n",
    "                  line=dict(dash='dot', color='green'),\n",
    "                  hoverinfo='skip'),\n",
    "        row=i+1, col=1\n",
    "    )\n",
    "\n",
    "# Update layout\n",
    "fig.update_layout(\n",
    "    height=400*len(unique_flights),\n",
    "    width=1000,\n",
    "    title_text=\"Flight Price Trends vs Target Prices\",\n",
    "    showlegend=True,\n",
    "    legend=dict(groupclick=\"toggleitem\"),\n",
    "    hovermode=\"closest\",\n",
    "    xaxis=dict(tickformat='%Y-%m-%d %H:%M')\n",
    ")\n",
    "\n",
    "# Update y-axes titles\n",
    "for i in range(len(unique_flights)):\n",
    "    fig.update_yaxes(title_text=\"Price (EUR)\", row=i+1, col=1)\n",
    "\n",
    "# Update x-axis title only for the bottom subplot\n",
    "fig.update_xaxes(title_text=\"Date and Time\", row=len(unique_flights), col=1)\n",
    "\n",
    "# Show the plot\n",
    "fig.show()"
   ]
  },
  {
   "cell_type": "markdown",
   "id": "e021842f",
   "metadata": {},
   "source": [
    "## Price Distribution Analysis"
   ]
  },
  {
   "cell_type": "code",
   "execution_count": 10,
   "id": "14aef27e",
   "metadata": {},
   "outputs": [
    {
     "data": {
      "application/vnd.plotly.v1+json": {
       "config": {
        "plotlyServerURL": "https://plot.ly"
       },
       "data": [
        {
         "marker": {
          "color": "#1F77B4"
         },
         "name": "SDU->BSB",
         "opacity": 0.7,
         "type": "histogram",
         "x": {
          "bdata": "4XoUrkdJb0DhehSuR0lvQOF6FK5HSW9A4XoUrkdJb0DhehSuR0lvQOF6FK5HSW9A4XoUrkdJb0DhehSuR0lvQOF6FK5HSW9APQrXo3CVb0A9CtejcJVvQD0K16NwlW9APQrXo3CVb0A9CtejcJVvQAAAAAAAiG9Aw/UoXI/iY0DD9Shcj+JjQK5H4XoUTm1ArkfhehRObUCuR+F6FE5tQK5H4XoUTm1ArkfhehRObUDNzMzMzHRtQM3MzMzMdG1A16NwPQrjcEDNzMzMzHRtQKRwPQrXi25ApHA9CteLbkCkcD0K14tuQOxRuB6FU29A7FG4HoVTb0DsUbgehVNvQOxRuB6FU29A7FG4HoVTb0C4HoXrUSBnQEjhehSub2dASOF6FK5vZ0BI4XoUrm9nQEjhehSub2dASOF6FK5vZ0AK16NwPQpmQHsUrkfhem1AKVyPwvW4b0ApXI/C9bhvQMP1KFyP2mxAw/UoXI/abEAAAAAAAHhuQAAAAAAAeG5AAAAAAAB4bkAAAAAAAHhuQAAAAAAAeG5AAAAAAAB4bkAAAAAAAHhuQAAAAAAAeG5AAAAAAAB4bkAAAAAAAHhuQAAAAAAAeG5AAAAAAAB4bkBSuB6F6+FhQFK4HoXr4WFApHA9CtfLYUCkcD0K18thQKRwPQrXy2FApHA9CtfLYUCkcD0K18thQKRwPQrXy2FApHA9CtfLYUCkcD0K18thQKRwPQrXy2FApHA9CtfLYUCkcD0K18thQKRwPQrXy2FACtejcD0iYkBmZmZmZuZlQGZmZmZm5mVAZmZmZmbmZUBmZmZmZuZlQPYoXI/CvWVA9ihcj8K9ZUD2KFyPwr1lQPYoXI/CvWVA9ihcj8K9ZUD2KFyPwr1lQPYoXI/CvWVA16NwPQrnZUDXo3A9CudlQNejcD0K52VA16NwPQrnZUC4HoXrUVhrQLgehetRWGtAuB6F61FYa0DD9Shcj5JrQMP1KFyPkmtAw/UoXI+Sa0DD9Shcj5JrQJqZmZmZEWtAmpmZmZkRa0CamZmZmRFrQJqZmZmZEWtAmpmZmZkRa0CamZmZmRFrQJqZmZmZEWtAmpmZmZkRa0CamZmZmRFrQJqZmZmZEWtAmpmZmZkRa0BSuB6F67FlQFK4HoXrsWVAUrgeheuxZUBSuB6F67FlQGZmZmZmJmZAZmZmZmYmZkBmZmZmZiZmQGZmZmZmJmZAZmZmZmYmZkCamZmZmaFmQJqZmZmZoWZAmpmZmZmhZkCamZmZmaFmQJqZmZmZoWZAmpmZmZmhZkCamZmZmaFmQJqZmZmZoWZAmpmZmZmhZkBSuB6F60FsQFK4HoXrQWxAUrgehetBbEBSuB6F60FsQFK4HoXrQWxAUrgehetBbEBSuB6F60FsQFK4HoXrkWtAUrgeheuRa0BSuB6F65FrQHsUrkfhumtAexSuR+G6a0B7FK5H4bprQHsUrkfhumtAexSuR+G6a0B7FK5H4bprQHsUrkfhumtAexSuR+G6a0B7FK5H4bprQHsUrkfhumtAexSuR+G6a0B7FK5H4bprQHsUrkfhumtAexSuR+G6a0B7FK5H4bprQHsUrkfhumtAexSuR+G6a0CuR+F6FI5rQK5H4XoUjmtArkfhehSOa0CuR+F6FI5rQK5H4XoUjmtArkfhehSOa0CuR+F6FI5rQK5H4XoUjmtArkfhehSOa0A=",
          "dtype": "f8"
         },
         "xaxis": "x",
         "yaxis": "y"
        },
        {
         "marker": {
          "color": "#FF7F0E"
         },
         "name": "BSB->SSA",
         "opacity": 0.7,
         "type": "histogram",
         "x": {
          "bdata": "cT0K16NMckBxPQrXo0xyQHE9CtejTHJAcT0K16NMckBxPQrXo0xyQHE9CtejTHJAcT0K16NMckBxPQrXo0xyQHE9CtejTHJAcT0K16NMckBxPQrXo0xyQHE9CtejTHJAcT0K16NMckBxPQrXo0xyQHE9CtejTHJAcT0K16NMckBxPQrXo0xyQHE9CtejTHJAcT0K16NMckBxPQrXo0xyQJqZmZmZEXJAmpmZmZkRckCamZmZmRFyQJqZmZmZEXJAmpmZmZkRckApXI/C9TRyQM3MzMzM9HFApHA9CtcDckCkcD0K1wNyQKRwPQrXA3JAcT0K16NMckBxPQrXo0xyQHE9CtejTHJAcT0K16NMckBxPQrXo0xyQHE9CtejTHJAcT0K16NMckBxPQrXo0xyQHE9CtejTHJAcT0K16NMckBxPQrXo0xyQHE9CtejTHJAcT0K16NMckDsUbgehSNyQOxRuB6FI3JAexSuR+FycUB7FK5H4XJxQClcj8L1lHFAKVyPwvWUcUApXI/C9ZRxQClcj8L1lHFAKVyPwvWUcUApXI/C9ZRxQClcj8L1lHFAKVyPwvWUcUApXI/C9ZRxQClcj8L1lHFAKVyPwvWUcUApXI/C9ZRxQClcj8L1lHFAXI/C9Sg4ckBcj8L1KDhyQFyPwvUoOHJAXI/C9Sg4ckBcj8L1KDhyQFyPwvUoOHJAXI/C9Sg4ckBcj8L1KDhyQFyPwvUoOHJAXI/C9Sg4ckBcj8L1KDhyQFyPwvUoOHJAXI/C9Sg4ckCF61G4Hr1xQOxRuB6FE3JA7FG4HoUTckDsUbgehRNyQOxRuB6FE3JA7FG4HoUTckBcj8L1KDhyQFyPwvUoOHJAXI/C9Sg4ckBcj8L1KDhyQFyPwvUoOHJAXI/C9Sg4ckBcj8L1KDhyQFyPwvUoOHJAXI/C9Sg4ckBcj8L1KDhyQFyPwvUoOHJAXI/C9Sg4ckDsUbgehQ9yQMP1KFyP5nBAw/UoXI8KcUDNzMzMzLBwQM3MzMzMsHBAzczMzMywcEDNzMzMzLBwQClcj8L14HFAKVyPwvXgcUApXI/C9eBxQClcj8L14HFAKVyPwvXgcUApXI/C9eBxQClcj8L14HFAKVyPwvXgcUApXI/C9eBxQClcj8L14HFASOF6FK7XcUBI4XoUrtdxQEjhehSu13FASOF6FK7XcUCamZmZmdlwQM3MzMzMsHBAzczMzMywcEDNzMzMzLBwQJqZmZmZ2XBArkfhehRqcUCuR+F6FGpxQK5H4XoUanFArkfhehRqcUCuR+F6FGpxQK5H4XoUanFArkfhehRqcUCuR+F6FGpxQK5H4XoUanFAmpmZmZm5cEAAAAAAAAxwQOF6FK5HcW1ACtejcD2ibEAK16NwPaJsQArXo3A9omxACtejcD2ibEAK16NwPaJsQArXo3A9omxACtejcD2ibEAK16NwPaJsQArXo3A9omxACtejcD2ibEAK16NwPaJsQArXo3A9omxACtejcD2ibEAK16NwPaJsQArXo3A9omxACtejcD2ibEAK16NwPaJsQArXo3A9omxACtejcD2ibEAK16NwPaJsQArXo3A9omxACtejcD2ibEAK16NwPaJsQArXo3A9omxA9ihcj8KdbED2KFyPwp1sQPYoXI/CnWxA9ihcj8KdbED2KFyPwp1sQPYoXI/CnWxA9ihcj8KdbED2KFyPwp1sQArXo3A9YmxACtejcD1ibEA=",
          "dtype": "f8"
         },
         "xaxis": "x2",
         "yaxis": "y2"
        },
        {
         "marker": {
          "color": "#2CA02C"
         },
         "name": "ORY->GIG, SSA->ORY",
         "opacity": 0.7,
         "type": "histogram",
         "x": {
          "bdata": "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",
          "dtype": "f8"
         },
         "xaxis": "x3",
         "yaxis": "y3"
        }
       ],
       "layout": {
        "annotations": [
         {
          "font": {
           "size": 16
          },
          "showarrow": false,
          "text": "Price Distribution: SDU->BSB",
          "x": 0.14444444444444446,
          "xanchor": "center",
          "xref": "paper",
          "y": 1,
          "yanchor": "bottom",
          "yref": "paper"
         },
         {
          "font": {
           "size": 16
          },
          "showarrow": false,
          "text": "Price Distribution: BSB->SSA",
          "x": 0.5,
          "xanchor": "center",
          "xref": "paper",
          "y": 1,
          "yanchor": "bottom",
          "yref": "paper"
         },
         {
          "font": {
           "size": 16
          },
          "showarrow": false,
          "text": "Price Distribution: ORY->GIG, SSA->ORY",
          "x": 0.8555555555555556,
          "xanchor": "center",
          "xref": "paper",
          "y": 1,
          "yanchor": "bottom",
          "yref": "paper"
         },
         {
          "arrowhead": 1,
          "ax": 0,
          "ay": -40,
          "showarrow": true,
          "text": "Target: €1500",
          "x": 1500,
          "xref": "x",
          "y": 0.95,
          "yref": "paper"
         },
         {
          "arrowhead": 1,
          "ax": 0,
          "ay": -40,
          "showarrow": true,
          "text": "Target: €1700",
          "x": 1700,
          "xref": "x2",
          "y": 0.95,
          "yref": "paper"
         },
         {
          "arrowhead": 1,
          "ax": 0,
          "ay": -40,
          "showarrow": true,
          "text": "Target: €27000",
          "x": 27000,
          "xref": "x3",
          "y": 0.95,
          "yref": "paper"
         }
        ],
        "bargap": 0.1,
        "height": 500,
        "shapes": [
         {
          "line": {
           "color": "red",
           "dash": "dash",
           "width": 2
          },
          "type": "line",
          "x0": 1500,
          "x1": 1500,
          "xref": "x",
          "y0": 0,
          "y1": 1,
          "yref": "paper"
         },
         {
          "line": {
           "color": "red",
           "dash": "dash",
           "width": 2
          },
          "type": "line",
          "x0": 1700,
          "x1": 1700,
          "xref": "x2",
          "y0": 0,
          "y1": 1,
          "yref": "paper"
         },
         {
          "line": {
           "color": "red",
           "dash": "dash",
           "width": 2
          },
          "type": "line",
          "x0": 27000,
          "x1": 27000,
          "xref": "x3",
          "y0": 0,
          "y1": 1,
          "yref": "paper"
         }
        ],
        "showlegend": false,
        "template": {
         "data": {
          "bar": [
           {
            "error_x": {
             "color": "#2a3f5f"
            },
            "error_y": {
             "color": "#2a3f5f"
            },
            "marker": {
             "line": {
              "color": "#E5ECF6",
              "width": 0.5
             },
             "pattern": {
              "fillmode": "overlay",
              "size": 10,
              "solidity": 0.2
             }
            },
            "type": "bar"
           }
          ],
          "barpolar": [
           {
            "marker": {
             "line": {
              "color": "#E5ECF6",
              "width": 0.5
             },
             "pattern": {
              "fillmode": "overlay",
              "size": 10,
              "solidity": 0.2
             }
            },
            "type": "barpolar"
           }
          ],
          "carpet": [
           {
            "aaxis": {
             "endlinecolor": "#2a3f5f",
             "gridcolor": "white",
             "linecolor": "white",
             "minorgridcolor": "white",
             "startlinecolor": "#2a3f5f"
            },
            "baxis": {
             "endlinecolor": "#2a3f5f",
             "gridcolor": "white",
             "linecolor": "white",
             "minorgridcolor": "white",
             "startlinecolor": "#2a3f5f"
            },
            "type": "carpet"
           }
          ],
          "choropleth": [
           {
            "colorbar": {
             "outlinewidth": 0,
             "ticks": ""
            },
            "type": "choropleth"
           }
          ],
          "contour": [
           {
            "colorbar": {
             "outlinewidth": 0,
             "ticks": ""
            },
            "colorscale": [
             [
              0,
              "#0d0887"
             ],
             [
              0.1111111111111111,
              "#46039f"
             ],
             [
              0.2222222222222222,
              "#7201a8"
             ],
             [
              0.3333333333333333,
              "#9c179e"
             ],
             [
              0.4444444444444444,
              "#bd3786"
             ],
             [
              0.5555555555555556,
              "#d8576b"
             ],
             [
              0.6666666666666666,
              "#ed7953"
             ],
             [
              0.7777777777777778,
              "#fb9f3a"
             ],
             [
              0.8888888888888888,
              "#fdca26"
             ],
             [
              1,
              "#f0f921"
             ]
            ],
            "type": "contour"
           }
          ],
          "contourcarpet": [
           {
            "colorbar": {
             "outlinewidth": 0,
             "ticks": ""
            },
            "type": "contourcarpet"
           }
          ],
          "heatmap": [
           {
            "colorbar": {
             "outlinewidth": 0,
             "ticks": ""
            },
            "colorscale": [
             [
              0,
              "#0d0887"
             ],
             [
              0.1111111111111111,
              "#46039f"
             ],
             [
              0.2222222222222222,
              "#7201a8"
             ],
             [
              0.3333333333333333,
              "#9c179e"
             ],
             [
              0.4444444444444444,
              "#bd3786"
             ],
             [
              0.5555555555555556,
              "#d8576b"
             ],
             [
              0.6666666666666666,
              "#ed7953"
             ],
             [
              0.7777777777777778,
              "#fb9f3a"
             ],
             [
              0.8888888888888888,
              "#fdca26"
             ],
             [
              1,
              "#f0f921"
             ]
            ],
            "type": "heatmap"
           }
          ],
          "histogram": [
           {
            "marker": {
             "pattern": {
              "fillmode": "overlay",
              "size": 10,
              "solidity": 0.2
             }
            },
            "type": "histogram"
           }
          ],
          "histogram2d": [
           {
            "colorbar": {
             "outlinewidth": 0,
             "ticks": ""
            },
            "colorscale": [
             [
              0,
              "#0d0887"
             ],
             [
              0.1111111111111111,
              "#46039f"
             ],
             [
              0.2222222222222222,
              "#7201a8"
             ],
             [
              0.3333333333333333,
              "#9c179e"
             ],
             [
              0.4444444444444444,
              "#bd3786"
             ],
             [
              0.5555555555555556,
              "#d8576b"
             ],
             [
              0.6666666666666666,
              "#ed7953"
             ],
             [
              0.7777777777777778,
              "#fb9f3a"
             ],
             [
              0.8888888888888888,
              "#fdca26"
             ],
             [
              1,
              "#f0f921"
             ]
            ],
            "type": "histogram2d"
           }
          ],
          "histogram2dcontour": [
           {
            "colorbar": {
             "outlinewidth": 0,
             "ticks": ""
            },
            "colorscale": [
             [
              0,
              "#0d0887"
             ],
             [
              0.1111111111111111,
              "#46039f"
             ],
             [
              0.2222222222222222,
              "#7201a8"
             ],
             [
              0.3333333333333333,
              "#9c179e"
             ],
             [
              0.4444444444444444,
              "#bd3786"
             ],
             [
              0.5555555555555556,
              "#d8576b"
             ],
             [
              0.6666666666666666,
              "#ed7953"
             ],
             [
              0.7777777777777778,
              "#fb9f3a"
             ],
             [
              0.8888888888888888,
              "#fdca26"
             ],
             [
              1,
              "#f0f921"
             ]
            ],
            "type": "histogram2dcontour"
           }
          ],
          "mesh3d": [
           {
            "colorbar": {
             "outlinewidth": 0,
             "ticks": ""
            },
            "type": "mesh3d"
           }
          ],
          "parcoords": [
           {
            "line": {
             "colorbar": {
              "outlinewidth": 0,
              "ticks": ""
             }
            },
            "type": "parcoords"
           }
          ],
          "pie": [
           {
            "automargin": true,
            "type": "pie"
           }
          ],
          "scatter": [
           {
            "fillpattern": {
             "fillmode": "overlay",
             "size": 10,
             "solidity": 0.2
            },
            "type": "scatter"
           }
          ],
          "scatter3d": [
           {
            "line": {
             "colorbar": {
              "outlinewidth": 0,
              "ticks": ""
             }
            },
            "marker": {
             "colorbar": {
              "outlinewidth": 0,
              "ticks": ""
             }
            },
            "type": "scatter3d"
           }
          ],
          "scattercarpet": [
           {
            "marker": {
             "colorbar": {
              "outlinewidth": 0,
              "ticks": ""
             }
            },
            "type": "scattercarpet"
           }
          ],
          "scattergeo": [
           {
            "marker": {
             "colorbar": {
              "outlinewidth": 0,
              "ticks": ""
             }
            },
            "type": "scattergeo"
           }
          ],
          "scattergl": [
           {
            "marker": {
             "colorbar": {
              "outlinewidth": 0,
              "ticks": ""
             }
            },
            "type": "scattergl"
           }
          ],
          "scattermap": [
           {
            "marker": {
             "colorbar": {
              "outlinewidth": 0,
              "ticks": ""
             }
            },
            "type": "scattermap"
           }
          ],
          "scattermapbox": [
           {
            "marker": {
             "colorbar": {
              "outlinewidth": 0,
              "ticks": ""
             }
            },
            "type": "scattermapbox"
           }
          ],
          "scatterpolar": [
           {
            "marker": {
             "colorbar": {
              "outlinewidth": 0,
              "ticks": ""
             }
            },
            "type": "scatterpolar"
           }
          ],
          "scatterpolargl": [
           {
            "marker": {
             "colorbar": {
              "outlinewidth": 0,
              "ticks": ""
             }
            },
            "type": "scatterpolargl"
           }
          ],
          "scatterternary": [
           {
            "marker": {
             "colorbar": {
              "outlinewidth": 0,
              "ticks": ""
             }
            },
            "type": "scatterternary"
           }
          ],
          "surface": [
           {
            "colorbar": {
             "outlinewidth": 0,
             "ticks": ""
            },
            "colorscale": [
             [
              0,
              "#0d0887"
             ],
             [
              0.1111111111111111,
              "#46039f"
             ],
             [
              0.2222222222222222,
              "#7201a8"
             ],
             [
              0.3333333333333333,
              "#9c179e"
             ],
             [
              0.4444444444444444,
              "#bd3786"
             ],
             [
              0.5555555555555556,
              "#d8576b"
             ],
             [
              0.6666666666666666,
              "#ed7953"
             ],
             [
              0.7777777777777778,
              "#fb9f3a"
             ],
             [
              0.8888888888888888,
              "#fdca26"
             ],
             [
              1,
              "#f0f921"
             ]
            ],
            "type": "surface"
           }
          ],
          "table": [
           {
            "cells": {
             "fill": {
              "color": "#EBF0F8"
             },
             "line": {
              "color": "white"
             }
            },
            "header": {
             "fill": {
              "color": "#C8D4E3"
             },
             "line": {
              "color": "white"
             }
            },
            "type": "table"
           }
          ]
         },
         "layout": {
          "annotationdefaults": {
           "arrowcolor": "#2a3f5f",
           "arrowhead": 0,
           "arrowwidth": 1
          },
          "autotypenumbers": "strict",
          "coloraxis": {
           "colorbar": {
            "outlinewidth": 0,
            "ticks": ""
           }
          },
          "colorscale": {
           "diverging": [
            [
             0,
             "#8e0152"
            ],
            [
             0.1,
             "#c51b7d"
            ],
            [
             0.2,
             "#de77ae"
            ],
            [
             0.3,
             "#f1b6da"
            ],
            [
             0.4,
             "#fde0ef"
            ],
            [
             0.5,
             "#f7f7f7"
            ],
            [
             0.6,
             "#e6f5d0"
            ],
            [
             0.7,
             "#b8e186"
            ],
            [
             0.8,
             "#7fbc41"
            ],
            [
             0.9,
             "#4d9221"
            ],
            [
             1,
             "#276419"
            ]
           ],
           "sequential": [
            [
             0,
             "#0d0887"
            ],
            [
             0.1111111111111111,
             "#46039f"
            ],
            [
             0.2222222222222222,
             "#7201a8"
            ],
            [
             0.3333333333333333,
             "#9c179e"
            ],
            [
             0.4444444444444444,
             "#bd3786"
            ],
            [
             0.5555555555555556,
             "#d8576b"
            ],
            [
             0.6666666666666666,
             "#ed7953"
            ],
            [
             0.7777777777777778,
             "#fb9f3a"
            ],
            [
             0.8888888888888888,
             "#fdca26"
            ],
            [
             1,
             "#f0f921"
            ]
           ],
           "sequentialminus": [
            [
             0,
             "#0d0887"
            ],
            [
             0.1111111111111111,
             "#46039f"
            ],
            [
             0.2222222222222222,
             "#7201a8"
            ],
            [
             0.3333333333333333,
             "#9c179e"
            ],
            [
             0.4444444444444444,
             "#bd3786"
            ],
            [
             0.5555555555555556,
             "#d8576b"
            ],
            [
             0.6666666666666666,
             "#ed7953"
            ],
            [
             0.7777777777777778,
             "#fb9f3a"
            ],
            [
             0.8888888888888888,
             "#fdca26"
            ],
            [
             1,
             "#f0f921"
            ]
           ]
          },
          "colorway": [
           "#636efa",
           "#EF553B",
           "#00cc96",
           "#ab63fa",
           "#FFA15A",
           "#19d3f3",
           "#FF6692",
           "#B6E880",
           "#FF97FF",
           "#FECB52"
          ],
          "font": {
           "color": "#2a3f5f"
          },
          "geo": {
           "bgcolor": "white",
           "lakecolor": "white",
           "landcolor": "#E5ECF6",
           "showlakes": true,
           "showland": true,
           "subunitcolor": "white"
          },
          "hoverlabel": {
           "align": "left"
          },
          "hovermode": "closest",
          "mapbox": {
           "style": "light"
          },
          "paper_bgcolor": "white",
          "plot_bgcolor": "#E5ECF6",
          "polar": {
           "angularaxis": {
            "gridcolor": "white",
            "linecolor": "white",
            "ticks": ""
           },
           "bgcolor": "#E5ECF6",
           "radialaxis": {
            "gridcolor": "white",
            "linecolor": "white",
            "ticks": ""
           }
          },
          "scene": {
           "xaxis": {
            "backgroundcolor": "#E5ECF6",
            "gridcolor": "white",
            "gridwidth": 2,
            "linecolor": "white",
            "showbackground": true,
            "ticks": "",
            "zerolinecolor": "white"
           },
           "yaxis": {
            "backgroundcolor": "#E5ECF6",
            "gridcolor": "white",
            "gridwidth": 2,
            "linecolor": "white",
            "showbackground": true,
            "ticks": "",
            "zerolinecolor": "white"
           },
           "zaxis": {
            "backgroundcolor": "#E5ECF6",
            "gridcolor": "white",
            "gridwidth": 2,
            "linecolor": "white",
            "showbackground": true,
            "ticks": "",
            "zerolinecolor": "white"
           }
          },
          "shapedefaults": {
           "line": {
            "color": "#2a3f5f"
           }
          },
          "ternary": {
           "aaxis": {
            "gridcolor": "white",
            "linecolor": "white",
            "ticks": ""
           },
           "baxis": {
            "gridcolor": "white",
            "linecolor": "white",
            "ticks": ""
           },
           "bgcolor": "#E5ECF6",
           "caxis": {
            "gridcolor": "white",
            "linecolor": "white",
            "ticks": ""
           }
          },
          "title": {
           "x": 0.05
          },
          "xaxis": {
           "automargin": true,
           "gridcolor": "white",
           "linecolor": "white",
           "ticks": "",
           "title": {
            "standoff": 15
           },
           "zerolinecolor": "white",
           "zerolinewidth": 2
          },
          "yaxis": {
           "automargin": true,
           "gridcolor": "white",
           "linecolor": "white",
           "ticks": "",
           "title": {
            "standoff": 15
           },
           "zerolinecolor": "white",
           "zerolinewidth": 2
          }
         }
        },
        "title": {
         "text": "Price Distribution by Flight"
        },
        "width": 900,
        "xaxis": {
         "anchor": "y",
         "domain": [
          0,
          0.2888888888888889
         ],
         "title": {
          "text": "Price (EUR)"
         }
        },
        "xaxis2": {
         "anchor": "y2",
         "domain": [
          0.35555555555555557,
          0.6444444444444445
         ],
         "title": {
          "text": "Price (EUR)"
         }
        },
        "xaxis3": {
         "anchor": "y3",
         "domain": [
          0.7111111111111111,
          1
         ],
         "title": {
          "text": "Price (EUR)"
         }
        },
        "yaxis": {
         "anchor": "x",
         "domain": [
          0,
          1
         ],
         "title": {
          "text": "Frequency"
         }
        },
        "yaxis2": {
         "anchor": "x2",
         "domain": [
          0,
          1
         ]
        },
        "yaxis3": {
         "anchor": "x3",
         "domain": [
          0,
          1
         ]
        }
       }
      }
     },
     "metadata": {},
     "output_type": "display_data"
    }
   ],
   "source": [
    "# Create separate histograms for each flight\n",
    "fig = make_subplots(rows=1, cols=len(unique_flights),\n",
    "                   subplot_titles=[f'Price Distribution: {flight}' for flight in unique_flights])\n",
    "\n",
    "# Define colors for each flight\n",
    "colors = px.colors.qualitative.D3\n",
    "\n",
    "for i, flight in enumerate(unique_flights):\n",
    "    flight_data = df[df['Flight'] == flight]\n",
    "    target_price = flight_data['Target_Price'].iloc[0]\n",
    "    \n",
    "    # Add histogram trace\n",
    "    fig.add_trace(\n",
    "        go.Histogram(x=flight_data['Price_EUR'],\n",
    "                    marker=dict(color=colors[i % len(colors)]),\n",
    "                    opacity=0.7,\n",
    "                    name=flight),\n",
    "        row=1, col=i+1\n",
    "    )\n",
    "    \n",
    "    # Add vertical line for target price\n",
    "    fig.add_shape(type=\"line\",\n",
    "                  x0=target_price, y0=0, x1=target_price, y1=1,\n",
    "                  xref=f\"x{i+1}\", yref=f\"paper\",\n",
    "                  line=dict(color=\"red\", width=2, dash=\"dash\"))\n",
    "    \n",
    "    # Add annotation for target price\n",
    "    fig.add_annotation(x=target_price, y=0.95,\n",
    "                      text=f\"Target: €{target_price}\",\n",
    "                      showarrow=True,\n",
    "                      arrowhead=1,\n",
    "                      xref=f\"x{i+1}\", yref=\"paper\",\n",
    "                      ax=0, ay=-40)\n",
    "\n",
    "# Update layout\n",
    "fig.update_layout(\n",
    "    height=500,\n",
    "    width=300*len(unique_flights),\n",
    "    title_text=\"Price Distribution by Flight\",\n",
    "    showlegend=False,\n",
    "    bargap=0.1\n",
    ")\n",
    "\n",
    "# Update axes titles\n",
    "for i in range(1, len(unique_flights)+1):\n",
    "    fig.update_xaxes(title_text=\"Price (EUR)\", row=1, col=i)\n",
    "    if i == 1:\n",
    "        fig.update_yaxes(title_text=\"Frequency\", row=1, col=i)\n",
    "\n",
    "# Show the plot\n",
    "fig.show()"
   ]
  },
  {
   "cell_type": "markdown",
   "id": "6a8ea7c1",
   "metadata": {},
   "source": [
    "## Daily Price Trends Analysis"
   ]
  },
  {
   "cell_type": "code",
   "execution_count": 11,
   "id": "496813ea",
   "metadata": {},
   "outputs": [
    {
     "data": {
      "application/vnd.plotly.v1+json": {
       "config": {
        "plotlyServerURL": "https://plot.ly"
       },
       "data": [
        {
         "hovertemplate": "<b>%{fullData.name}</b><br>Date: %{x|%Y-%m-%d}<br>Avg Price: €%{y:.2f}",
         "legendgroup": "BSB->SSA",
         "line": {
          "color": "#636efa",
          "dash": "solid"
         },
         "marker": {
          "symbol": "circle"
         },
         "mode": "lines+markers",
         "name": "BSB->SSA",
         "orientation": "v",
         "showlegend": true,
         "type": "scatter",
         "x": [
          "2025-03-25T00:00:00.000000000",
          "2025-03-26T00:00:00.000000000",
          "2025-03-28T00:00:00.000000000",
          "2025-03-29T00:00:00.000000000",
          "2025-03-30T00:00:00.000000000",
          "2025-03-31T00:00:00.000000000",
          "2025-04-04T00:00:00.000000000",
          "2025-04-05T00:00:00.000000000",
          "2025-04-06T00:00:00.000000000",
          "2025-04-08T00:00:00.000000000",
          "2025-04-09T00:00:00.000000000",
          "2025-04-10T00:00:00.000000000",
          "2025-04-11T00:00:00.000000000",
          "2025-04-12T00:00:00.000000000",
          "2025-04-13T00:00:00.000000000"
         ],
         "xaxis": "x",
         "y": {
          "bdata": "cT0K16NMckBxPQrXo0xyQHE9CtejTHJAtrwxgokSckCkcD0K1wNyQHE9CtejTHJAI9v5fmpEckB7FK5H4XJxQClcj8L1lHFAFl/xFV8vckCq33NLnBpyQO6yXDywk3FAtYFOG+hwcEAK16NwPaJsQGDl0CLbkWxA",
          "dtype": "f8"
         },
         "yaxis": "y"
        },
        {
         "hovertemplate": "<b>%{fullData.name}</b><br>Date: %{x|%Y-%m-%d}<br>Avg Price: €%{y:.2f}",
         "legendgroup": "ORY->GIG, SSA->ORY",
         "line": {
          "color": "#EF553B",
          "dash": "solid"
         },
         "marker": {
          "symbol": "circle"
         },
         "mode": "lines+markers",
         "name": "ORY->GIG, SSA->ORY",
         "orientation": "v",
         "showlegend": true,
         "type": "scatter",
         "x": [
          "2025-03-25T00:00:00.000000000",
          "2025-03-26T00:00:00.000000000",
          "2025-03-28T00:00:00.000000000",
          "2025-03-29T00:00:00.000000000",
          "2025-03-30T00:00:00.000000000",
          "2025-03-31T00:00:00.000000000",
          "2025-04-04T00:00:00.000000000",
          "2025-04-05T00:00:00.000000000",
          "2025-04-06T00:00:00.000000000",
          "2025-04-08T00:00:00.000000000",
          "2025-04-09T00:00:00.000000000",
          "2025-04-10T00:00:00.000000000",
          "2025-04-11T00:00:00.000000000",
          "2025-04-12T00:00:00.000000000",
          "2025-04-13T00:00:00.000000000"
         ],
         "xaxis": "x",
         "y": {
          "bdata": "eHd3d3cXsUC2YAu2YLSwQA102kCnIrFAS3W2VKd6sUCkcD0KZ1GyQBWuR+FiW7JAH4XrUYhbskAehetRWN2xQLrPLiC2QLJA7cNn2NWTsUCPwvUoTDOxQCIiIiLyVbFA7+7u7q7vsUA3x25zbHOxQNKQc58dHLJA",
          "dtype": "f8"
         },
         "yaxis": "y"
        },
        {
         "hovertemplate": "<b>%{fullData.name}</b><br>Date: %{x|%Y-%m-%d}<br>Avg Price: €%{y:.2f}",
         "legendgroup": "SDU->BSB",
         "line": {
          "color": "#00cc96",
          "dash": "solid"
         },
         "marker": {
          "symbol": "circle"
         },
         "mode": "lines+markers",
         "name": "SDU->BSB",
         "orientation": "v",
         "showlegend": true,
         "type": "scatter",
         "x": [
          "2025-03-25T00:00:00.000000000",
          "2025-03-26T00:00:00.000000000",
          "2025-03-28T00:00:00.000000000",
          "2025-03-29T00:00:00.000000000",
          "2025-03-30T00:00:00.000000000",
          "2025-03-31T00:00:00.000000000",
          "2025-04-04T00:00:00.000000000",
          "2025-04-05T00:00:00.000000000",
          "2025-04-06T00:00:00.000000000",
          "2025-04-08T00:00:00.000000000",
          "2025-04-09T00:00:00.000000000",
          "2025-04-10T00:00:00.000000000",
          "2025-04-11T00:00:00.000000000",
          "2025-04-12T00:00:00.000000000",
          "2025-04-13T00:00:00.000000000"
         ],
         "xaxis": "x",
         "y": {
          "bdata": "4noUrkdJb0AzMzMzM5NvQMP1KFyP4mNA1eX2BxnabUCkcD0K14tuQO1RuB6FU29A5tAi2/mGaUDD9Shcj9psQAAAAAAAeG5AvTGCif7OYUBCckTT6IBmQP+lJPQhC2pALPnFkl9kaEDb+X5qvLRrQK5H4XoUjmtA",
          "dtype": "f8"
         },
         "yaxis": "y"
        }
       ],
       "layout": {
        "height": 600,
        "hoverlabel": {
         "bgcolor": "white",
         "font": {
          "size": 12
         }
        },
        "hovermode": "closest",
        "legend": {
         "title": {
          "text": "Flight Routes"
         },
         "tracegroupgap": 0
        },
        "template": {
         "data": {
          "bar": [
           {
            "error_x": {
             "color": "#2a3f5f"
            },
            "error_y": {
             "color": "#2a3f5f"
            },
            "marker": {
             "line": {
              "color": "#E5ECF6",
              "width": 0.5
             },
             "pattern": {
              "fillmode": "overlay",
              "size": 10,
              "solidity": 0.2
             }
            },
            "type": "bar"
           }
          ],
          "barpolar": [
           {
            "marker": {
             "line": {
              "color": "#E5ECF6",
              "width": 0.5
             },
             "pattern": {
              "fillmode": "overlay",
              "size": 10,
              "solidity": 0.2
             }
            },
            "type": "barpolar"
           }
          ],
          "carpet": [
           {
            "aaxis": {
             "endlinecolor": "#2a3f5f",
             "gridcolor": "white",
             "linecolor": "white",
             "minorgridcolor": "white",
             "startlinecolor": "#2a3f5f"
            },
            "baxis": {
             "endlinecolor": "#2a3f5f",
             "gridcolor": "white",
             "linecolor": "white",
             "minorgridcolor": "white",
             "startlinecolor": "#2a3f5f"
            },
            "type": "carpet"
           }
          ],
          "choropleth": [
           {
            "colorbar": {
             "outlinewidth": 0,
             "ticks": ""
            },
            "type": "choropleth"
           }
          ],
          "contour": [
           {
            "colorbar": {
             "outlinewidth": 0,
             "ticks": ""
            },
            "colorscale": [
             [
              0,
              "#0d0887"
             ],
             [
              0.1111111111111111,
              "#46039f"
             ],
             [
              0.2222222222222222,
              "#7201a8"
             ],
             [
              0.3333333333333333,
              "#9c179e"
             ],
             [
              0.4444444444444444,
              "#bd3786"
             ],
             [
              0.5555555555555556,
              "#d8576b"
             ],
             [
              0.6666666666666666,
              "#ed7953"
             ],
             [
              0.7777777777777778,
              "#fb9f3a"
             ],
             [
              0.8888888888888888,
              "#fdca26"
             ],
             [
              1,
              "#f0f921"
             ]
            ],
            "type": "contour"
           }
          ],
          "contourcarpet": [
           {
            "colorbar": {
             "outlinewidth": 0,
             "ticks": ""
            },
            "type": "contourcarpet"
           }
          ],
          "heatmap": [
           {
            "colorbar": {
             "outlinewidth": 0,
             "ticks": ""
            },
            "colorscale": [
             [
              0,
              "#0d0887"
             ],
             [
              0.1111111111111111,
              "#46039f"
             ],
             [
              0.2222222222222222,
              "#7201a8"
             ],
             [
              0.3333333333333333,
              "#9c179e"
             ],
             [
              0.4444444444444444,
              "#bd3786"
             ],
             [
              0.5555555555555556,
              "#d8576b"
             ],
             [
              0.6666666666666666,
              "#ed7953"
             ],
             [
              0.7777777777777778,
              "#fb9f3a"
             ],
             [
              0.8888888888888888,
              "#fdca26"
             ],
             [
              1,
              "#f0f921"
             ]
            ],
            "type": "heatmap"
           }
          ],
          "histogram": [
           {
            "marker": {
             "pattern": {
              "fillmode": "overlay",
              "size": 10,
              "solidity": 0.2
             }
            },
            "type": "histogram"
           }
          ],
          "histogram2d": [
           {
            "colorbar": {
             "outlinewidth": 0,
             "ticks": ""
            },
            "colorscale": [
             [
              0,
              "#0d0887"
             ],
             [
              0.1111111111111111,
              "#46039f"
             ],
             [
              0.2222222222222222,
              "#7201a8"
             ],
             [
              0.3333333333333333,
              "#9c179e"
             ],
             [
              0.4444444444444444,
              "#bd3786"
             ],
             [
              0.5555555555555556,
              "#d8576b"
             ],
             [
              0.6666666666666666,
              "#ed7953"
             ],
             [
              0.7777777777777778,
              "#fb9f3a"
             ],
             [
              0.8888888888888888,
              "#fdca26"
             ],
             [
              1,
              "#f0f921"
             ]
            ],
            "type": "histogram2d"
           }
          ],
          "histogram2dcontour": [
           {
            "colorbar": {
             "outlinewidth": 0,
             "ticks": ""
            },
            "colorscale": [
             [
              0,
              "#0d0887"
             ],
             [
              0.1111111111111111,
              "#46039f"
             ],
             [
              0.2222222222222222,
              "#7201a8"
             ],
             [
              0.3333333333333333,
              "#9c179e"
             ],
             [
              0.4444444444444444,
              "#bd3786"
             ],
             [
              0.5555555555555556,
              "#d8576b"
             ],
             [
              0.6666666666666666,
              "#ed7953"
             ],
             [
              0.7777777777777778,
              "#fb9f3a"
             ],
             [
              0.8888888888888888,
              "#fdca26"
             ],
             [
              1,
              "#f0f921"
             ]
            ],
            "type": "histogram2dcontour"
           }
          ],
          "mesh3d": [
           {
            "colorbar": {
             "outlinewidth": 0,
             "ticks": ""
            },
            "type": "mesh3d"
           }
          ],
          "parcoords": [
           {
            "line": {
             "colorbar": {
              "outlinewidth": 0,
              "ticks": ""
             }
            },
            "type": "parcoords"
           }
          ],
          "pie": [
           {
            "automargin": true,
            "type": "pie"
           }
          ],
          "scatter": [
           {
            "fillpattern": {
             "fillmode": "overlay",
             "size": 10,
             "solidity": 0.2
            },
            "type": "scatter"
           }
          ],
          "scatter3d": [
           {
            "line": {
             "colorbar": {
              "outlinewidth": 0,
              "ticks": ""
             }
            },
            "marker": {
             "colorbar": {
              "outlinewidth": 0,
              "ticks": ""
             }
            },
            "type": "scatter3d"
           }
          ],
          "scattercarpet": [
           {
            "marker": {
             "colorbar": {
              "outlinewidth": 0,
              "ticks": ""
             }
            },
            "type": "scattercarpet"
           }
          ],
          "scattergeo": [
           {
            "marker": {
             "colorbar": {
              "outlinewidth": 0,
              "ticks": ""
             }
            },
            "type": "scattergeo"
           }
          ],
          "scattergl": [
           {
            "marker": {
             "colorbar": {
              "outlinewidth": 0,
              "ticks": ""
             }
            },
            "type": "scattergl"
           }
          ],
          "scattermap": [
           {
            "marker": {
             "colorbar": {
              "outlinewidth": 0,
              "ticks": ""
             }
            },
            "type": "scattermap"
           }
          ],
          "scattermapbox": [
           {
            "marker": {
             "colorbar": {
              "outlinewidth": 0,
              "ticks": ""
             }
            },
            "type": "scattermapbox"
           }
          ],
          "scatterpolar": [
           {
            "marker": {
             "colorbar": {
              "outlinewidth": 0,
              "ticks": ""
             }
            },
            "type": "scatterpolar"
           }
          ],
          "scatterpolargl": [
           {
            "marker": {
             "colorbar": {
              "outlinewidth": 0,
              "ticks": ""
             }
            },
            "type": "scatterpolargl"
           }
          ],
          "scatterternary": [
           {
            "marker": {
             "colorbar": {
              "outlinewidth": 0,
              "ticks": ""
             }
            },
            "type": "scatterternary"
           }
          ],
          "surface": [
           {
            "colorbar": {
             "outlinewidth": 0,
             "ticks": ""
            },
            "colorscale": [
             [
              0,
              "#0d0887"
             ],
             [
              0.1111111111111111,
              "#46039f"
             ],
             [
              0.2222222222222222,
              "#7201a8"
             ],
             [
              0.3333333333333333,
              "#9c179e"
             ],
             [
              0.4444444444444444,
              "#bd3786"
             ],
             [
              0.5555555555555556,
              "#d8576b"
             ],
             [
              0.6666666666666666,
              "#ed7953"
             ],
             [
              0.7777777777777778,
              "#fb9f3a"
             ],
             [
              0.8888888888888888,
              "#fdca26"
             ],
             [
              1,
              "#f0f921"
             ]
            ],
            "type": "surface"
           }
          ],
          "table": [
           {
            "cells": {
             "fill": {
              "color": "#EBF0F8"
             },
             "line": {
              "color": "white"
             }
            },
            "header": {
             "fill": {
              "color": "#C8D4E3"
             },
             "line": {
              "color": "white"
             }
            },
            "type": "table"
           }
          ]
         },
         "layout": {
          "annotationdefaults": {
           "arrowcolor": "#2a3f5f",
           "arrowhead": 0,
           "arrowwidth": 1
          },
          "autotypenumbers": "strict",
          "coloraxis": {
           "colorbar": {
            "outlinewidth": 0,
            "ticks": ""
           }
          },
          "colorscale": {
           "diverging": [
            [
             0,
             "#8e0152"
            ],
            [
             0.1,
             "#c51b7d"
            ],
            [
             0.2,
             "#de77ae"
            ],
            [
             0.3,
             "#f1b6da"
            ],
            [
             0.4,
             "#fde0ef"
            ],
            [
             0.5,
             "#f7f7f7"
            ],
            [
             0.6,
             "#e6f5d0"
            ],
            [
             0.7,
             "#b8e186"
            ],
            [
             0.8,
             "#7fbc41"
            ],
            [
             0.9,
             "#4d9221"
            ],
            [
             1,
             "#276419"
            ]
           ],
           "sequential": [
            [
             0,
             "#0d0887"
            ],
            [
             0.1111111111111111,
             "#46039f"
            ],
            [
             0.2222222222222222,
             "#7201a8"
            ],
            [
             0.3333333333333333,
             "#9c179e"
            ],
            [
             0.4444444444444444,
             "#bd3786"
            ],
            [
             0.5555555555555556,
             "#d8576b"
            ],
            [
             0.6666666666666666,
             "#ed7953"
            ],
            [
             0.7777777777777778,
             "#fb9f3a"
            ],
            [
             0.8888888888888888,
             "#fdca26"
            ],
            [
             1,
             "#f0f921"
            ]
           ],
           "sequentialminus": [
            [
             0,
             "#0d0887"
            ],
            [
             0.1111111111111111,
             "#46039f"
            ],
            [
             0.2222222222222222,
             "#7201a8"
            ],
            [
             0.3333333333333333,
             "#9c179e"
            ],
            [
             0.4444444444444444,
             "#bd3786"
            ],
            [
             0.5555555555555556,
             "#d8576b"
            ],
            [
             0.6666666666666666,
             "#ed7953"
            ],
            [
             0.7777777777777778,
             "#fb9f3a"
            ],
            [
             0.8888888888888888,
             "#fdca26"
            ],
            [
             1,
             "#f0f921"
            ]
           ]
          },
          "colorway": [
           "#636efa",
           "#EF553B",
           "#00cc96",
           "#ab63fa",
           "#FFA15A",
           "#19d3f3",
           "#FF6692",
           "#B6E880",
           "#FF97FF",
           "#FECB52"
          ],
          "font": {
           "color": "#2a3f5f"
          },
          "geo": {
           "bgcolor": "white",
           "lakecolor": "white",
           "landcolor": "#E5ECF6",
           "showlakes": true,
           "showland": true,
           "subunitcolor": "white"
          },
          "hoverlabel": {
           "align": "left"
          },
          "hovermode": "closest",
          "mapbox": {
           "style": "light"
          },
          "paper_bgcolor": "white",
          "plot_bgcolor": "#E5ECF6",
          "polar": {
           "angularaxis": {
            "gridcolor": "white",
            "linecolor": "white",
            "ticks": ""
           },
           "bgcolor": "#E5ECF6",
           "radialaxis": {
            "gridcolor": "white",
            "linecolor": "white",
            "ticks": ""
           }
          },
          "scene": {
           "xaxis": {
            "backgroundcolor": "#E5ECF6",
            "gridcolor": "white",
            "gridwidth": 2,
            "linecolor": "white",
            "showbackground": true,
            "ticks": "",
            "zerolinecolor": "white"
           },
           "yaxis": {
            "backgroundcolor": "#E5ECF6",
            "gridcolor": "white",
            "gridwidth": 2,
            "linecolor": "white",
            "showbackground": true,
            "ticks": "",
            "zerolinecolor": "white"
           },
           "zaxis": {
            "backgroundcolor": "#E5ECF6",
            "gridcolor": "white",
            "gridwidth": 2,
            "linecolor": "white",
            "showbackground": true,
            "ticks": "",
            "zerolinecolor": "white"
           }
          },
          "shapedefaults": {
           "line": {
            "color": "#2a3f5f"
           }
          },
          "ternary": {
           "aaxis": {
            "gridcolor": "white",
            "linecolor": "white",
            "ticks": ""
           },
           "baxis": {
            "gridcolor": "white",
            "linecolor": "white",
            "ticks": ""
           },
           "bgcolor": "#E5ECF6",
           "caxis": {
            "gridcolor": "white",
            "linecolor": "white",
            "ticks": ""
           }
          },
          "title": {
           "x": 0.05
          },
          "xaxis": {
           "automargin": true,
           "gridcolor": "white",
           "linecolor": "white",
           "ticks": "",
           "title": {
            "standoff": 15
           },
           "zerolinecolor": "white",
           "zerolinewidth": 2
          },
          "yaxis": {
           "automargin": true,
           "gridcolor": "white",
           "linecolor": "white",
           "ticks": "",
           "title": {
            "standoff": 15
           },
           "zerolinecolor": "white",
           "zerolinewidth": 2
          }
         }
        },
        "title": {
         "font": {
          "size": 20
         },
         "text": "Daily Average Flight Prices",
         "x": 0.5
        },
        "width": 1000,
        "xaxis": {
         "anchor": "y",
         "domain": [
          0,
          1
         ],
         "title": {
          "text": "Date"
         }
        },
        "yaxis": {
         "anchor": "x",
         "domain": [
          0,
          1
         ],
         "title": {
          "text": "Average Daily Price (EUR)"
         }
        }
       }
      }
     },
     "metadata": {},
     "output_type": "display_data"
    }
   ],
   "source": [
    "# Calculate daily average prices\n",
    "df['Date'] = pd.to_datetime(df['Date'])\n",
    "daily_avg = df.groupby(['Date', 'Flight'])['Price_EUR'].mean().reset_index()\n",
    "\n",
    "# Create interactive daily price trend chart\n",
    "fig = px.line(daily_avg, x='Date', y='Price_EUR', color='Flight',\n",
    "              title='Daily Average Flight Prices',\n",
    "              labels={'Date': 'Date', 'Price_EUR': 'Average Daily Price (EUR)', 'Flight': 'Flight Route'},\n",
    "              markers=True)\n",
    "\n",
    "# Improve the layout\n",
    "fig.update_layout(\n",
    "    xaxis_title='Date',\n",
    "    yaxis_title='Average Daily Price (EUR)',\n",
    "    legend_title='Flight Routes',\n",
    "    height=600,\n",
    "    width=1000,\n",
    "    hovermode='closest',\n",
    "    hoverlabel=dict(bgcolor=\"white\", font_size=12),\n",
    "    title=dict(font=dict(size=20), x=0.5)\n",
    ")\n",
    "\n",
    "# Add hover information\n",
    "fig.update_traces(hovertemplate='<b>%{fullData.name}</b><br>Date: %{x|%Y-%m-%d}<br>Avg Price: €%{y:.2f}')\n",
    "\n",
    "# Show the plot\n",
    "fig.show()"
   ]
  },
  {
   "cell_type": "markdown",
   "id": "543e8df1",
   "metadata": {},
   "source": [
    "## Hourly Price Analysis"
   ]
  },
  {
   "cell_type": "code",
   "execution_count": 12,
   "id": "89c52f67",
   "metadata": {},
   "outputs": [
    {
     "data": {
      "application/vnd.plotly.v1+json": {
       "config": {
        "plotlyServerURL": "https://plot.ly"
       },
       "data": [
        {
         "hovertemplate": "<b>%{fullData.name}</b><br>Hour: %{x}:00<br>Avg Price: €%{y:.2f}",
         "legendgroup": "BSB->SSA",
         "line": {
          "color": "#636efa",
          "dash": "solid"
         },
         "marker": {
          "symbol": "circle"
         },
         "mode": "lines+markers",
         "name": "BSB->SSA",
         "orientation": "v",
         "showlegend": true,
         "type": "scatter",
         "x": {
          "bdata": "AAAAAAEAAAACAAAAAwAAAAQAAAAFAAAABgAAAAcAAAAIAAAACQAAAAoAAAALAAAADAAAAA0AAAAOAAAADwAAABAAAAARAAAAEgAAABMAAAAUAAAAFQAAABYAAAAXAAAA",
          "dtype": "i4"
         },
         "xaxis": "x",
         "y": {
          "bdata": "NDMzMzOScEDXo3A9CidxQBWuR+F6XHBAw/UoXI9xcEBxPQrXozRxQNejcD0KqXBArkfhehTOcECuR+F6FPVwQMkvlvxiiXBAGcFEfydrcUAAAAAAgCZxQKivLQ4WgHFAD1DuAOVacUDXo3A9Cm9xQHIcx3Ecq3FAtYFOG+hEcUBFRERERG5xQIXrUbgeY3FAEoPAyqEHcUAVrkfhephwQFHZYepyy3BA0kjAN6/CcECMJb9Y8r1wQJDC9Shc0HBA",
          "dtype": "f8"
         },
         "yaxis": "y"
        },
        {
         "hovertemplate": "<b>%{fullData.name}</b><br>Hour: %{x}:00<br>Avg Price: €%{y:.2f}",
         "legendgroup": "ORY->GIG, SSA->ORY",
         "line": {
          "color": "#EF553B",
          "dash": "solid"
         },
         "marker": {
          "symbol": "circle"
         },
         "mode": "lines+markers",
         "name": "ORY->GIG, SSA->ORY",
         "orientation": "v",
         "showlegend": true,
         "type": "scatter",
         "x": {
          "bdata": "AAAAAAEAAAACAAAAAwAAAAQAAAAFAAAABgAAAAcAAAAIAAAACQAAAAoAAAALAAAADAAAAA0AAAAOAAAADwAAABAAAAARAAAAEgAAABMAAAAUAAAAFQAAABYAAAAXAAAA",
          "dtype": "i4"
         },
         "xaxis": "x",
         "y": {
          "bdata": "wvUoXF+UsUDNzMzMPK+xQOF6FK6Xl7FApHA9CueRsUBmZmZmtsCxQLgehevBtbFAXI/C9ZilsUDD9Shcz5mxQJDC9SgsNLFAwvUoXNdQsUBOYhBYWYOxQBlgzrJ5qbFA84slv0jPsUCTXyz5xcWxQNtApw0E0LFA3t3d3Y3XsUDQmCYDzImxQKuqqqr6k7FAHNa+YS2VsUApXI/CtZCxQJNWMWlVrbFAKVyPwnXdsUD0d7Ja3oqxQEJg5dAiWrFA",
          "dtype": "f8"
         },
         "yaxis": "y"
        },
        {
         "hovertemplate": "<b>%{fullData.name}</b><br>Hour: %{x}:00<br>Avg Price: €%{y:.2f}",
         "legendgroup": "SDU->BSB",
         "line": {
          "color": "#00cc96",
          "dash": "solid"
         },
         "marker": {
          "symbol": "circle"
         },
         "mode": "lines+markers",
         "name": "SDU->BSB",
         "orientation": "v",
         "showlegend": true,
         "type": "scatter",
         "x": {
          "bdata": "AAAAAAEAAAACAAAAAwAAAAQAAAAFAAAABgAAAAcAAAAIAAAACQAAAAoAAAALAAAADAAAAA0AAAAOAAAADwAAABAAAAARAAAAEgAAABMAAAAUAAAAFQAAABYAAAAXAAAA",
          "dtype": "i4"
         },
         "xaxis": "x",
         "y": {
          "bdata": "4XoUrkfbZ0Awlvxiyd9nQGAs+cWS32dAuB6F61HMaEAwlvxiyd9nQClcj8L1ymhABJ020GmDaUApXI/C9cpoQJDC9Shcz2lAXI/C9SgNakA18axoJJBrQL9Y8osl+WpAexSuR+HmaUC8zbHbHGtqQI7jOI7jwGpA7DB1uf2BakAK16NwPXppQD4K16NwjmtABVYOLbJtakCKQWDl0BptQPKsaCTgC2tAi2zn+6lBakBlO99PjSdpQKRwPQrXK2pA",
          "dtype": "f8"
         },
         "yaxis": "y"
        }
       ],
       "layout": {
        "height": 500,
        "hovermode": "closest",
        "legend": {
         "title": {
          "text": "Flight Routes"
         },
         "tracegroupgap": 0
        },
        "template": {
         "data": {
          "bar": [
           {
            "error_x": {
             "color": "#2a3f5f"
            },
            "error_y": {
             "color": "#2a3f5f"
            },
            "marker": {
             "line": {
              "color": "#E5ECF6",
              "width": 0.5
             },
             "pattern": {
              "fillmode": "overlay",
              "size": 10,
              "solidity": 0.2
             }
            },
            "type": "bar"
           }
          ],
          "barpolar": [
           {
            "marker": {
             "line": {
              "color": "#E5ECF6",
              "width": 0.5
             },
             "pattern": {
              "fillmode": "overlay",
              "size": 10,
              "solidity": 0.2
             }
            },
            "type": "barpolar"
           }
          ],
          "carpet": [
           {
            "aaxis": {
             "endlinecolor": "#2a3f5f",
             "gridcolor": "white",
             "linecolor": "white",
             "minorgridcolor": "white",
             "startlinecolor": "#2a3f5f"
            },
            "baxis": {
             "endlinecolor": "#2a3f5f",
             "gridcolor": "white",
             "linecolor": "white",
             "minorgridcolor": "white",
             "startlinecolor": "#2a3f5f"
            },
            "type": "carpet"
           }
          ],
          "choropleth": [
           {
            "colorbar": {
             "outlinewidth": 0,
             "ticks": ""
            },
            "type": "choropleth"
           }
          ],
          "contour": [
           {
            "colorbar": {
             "outlinewidth": 0,
             "ticks": ""
            },
            "colorscale": [
             [
              0,
              "#0d0887"
             ],
             [
              0.1111111111111111,
              "#46039f"
             ],
             [
              0.2222222222222222,
              "#7201a8"
             ],
             [
              0.3333333333333333,
              "#9c179e"
             ],
             [
              0.4444444444444444,
              "#bd3786"
             ],
             [
              0.5555555555555556,
              "#d8576b"
             ],
             [
              0.6666666666666666,
              "#ed7953"
             ],
             [
              0.7777777777777778,
              "#fb9f3a"
             ],
             [
              0.8888888888888888,
              "#fdca26"
             ],
             [
              1,
              "#f0f921"
             ]
            ],
            "type": "contour"
           }
          ],
          "contourcarpet": [
           {
            "colorbar": {
             "outlinewidth": 0,
             "ticks": ""
            },
            "type": "contourcarpet"
           }
          ],
          "heatmap": [
           {
            "colorbar": {
             "outlinewidth": 0,
             "ticks": ""
            },
            "colorscale": [
             [
              0,
              "#0d0887"
             ],
             [
              0.1111111111111111,
              "#46039f"
             ],
             [
              0.2222222222222222,
              "#7201a8"
             ],
             [
              0.3333333333333333,
              "#9c179e"
             ],
             [
              0.4444444444444444,
              "#bd3786"
             ],
             [
              0.5555555555555556,
              "#d8576b"
             ],
             [
              0.6666666666666666,
              "#ed7953"
             ],
             [
              0.7777777777777778,
              "#fb9f3a"
             ],
             [
              0.8888888888888888,
              "#fdca26"
             ],
             [
              1,
              "#f0f921"
             ]
            ],
            "type": "heatmap"
           }
          ],
          "histogram": [
           {
            "marker": {
             "pattern": {
              "fillmode": "overlay",
              "size": 10,
              "solidity": 0.2
             }
            },
            "type": "histogram"
           }
          ],
          "histogram2d": [
           {
            "colorbar": {
             "outlinewidth": 0,
             "ticks": ""
            },
            "colorscale": [
             [
              0,
              "#0d0887"
             ],
             [
              0.1111111111111111,
              "#46039f"
             ],
             [
              0.2222222222222222,
              "#7201a8"
             ],
             [
              0.3333333333333333,
              "#9c179e"
             ],
             [
              0.4444444444444444,
              "#bd3786"
             ],
             [
              0.5555555555555556,
              "#d8576b"
             ],
             [
              0.6666666666666666,
              "#ed7953"
             ],
             [
              0.7777777777777778,
              "#fb9f3a"
             ],
             [
              0.8888888888888888,
              "#fdca26"
             ],
             [
              1,
              "#f0f921"
             ]
            ],
            "type": "histogram2d"
           }
          ],
          "histogram2dcontour": [
           {
            "colorbar": {
             "outlinewidth": 0,
             "ticks": ""
            },
            "colorscale": [
             [
              0,
              "#0d0887"
             ],
             [
              0.1111111111111111,
              "#46039f"
             ],
             [
              0.2222222222222222,
              "#7201a8"
             ],
             [
              0.3333333333333333,
              "#9c179e"
             ],
             [
              0.4444444444444444,
              "#bd3786"
             ],
             [
              0.5555555555555556,
              "#d8576b"
             ],
             [
              0.6666666666666666,
              "#ed7953"
             ],
             [
              0.7777777777777778,
              "#fb9f3a"
             ],
             [
              0.8888888888888888,
              "#fdca26"
             ],
             [
              1,
              "#f0f921"
             ]
            ],
            "type": "histogram2dcontour"
           }
          ],
          "mesh3d": [
           {
            "colorbar": {
             "outlinewidth": 0,
             "ticks": ""
            },
            "type": "mesh3d"
           }
          ],
          "parcoords": [
           {
            "line": {
             "colorbar": {
              "outlinewidth": 0,
              "ticks": ""
             }
            },
            "type": "parcoords"
           }
          ],
          "pie": [
           {
            "automargin": true,
            "type": "pie"
           }
          ],
          "scatter": [
           {
            "fillpattern": {
             "fillmode": "overlay",
             "size": 10,
             "solidity": 0.2
            },
            "type": "scatter"
           }
          ],
          "scatter3d": [
           {
            "line": {
             "colorbar": {
              "outlinewidth": 0,
              "ticks": ""
             }
            },
            "marker": {
             "colorbar": {
              "outlinewidth": 0,
              "ticks": ""
             }
            },
            "type": "scatter3d"
           }
          ],
          "scattercarpet": [
           {
            "marker": {
             "colorbar": {
              "outlinewidth": 0,
              "ticks": ""
             }
            },
            "type": "scattercarpet"
           }
          ],
          "scattergeo": [
           {
            "marker": {
             "colorbar": {
              "outlinewidth": 0,
              "ticks": ""
             }
            },
            "type": "scattergeo"
           }
          ],
          "scattergl": [
           {
            "marker": {
             "colorbar": {
              "outlinewidth": 0,
              "ticks": ""
             }
            },
            "type": "scattergl"
           }
          ],
          "scattermap": [
           {
            "marker": {
             "colorbar": {
              "outlinewidth": 0,
              "ticks": ""
             }
            },
            "type": "scattermap"
           }
          ],
          "scattermapbox": [
           {
            "marker": {
             "colorbar": {
              "outlinewidth": 0,
              "ticks": ""
             }
            },
            "type": "scattermapbox"
           }
          ],
          "scatterpolar": [
           {
            "marker": {
             "colorbar": {
              "outlinewidth": 0,
              "ticks": ""
             }
            },
            "type": "scatterpolar"
           }
          ],
          "scatterpolargl": [
           {
            "marker": {
             "colorbar": {
              "outlinewidth": 0,
              "ticks": ""
             }
            },
            "type": "scatterpolargl"
           }
          ],
          "scatterternary": [
           {
            "marker": {
             "colorbar": {
              "outlinewidth": 0,
              "ticks": ""
             }
            },
            "type": "scatterternary"
           }
          ],
          "surface": [
           {
            "colorbar": {
             "outlinewidth": 0,
             "ticks": ""
            },
            "colorscale": [
             [
              0,
              "#0d0887"
             ],
             [
              0.1111111111111111,
              "#46039f"
             ],
             [
              0.2222222222222222,
              "#7201a8"
             ],
             [
              0.3333333333333333,
              "#9c179e"
             ],
             [
              0.4444444444444444,
              "#bd3786"
             ],
             [
              0.5555555555555556,
              "#d8576b"
             ],
             [
              0.6666666666666666,
              "#ed7953"
             ],
             [
              0.7777777777777778,
              "#fb9f3a"
             ],
             [
              0.8888888888888888,
              "#fdca26"
             ],
             [
              1,
              "#f0f921"
             ]
            ],
            "type": "surface"
           }
          ],
          "table": [
           {
            "cells": {
             "fill": {
              "color": "#EBF0F8"
             },
             "line": {
              "color": "white"
             }
            },
            "header": {
             "fill": {
              "color": "#C8D4E3"
             },
             "line": {
              "color": "white"
             }
            },
            "type": "table"
           }
          ]
         },
         "layout": {
          "annotationdefaults": {
           "arrowcolor": "#2a3f5f",
           "arrowhead": 0,
           "arrowwidth": 1
          },
          "autotypenumbers": "strict",
          "coloraxis": {
           "colorbar": {
            "outlinewidth": 0,
            "ticks": ""
           }
          },
          "colorscale": {
           "diverging": [
            [
             0,
             "#8e0152"
            ],
            [
             0.1,
             "#c51b7d"
            ],
            [
             0.2,
             "#de77ae"
            ],
            [
             0.3,
             "#f1b6da"
            ],
            [
             0.4,
             "#fde0ef"
            ],
            [
             0.5,
             "#f7f7f7"
            ],
            [
             0.6,
             "#e6f5d0"
            ],
            [
             0.7,
             "#b8e186"
            ],
            [
             0.8,
             "#7fbc41"
            ],
            [
             0.9,
             "#4d9221"
            ],
            [
             1,
             "#276419"
            ]
           ],
           "sequential": [
            [
             0,
             "#0d0887"
            ],
            [
             0.1111111111111111,
             "#46039f"
            ],
            [
             0.2222222222222222,
             "#7201a8"
            ],
            [
             0.3333333333333333,
             "#9c179e"
            ],
            [
             0.4444444444444444,
             "#bd3786"
            ],
            [
             0.5555555555555556,
             "#d8576b"
            ],
            [
             0.6666666666666666,
             "#ed7953"
            ],
            [
             0.7777777777777778,
             "#fb9f3a"
            ],
            [
             0.8888888888888888,
             "#fdca26"
            ],
            [
             1,
             "#f0f921"
            ]
           ],
           "sequentialminus": [
            [
             0,
             "#0d0887"
            ],
            [
             0.1111111111111111,
             "#46039f"
            ],
            [
             0.2222222222222222,
             "#7201a8"
            ],
            [
             0.3333333333333333,
             "#9c179e"
            ],
            [
             0.4444444444444444,
             "#bd3786"
            ],
            [
             0.5555555555555556,
             "#d8576b"
            ],
            [
             0.6666666666666666,
             "#ed7953"
            ],
            [
             0.7777777777777778,
             "#fb9f3a"
            ],
            [
             0.8888888888888888,
             "#fdca26"
            ],
            [
             1,
             "#f0f921"
            ]
           ]
          },
          "colorway": [
           "#636efa",
           "#EF553B",
           "#00cc96",
           "#ab63fa",
           "#FFA15A",
           "#19d3f3",
           "#FF6692",
           "#B6E880",
           "#FF97FF",
           "#FECB52"
          ],
          "font": {
           "color": "#2a3f5f"
          },
          "geo": {
           "bgcolor": "white",
           "lakecolor": "white",
           "landcolor": "#E5ECF6",
           "showlakes": true,
           "showland": true,
           "subunitcolor": "white"
          },
          "hoverlabel": {
           "align": "left"
          },
          "hovermode": "closest",
          "mapbox": {
           "style": "light"
          },
          "paper_bgcolor": "white",
          "plot_bgcolor": "#E5ECF6",
          "polar": {
           "angularaxis": {
            "gridcolor": "white",
            "linecolor": "white",
            "ticks": ""
           },
           "bgcolor": "#E5ECF6",
           "radialaxis": {
            "gridcolor": "white",
            "linecolor": "white",
            "ticks": ""
           }
          },
          "scene": {
           "xaxis": {
            "backgroundcolor": "#E5ECF6",
            "gridcolor": "white",
            "gridwidth": 2,
            "linecolor": "white",
            "showbackground": true,
            "ticks": "",
            "zerolinecolor": "white"
           },
           "yaxis": {
            "backgroundcolor": "#E5ECF6",
            "gridcolor": "white",
            "gridwidth": 2,
            "linecolor": "white",
            "showbackground": true,
            "ticks": "",
            "zerolinecolor": "white"
           },
           "zaxis": {
            "backgroundcolor": "#E5ECF6",
            "gridcolor": "white",
            "gridwidth": 2,
            "linecolor": "white",
            "showbackground": true,
            "ticks": "",
            "zerolinecolor": "white"
           }
          },
          "shapedefaults": {
           "line": {
            "color": "#2a3f5f"
           }
          },
          "ternary": {
           "aaxis": {
            "gridcolor": "white",
            "linecolor": "white",
            "ticks": ""
           },
           "baxis": {
            "gridcolor": "white",
            "linecolor": "white",
            "ticks": ""
           },
           "bgcolor": "#E5ECF6",
           "caxis": {
            "gridcolor": "white",
            "linecolor": "white",
            "ticks": ""
           }
          },
          "title": {
           "x": 0.05
          },
          "xaxis": {
           "automargin": true,
           "gridcolor": "white",
           "linecolor": "white",
           "ticks": "",
           "title": {
            "standoff": 15
           },
           "zerolinecolor": "white",
           "zerolinewidth": 2
          },
          "yaxis": {
           "automargin": true,
           "gridcolor": "white",
           "linecolor": "white",
           "ticks": "",
           "title": {
            "standoff": 15
           },
           "zerolinecolor": "white",
           "zerolinewidth": 2
          }
         }
        },
        "title": {
         "font": {
          "size": 20
         },
         "text": "Average Flight Prices by Hour of Day",
         "x": 0.5
        },
        "width": 1000,
        "xaxis": {
         "anchor": "y",
         "domain": [
          0,
          1
         ],
         "dtick": 1,
         "tick0": 0,
         "tickmode": "linear",
         "title": {
          "text": "Hour of Day (24h)"
         }
        },
        "yaxis": {
         "anchor": "x",
         "domain": [
          0,
          1
         ],
         "title": {
          "text": "Average Price (EUR)"
         }
        }
       }
      }
     },
     "metadata": {},
     "output_type": "display_data"
    }
   ],
   "source": [
    "# Extract hour from datetime for analysis\n",
    "df['Hour'] = df['Datetime'].dt.hour\n",
    "\n",
    "# Calculate hourly average prices\n",
    "hourly_avg = df.groupby(['Hour', 'Flight'])['Price_EUR'].mean().reset_index()\n",
    "\n",
    "# Create interactive hourly price trend chart\n",
    "fig = px.line(hourly_avg, x='Hour', y='Price_EUR', color='Flight',\n",
    "              title='Average Flight Prices by Hour of Day',\n",
    "              labels={'Hour': 'Hour of Day (24h)', 'Price_EUR': 'Average Price (EUR)', 'Flight': 'Flight Route'},\n",
    "              markers=True)\n",
    "\n",
    "# Improve the layout\n",
    "fig.update_layout(\n",
    "    xaxis=dict(tickmode='linear', tick0=0, dtick=1),  # Show every hour\n",
    "    xaxis_title='Hour of Day (24h)',\n",
    "    yaxis_title='Average Price (EUR)',\n",
    "    legend_title='Flight Routes',\n",
    "    height=500,\n",
    "    width=1000,\n",
    "    hovermode='closest',\n",
    "    title=dict(font=dict(size=20), x=0.5)\n",
    ")\n",
    "\n",
    "# Add hover information\n",
    "fig.update_traces(hovertemplate='<b>%{fullData.name}</b><br>Hour: %{x}:00<br>Avg Price: €%{y:.2f}')\n",
    "\n",
    "# Show the plot\n",
    "fig.show()"
   ]
  },
  {
   "cell_type": "markdown",
   "id": "0ab2dc43",
   "metadata": {},
   "source": [
    "## Price Change Over Time Analysis"
   ]
  },
  {
   "cell_type": "code",
   "execution_count": 13,
   "id": "d3d2ad33",
   "metadata": {},
   "outputs": [
    {
     "data": {
      "application/vnd.plotly.v1+json": {
       "config": {
        "plotlyServerURL": "https://plot.ly"
       },
       "data": [
        {
         "hovertemplate": "<b>%{fullData.name}</b><br>Date: %{x|%Y-%m-%d %H:%M}<br>Price Change: €%{y:.2f}",
         "legendgroup": "SDU->BSB",
         "marker": {
          "color": "#636efa",
          "size": {
           "bdata": "AAAAAAAAAAAAAAAAAAAAAAAAAAAAAAAAAAAAAAAAAAAAAAAAAAAAAAAAAAAAAAAAAAAAAAAAAAAAAAAAAAAAAADXo3A9CgNAAAAAAAAAAAAAAAAAAAAAAAAAAAAAAAAAAAAAAAAAAAAAehSuR+HaP3oUrkfhSldAAAAAAAAAAADWo3A9CtdSQAAAAAAAAAAAAAAAAAAAAAAAAAAAAAAAAAAAAAAAAAAAgI/C9Shc8z8AAAAAAAAAAITrUbgeRUFAhOtRuB5FQUBwPQrXo3AhQAAAAAAAAAAAAAAAAAAAAAAAKVyPwvUYQAAAAAAAAAAAAAAAAAAAAAAAAAAAAAAAAAAAAAAAAAAAaGZmZmZmUEAApHA9CtcDQAAAAAAAAAAAAAAAAAAAAAAAAAAAAAAAAAAAAAAAAAAA4KNwPQpXJkDE9Shcj8JNQHA9Ctej8DFAAAAAAAAAAAAwMzMzM/M2QAAAAAAAAAAA0KNwPQrXKUAAAAAAAAAAAAAAAAAAAAAAAAAAAAAAAAAAAAAAAAAAAAAAAAAAAAAAAAAAAAAAAAAAAAAAAAAAAAAAAAAAAAAAAAAAAAAAAAAAAAAAAAAAAAAAAAAAAAAAXI/C9SgsWUAAAAAAAAAAAACuR+F6FOY/AAAAAAAAAAAAAAAAAAAAAAAAAAAAAAAAAAAAAAAAAAAAAAAAAAAAAAAAAAAAAAAAAAAAAAAAAAAAAAAAAAAAAAAAAAAAAAAAAAAAAAAAAAAAAAAAAAAAAICZmZmZmQVA4HoUrkchPkAAAAAAAAAAAAAAAAAAAAAAAAAAAAAAAAAAuB6F61H0PwAAAAAAAAAAAAAAAAAAAAAAAAAAAAAAAAAAAAAAAAAAAAAAAAAAAAAAAAAAAAAAAIBwPQrXo/Q/AAAAAAAAAAAAAAAAAAAAAAAAAAAAAAAAhOtRuB7FRUAAAAAAAAAAAAAAAAAAAAAAgIXrUbge/T8AAAAAAAAAAAAAAAAAAAAAAAAAAAAAAAAghetRuB4QQAAAAAAAAAAAAAAAAAAAAAAAAAAAAAAAAAAAAAAAAAAAAAAAAAAAAAAAAAAAAAAAAAAAAAAAAAAAAAAAAAAAAAAAAAAAAAAAAAAAAAAAAAAAIIXrUbh+RUAAAAAAAAAAAAAAAAAAAAAAAAAAAAAAAAAAhetRuB4NQAAAAAAAAAAAAAAAAAAAAAAAAAAAAAAAAAAAAAAAAAAAAM3MzMzMDkAAAAAAAAAAAAAAAAAAAAAAAAAAAAAAAAAAAAAAAAAAAAAAAAAAAAAAAAAAAAAAAAAAAAAAAAAAAAAAAAAAAAAA4HoUrkeBRkAAAAAAAAAAAAAAAAAAAAAAAAAAAAAAAAAAAAAAAAAAAAAAAAAAAAAAAAAAAAAAAAAAAAAAAAAWQAAAAAAAAAAAAAAAAAAAAACAFK5H4Xr0PwAAAAAAAAAAAAAAAAAAAAAAAAAAAAAAAAAAAAAAAAAAAAAAAAAAAAAAAAAAAAAAAAAAAAAAAAAAAAAAAAAAAAAAAAAAAAAAAAAAAAAAAAAAAAAAAAAAAAAAAAAAAAAAAAAAAAAAAAAAAAAAAAAAAAAAAAAAAAAAAAAAAAAAAAAAgGZmZmZm9j8AAAAAAAAAAAAAAAAAAAAAAAAAAAAAAAAAAAAAAAAAAAAAAAAAAAAAAAAAAAAAAAAAAAAAAAAAAAAAAAAAAAAA",
           "dtype": "f8"
          },
          "sizemode": "area",
          "sizeref": 2.008444444444443,
          "symbol": "circle"
         },
         "mode": "markers",
         "name": "SDU->BSB",
         "orientation": "v",
         "showlegend": true,
         "type": "scatter",
         "x": [
          "2025-03-25T12:46:21.000000000",
          "2025-03-25T13:46:23.000000000",
          "2025-03-25T14:46:21.000000000",
          "2025-03-25T15:46:20.000000000",
          "2025-03-25T16:15:01.000000000",
          "2025-03-25T16:19:10.000000000",
          "2025-03-25T21:53:00.000000000",
          "2025-03-25T23:07:06.000000000",
          "2025-03-26T09:16:27.000000000",
          "2025-03-26T10:16:21.000000000",
          "2025-03-26T11:16:23.000000000",
          "2025-03-26T13:16:19.000000000",
          "2025-03-26T14:16:21.000000000",
          "2025-03-26T17:16:22.000000000",
          "2025-03-28T20:02:14.000000000",
          "2025-03-28T21:02:12.000000000",
          "2025-03-29T09:00:24.000000000",
          "2025-03-29T11:12:45.000000000",
          "2025-03-29T11:18:20.000000000",
          "2025-03-29T12:18:23.000000000",
          "2025-03-29T13:18:23.000000000",
          "2025-03-29T14:18:22.000000000",
          "2025-03-29T16:18:24.000000000",
          "2025-03-29T17:18:29.000000000",
          "2025-03-29T20:18:22.000000000",
          "2025-03-30T18:15:13.000000000",
          "2025-03-30T20:15:14.000000000",
          "2025-03-30T21:15:15.000000000",
          "2025-03-31T10:47:30.000000000",
          "2025-03-31T10:48:33.000000000",
          "2025-03-31T11:48:34.000000000",
          "2025-03-31T14:48:39.000000000",
          "2025-03-31T15:48:34.000000000",
          "2025-04-04T10:19:49.000000000",
          "2025-04-04T11:19:47.000000000",
          "2025-04-04T12:19:47.000000000",
          "2025-04-04T13:19:47.000000000",
          "2025-04-04T15:19:47.000000000",
          "2025-04-04T16:19:47.000000000",
          "2025-04-04T17:19:45.000000000",
          "2025-04-04T18:19:47.000000000",
          "2025-04-04T19:19:53.000000000",
          "2025-04-04T20:19:47.000000000",
          "2025-04-05T17:22:26.000000000",
          "2025-04-05T18:22:23.000000000",
          "2025-04-06T09:29:50.000000000",
          "2025-04-06T10:29:51.000000000",
          "2025-04-06T11:29:59.000000000",
          "2025-04-06T12:29:53.000000000",
          "2025-04-06T13:29:53.000000000",
          "2025-04-06T15:29:54.000000000",
          "2025-04-06T17:29:54.000000000",
          "2025-04-06T18:29:53.000000000",
          "2025-04-06T19:29:54.000000000",
          "2025-04-06T20:29:51.000000000",
          "2025-04-06T21:29:53.000000000",
          "2025-04-06T22:29:54.000000000",
          "2025-04-08T09:52:50.000000000",
          "2025-04-08T10:52:52.000000000",
          "2025-04-08T11:52:51.000000000",
          "2025-04-08T12:52:53.000000000",
          "2025-04-08T13:52:50.000000000",
          "2025-04-08T14:52:51.000000000",
          "2025-04-08T15:52:52.000000000",
          "2025-04-08T16:52:53.000000000",
          "2025-04-08T17:52:50.000000000",
          "2025-04-08T18:52:49.000000000",
          "2025-04-08T20:52:52.000000000",
          "2025-04-08T21:52:57.000000000",
          "2025-04-08T22:52:50.000000000",
          "2025-04-08T23:52:50.000000000",
          "2025-04-09T00:52:52.000000000",
          "2025-04-09T01:52:53.000000000",
          "2025-04-09T02:52:50.000000000",
          "2025-04-09T03:52:50.000000000",
          "2025-04-09T04:52:53.000000000",
          "2025-04-09T05:52:53.000000000",
          "2025-04-09T06:52:53.000000000",
          "2025-04-09T07:52:53.000000000",
          "2025-04-09T09:52:53.000000000",
          "2025-04-09T11:52:54.000000000",
          "2025-04-09T12:52:51.000000000",
          "2025-04-09T13:52:53.000000000",
          "2025-04-09T14:52:53.000000000",
          "2025-04-09T15:52:53.000000000",
          "2025-04-09T16:52:53.000000000",
          "2025-04-09T18:52:59.000000000",
          "2025-04-09T19:52:54.000000000",
          "2025-04-09T21:52:53.000000000",
          "2025-04-09T23:52:53.000000000",
          "2025-04-10T00:52:53.000000000",
          "2025-04-10T01:52:53.000000000",
          "2025-04-10T03:52:54.000000000",
          "2025-04-10T04:52:54.000000000",
          "2025-04-10T05:52:54.000000000",
          "2025-04-10T06:52:55.000000000",
          "2025-04-10T07:52:55.000000000",
          "2025-04-10T08:52:52.000000000",
          "2025-04-10T09:52:52.000000000",
          "2025-04-10T10:52:55.000000000",
          "2025-04-10T11:52:54.000000000",
          "2025-04-10T12:53:02.000000000",
          "2025-04-10T13:52:54.000000000",
          "2025-04-10T14:52:54.000000000",
          "2025-04-10T15:52:55.000000000",
          "2025-04-10T16:52:56.000000000",
          "2025-04-10T18:52:53.000000000",
          "2025-04-10T21:52:56.000000000",
          "2025-04-10T22:53:03.000000000",
          "2025-04-11T00:52:56.000000000",
          "2025-04-11T01:53:04.000000000",
          "2025-04-11T02:52:56.000000000",
          "2025-04-11T03:52:55.000000000",
          "2025-04-11T04:52:56.000000000",
          "2025-04-11T05:53:00.000000000",
          "2025-04-11T07:52:56.000000000",
          "2025-04-11T08:53:02.000000000",
          "2025-04-11T09:52:57.000000000",
          "2025-04-11T11:52:56.000000000",
          "2025-04-11T12:52:54.000000000",
          "2025-04-11T13:52:56.000000000",
          "2025-04-11T14:52:56.000000000",
          "2025-04-11T16:52:56.000000000",
          "2025-04-11T17:52:57.000000000",
          "2025-04-11T18:52:57.000000000",
          "2025-04-11T19:52:57.000000000",
          "2025-04-11T20:53:00.000000000",
          "2025-04-11T21:52:53.000000000",
          "2025-04-11T22:52:55.000000000",
          "2025-04-11T23:52:57.000000000",
          "2025-04-12T00:52:54.000000000",
          "2025-04-12T02:52:56.000000000",
          "2025-04-12T03:52:57.000000000",
          "2025-04-12T05:52:56.000000000",
          "2025-04-12T06:52:57.000000000",
          "2025-04-12T07:53:01.000000000",
          "2025-04-12T08:52:59.000000000",
          "2025-04-12T09:52:58.000000000",
          "2025-04-12T10:52:57.000000000",
          "2025-04-12T11:52:57.000000000",
          "2025-04-12T12:53:03.000000000",
          "2025-04-12T13:53:02.000000000",
          "2025-04-12T14:52:57.000000000",
          "2025-04-12T15:52:55.000000000",
          "2025-04-12T16:53:06.000000000",
          "2025-04-12T17:52:53.000000000",
          "2025-04-12T18:52:54.000000000",
          "2025-04-12T19:52:58.000000000",
          "2025-04-12T20:53:02.000000000",
          "2025-04-12T21:52:57.000000000",
          "2025-04-13T10:11:43.000000000",
          "2025-04-13T12:11:52.000000000",
          "2025-04-13T13:11:46.000000000",
          "2025-04-13T15:11:48.000000000",
          "2025-04-13T16:11:44.000000000",
          "2025-04-13T18:11:41.000000000",
          "2025-04-13T20:11:49.000000000",
          "2025-04-13T21:11:43.000000000",
          "2025-04-13T22:11:43.000000000"
         ],
         "xaxis": "x",
         "y": {
          "bdata": "AAAAAAAAAAAAAAAAAAAAAAAAAAAAAAAAAAAAAAAAAAAAAAAAAAAAAAAAAAAAAAAAAAAAAAAAAAAAAAAAAAAAAADXo3A9CgNAAAAAAAAAAAAAAAAAAAAAAAAAAAAAAAAAAAAAAAAAAAAAehSuR+Hav3oUrkfhSlfAAAAAAAAAAADWo3A9CtdSQAAAAAAAAAAAAAAAAAAAAAAAAAAAAAAAAAAAAAAAAAAAgI/C9Shc8z8AAAAAAAAAAITrUbgeRUFAhOtRuB5FQcBwPQrXo3AhQAAAAAAAAAAAAAAAAAAAAAAAKVyPwvUYQAAAAAAAAAAAAAAAAAAAAAAAAAAAAAAAAAAAAAAAAAAAaGZmZmZmUMAApHA9CtcDQAAAAAAAAAAAAAAAAAAAAAAAAAAAAAAAAAAAAAAAAAAA4KNwPQpXJsDE9Shcj8JNQHA9Ctej8DFAAAAAAAAAAAAwMzMzM/M2wAAAAAAAAAAA0KNwPQrXKUAAAAAAAAAAAAAAAAAAAAAAAAAAAAAAAAAAAAAAAAAAAAAAAAAAAAAAAAAAAAAAAAAAAAAAAAAAAAAAAAAAAAAAAAAAAAAAAAAAAAAAAAAAAAAAAAAAAAAAXI/C9SgsWcAAAAAAAAAAAACuR+F6FOa/AAAAAAAAAAAAAAAAAAAAAAAAAAAAAAAAAAAAAAAAAAAAAAAAAAAAAAAAAAAAAAAAAAAAAAAAAAAAAAAAAAAAAAAAAAAAAAAAAAAAAAAAAAAAAAAAAAAAAICZmZmZmQVA4HoUrkchPkAAAAAAAAAAAAAAAAAAAAAAAAAAAAAAAAAAuB6F61H0vwAAAAAAAAAAAAAAAAAAAAAAAAAAAAAAAAAAAAAAAAAAAAAAAAAAAAAAAAAAAAAAAIBwPQrXo/Q/AAAAAAAAAAAAAAAAAAAAAAAAAAAAAAAAhOtRuB7FRUAAAAAAAAAAAAAAAAAAAAAAgIXrUbge/T8AAAAAAAAAAAAAAAAAAAAAAAAAAAAAAAAghetRuB4QwAAAAAAAAAAAAAAAAAAAAAAAAAAAAAAAAAAAAAAAAAAAAAAAAAAAAAAAAAAAAAAAAAAAAAAAAAAAAAAAAAAAAAAAAAAAAAAAAAAAAAAAAAAAIIXrUbh+RcAAAAAAAAAAAAAAAAAAAAAAAAAAAAAAAAAAhetRuB4NQAAAAAAAAAAAAAAAAAAAAAAAAAAAAAAAAAAAAAAAAAAAAM3MzMzMDkAAAAAAAAAAAAAAAAAAAAAAAAAAAAAAAAAAAAAAAAAAAAAAAAAAAAAAAAAAAAAAAAAAAAAAAAAAAAAAAAAAAAAA4HoUrkeBRkAAAAAAAAAAAAAAAAAAAAAAAAAAAAAAAAAAAAAAAAAAAAAAAAAAAAAAAAAAAAAAAAAAAAAAAAAWwAAAAAAAAAAAAAAAAAAAAACAFK5H4Xr0PwAAAAAAAAAAAAAAAAAAAAAAAAAAAAAAAAAAAAAAAAAAAAAAAAAAAAAAAAAAAAAAAAAAAAAAAAAAAAAAAAAAAAAAAAAAAAAAAAAAAAAAAAAAAAAAAAAAAAAAAAAAAAAAAAAAAAAAAAAAAAAAAAAAAAAAAAAAAAAAAAAAAAAAAAAAgGZmZmZm9r8AAAAAAAAAAAAAAAAAAAAAAAAAAAAAAAAAAAAAAAAAAAAAAAAAAAAAAAAAAAAAAAAAAAAAAAAAAAAAAAAAAAAA",
          "dtype": "f8"
         },
         "yaxis": "y"
        },
        {
         "hovertemplate": "<b>%{fullData.name}</b><br>Date: %{x|%Y-%m-%d %H:%M}<br>Price Change: €%{y:.2f}",
         "legendgroup": "BSB->SSA",
         "marker": {
          "color": "#EF553B",
          "size": {
           "bdata": "AAAAAAAAAAAAAAAAAAAAAAAAAAAAAAAAAAAAAAAAAAAAAAAAAAAAAAAAAAAAAAAAAAAAAAAAAAAAAAAAAAAAAAAAAAAAAAAAAAAAAAAAAAAAAAAAAAAAAAAAAAAAAAAAAAAAAAAAAAAAAAAAAAAAAAAAAAAAAAAAAAAAAAAAAAAAAAAAAAAAAAAAAAAAAAAAAAAAAAAAAACA61G4HoUNQAAAAAAAAAAAAAAAAAAAAAAAAAAAAAAAAAAAAAAAAAAAgEfhehSuAUAA16NwPQoQQACuR+F6FO4/AAAAAAAAAAAAAAAAAAAAAEAzMzMzMxJAAAAAAAAAAAAAAAAAAAAAAAAAAAAAAAAAAAAAAAAAAAAAAAAAAAAAAAAAAAAAAAAAAAAAAAAAAAAAAAAAAAAAAAAAAAAAAAAAAAAAAAAAAAAAAAAAAAAAAAAAAAAAAAAAgML1KFyPBEAAAAAAAAAAACCuR+F6FCZAAAAAAAAAAAAA16NwPQoBQAAAAAAAAAAAAAAAAAAAAAAAAAAAAAAAAAAAAAAAAAAAAAAAAAAAAAAAAAAAAAAAAAAAAAAAAAAAAAAAAAAAAAAAAAAAAAAAAAAAAAAAAAAAAAAAAAAAAAAAAAAAAAAAAGBmZmZmZiRAAAAAAAAAAAAAAAAAAAAAAAAAAAAAAAAAAAAAAAAAAAAAAAAAAAAAAAAAAAAAAAAAAAAAAAAAAAAAAAAAAAAAAAAAAAAAAAAAAAAAAAAAAAAAAAAAAAAAAAAAAAAAAAAAwPUoXI/CHkDAmZmZmZkVQAAAAAAAAAAAAAAAAAAAAAAAAAAAAAAAAAAAAAAAAAAAALgehetRAkAAAAAAAAAAAAAAAAAAAAAAAAAAAAAAAAAAAAAAAAAAAAAAAAAAAAAAAAAAAAAAAAAAAAAAAAAAAAAAAAAAAAAAAAAAAAAAAAAAAAAAAAAAAAAAAAAAAAAAALgehetRBECQwvUoXI8yQAAAAAAAAAJAgD0K16NwFkAAAAAAAAAAAAAAAAAAAAAAAAAAAAAAAADA9ShcjwIzQAAAAAAAAAAAAAAAAAAAAAAAAAAAAAAAAAAAAAAAAAAAAAAAAAAAAAAAAAAAAAAAAAAAAAAAAAAAAAAAAAAAAAAAAAAAAAAAAADC9Shcj+I/AAAAAAAAAAAAAAAAAAAAAAAAAAAAAAAAwPUoXI/CL0CAZmZmZmYEQAAAAAAAAAAAAAAAAAAAAACAZmZmZmYEQIDC9ShcDyJAAAAAAAAAAAAAAAAAAAAAAAAAAAAAAAAAAAAAAAAAAAAAAAAAAAAAAAAAAAAAAAAAAAAAAAAAAAAAAAAAAAAAAIDC9ShcDyZAQDMzMzOzJUD4KFyPwjU1QOB6FK5H4RlAAAAAAAAAAAAAAAAAAAAAAAAAAAAAAAAAAAAAAAAAAAAAAAAAAAAAAAAAAAAAAAAAAAAAAAAAAAAAAAAAAAAAAAAAAAAAAAAAAAAAAAAAAAAAAAAAAAAAAAAAAAAAAAAAAAAAAAAAAAAAAAAAAAAAAAAAAAAAAAAAAAAAAAAAAAAAAAAAAAAAAAAAAAAAAAAAAAAAAAAAAAAAAAAAAAAAAAAAAAAAAAAAAAAAAAAAAAAAAAAAAAAAAABQuB6F68E/AAAAAAAAAAAAAAAAAAAAAAAAAAAAAAAAAAAAAAAAAAAAAAAAAAAAAAAAAAAAAAAAAAAAAAAAAAAA9ihcj8L9PwAAAAAAAAAA",
           "dtype": "f8"
          },
          "sizemode": "area",
          "sizeref": 2.008444444444443,
          "symbol": "circle"
         },
         "mode": "markers",
         "name": "BSB->SSA",
         "orientation": "v",
         "showlegend": true,
         "type": "scatter",
         "x": [
          "2025-03-25T11:47:05.000000000",
          "2025-03-25T12:46:40.000000000",
          "2025-03-25T13:46:40.000000000",
          "2025-03-25T14:46:40.000000000",
          "2025-03-25T15:46:41.000000000",
          "2025-03-25T16:15:20.000000000",
          "2025-03-25T16:19:25.000000000",
          "2025-03-25T23:07:21.000000000",
          "2025-03-26T09:16:43.000000000",
          "2025-03-26T10:16:35.000000000",
          "2025-03-26T11:16:38.000000000",
          "2025-03-26T12:16:31.000000000",
          "2025-03-26T13:16:33.000000000",
          "2025-03-26T14:16:38.000000000",
          "2025-03-26T16:16:30.000000000",
          "2025-03-26T17:16:36.000000000",
          "2025-03-28T20:02:29.000000000",
          "2025-03-28T21:02:25.000000000",
          "2025-03-28T22:02:22.000000000",
          "2025-03-29T11:18:34.000000000",
          "2025-03-29T12:18:41.000000000",
          "2025-03-29T13:18:40.000000000",
          "2025-03-29T14:18:41.000000000",
          "2025-03-29T16:18:37.000000000",
          "2025-03-29T17:18:48.000000000",
          "2025-03-29T20:18:39.000000000",
          "2025-03-30T18:15:27.000000000",
          "2025-03-30T20:15:28.000000000",
          "2025-03-30T21:15:33.000000000",
          "2025-03-31T10:48:49.000000000",
          "2025-03-31T11:48:48.000000000",
          "2025-03-31T13:48:47.000000000",
          "2025-03-31T14:48:56.000000000",
          "2025-03-31T15:48:47.000000000",
          "2025-04-04T10:20:17.000000000",
          "2025-04-04T11:20:10.000000000",
          "2025-04-04T12:20:10.000000000",
          "2025-04-04T13:20:10.000000000",
          "2025-04-04T15:20:11.000000000",
          "2025-04-04T16:20:14.000000000",
          "2025-04-04T17:20:10.000000000",
          "2025-04-04T18:20:10.000000000",
          "2025-04-04T19:20:18.000000000",
          "2025-04-04T20:20:12.000000000",
          "2025-04-05T17:22:49.000000000",
          "2025-04-05T18:22:48.000000000",
          "2025-04-06T09:30:17.000000000",
          "2025-04-06T10:30:18.000000000",
          "2025-04-06T11:30:24.000000000",
          "2025-04-06T12:30:18.000000000",
          "2025-04-06T13:30:17.000000000",
          "2025-04-06T15:30:17.000000000",
          "2025-04-06T16:31:09.000000000",
          "2025-04-06T17:30:17.000000000",
          "2025-04-06T18:30:17.000000000",
          "2025-04-06T19:30:17.000000000",
          "2025-04-06T20:30:14.000000000",
          "2025-04-06T21:30:19.000000000",
          "2025-04-06T22:30:20.000000000",
          "2025-04-08T09:53:13.000000000",
          "2025-04-08T10:53:19.000000000",
          "2025-04-08T11:53:16.000000000",
          "2025-04-08T12:53:17.000000000",
          "2025-04-08T13:53:16.000000000",
          "2025-04-08T14:53:16.000000000",
          "2025-04-08T15:53:15.000000000",
          "2025-04-08T16:53:17.000000000",
          "2025-04-08T17:53:13.000000000",
          "2025-04-08T18:53:11.000000000",
          "2025-04-08T20:53:14.000000000",
          "2025-04-08T21:53:22.000000000",
          "2025-04-08T22:53:16.000000000",
          "2025-04-08T23:53:13.000000000",
          "2025-04-09T00:53:17.000000000",
          "2025-04-09T01:53:16.000000000",
          "2025-04-09T02:53:16.000000000",
          "2025-04-09T03:53:13.000000000",
          "2025-04-09T04:53:19.000000000",
          "2025-04-09T05:53:16.000000000",
          "2025-04-09T06:53:19.000000000",
          "2025-04-09T07:53:19.000000000",
          "2025-04-09T09:53:17.000000000",
          "2025-04-09T11:53:20.000000000",
          "2025-04-09T12:53:14.000000000",
          "2025-04-09T13:53:16.000000000",
          "2025-04-09T14:53:18.000000000",
          "2025-04-09T15:53:17.000000000",
          "2025-04-09T16:53:19.000000000",
          "2025-04-09T18:53:24.000000000",
          "2025-04-09T19:53:20.000000000",
          "2025-04-09T21:53:17.000000000",
          "2025-04-09T23:53:17.000000000",
          "2025-04-10T00:53:16.000000000",
          "2025-04-10T01:53:20.000000000",
          "2025-04-10T03:53:17.000000000",
          "2025-04-10T04:53:17.000000000",
          "2025-04-10T05:53:21.000000000",
          "2025-04-10T06:53:21.000000000",
          "2025-04-10T07:53:21.000000000",
          "2025-04-10T08:53:21.000000000",
          "2025-04-10T09:53:18.000000000",
          "2025-04-10T10:53:21.000000000",
          "2025-04-10T11:53:20.000000000",
          "2025-04-10T12:53:28.000000000",
          "2025-04-10T13:53:20.000000000",
          "2025-04-10T14:53:21.000000000",
          "2025-04-10T15:53:21.000000000",
          "2025-04-10T16:53:21.000000000",
          "2025-04-10T18:53:16.000000000",
          "2025-04-10T21:53:19.000000000",
          "2025-04-10T22:53:26.000000000",
          "2025-04-11T00:53:20.000000000",
          "2025-04-11T01:53:29.000000000",
          "2025-04-11T02:53:19.000000000",
          "2025-04-11T03:53:18.000000000",
          "2025-04-11T04:53:19.000000000",
          "2025-04-11T05:53:26.000000000",
          "2025-04-11T07:53:24.000000000",
          "2025-04-11T08:53:29.000000000",
          "2025-04-11T09:53:20.000000000",
          "2025-04-11T11:53:23.000000000",
          "2025-04-11T12:53:18.000000000",
          "2025-04-11T13:53:19.000000000",
          "2025-04-11T14:53:19.000000000",
          "2025-04-11T16:53:23.000000000",
          "2025-04-11T17:53:23.000000000",
          "2025-04-11T18:53:22.000000000",
          "2025-04-11T19:53:20.000000000",
          "2025-04-11T20:53:27.000000000",
          "2025-04-11T21:53:17.000000000",
          "2025-04-11T22:53:22.000000000",
          "2025-04-11T23:53:21.000000000",
          "2025-04-12T00:53:20.000000000",
          "2025-04-12T02:53:21.000000000",
          "2025-04-12T03:53:19.000000000",
          "2025-04-12T05:53:21.000000000",
          "2025-04-12T06:53:24.000000000",
          "2025-04-12T07:53:28.000000000",
          "2025-04-12T08:53:25.000000000",
          "2025-04-12T09:53:22.000000000",
          "2025-04-12T10:53:21.000000000",
          "2025-04-12T11:53:23.000000000",
          "2025-04-12T12:53:30.000000000",
          "2025-04-12T13:53:28.000000000",
          "2025-04-12T14:53:21.000000000",
          "2025-04-12T15:53:21.000000000",
          "2025-04-12T16:53:32.000000000",
          "2025-04-12T17:53:17.000000000",
          "2025-04-12T18:53:19.000000000",
          "2025-04-12T19:53:22.000000000",
          "2025-04-12T20:53:29.000000000",
          "2025-04-12T21:53:24.000000000",
          "2025-04-13T10:12:06.000000000",
          "2025-04-13T11:11:55.000000000",
          "2025-04-13T12:12:19.000000000",
          "2025-04-13T13:12:11.000000000",
          "2025-04-13T15:12:12.000000000",
          "2025-04-13T16:12:12.000000000",
          "2025-04-13T18:12:06.000000000",
          "2025-04-13T20:12:15.000000000",
          "2025-04-13T21:12:06.000000000",
          "2025-04-13T22:12:09.000000000"
         ],
         "xaxis": "x",
         "y": {
          "bdata": "AAAAAAAAAAAAAAAAAAAAAAAAAAAAAAAAAAAAAAAAAAAAAAAAAAAAAAAAAAAAAAAAAAAAAAAAAAAAAAAAAAAAAAAAAAAAAAAAAAAAAAAAAAAAAAAAAAAAAAAAAAAAAAAAAAAAAAAAAAAAAAAAAAAAAAAAAAAAAAAAAAAAAAAAAAAAAAAAAAAAAAAAAAAAAAAAAAAAAAAAAACA61G4HoUNwAAAAAAAAAAAAAAAAAAAAAAAAAAAAAAAAAAAAAAAAAAAgEfhehSuAUAA16NwPQoQwACuR+F6FO4/AAAAAAAAAAAAAAAAAAAAAEAzMzMzMxJAAAAAAAAAAAAAAAAAAAAAAAAAAAAAAAAAAAAAAAAAAAAAAAAAAAAAAAAAAAAAAAAAAAAAAAAAAAAAAAAAAAAAAAAAAAAAAAAAAAAAAAAAAAAAAAAAAAAAAAAAAAAAAAAAgML1KFyPBMAAAAAAAAAAACCuR+F6FCbAAAAAAAAAAAAA16NwPQoBQAAAAAAAAAAAAAAAAAAAAAAAAAAAAAAAAAAAAAAAAAAAAAAAAAAAAAAAAAAAAAAAAAAAAAAAAAAAAAAAAAAAAAAAAAAAAAAAAAAAAAAAAAAAAAAAAAAAAAAAAAAAAAAAAGBmZmZmZiRAAAAAAAAAAAAAAAAAAAAAAAAAAAAAAAAAAAAAAAAAAAAAAAAAAAAAAAAAAAAAAAAAAAAAAAAAAAAAAAAAAAAAAAAAAAAAAAAAAAAAAAAAAAAAAAAAAAAAAAAAAAAAAAAAwPUoXI/CHsDAmZmZmZkVQAAAAAAAAAAAAAAAAAAAAAAAAAAAAAAAAAAAAAAAAAAAALgehetRAkAAAAAAAAAAAAAAAAAAAAAAAAAAAAAAAAAAAAAAAAAAAAAAAAAAAAAAAAAAAAAAAAAAAAAAAAAAAAAAAAAAAAAAAAAAAAAAAAAAAAAAAAAAAAAAAAAAAAAAALgehetRBMCQwvUoXI8ywAAAAAAAAAJAgD0K16NwFsAAAAAAAAAAAAAAAAAAAAAAAAAAAAAAAADA9ShcjwIzQAAAAAAAAAAAAAAAAAAAAAAAAAAAAAAAAAAAAAAAAAAAAAAAAAAAAAAAAAAAAAAAAAAAAAAAAAAAAAAAAAAAAAAAAAAAAAAAAADC9Shcj+K/AAAAAAAAAAAAAAAAAAAAAAAAAAAAAAAAwPUoXI/CL8CAZmZmZmYEwAAAAAAAAAAAAAAAAAAAAACAZmZmZmYEQIDC9ShcDyJAAAAAAAAAAAAAAAAAAAAAAAAAAAAAAAAAAAAAAAAAAAAAAAAAAAAAAAAAAAAAAAAAAAAAAAAAAAAAAAAAAAAAAIDC9ShcDybAQDMzMzOzJcD4KFyPwjU1wOB6FK5H4RnAAAAAAAAAAAAAAAAAAAAAAAAAAAAAAAAAAAAAAAAAAAAAAAAAAAAAAAAAAAAAAAAAAAAAAAAAAAAAAAAAAAAAAAAAAAAAAAAAAAAAAAAAAAAAAAAAAAAAAAAAAAAAAAAAAAAAAAAAAAAAAAAAAAAAAAAAAAAAAAAAAAAAAAAAAAAAAAAAAAAAAAAAAAAAAAAAAAAAAAAAAAAAAAAAAAAAAAAAAAAAAAAAAAAAAAAAAAAAAAAAAAAAAABQuB6F68G/AAAAAAAAAAAAAAAAAAAAAAAAAAAAAAAAAAAAAAAAAAAAAAAAAAAAAAAAAAAAAAAAAAAAAAAAAAAA9ihcj8L9vwAAAAAAAAAA",
          "dtype": "f8"
         },
         "yaxis": "y"
        },
        {
         "hovertemplate": "<b>%{fullData.name}</b><br>Date: %{x|%Y-%m-%d %H:%M}<br>Price Change: €%{y:.2f}",
         "legendgroup": "ORY->GIG, SSA->ORY",
         "marker": {
          "color": "#00cc96",
          "size": {
           "bdata": "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",
           "dtype": "f8"
          },
          "sizemode": "area",
          "sizeref": 2.008444444444443,
          "symbol": "circle"
         },
         "mode": "markers",
         "name": "ORY->GIG, SSA->ORY",
         "orientation": "v",
         "showlegend": true,
         "type": "scatter",
         "x": [
          "2025-03-25T11:47:28.000000000",
          "2025-03-25T12:47:03.000000000",
          "2025-03-25T13:47:03.000000000",
          "2025-03-25T14:47:03.000000000",
          "2025-03-25T15:47:05.000000000",
          "2025-03-25T16:15:42.000000000",
          "2025-03-25T16:19:40.000000000",
          "2025-03-25T23:07:44.000000000",
          "2025-03-26T09:17:06.000000000",
          "2025-03-26T10:16:57.000000000",
          "2025-03-26T11:17:01.000000000",
          "2025-03-26T12:16:53.000000000",
          "2025-03-26T13:17:05.000000000",
          "2025-03-26T14:17:00.000000000",
          "2025-03-26T15:17:29.000000000",
          "2025-03-26T16:16:52.000000000",
          "2025-03-26T17:16:58.000000000",
          "2025-03-28T20:02:51.000000000",
          "2025-03-28T21:02:47.000000000",
          "2025-03-28T22:02:44.000000000",
          "2025-03-29T11:18:56.000000000",
          "2025-03-29T12:19:03.000000000",
          "2025-03-29T13:19:01.000000000",
          "2025-03-29T14:19:02.000000000",
          "2025-03-29T15:19:29.000000000",
          "2025-03-29T16:18:58.000000000",
          "2025-03-29T17:19:09.000000000",
          "2025-03-29T18:19:30.000000000",
          "2025-03-29T19:20:25.000000000",
          "2025-03-29T20:19:00.000000000",
          "2025-03-29T21:19:30.000000000",
          "2025-03-30T18:15:49.000000000",
          "2025-03-30T19:16:18.000000000",
          "2025-03-30T20:15:50.000000000",
          "2025-03-30T21:15:54.000000000",
          "2025-03-31T10:49:10.000000000",
          "2025-03-31T11:49:09.000000000",
          "2025-03-31T12:49:41.000000000",
          "2025-03-31T13:49:08.000000000",
          "2025-03-31T14:49:19.000000000",
          "2025-03-31T15:49:09.000000000",
          "2025-03-31T16:49:43.000000000",
          "2025-03-31T17:49:43.000000000",
          "2025-04-04T10:20:50.000000000",
          "2025-04-04T11:20:44.000000000",
          "2025-04-04T12:20:43.000000000",
          "2025-04-04T13:20:42.000000000",
          "2025-04-04T14:20:59.000000000",
          "2025-04-04T15:20:43.000000000",
          "2025-04-04T16:20:46.000000000",
          "2025-04-04T17:20:42.000000000",
          "2025-04-04T18:20:43.000000000",
          "2025-04-04T19:20:51.000000000",
          "2025-04-04T20:20:45.000000000",
          "2025-04-04T21:20:59.000000000",
          "2025-04-05T17:23:21.000000000",
          "2025-04-05T18:23:20.000000000",
          "2025-04-06T09:30:51.000000000",
          "2025-04-06T10:30:53.000000000",
          "2025-04-06T11:30:57.000000000",
          "2025-04-06T12:30:50.000000000",
          "2025-04-06T13:30:50.000000000",
          "2025-04-06T14:31:06.000000000",
          "2025-04-06T15:30:49.000000000",
          "2025-04-06T16:31:41.000000000",
          "2025-04-06T17:30:50.000000000",
          "2025-04-06T18:30:50.000000000",
          "2025-04-06T19:30:49.000000000",
          "2025-04-06T20:30:46.000000000",
          "2025-04-06T21:30:52.000000000",
          "2025-04-06T22:30:52.000000000",
          "2025-04-08T09:53:46.000000000",
          "2025-04-08T10:53:53.000000000",
          "2025-04-08T11:53:49.000000000",
          "2025-04-08T12:53:49.000000000",
          "2025-04-08T13:53:49.000000000",
          "2025-04-08T14:53:49.000000000",
          "2025-04-08T15:53:47.000000000",
          "2025-04-08T16:53:49.000000000",
          "2025-04-08T17:53:46.000000000",
          "2025-04-08T18:53:44.000000000",
          "2025-04-08T19:54:05.000000000",
          "2025-04-08T20:53:47.000000000",
          "2025-04-08T21:53:55.000000000",
          "2025-04-08T22:53:49.000000000",
          "2025-04-08T23:53:45.000000000",
          "2025-04-09T00:53:49.000000000",
          "2025-04-09T01:53:50.000000000",
          "2025-04-09T02:53:48.000000000",
          "2025-04-09T03:53:46.000000000",
          "2025-04-09T04:53:51.000000000",
          "2025-04-09T05:53:48.000000000",
          "2025-04-09T06:53:52.000000000",
          "2025-04-09T07:53:52.000000000",
          "2025-04-09T08:54:05.000000000",
          "2025-04-09T09:53:49.000000000",
          "2025-04-09T10:54:06.000000000",
          "2025-04-09T11:53:53.000000000",
          "2025-04-09T12:53:47.000000000",
          "2025-04-09T13:53:48.000000000",
          "2025-04-09T14:53:51.000000000",
          "2025-04-09T15:53:49.000000000",
          "2025-04-09T16:53:51.000000000",
          "2025-04-09T17:54:06.000000000",
          "2025-04-09T18:53:58.000000000",
          "2025-04-09T19:53:53.000000000",
          "2025-04-09T20:54:07.000000000",
          "2025-04-09T21:53:49.000000000",
          "2025-04-09T22:54:06.000000000",
          "2025-04-09T23:53:49.000000000",
          "2025-04-10T00:53:48.000000000",
          "2025-04-10T01:53:53.000000000",
          "2025-04-10T02:54:30.000000000",
          "2025-04-10T03:53:50.000000000",
          "2025-04-10T04:53:49.000000000",
          "2025-04-10T05:53:54.000000000",
          "2025-04-10T06:53:54.000000000",
          "2025-04-10T07:53:54.000000000",
          "2025-04-10T08:53:55.000000000",
          "2025-04-10T09:53:52.000000000",
          "2025-04-10T10:53:54.000000000",
          "2025-04-10T11:53:53.000000000",
          "2025-04-10T12:54:01.000000000",
          "2025-04-10T13:53:53.000000000",
          "2025-04-10T14:53:54.000000000",
          "2025-04-10T15:53:53.000000000",
          "2025-04-10T16:53:54.000000000",
          "2025-04-10T17:54:08.000000000",
          "2025-04-10T18:53:48.000000000",
          "2025-04-10T19:54:12.000000000",
          "2025-04-10T20:54:08.000000000",
          "2025-04-10T21:53:52.000000000",
          "2025-04-10T22:54:00.000000000",
          "2025-04-10T23:54:07.000000000",
          "2025-04-11T00:53:53.000000000",
          "2025-04-11T01:54:02.000000000",
          "2025-04-11T02:53:51.000000000",
          "2025-04-11T03:53:50.000000000",
          "2025-04-11T04:53:51.000000000",
          "2025-04-11T05:53:59.000000000",
          "2025-04-11T06:54:08.000000000",
          "2025-04-11T07:53:57.000000000",
          "2025-04-11T08:54:02.000000000",
          "2025-04-11T09:53:54.000000000",
          "2025-04-11T10:54:10.000000000",
          "2025-04-11T11:53:55.000000000",
          "2025-04-11T12:53:51.000000000",
          "2025-04-11T13:53:52.000000000",
          "2025-04-11T14:53:51.000000000",
          "2025-04-11T15:54:09.000000000",
          "2025-04-11T16:53:55.000000000",
          "2025-04-11T17:53:56.000000000",
          "2025-04-11T18:53:54.000000000",
          "2025-04-11T19:53:52.000000000",
          "2025-04-11T20:54:01.000000000",
          "2025-04-11T21:53:50.000000000",
          "2025-04-11T22:53:55.000000000",
          "2025-04-11T23:53:53.000000000",
          "2025-04-12T00:53:52.000000000",
          "2025-04-12T01:54:11.000000000",
          "2025-04-12T02:53:54.000000000",
          "2025-04-12T03:53:52.000000000",
          "2025-04-12T04:54:12.000000000",
          "2025-04-12T05:53:53.000000000",
          "2025-04-12T06:53:56.000000000",
          "2025-04-12T07:54:02.000000000",
          "2025-04-12T08:53:58.000000000",
          "2025-04-12T09:53:55.000000000",
          "2025-04-12T10:53:54.000000000",
          "2025-04-12T11:53:56.000000000",
          "2025-04-12T12:54:03.000000000",
          "2025-04-12T13:54:01.000000000",
          "2025-04-12T14:53:53.000000000",
          "2025-04-12T15:53:53.000000000",
          "2025-04-12T16:54:07.000000000",
          "2025-04-12T17:53:50.000000000",
          "2025-04-12T18:53:52.000000000",
          "2025-04-12T19:53:54.000000000",
          "2025-04-12T20:54:03.000000000",
          "2025-04-12T21:53:57.000000000",
          "2025-04-13T09:12:55.000000000",
          "2025-04-13T10:12:40.000000000",
          "2025-04-13T11:12:28.000000000",
          "2025-04-13T12:12:53.000000000",
          "2025-04-13T13:12:45.000000000",
          "2025-04-13T14:12:55.000000000",
          "2025-04-13T15:12:45.000000000",
          "2025-04-13T16:12:45.000000000",
          "2025-04-13T17:13:18.000000000",
          "2025-04-13T18:12:43.000000000",
          "2025-04-13T19:12:56.000000000",
          "2025-04-13T20:12:49.000000000",
          "2025-04-13T21:12:39.000000000",
          "2025-04-13T22:12:41.000000000"
         ],
         "xaxis": "x",
         "y": {
          "bdata": "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",
          "dtype": "f8"
         },
         "yaxis": "y"
        }
       ],
       "layout": {
        "height": 600,
        "hoverlabel": {
         "bgcolor": "white",
         "font": {
          "size": 12
         }
        },
        "hovermode": "closest",
        "legend": {
         "itemsizing": "constant",
         "title": {
          "text": "Flight Route"
         },
         "tracegroupgap": 0
        },
        "shapes": [
         {
          "line": {
           "color": "gray",
           "dash": "dash",
           "width": 1
          },
          "type": "line",
          "x0": "2025-03-25T11:32:55",
          "x1": "2025-04-13T22:12:41",
          "y0": 0,
          "y1": 0
         }
        ],
        "template": {
         "data": {
          "bar": [
           {
            "error_x": {
             "color": "#2a3f5f"
            },
            "error_y": {
             "color": "#2a3f5f"
            },
            "marker": {
             "line": {
              "color": "#E5ECF6",
              "width": 0.5
             },
             "pattern": {
              "fillmode": "overlay",
              "size": 10,
              "solidity": 0.2
             }
            },
            "type": "bar"
           }
          ],
          "barpolar": [
           {
            "marker": {
             "line": {
              "color": "#E5ECF6",
              "width": 0.5
             },
             "pattern": {
              "fillmode": "overlay",
              "size": 10,
              "solidity": 0.2
             }
            },
            "type": "barpolar"
           }
          ],
          "carpet": [
           {
            "aaxis": {
             "endlinecolor": "#2a3f5f",
             "gridcolor": "white",
             "linecolor": "white",
             "minorgridcolor": "white",
             "startlinecolor": "#2a3f5f"
            },
            "baxis": {
             "endlinecolor": "#2a3f5f",
             "gridcolor": "white",
             "linecolor": "white",
             "minorgridcolor": "white",
             "startlinecolor": "#2a3f5f"
            },
            "type": "carpet"
           }
          ],
          "choropleth": [
           {
            "colorbar": {
             "outlinewidth": 0,
             "ticks": ""
            },
            "type": "choropleth"
           }
          ],
          "contour": [
           {
            "colorbar": {
             "outlinewidth": 0,
             "ticks": ""
            },
            "colorscale": [
             [
              0,
              "#0d0887"
             ],
             [
              0.1111111111111111,
              "#46039f"
             ],
             [
              0.2222222222222222,
              "#7201a8"
             ],
             [
              0.3333333333333333,
              "#9c179e"
             ],
             [
              0.4444444444444444,
              "#bd3786"
             ],
             [
              0.5555555555555556,
              "#d8576b"
             ],
             [
              0.6666666666666666,
              "#ed7953"
             ],
             [
              0.7777777777777778,
              "#fb9f3a"
             ],
             [
              0.8888888888888888,
              "#fdca26"
             ],
             [
              1,
              "#f0f921"
             ]
            ],
            "type": "contour"
           }
          ],
          "contourcarpet": [
           {
            "colorbar": {
             "outlinewidth": 0,
             "ticks": ""
            },
            "type": "contourcarpet"
           }
          ],
          "heatmap": [
           {
            "colorbar": {
             "outlinewidth": 0,
             "ticks": ""
            },
            "colorscale": [
             [
              0,
              "#0d0887"
             ],
             [
              0.1111111111111111,
              "#46039f"
             ],
             [
              0.2222222222222222,
              "#7201a8"
             ],
             [
              0.3333333333333333,
              "#9c179e"
             ],
             [
              0.4444444444444444,
              "#bd3786"
             ],
             [
              0.5555555555555556,
              "#d8576b"
             ],
             [
              0.6666666666666666,
              "#ed7953"
             ],
             [
              0.7777777777777778,
              "#fb9f3a"
             ],
             [
              0.8888888888888888,
              "#fdca26"
             ],
             [
              1,
              "#f0f921"
             ]
            ],
            "type": "heatmap"
           }
          ],
          "histogram": [
           {
            "marker": {
             "pattern": {
              "fillmode": "overlay",
              "size": 10,
              "solidity": 0.2
             }
            },
            "type": "histogram"
           }
          ],
          "histogram2d": [
           {
            "colorbar": {
             "outlinewidth": 0,
             "ticks": ""
            },
            "colorscale": [
             [
              0,
              "#0d0887"
             ],
             [
              0.1111111111111111,
              "#46039f"
             ],
             [
              0.2222222222222222,
              "#7201a8"
             ],
             [
              0.3333333333333333,
              "#9c179e"
             ],
             [
              0.4444444444444444,
              "#bd3786"
             ],
             [
              0.5555555555555556,
              "#d8576b"
             ],
             [
              0.6666666666666666,
              "#ed7953"
             ],
             [
              0.7777777777777778,
              "#fb9f3a"
             ],
             [
              0.8888888888888888,
              "#fdca26"
             ],
             [
              1,
              "#f0f921"
             ]
            ],
            "type": "histogram2d"
           }
          ],
          "histogram2dcontour": [
           {
            "colorbar": {
             "outlinewidth": 0,
             "ticks": ""
            },
            "colorscale": [
             [
              0,
              "#0d0887"
             ],
             [
              0.1111111111111111,
              "#46039f"
             ],
             [
              0.2222222222222222,
              "#7201a8"
             ],
             [
              0.3333333333333333,
              "#9c179e"
             ],
             [
              0.4444444444444444,
              "#bd3786"
             ],
             [
              0.5555555555555556,
              "#d8576b"
             ],
             [
              0.6666666666666666,
              "#ed7953"
             ],
             [
              0.7777777777777778,
              "#fb9f3a"
             ],
             [
              0.8888888888888888,
              "#fdca26"
             ],
             [
              1,
              "#f0f921"
             ]
            ],
            "type": "histogram2dcontour"
           }
          ],
          "mesh3d": [
           {
            "colorbar": {
             "outlinewidth": 0,
             "ticks": ""
            },
            "type": "mesh3d"
           }
          ],
          "parcoords": [
           {
            "line": {
             "colorbar": {
              "outlinewidth": 0,
              "ticks": ""
             }
            },
            "type": "parcoords"
           }
          ],
          "pie": [
           {
            "automargin": true,
            "type": "pie"
           }
          ],
          "scatter": [
           {
            "fillpattern": {
             "fillmode": "overlay",
             "size": 10,
             "solidity": 0.2
            },
            "type": "scatter"
           }
          ],
          "scatter3d": [
           {
            "line": {
             "colorbar": {
              "outlinewidth": 0,
              "ticks": ""
             }
            },
            "marker": {
             "colorbar": {
              "outlinewidth": 0,
              "ticks": ""
             }
            },
            "type": "scatter3d"
           }
          ],
          "scattercarpet": [
           {
            "marker": {
             "colorbar": {
              "outlinewidth": 0,
              "ticks": ""
             }
            },
            "type": "scattercarpet"
           }
          ],
          "scattergeo": [
           {
            "marker": {
             "colorbar": {
              "outlinewidth": 0,
              "ticks": ""
             }
            },
            "type": "scattergeo"
           }
          ],
          "scattergl": [
           {
            "marker": {
             "colorbar": {
              "outlinewidth": 0,
              "ticks": ""
             }
            },
            "type": "scattergl"
           }
          ],
          "scattermap": [
           {
            "marker": {
             "colorbar": {
              "outlinewidth": 0,
              "ticks": ""
             }
            },
            "type": "scattermap"
           }
          ],
          "scattermapbox": [
           {
            "marker": {
             "colorbar": {
              "outlinewidth": 0,
              "ticks": ""
             }
            },
            "type": "scattermapbox"
           }
          ],
          "scatterpolar": [
           {
            "marker": {
             "colorbar": {
              "outlinewidth": 0,
              "ticks": ""
             }
            },
            "type": "scatterpolar"
           }
          ],
          "scatterpolargl": [
           {
            "marker": {
             "colorbar": {
              "outlinewidth": 0,
              "ticks": ""
             }
            },
            "type": "scatterpolargl"
           }
          ],
          "scatterternary": [
           {
            "marker": {
             "colorbar": {
              "outlinewidth": 0,
              "ticks": ""
             }
            },
            "type": "scatterternary"
           }
          ],
          "surface": [
           {
            "colorbar": {
             "outlinewidth": 0,
             "ticks": ""
            },
            "colorscale": [
             [
              0,
              "#0d0887"
             ],
             [
              0.1111111111111111,
              "#46039f"
             ],
             [
              0.2222222222222222,
              "#7201a8"
             ],
             [
              0.3333333333333333,
              "#9c179e"
             ],
             [
              0.4444444444444444,
              "#bd3786"
             ],
             [
              0.5555555555555556,
              "#d8576b"
             ],
             [
              0.6666666666666666,
              "#ed7953"
             ],
             [
              0.7777777777777778,
              "#fb9f3a"
             ],
             [
              0.8888888888888888,
              "#fdca26"
             ],
             [
              1,
              "#f0f921"
             ]
            ],
            "type": "surface"
           }
          ],
          "table": [
           {
            "cells": {
             "fill": {
              "color": "#EBF0F8"
             },
             "line": {
              "color": "white"
             }
            },
            "header": {
             "fill": {
              "color": "#C8D4E3"
             },
             "line": {
              "color": "white"
             }
            },
            "type": "table"
           }
          ]
         },
         "layout": {
          "annotationdefaults": {
           "arrowcolor": "#2a3f5f",
           "arrowhead": 0,
           "arrowwidth": 1
          },
          "autotypenumbers": "strict",
          "coloraxis": {
           "colorbar": {
            "outlinewidth": 0,
            "ticks": ""
           }
          },
          "colorscale": {
           "diverging": [
            [
             0,
             "#8e0152"
            ],
            [
             0.1,
             "#c51b7d"
            ],
            [
             0.2,
             "#de77ae"
            ],
            [
             0.3,
             "#f1b6da"
            ],
            [
             0.4,
             "#fde0ef"
            ],
            [
             0.5,
             "#f7f7f7"
            ],
            [
             0.6,
             "#e6f5d0"
            ],
            [
             0.7,
             "#b8e186"
            ],
            [
             0.8,
             "#7fbc41"
            ],
            [
             0.9,
             "#4d9221"
            ],
            [
             1,
             "#276419"
            ]
           ],
           "sequential": [
            [
             0,
             "#0d0887"
            ],
            [
             0.1111111111111111,
             "#46039f"
            ],
            [
             0.2222222222222222,
             "#7201a8"
            ],
            [
             0.3333333333333333,
             "#9c179e"
            ],
            [
             0.4444444444444444,
             "#bd3786"
            ],
            [
             0.5555555555555556,
             "#d8576b"
            ],
            [
             0.6666666666666666,
             "#ed7953"
            ],
            [
             0.7777777777777778,
             "#fb9f3a"
            ],
            [
             0.8888888888888888,
             "#fdca26"
            ],
            [
             1,
             "#f0f921"
            ]
           ],
           "sequentialminus": [
            [
             0,
             "#0d0887"
            ],
            [
             0.1111111111111111,
             "#46039f"
            ],
            [
             0.2222222222222222,
             "#7201a8"
            ],
            [
             0.3333333333333333,
             "#9c179e"
            ],
            [
             0.4444444444444444,
             "#bd3786"
            ],
            [
             0.5555555555555556,
             "#d8576b"
            ],
            [
             0.6666666666666666,
             "#ed7953"
            ],
            [
             0.7777777777777778,
             "#fb9f3a"
            ],
            [
             0.8888888888888888,
             "#fdca26"
            ],
            [
             1,
             "#f0f921"
            ]
           ]
          },
          "colorway": [
           "#636efa",
           "#EF553B",
           "#00cc96",
           "#ab63fa",
           "#FFA15A",
           "#19d3f3",
           "#FF6692",
           "#B6E880",
           "#FF97FF",
           "#FECB52"
          ],
          "font": {
           "color": "#2a3f5f"
          },
          "geo": {
           "bgcolor": "white",
           "lakecolor": "white",
           "landcolor": "#E5ECF6",
           "showlakes": true,
           "showland": true,
           "subunitcolor": "white"
          },
          "hoverlabel": {
           "align": "left"
          },
          "hovermode": "closest",
          "mapbox": {
           "style": "light"
          },
          "paper_bgcolor": "white",
          "plot_bgcolor": "#E5ECF6",
          "polar": {
           "angularaxis": {
            "gridcolor": "white",
            "linecolor": "white",
            "ticks": ""
           },
           "bgcolor": "#E5ECF6",
           "radialaxis": {
            "gridcolor": "white",
            "linecolor": "white",
            "ticks": ""
           }
          },
          "scene": {
           "xaxis": {
            "backgroundcolor": "#E5ECF6",
            "gridcolor": "white",
            "gridwidth": 2,
            "linecolor": "white",
            "showbackground": true,
            "ticks": "",
            "zerolinecolor": "white"
           },
           "yaxis": {
            "backgroundcolor": "#E5ECF6",
            "gridcolor": "white",
            "gridwidth": 2,
            "linecolor": "white",
            "showbackground": true,
            "ticks": "",
            "zerolinecolor": "white"
           },
           "zaxis": {
            "backgroundcolor": "#E5ECF6",
            "gridcolor": "white",
            "gridwidth": 2,
            "linecolor": "white",
            "showbackground": true,
            "ticks": "",
            "zerolinecolor": "white"
           }
          },
          "shapedefaults": {
           "line": {
            "color": "#2a3f5f"
           }
          },
          "ternary": {
           "aaxis": {
            "gridcolor": "white",
            "linecolor": "white",
            "ticks": ""
           },
           "baxis": {
            "gridcolor": "white",
            "linecolor": "white",
            "ticks": ""
           },
           "bgcolor": "#E5ECF6",
           "caxis": {
            "gridcolor": "white",
            "linecolor": "white",
            "ticks": ""
           }
          },
          "title": {
           "x": 0.05
          },
          "xaxis": {
           "automargin": true,
           "gridcolor": "white",
           "linecolor": "white",
           "ticks": "",
           "title": {
            "standoff": 15
           },
           "zerolinecolor": "white",
           "zerolinewidth": 2
          },
          "yaxis": {
           "automargin": true,
           "gridcolor": "white",
           "linecolor": "white",
           "ticks": "",
           "title": {
            "standoff": 15
           },
           "zerolinecolor": "white",
           "zerolinewidth": 2
          }
         }
        },
        "title": {
         "font": {
          "size": 20
         },
         "text": "Price Changes Over Time",
         "x": 0.5
        },
        "width": 1000,
        "xaxis": {
         "anchor": "y",
         "domain": [
          0,
          1
         ],
         "tickformat": "%Y-%m-%d %H:%M",
         "title": {
          "text": "Date and Time"
         }
        },
        "yaxis": {
         "anchor": "x",
         "domain": [
          0,
          1
         ],
         "title": {
          "text": "Price Change (EUR)"
         }
        }
       }
      }
     },
     "metadata": {},
     "output_type": "display_data"
    }
   ],
   "source": [
    "# Calculate daily price changes\n",
    "price_changes = {}\n",
    "\n",
    "for flight in unique_flights:\n",
    "    flight_data = df[df['Flight'] == flight].sort_values('Datetime')\n",
    "    flight_data['Price_Change'] = flight_data['Price_EUR'].diff()\n",
    "    flight_data['Price_Change_Pct'] = flight_data['Price_EUR'].pct_change() * 100\n",
    "    price_changes[flight] = flight_data\n",
    "\n",
    "# Create a dataframe with all price changes\n",
    "price_change_df = pd.concat(price_changes.values())\n",
    "\n",
    "# Create interactive price change chart\n",
    "fig = px.scatter(price_change_df.dropna(), x='Datetime', y='Price_Change', color='Flight',\n",
    "                 size=abs(price_change_df.dropna()['Price_Change']), size_max=15,\n",
    "                 title='Price Changes Over Time',\n",
    "                 labels={'Datetime': 'Date and Time', 'Price_Change': 'Price Change (EUR)', 'Flight': 'Flight Route'})\n",
    "\n",
    "# Add zero line\n",
    "fig.add_shape(type=\"line\", x0=price_change_df['Datetime'].min(), y0=0, \n",
    "              x1=price_change_df['Datetime'].max(), y1=0,\n",
    "              line=dict(color=\"gray\", width=1, dash=\"dash\"))\n",
    "\n",
    "# Improve the layout\n",
    "fig.update_layout(\n",
    "    height=600,\n",
    "    width=1000,\n",
    "    hovermode='closest',\n",
    "    hoverlabel=dict(bgcolor=\"white\", font_size=12),\n",
    "    xaxis=dict(tickformat='%Y-%m-%d %H:%M'),\n",
    "    title=dict(font=dict(size=20), x=0.5)\n",
    ")\n",
    "\n",
    "# Customize hover information to show price change details\n",
    "fig.update_traces(hovertemplate='<b>%{fullData.name}</b><br>Date: %{x|%Y-%m-%d %H:%M}<br>Price Change: €%{y:.2f}')\n",
    "\n",
    "# Show the plot\n",
    "fig.show()"
   ]
  },
  {
   "cell_type": "markdown",
   "id": "89272b65",
   "metadata": {},
   "source": [
    "## Interactive 3D Price Visualization"
   ]
  },
  {
   "cell_type": "code",
   "execution_count": 14,
   "id": "4db37c81",
   "metadata": {},
   "outputs": [
    {
     "data": {
      "application/vnd.plotly.v1+json": {
       "config": {
        "plotlyServerURL": "https://plot.ly"
       },
       "data": [
        {
         "hovertemplate": "<b>%{fullData.name}</b><br>Day: %{x}<br>Hour: %{y}:00<br>Price: €%{z:.2f}",
         "legendgroup": "SDU->BSB",
         "marker": {
          "color": "#636efa",
          "symbol": "circle"
         },
         "mode": "markers",
         "name": "SDU->BSB",
         "scene": "scene",
         "showlegend": true,
         "type": "scatter3d",
         "x": {
          "bdata": "AAAAAAAAAAAAAAAAAQEBAwMDAwMEBAQEBAQFBQUFBQYGBgkJCgoKCgoKCgoLCwsLCwwMDAwMDAwMDA0NDg4ODg4ODg4ODg4ODg4ODg4ODg4ODw8PDw8PDw8PDw8PDw8PDw8PDw8QEBAQEBAQEBAQEBAQEBAQEBARERERERERERERERERERERERERERESEhISEhISEhISEhITExMTExMTEw==",
          "dtype": "i1"
         },
         "y": {
          "bdata": "CwAAAAwAAAANAAAADgAAAA8AAAAQAAAAEAAAABUAAAAXAAAACQAAAAoAAAALAAAADQAAAA4AAAARAAAAFAAAABUAAAAJAAAACwAAAAsAAAAMAAAADQAAAA4AAAAQAAAAEQAAABQAAAASAAAAFAAAABUAAAAKAAAACgAAAAsAAAAOAAAADwAAAAoAAAALAAAADAAAAA0AAAAPAAAAEAAAABEAAAASAAAAEwAAABQAAAARAAAAEgAAAAkAAAAKAAAACwAAAAwAAAANAAAADwAAABEAAAASAAAAEwAAABQAAAAVAAAAFgAAAAkAAAAKAAAACwAAAAwAAAANAAAADgAAAA8AAAAQAAAAEQAAABIAAAAUAAAAFQAAABYAAAAXAAAAAAAAAAEAAAACAAAAAwAAAAQAAAAFAAAABgAAAAcAAAAJAAAACwAAAAwAAAANAAAADgAAAA8AAAAQAAAAEgAAABMAAAAVAAAAFwAAAAAAAAABAAAAAwAAAAQAAAAFAAAABgAAAAcAAAAIAAAACQAAAAoAAAALAAAADAAAAA0AAAAOAAAADwAAABAAAAASAAAAFQAAABYAAAAAAAAAAQAAAAIAAAADAAAABAAAAAUAAAAHAAAACAAAAAkAAAALAAAADAAAAA0AAAAOAAAAEAAAABEAAAASAAAAEwAAABQAAAAVAAAAFgAAABcAAAAAAAAAAgAAAAMAAAAFAAAABgAAAAcAAAAIAAAACQAAAAoAAAALAAAADAAAAA0AAAAOAAAADwAAABAAAAARAAAAEgAAABMAAAAUAAAAFQAAAAoAAAAMAAAADQAAAA8AAAAQAAAAEgAAABQAAAAVAAAAFgAAAA==",
          "dtype": "i4"
         },
         "z": {
          "bdata": "4XoUrkdJb0DhehSuR0lvQOF6FK5HSW9A4XoUrkdJb0DhehSuR0lvQOF6FK5HSW9A4XoUrkdJb0DhehSuR0lvQOF6FK5HSW9APQrXo3CVb0A9CtejcJVvQD0K16NwlW9APQrXo3CVb0A9CtejcJVvQAAAAAAAiG9Aw/UoXI/iY0DD9Shcj+JjQK5H4XoUTm1ArkfhehRObUCuR+F6FE5tQK5H4XoUTm1ArkfhehRObUDNzMzMzHRtQM3MzMzMdG1A16NwPQrjcEDNzMzMzHRtQKRwPQrXi25ApHA9CteLbkCkcD0K14tuQOxRuB6FU29A7FG4HoVTb0DsUbgehVNvQOxRuB6FU29A7FG4HoVTb0C4HoXrUSBnQEjhehSub2dASOF6FK5vZ0BI4XoUrm9nQEjhehSub2dASOF6FK5vZ0AK16NwPQpmQHsUrkfhem1AKVyPwvW4b0ApXI/C9bhvQMP1KFyP2mxAw/UoXI/abEAAAAAAAHhuQAAAAAAAeG5AAAAAAAB4bkAAAAAAAHhuQAAAAAAAeG5AAAAAAAB4bkAAAAAAAHhuQAAAAAAAeG5AAAAAAAB4bkAAAAAAAHhuQAAAAAAAeG5AAAAAAAB4bkBSuB6F6+FhQFK4HoXr4WFApHA9CtfLYUCkcD0K18thQKRwPQrXy2FApHA9CtfLYUCkcD0K18thQKRwPQrXy2FApHA9CtfLYUCkcD0K18thQKRwPQrXy2FApHA9CtfLYUCkcD0K18thQKRwPQrXy2FACtejcD0iYkBmZmZmZuZlQGZmZmZm5mVAZmZmZmbmZUBmZmZmZuZlQPYoXI/CvWVA9ihcj8K9ZUD2KFyPwr1lQPYoXI/CvWVA9ihcj8K9ZUD2KFyPwr1lQPYoXI/CvWVA16NwPQrnZUDXo3A9CudlQNejcD0K52VA16NwPQrnZUC4HoXrUVhrQLgehetRWGtAuB6F61FYa0DD9Shcj5JrQMP1KFyPkmtAw/UoXI+Sa0DD9Shcj5JrQJqZmZmZEWtAmpmZmZkRa0CamZmZmRFrQJqZmZmZEWtAmpmZmZkRa0CamZmZmRFrQJqZmZmZEWtAmpmZmZkRa0CamZmZmRFrQJqZmZmZEWtAmpmZmZkRa0BSuB6F67FlQFK4HoXrsWVAUrgeheuxZUBSuB6F67FlQGZmZmZmJmZAZmZmZmYmZkBmZmZmZiZmQGZmZmZmJmZAZmZmZmYmZkCamZmZmaFmQJqZmZmZoWZAmpmZmZmhZkCamZmZmaFmQJqZmZmZoWZAmpmZmZmhZkCamZmZmaFmQJqZmZmZoWZAmpmZmZmhZkBSuB6F60FsQFK4HoXrQWxAUrgehetBbEBSuB6F60FsQFK4HoXrQWxAUrgehetBbEBSuB6F60FsQFK4HoXrkWtAUrgeheuRa0BSuB6F65FrQHsUrkfhumtAexSuR+G6a0B7FK5H4bprQHsUrkfhumtAexSuR+G6a0B7FK5H4bprQHsUrkfhumtAexSuR+G6a0B7FK5H4bprQHsUrkfhumtAexSuR+G6a0B7FK5H4bprQHsUrkfhumtAexSuR+G6a0B7FK5H4bprQHsUrkfhumtAexSuR+G6a0CuR+F6FI5rQK5H4XoUjmtArkfhehSOa0CuR+F6FI5rQK5H4XoUjmtArkfhehSOa0CuR+F6FI5rQK5H4XoUjmtArkfhehSOa0A=",
          "dtype": "f8"
         }
        },
        {
         "hovertemplate": "<b>%{fullData.name}</b><br>Day: %{x}<br>Hour: %{y}:00<br>Price: €%{z:.2f}",
         "legendgroup": "BSB->SSA",
         "marker": {
          "color": "#EF553B",
          "symbol": "circle"
         },
         "mode": "markers",
         "name": "BSB->SSA",
         "scene": "scene",
         "showlegend": true,
         "type": "scatter3d",
         "x": {
          "bdata": "AAAAAAAAAAAAAAAAAQEBAQEDAwMDBAQEBAQEBQUFBQYGBgYJCQoKCgoKCgoKCwsLCwsMDAwMDAwMDAwMDQ0ODg4ODg4ODg4ODg4ODg4ODg4ODg4PDw8PDw8PDw8PDw8PDw8PDw8PDxAQEBAQEBAQEBAQEBAQEBAQEBERERERERERERERERERERERERERERISEhISEhISEhISEhITExMTExMTEw==",
          "dtype": "i1"
         },
         "y": {
          "bdata": "CwAAAAsAAAAMAAAADQAAAA4AAAAPAAAAEAAAABAAAAAXAAAACQAAAAoAAAALAAAADAAAAA0AAAAOAAAAEAAAABEAAAAUAAAAFQAAABYAAAALAAAADAAAAA0AAAAOAAAAEAAAABEAAAAUAAAAEgAAABQAAAAVAAAACgAAAAsAAAANAAAADgAAAA8AAAAKAAAACwAAAAwAAAANAAAADwAAABAAAAARAAAAEgAAABMAAAAUAAAAEQAAABIAAAAJAAAACgAAAAsAAAAMAAAADQAAAA8AAAAQAAAAEQAAABIAAAATAAAAFAAAABUAAAAWAAAACQAAAAoAAAALAAAADAAAAA0AAAAOAAAADwAAABAAAAARAAAAEgAAABQAAAAVAAAAFgAAABcAAAAAAAAAAQAAAAIAAAADAAAABAAAAAUAAAAGAAAABwAAAAkAAAALAAAADAAAAA0AAAAOAAAADwAAABAAAAASAAAAEwAAABUAAAAXAAAAAAAAAAEAAAADAAAABAAAAAUAAAAGAAAABwAAAAgAAAAJAAAACgAAAAsAAAAMAAAADQAAAA4AAAAPAAAAEAAAABIAAAAVAAAAFgAAAAAAAAABAAAAAgAAAAMAAAAEAAAABQAAAAcAAAAIAAAACQAAAAsAAAAMAAAADQAAAA4AAAAQAAAAEQAAABIAAAATAAAAFAAAABUAAAAWAAAAFwAAAAAAAAACAAAAAwAAAAUAAAAGAAAABwAAAAgAAAAJAAAACgAAAAsAAAAMAAAADQAAAA4AAAAPAAAAEAAAABEAAAASAAAAEwAAABQAAAAVAAAACgAAAAsAAAAMAAAADQAAAA8AAAAQAAAAEgAAABQAAAAVAAAAFgAAAA==",
          "dtype": "i4"
         },
         "z": {
          "bdata": "cT0K16NMckBxPQrXo0xyQHE9CtejTHJAcT0K16NMckBxPQrXo0xyQHE9CtejTHJAcT0K16NMckBxPQrXo0xyQHE9CtejTHJAcT0K16NMckBxPQrXo0xyQHE9CtejTHJAcT0K16NMckBxPQrXo0xyQHE9CtejTHJAcT0K16NMckBxPQrXo0xyQHE9CtejTHJAcT0K16NMckBxPQrXo0xyQJqZmZmZEXJAmpmZmZkRckCamZmZmRFyQJqZmZmZEXJAmpmZmZkRckApXI/C9TRyQM3MzMzM9HFApHA9CtcDckCkcD0K1wNyQKRwPQrXA3JAcT0K16NMckBxPQrXo0xyQHE9CtejTHJAcT0K16NMckBxPQrXo0xyQHE9CtejTHJAcT0K16NMckBxPQrXo0xyQHE9CtejTHJAcT0K16NMckBxPQrXo0xyQHE9CtejTHJAcT0K16NMckDsUbgehSNyQOxRuB6FI3JAexSuR+FycUB7FK5H4XJxQClcj8L1lHFAKVyPwvWUcUApXI/C9ZRxQClcj8L1lHFAKVyPwvWUcUApXI/C9ZRxQClcj8L1lHFAKVyPwvWUcUApXI/C9ZRxQClcj8L1lHFAKVyPwvWUcUApXI/C9ZRxQClcj8L1lHFAXI/C9Sg4ckBcj8L1KDhyQFyPwvUoOHJAXI/C9Sg4ckBcj8L1KDhyQFyPwvUoOHJAXI/C9Sg4ckBcj8L1KDhyQFyPwvUoOHJAXI/C9Sg4ckBcj8L1KDhyQFyPwvUoOHJAXI/C9Sg4ckCF61G4Hr1xQOxRuB6FE3JA7FG4HoUTckDsUbgehRNyQOxRuB6FE3JA7FG4HoUTckBcj8L1KDhyQFyPwvUoOHJAXI/C9Sg4ckBcj8L1KDhyQFyPwvUoOHJAXI/C9Sg4ckBcj8L1KDhyQFyPwvUoOHJAXI/C9Sg4ckBcj8L1KDhyQFyPwvUoOHJAXI/C9Sg4ckDsUbgehQ9yQMP1KFyP5nBAw/UoXI8KcUDNzMzMzLBwQM3MzMzMsHBAzczMzMywcEDNzMzMzLBwQClcj8L14HFAKVyPwvXgcUApXI/C9eBxQClcj8L14HFAKVyPwvXgcUApXI/C9eBxQClcj8L14HFAKVyPwvXgcUApXI/C9eBxQClcj8L14HFASOF6FK7XcUBI4XoUrtdxQEjhehSu13FASOF6FK7XcUCamZmZmdlwQM3MzMzMsHBAzczMzMywcEDNzMzMzLBwQJqZmZmZ2XBArkfhehRqcUCuR+F6FGpxQK5H4XoUanFArkfhehRqcUCuR+F6FGpxQK5H4XoUanFArkfhehRqcUCuR+F6FGpxQK5H4XoUanFAmpmZmZm5cEAAAAAAAAxwQOF6FK5HcW1ACtejcD2ibEAK16NwPaJsQArXo3A9omxACtejcD2ibEAK16NwPaJsQArXo3A9omxACtejcD2ibEAK16NwPaJsQArXo3A9omxACtejcD2ibEAK16NwPaJsQArXo3A9omxACtejcD2ibEAK16NwPaJsQArXo3A9omxACtejcD2ibEAK16NwPaJsQArXo3A9omxACtejcD2ibEAK16NwPaJsQArXo3A9omxACtejcD2ibEAK16NwPaJsQArXo3A9omxA9ihcj8KdbED2KFyPwp1sQPYoXI/CnWxA9ihcj8KdbED2KFyPwp1sQPYoXI/CnWxA9ihcj8KdbED2KFyPwp1sQArXo3A9YmxACtejcD1ibEA=",
          "dtype": "f8"
         }
        },
        {
         "hovertemplate": "<b>%{fullData.name}</b><br>Day: %{x}<br>Hour: %{y}:00<br>Price: €%{z:.2f}",
         "legendgroup": "ORY->GIG, SSA->ORY",
         "marker": {
          "color": "#00cc96",
          "symbol": "circle"
         },
         "mode": "markers",
         "name": "ORY->GIG, SSA->ORY",
         "scene": "scene",
         "showlegend": true,
         "type": "scatter3d",
         "x": {
          "bdata": "AAAAAAAAAAAAAAAAAQEBAQEBAwMDAwQEBAQEBAQEBAQFBQUFBQYGBgYGBgYJCQoKCgoKCgoKCgoLCwsLCwwMDAwMDAwMDAwMDQ0ODg4ODg4ODg4ODg4ODg4ODg4ODg4ODg4PDw8PDw8PDw8PDw8PDw8PDw8PDw8PDw8QEBAQEBAQEBAQEBAQEBAQEBAQEBAQEBARERERERERERERERERERERERERERERERESEhISEhISEhISEhISEhMTExMTExMTExMT",
          "dtype": "i1"
         },
         "y": {
          "bdata": "CwAAAAsAAAAMAAAADQAAAA4AAAAPAAAAEAAAABAAAAAXAAAACQAAAAoAAAALAAAADAAAAA0AAAAOAAAADwAAABAAAAARAAAAFAAAABUAAAAWAAAACwAAAAwAAAANAAAADgAAAA8AAAAQAAAAEQAAABIAAAATAAAAFAAAABUAAAASAAAAEwAAABQAAAAVAAAACgAAAAsAAAAMAAAADQAAAA4AAAAPAAAAEAAAABEAAAAKAAAACwAAAAwAAAANAAAADgAAAA8AAAAQAAAAEQAAABIAAAATAAAAFAAAABUAAAARAAAAEgAAAAkAAAAKAAAACwAAAAwAAAANAAAADgAAAA8AAAAQAAAAEQAAABIAAAATAAAAFAAAABUAAAAWAAAACQAAAAoAAAALAAAADAAAAA0AAAAOAAAADwAAABAAAAARAAAAEgAAABMAAAAUAAAAFQAAABYAAAAXAAAAAAAAAAEAAAACAAAAAwAAAAQAAAAFAAAABgAAAAcAAAAIAAAACQAAAAoAAAALAAAADAAAAA0AAAAOAAAADwAAABAAAAARAAAAEgAAABMAAAAUAAAAFQAAABYAAAAXAAAAAAAAAAEAAAACAAAAAwAAAAQAAAAFAAAABgAAAAcAAAAIAAAACQAAAAoAAAALAAAADAAAAA0AAAAOAAAADwAAABAAAAARAAAAEgAAABMAAAAUAAAAFQAAABYAAAAXAAAAAAAAAAEAAAACAAAAAwAAAAQAAAAFAAAABgAAAAcAAAAIAAAACQAAAAoAAAALAAAADAAAAA0AAAAOAAAADwAAABAAAAARAAAAEgAAABMAAAAUAAAAFQAAABYAAAAXAAAAAAAAAAEAAAACAAAAAwAAAAQAAAAFAAAABgAAAAcAAAAIAAAACQAAAAoAAAALAAAADAAAAA0AAAAOAAAADwAAABAAAAARAAAAEgAAABMAAAAUAAAAFQAAAAkAAAAKAAAACwAAAAwAAAANAAAADgAAAA8AAAAQAAAAEQAAABIAAAATAAAAFAAAABUAAAAWAAAA",
          "dtype": "i4"
         },
         "z": {
          "bdata": "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",
          "dtype": "f8"
         }
        }
       ],
       "layout": {
        "height": 800,
        "legend": {
         "title": {
          "text": "Flight Route"
         },
         "tracegroupgap": 0
        },
        "margin": {
         "b": 0,
         "l": 0,
         "r": 0,
         "t": 50
        },
        "scene": {
         "domain": {
          "x": [
           0,
           1
          ],
          "y": [
           0,
           1
          ]
         },
         "xaxis": {
          "nticks": 10,
          "title": {
           "text": "Days (from first data point)"
          }
         },
         "yaxis": {
          "nticks": 24,
          "title": {
           "text": "Hour of Day"
          }
         },
         "zaxis": {
          "title": {
           "text": "Price (EUR)"
          }
         }
        },
        "template": {
         "data": {
          "bar": [
           {
            "error_x": {
             "color": "#2a3f5f"
            },
            "error_y": {
             "color": "#2a3f5f"
            },
            "marker": {
             "line": {
              "color": "#E5ECF6",
              "width": 0.5
             },
             "pattern": {
              "fillmode": "overlay",
              "size": 10,
              "solidity": 0.2
             }
            },
            "type": "bar"
           }
          ],
          "barpolar": [
           {
            "marker": {
             "line": {
              "color": "#E5ECF6",
              "width": 0.5
             },
             "pattern": {
              "fillmode": "overlay",
              "size": 10,
              "solidity": 0.2
             }
            },
            "type": "barpolar"
           }
          ],
          "carpet": [
           {
            "aaxis": {
             "endlinecolor": "#2a3f5f",
             "gridcolor": "white",
             "linecolor": "white",
             "minorgridcolor": "white",
             "startlinecolor": "#2a3f5f"
            },
            "baxis": {
             "endlinecolor": "#2a3f5f",
             "gridcolor": "white",
             "linecolor": "white",
             "minorgridcolor": "white",
             "startlinecolor": "#2a3f5f"
            },
            "type": "carpet"
           }
          ],
          "choropleth": [
           {
            "colorbar": {
             "outlinewidth": 0,
             "ticks": ""
            },
            "type": "choropleth"
           }
          ],
          "contour": [
           {
            "colorbar": {
             "outlinewidth": 0,
             "ticks": ""
            },
            "colorscale": [
             [
              0,
              "#0d0887"
             ],
             [
              0.1111111111111111,
              "#46039f"
             ],
             [
              0.2222222222222222,
              "#7201a8"
             ],
             [
              0.3333333333333333,
              "#9c179e"
             ],
             [
              0.4444444444444444,
              "#bd3786"
             ],
             [
              0.5555555555555556,
              "#d8576b"
             ],
             [
              0.6666666666666666,
              "#ed7953"
             ],
             [
              0.7777777777777778,
              "#fb9f3a"
             ],
             [
              0.8888888888888888,
              "#fdca26"
             ],
             [
              1,
              "#f0f921"
             ]
            ],
            "type": "contour"
           }
          ],
          "contourcarpet": [
           {
            "colorbar": {
             "outlinewidth": 0,
             "ticks": ""
            },
            "type": "contourcarpet"
           }
          ],
          "heatmap": [
           {
            "colorbar": {
             "outlinewidth": 0,
             "ticks": ""
            },
            "colorscale": [
             [
              0,
              "#0d0887"
             ],
             [
              0.1111111111111111,
              "#46039f"
             ],
             [
              0.2222222222222222,
              "#7201a8"
             ],
             [
              0.3333333333333333,
              "#9c179e"
             ],
             [
              0.4444444444444444,
              "#bd3786"
             ],
             [
              0.5555555555555556,
              "#d8576b"
             ],
             [
              0.6666666666666666,
              "#ed7953"
             ],
             [
              0.7777777777777778,
              "#fb9f3a"
             ],
             [
              0.8888888888888888,
              "#fdca26"
             ],
             [
              1,
              "#f0f921"
             ]
            ],
            "type": "heatmap"
           }
          ],
          "histogram": [
           {
            "marker": {
             "pattern": {
              "fillmode": "overlay",
              "size": 10,
              "solidity": 0.2
             }
            },
            "type": "histogram"
           }
          ],
          "histogram2d": [
           {
            "colorbar": {
             "outlinewidth": 0,
             "ticks": ""
            },
            "colorscale": [
             [
              0,
              "#0d0887"
             ],
             [
              0.1111111111111111,
              "#46039f"
             ],
             [
              0.2222222222222222,
              "#7201a8"
             ],
             [
              0.3333333333333333,
              "#9c179e"
             ],
             [
              0.4444444444444444,
              "#bd3786"
             ],
             [
              0.5555555555555556,
              "#d8576b"
             ],
             [
              0.6666666666666666,
              "#ed7953"
             ],
             [
              0.7777777777777778,
              "#fb9f3a"
             ],
             [
              0.8888888888888888,
              "#fdca26"
             ],
             [
              1,
              "#f0f921"
             ]
            ],
            "type": "histogram2d"
           }
          ],
          "histogram2dcontour": [
           {
            "colorbar": {
             "outlinewidth": 0,
             "ticks": ""
            },
            "colorscale": [
             [
              0,
              "#0d0887"
             ],
             [
              0.1111111111111111,
              "#46039f"
             ],
             [
              0.2222222222222222,
              "#7201a8"
             ],
             [
              0.3333333333333333,
              "#9c179e"
             ],
             [
              0.4444444444444444,
              "#bd3786"
             ],
             [
              0.5555555555555556,
              "#d8576b"
             ],
             [
              0.6666666666666666,
              "#ed7953"
             ],
             [
              0.7777777777777778,
              "#fb9f3a"
             ],
             [
              0.8888888888888888,
              "#fdca26"
             ],
             [
              1,
              "#f0f921"
             ]
            ],
            "type": "histogram2dcontour"
           }
          ],
          "mesh3d": [
           {
            "colorbar": {
             "outlinewidth": 0,
             "ticks": ""
            },
            "type": "mesh3d"
           }
          ],
          "parcoords": [
           {
            "line": {
             "colorbar": {
              "outlinewidth": 0,
              "ticks": ""
             }
            },
            "type": "parcoords"
           }
          ],
          "pie": [
           {
            "automargin": true,
            "type": "pie"
           }
          ],
          "scatter": [
           {
            "fillpattern": {
             "fillmode": "overlay",
             "size": 10,
             "solidity": 0.2
            },
            "type": "scatter"
           }
          ],
          "scatter3d": [
           {
            "line": {
             "colorbar": {
              "outlinewidth": 0,
              "ticks": ""
             }
            },
            "marker": {
             "colorbar": {
              "outlinewidth": 0,
              "ticks": ""
             }
            },
            "type": "scatter3d"
           }
          ],
          "scattercarpet": [
           {
            "marker": {
             "colorbar": {
              "outlinewidth": 0,
              "ticks": ""
             }
            },
            "type": "scattercarpet"
           }
          ],
          "scattergeo": [
           {
            "marker": {
             "colorbar": {
              "outlinewidth": 0,
              "ticks": ""
             }
            },
            "type": "scattergeo"
           }
          ],
          "scattergl": [
           {
            "marker": {
             "colorbar": {
              "outlinewidth": 0,
              "ticks": ""
             }
            },
            "type": "scattergl"
           }
          ],
          "scattermap": [
           {
            "marker": {
             "colorbar": {
              "outlinewidth": 0,
              "ticks": ""
             }
            },
            "type": "scattermap"
           }
          ],
          "scattermapbox": [
           {
            "marker": {
             "colorbar": {
              "outlinewidth": 0,
              "ticks": ""
             }
            },
            "type": "scattermapbox"
           }
          ],
          "scatterpolar": [
           {
            "marker": {
             "colorbar": {
              "outlinewidth": 0,
              "ticks": ""
             }
            },
            "type": "scatterpolar"
           }
          ],
          "scatterpolargl": [
           {
            "marker": {
             "colorbar": {
              "outlinewidth": 0,
              "ticks": ""
             }
            },
            "type": "scatterpolargl"
           }
          ],
          "scatterternary": [
           {
            "marker": {
             "colorbar": {
              "outlinewidth": 0,
              "ticks": ""
             }
            },
            "type": "scatterternary"
           }
          ],
          "surface": [
           {
            "colorbar": {
             "outlinewidth": 0,
             "ticks": ""
            },
            "colorscale": [
             [
              0,
              "#0d0887"
             ],
             [
              0.1111111111111111,
              "#46039f"
             ],
             [
              0.2222222222222222,
              "#7201a8"
             ],
             [
              0.3333333333333333,
              "#9c179e"
             ],
             [
              0.4444444444444444,
              "#bd3786"
             ],
             [
              0.5555555555555556,
              "#d8576b"
             ],
             [
              0.6666666666666666,
              "#ed7953"
             ],
             [
              0.7777777777777778,
              "#fb9f3a"
             ],
             [
              0.8888888888888888,
              "#fdca26"
             ],
             [
              1,
              "#f0f921"
             ]
            ],
            "type": "surface"
           }
          ],
          "table": [
           {
            "cells": {
             "fill": {
              "color": "#EBF0F8"
             },
             "line": {
              "color": "white"
             }
            },
            "header": {
             "fill": {
              "color": "#C8D4E3"
             },
             "line": {
              "color": "white"
             }
            },
            "type": "table"
           }
          ]
         },
         "layout": {
          "annotationdefaults": {
           "arrowcolor": "#2a3f5f",
           "arrowhead": 0,
           "arrowwidth": 1
          },
          "autotypenumbers": "strict",
          "coloraxis": {
           "colorbar": {
            "outlinewidth": 0,
            "ticks": ""
           }
          },
          "colorscale": {
           "diverging": [
            [
             0,
             "#8e0152"
            ],
            [
             0.1,
             "#c51b7d"
            ],
            [
             0.2,
             "#de77ae"
            ],
            [
             0.3,
             "#f1b6da"
            ],
            [
             0.4,
             "#fde0ef"
            ],
            [
             0.5,
             "#f7f7f7"
            ],
            [
             0.6,
             "#e6f5d0"
            ],
            [
             0.7,
             "#b8e186"
            ],
            [
             0.8,
             "#7fbc41"
            ],
            [
             0.9,
             "#4d9221"
            ],
            [
             1,
             "#276419"
            ]
           ],
           "sequential": [
            [
             0,
             "#0d0887"
            ],
            [
             0.1111111111111111,
             "#46039f"
            ],
            [
             0.2222222222222222,
             "#7201a8"
            ],
            [
             0.3333333333333333,
             "#9c179e"
            ],
            [
             0.4444444444444444,
             "#bd3786"
            ],
            [
             0.5555555555555556,
             "#d8576b"
            ],
            [
             0.6666666666666666,
             "#ed7953"
            ],
            [
             0.7777777777777778,
             "#fb9f3a"
            ],
            [
             0.8888888888888888,
             "#fdca26"
            ],
            [
             1,
             "#f0f921"
            ]
           ],
           "sequentialminus": [
            [
             0,
             "#0d0887"
            ],
            [
             0.1111111111111111,
             "#46039f"
            ],
            [
             0.2222222222222222,
             "#7201a8"
            ],
            [
             0.3333333333333333,
             "#9c179e"
            ],
            [
             0.4444444444444444,
             "#bd3786"
            ],
            [
             0.5555555555555556,
             "#d8576b"
            ],
            [
             0.6666666666666666,
             "#ed7953"
            ],
            [
             0.7777777777777778,
             "#fb9f3a"
            ],
            [
             0.8888888888888888,
             "#fdca26"
            ],
            [
             1,
             "#f0f921"
            ]
           ]
          },
          "colorway": [
           "#636efa",
           "#EF553B",
           "#00cc96",
           "#ab63fa",
           "#FFA15A",
           "#19d3f3",
           "#FF6692",
           "#B6E880",
           "#FF97FF",
           "#FECB52"
          ],
          "font": {
           "color": "#2a3f5f"
          },
          "geo": {
           "bgcolor": "white",
           "lakecolor": "white",
           "landcolor": "#E5ECF6",
           "showlakes": true,
           "showland": true,
           "subunitcolor": "white"
          },
          "hoverlabel": {
           "align": "left"
          },
          "hovermode": "closest",
          "mapbox": {
           "style": "light"
          },
          "paper_bgcolor": "white",
          "plot_bgcolor": "#E5ECF6",
          "polar": {
           "angularaxis": {
            "gridcolor": "white",
            "linecolor": "white",
            "ticks": ""
           },
           "bgcolor": "#E5ECF6",
           "radialaxis": {
            "gridcolor": "white",
            "linecolor": "white",
            "ticks": ""
           }
          },
          "scene": {
           "xaxis": {
            "backgroundcolor": "#E5ECF6",
            "gridcolor": "white",
            "gridwidth": 2,
            "linecolor": "white",
            "showbackground": true,
            "ticks": "",
            "zerolinecolor": "white"
           },
           "yaxis": {
            "backgroundcolor": "#E5ECF6",
            "gridcolor": "white",
            "gridwidth": 2,
            "linecolor": "white",
            "showbackground": true,
            "ticks": "",
            "zerolinecolor": "white"
           },
           "zaxis": {
            "backgroundcolor": "#E5ECF6",
            "gridcolor": "white",
            "gridwidth": 2,
            "linecolor": "white",
            "showbackground": true,
            "ticks": "",
            "zerolinecolor": "white"
           }
          },
          "shapedefaults": {
           "line": {
            "color": "#2a3f5f"
           }
          },
          "ternary": {
           "aaxis": {
            "gridcolor": "white",
            "linecolor": "white",
            "ticks": ""
           },
           "baxis": {
            "gridcolor": "white",
            "linecolor": "white",
            "ticks": ""
           },
           "bgcolor": "#E5ECF6",
           "caxis": {
            "gridcolor": "white",
            "linecolor": "white",
            "ticks": ""
           }
          },
          "title": {
           "x": 0.05
          },
          "xaxis": {
           "automargin": true,
           "gridcolor": "white",
           "linecolor": "white",
           "ticks": "",
           "title": {
            "standoff": 15
           },
           "zerolinecolor": "white",
           "zerolinewidth": 2
          },
          "yaxis": {
           "automargin": true,
           "gridcolor": "white",
           "linecolor": "white",
           "ticks": "",
           "title": {
            "standoff": 15
           },
           "zerolinecolor": "white",
           "zerolinewidth": 2
          }
         }
        },
        "title": {
         "font": {
          "size": 20
         },
         "text": "3D Visualization of Flight Prices Over Time",
         "x": 0.5
        },
        "width": 1000
       }
      }
     },
     "metadata": {},
     "output_type": "display_data"
    }
   ],
   "source": [
    "# Create a datetime index for consecutive numbers\n",
    "df['Day_Number'] = (df['Datetime'] - df['Datetime'].min()).dt.days\n",
    "\n",
    "# Create 3D scatter plot\n",
    "fig = px.scatter_3d(df, x='Day_Number', y='Hour', z='Price_EUR', color='Flight',\n",
    "                    title='3D Visualization of Flight Prices Over Time',\n",
    "                    labels={'Day_Number': 'Days (from first data point)', \n",
    "                           'Hour': 'Hour of Day', \n",
    "                           'Price_EUR': 'Price (EUR)', \n",
    "                           'Flight': 'Flight Route'})\n",
    "\n",
    "# Improve the layout\n",
    "fig.update_layout(\n",
    "    height=800,\n",
    "    width=1000,\n",
    "    scene=dict(\n",
    "        xaxis_title='Days (from first data point)',\n",
    "        yaxis_title='Hour of Day',\n",
    "        zaxis_title='Price (EUR)',\n",
    "        xaxis=dict(nticks=10),\n",
    "        yaxis=dict(nticks=24),\n",
    "    ),\n",
    "    margin=dict(l=0, r=0, b=0, t=50),\n",
    "    title=dict(font=dict(size=20), x=0.5)\n",
    ")\n",
    "\n",
    "# Update hover template\n",
    "fig.update_traces(hovertemplate='<b>%{fullData.name}</b><br>Day: %{x}<br>Hour: %{y}:00<br>Price: €%{z:.2f}')\n",
    "\n",
    "# Show the plot\n",
    "fig.show()"
   ]
  },
  {
   "cell_type": "markdown",
   "id": "84414d10",
   "metadata": {},
   "source": [
    "## Summary Statistics"
   ]
  },
  {
   "cell_type": "code",
   "execution_count": 15,
   "id": "f0a3f340",
   "metadata": {},
   "outputs": [
    {
     "data": {
      "application/vnd.plotly.v1+json": {
       "config": {
        "plotlyServerURL": "https://plot.ly"
       },
       "data": [
        {
         "cells": {
          "align": "left",
          "fill": {
           "color": [
            "white",
            [
             "lightgreen",
             "lightgreen",
             "lightgreen"
            ],
            "white",
            [
             "lightgreen",
             "lightgreen",
             "lightgreen"
            ],
            "white",
            [
             "lightgreen",
             "lightgreen",
             "lightgreen"
            ],
            [
             "lightgreen",
             "lightgreen",
             "lightgreen"
            ],
            "white"
           ]
          },
          "format": [
           null,
           ".2f",
           ".2f",
           ".2f",
           ".2f",
           ".2f",
           ".2f%",
           null
          ],
          "values": [
           [
            "BSB->SSA",
            "ORY->GIG, SSA->ORY",
            "SDU->BSB"
           ],
           [
            227.07,
            4242.28,
            142.37
           ],
           [
            292.79,
            4956.95,
            270.19
           ],
           [
            273.98,
            4516.08,
            209.62
           ],
           [
            1700,
            27000,
            1500
           ],
           [
            -1426.02,
            -22483.92,
            -1290.38
           ],
           [
            -83.88,
            -83.27,
            -86.03
           ],
           [
            20,
            20,
            20
           ]
          ]
         },
         "header": {
          "align": "left",
          "fill": {
           "color": "paleturquoise"
          },
          "values": [
           "Flight",
           "Min Price (€)",
           "Max Price (€)",
           "Avg Price (€)",
           "Target Price (€)",
           "Diff from Target (€)",
           "Diff %",
           "Days Monitored"
          ]
         },
         "type": "table"
        }
       ],
       "layout": {
        "height": 300,
        "template": {
         "data": {
          "bar": [
           {
            "error_x": {
             "color": "#2a3f5f"
            },
            "error_y": {
             "color": "#2a3f5f"
            },
            "marker": {
             "line": {
              "color": "#E5ECF6",
              "width": 0.5
             },
             "pattern": {
              "fillmode": "overlay",
              "size": 10,
              "solidity": 0.2
             }
            },
            "type": "bar"
           }
          ],
          "barpolar": [
           {
            "marker": {
             "line": {
              "color": "#E5ECF6",
              "width": 0.5
             },
             "pattern": {
              "fillmode": "overlay",
              "size": 10,
              "solidity": 0.2
             }
            },
            "type": "barpolar"
           }
          ],
          "carpet": [
           {
            "aaxis": {
             "endlinecolor": "#2a3f5f",
             "gridcolor": "white",
             "linecolor": "white",
             "minorgridcolor": "white",
             "startlinecolor": "#2a3f5f"
            },
            "baxis": {
             "endlinecolor": "#2a3f5f",
             "gridcolor": "white",
             "linecolor": "white",
             "minorgridcolor": "white",
             "startlinecolor": "#2a3f5f"
            },
            "type": "carpet"
           }
          ],
          "choropleth": [
           {
            "colorbar": {
             "outlinewidth": 0,
             "ticks": ""
            },
            "type": "choropleth"
           }
          ],
          "contour": [
           {
            "colorbar": {
             "outlinewidth": 0,
             "ticks": ""
            },
            "colorscale": [
             [
              0,
              "#0d0887"
             ],
             [
              0.1111111111111111,
              "#46039f"
             ],
             [
              0.2222222222222222,
              "#7201a8"
             ],
             [
              0.3333333333333333,
              "#9c179e"
             ],
             [
              0.4444444444444444,
              "#bd3786"
             ],
             [
              0.5555555555555556,
              "#d8576b"
             ],
             [
              0.6666666666666666,
              "#ed7953"
             ],
             [
              0.7777777777777778,
              "#fb9f3a"
             ],
             [
              0.8888888888888888,
              "#fdca26"
             ],
             [
              1,
              "#f0f921"
             ]
            ],
            "type": "contour"
           }
          ],
          "contourcarpet": [
           {
            "colorbar": {
             "outlinewidth": 0,
             "ticks": ""
            },
            "type": "contourcarpet"
           }
          ],
          "heatmap": [
           {
            "colorbar": {
             "outlinewidth": 0,
             "ticks": ""
            },
            "colorscale": [
             [
              0,
              "#0d0887"
             ],
             [
              0.1111111111111111,
              "#46039f"
             ],
             [
              0.2222222222222222,
              "#7201a8"
             ],
             [
              0.3333333333333333,
              "#9c179e"
             ],
             [
              0.4444444444444444,
              "#bd3786"
             ],
             [
              0.5555555555555556,
              "#d8576b"
             ],
             [
              0.6666666666666666,
              "#ed7953"
             ],
             [
              0.7777777777777778,
              "#fb9f3a"
             ],
             [
              0.8888888888888888,
              "#fdca26"
             ],
             [
              1,
              "#f0f921"
             ]
            ],
            "type": "heatmap"
           }
          ],
          "histogram": [
           {
            "marker": {
             "pattern": {
              "fillmode": "overlay",
              "size": 10,
              "solidity": 0.2
             }
            },
            "type": "histogram"
           }
          ],
          "histogram2d": [
           {
            "colorbar": {
             "outlinewidth": 0,
             "ticks": ""
            },
            "colorscale": [
             [
              0,
              "#0d0887"
             ],
             [
              0.1111111111111111,
              "#46039f"
             ],
             [
              0.2222222222222222,
              "#7201a8"
             ],
             [
              0.3333333333333333,
              "#9c179e"
             ],
             [
              0.4444444444444444,
              "#bd3786"
             ],
             [
              0.5555555555555556,
              "#d8576b"
             ],
             [
              0.6666666666666666,
              "#ed7953"
             ],
             [
              0.7777777777777778,
              "#fb9f3a"
             ],
             [
              0.8888888888888888,
              "#fdca26"
             ],
             [
              1,
              "#f0f921"
             ]
            ],
            "type": "histogram2d"
           }
          ],
          "histogram2dcontour": [
           {
            "colorbar": {
             "outlinewidth": 0,
             "ticks": ""
            },
            "colorscale": [
             [
              0,
              "#0d0887"
             ],
             [
              0.1111111111111111,
              "#46039f"
             ],
             [
              0.2222222222222222,
              "#7201a8"
             ],
             [
              0.3333333333333333,
              "#9c179e"
             ],
             [
              0.4444444444444444,
              "#bd3786"
             ],
             [
              0.5555555555555556,
              "#d8576b"
             ],
             [
              0.6666666666666666,
              "#ed7953"
             ],
             [
              0.7777777777777778,
              "#fb9f3a"
             ],
             [
              0.8888888888888888,
              "#fdca26"
             ],
             [
              1,
              "#f0f921"
             ]
            ],
            "type": "histogram2dcontour"
           }
          ],
          "mesh3d": [
           {
            "colorbar": {
             "outlinewidth": 0,
             "ticks": ""
            },
            "type": "mesh3d"
           }
          ],
          "parcoords": [
           {
            "line": {
             "colorbar": {
              "outlinewidth": 0,
              "ticks": ""
             }
            },
            "type": "parcoords"
           }
          ],
          "pie": [
           {
            "automargin": true,
            "type": "pie"
           }
          ],
          "scatter": [
           {
            "fillpattern": {
             "fillmode": "overlay",
             "size": 10,
             "solidity": 0.2
            },
            "type": "scatter"
           }
          ],
          "scatter3d": [
           {
            "line": {
             "colorbar": {
              "outlinewidth": 0,
              "ticks": ""
             }
            },
            "marker": {
             "colorbar": {
              "outlinewidth": 0,
              "ticks": ""
             }
            },
            "type": "scatter3d"
           }
          ],
          "scattercarpet": [
           {
            "marker": {
             "colorbar": {
              "outlinewidth": 0,
              "ticks": ""
             }
            },
            "type": "scattercarpet"
           }
          ],
          "scattergeo": [
           {
            "marker": {
             "colorbar": {
              "outlinewidth": 0,
              "ticks": ""
             }
            },
            "type": "scattergeo"
           }
          ],
          "scattergl": [
           {
            "marker": {
             "colorbar": {
              "outlinewidth": 0,
              "ticks": ""
             }
            },
            "type": "scattergl"
           }
          ],
          "scattermap": [
           {
            "marker": {
             "colorbar": {
              "outlinewidth": 0,
              "ticks": ""
             }
            },
            "type": "scattermap"
           }
          ],
          "scattermapbox": [
           {
            "marker": {
             "colorbar": {
              "outlinewidth": 0,
              "ticks": ""
             }
            },
            "type": "scattermapbox"
           }
          ],
          "scatterpolar": [
           {
            "marker": {
             "colorbar": {
              "outlinewidth": 0,
              "ticks": ""
             }
            },
            "type": "scatterpolar"
           }
          ],
          "scatterpolargl": [
           {
            "marker": {
             "colorbar": {
              "outlinewidth": 0,
              "ticks": ""
             }
            },
            "type": "scatterpolargl"
           }
          ],
          "scatterternary": [
           {
            "marker": {
             "colorbar": {
              "outlinewidth": 0,
              "ticks": ""
             }
            },
            "type": "scatterternary"
           }
          ],
          "surface": [
           {
            "colorbar": {
             "outlinewidth": 0,
             "ticks": ""
            },
            "colorscale": [
             [
              0,
              "#0d0887"
             ],
             [
              0.1111111111111111,
              "#46039f"
             ],
             [
              0.2222222222222222,
              "#7201a8"
             ],
             [
              0.3333333333333333,
              "#9c179e"
             ],
             [
              0.4444444444444444,
              "#bd3786"
             ],
             [
              0.5555555555555556,
              "#d8576b"
             ],
             [
              0.6666666666666666,
              "#ed7953"
             ],
             [
              0.7777777777777778,
              "#fb9f3a"
             ],
             [
              0.8888888888888888,
              "#fdca26"
             ],
             [
              1,
              "#f0f921"
             ]
            ],
            "type": "surface"
           }
          ],
          "table": [
           {
            "cells": {
             "fill": {
              "color": "#EBF0F8"
             },
             "line": {
              "color": "white"
             }
            },
            "header": {
             "fill": {
              "color": "#C8D4E3"
             },
             "line": {
              "color": "white"
             }
            },
            "type": "table"
           }
          ]
         },
         "layout": {
          "annotationdefaults": {
           "arrowcolor": "#2a3f5f",
           "arrowhead": 0,
           "arrowwidth": 1
          },
          "autotypenumbers": "strict",
          "coloraxis": {
           "colorbar": {
            "outlinewidth": 0,
            "ticks": ""
           }
          },
          "colorscale": {
           "diverging": [
            [
             0,
             "#8e0152"
            ],
            [
             0.1,
             "#c51b7d"
            ],
            [
             0.2,
             "#de77ae"
            ],
            [
             0.3,
             "#f1b6da"
            ],
            [
             0.4,
             "#fde0ef"
            ],
            [
             0.5,
             "#f7f7f7"
            ],
            [
             0.6,
             "#e6f5d0"
            ],
            [
             0.7,
             "#b8e186"
            ],
            [
             0.8,
             "#7fbc41"
            ],
            [
             0.9,
             "#4d9221"
            ],
            [
             1,
             "#276419"
            ]
           ],
           "sequential": [
            [
             0,
             "#0d0887"
            ],
            [
             0.1111111111111111,
             "#46039f"
            ],
            [
             0.2222222222222222,
             "#7201a8"
            ],
            [
             0.3333333333333333,
             "#9c179e"
            ],
            [
             0.4444444444444444,
             "#bd3786"
            ],
            [
             0.5555555555555556,
             "#d8576b"
            ],
            [
             0.6666666666666666,
             "#ed7953"
            ],
            [
             0.7777777777777778,
             "#fb9f3a"
            ],
            [
             0.8888888888888888,
             "#fdca26"
            ],
            [
             1,
             "#f0f921"
            ]
           ],
           "sequentialminus": [
            [
             0,
             "#0d0887"
            ],
            [
             0.1111111111111111,
             "#46039f"
            ],
            [
             0.2222222222222222,
             "#7201a8"
            ],
            [
             0.3333333333333333,
             "#9c179e"
            ],
            [
             0.4444444444444444,
             "#bd3786"
            ],
            [
             0.5555555555555556,
             "#d8576b"
            ],
            [
             0.6666666666666666,
             "#ed7953"
            ],
            [
             0.7777777777777778,
             "#fb9f3a"
            ],
            [
             0.8888888888888888,
             "#fdca26"
            ],
            [
             1,
             "#f0f921"
            ]
           ]
          },
          "colorway": [
           "#636efa",
           "#EF553B",
           "#00cc96",
           "#ab63fa",
           "#FFA15A",
           "#19d3f3",
           "#FF6692",
           "#B6E880",
           "#FF97FF",
           "#FECB52"
          ],
          "font": {
           "color": "#2a3f5f"
          },
          "geo": {
           "bgcolor": "white",
           "lakecolor": "white",
           "landcolor": "#E5ECF6",
           "showlakes": true,
           "showland": true,
           "subunitcolor": "white"
          },
          "hoverlabel": {
           "align": "left"
          },
          "hovermode": "closest",
          "mapbox": {
           "style": "light"
          },
          "paper_bgcolor": "white",
          "plot_bgcolor": "#E5ECF6",
          "polar": {
           "angularaxis": {
            "gridcolor": "white",
            "linecolor": "white",
            "ticks": ""
           },
           "bgcolor": "#E5ECF6",
           "radialaxis": {
            "gridcolor": "white",
            "linecolor": "white",
            "ticks": ""
           }
          },
          "scene": {
           "xaxis": {
            "backgroundcolor": "#E5ECF6",
            "gridcolor": "white",
            "gridwidth": 2,
            "linecolor": "white",
            "showbackground": true,
            "ticks": "",
            "zerolinecolor": "white"
           },
           "yaxis": {
            "backgroundcolor": "#E5ECF6",
            "gridcolor": "white",
            "gridwidth": 2,
            "linecolor": "white",
            "showbackground": true,
            "ticks": "",
            "zerolinecolor": "white"
           },
           "zaxis": {
            "backgroundcolor": "#E5ECF6",
            "gridcolor": "white",
            "gridwidth": 2,
            "linecolor": "white",
            "showbackground": true,
            "ticks": "",
            "zerolinecolor": "white"
           }
          },
          "shapedefaults": {
           "line": {
            "color": "#2a3f5f"
           }
          },
          "ternary": {
           "aaxis": {
            "gridcolor": "white",
            "linecolor": "white",
            "ticks": ""
           },
           "baxis": {
            "gridcolor": "white",
            "linecolor": "white",
            "ticks": ""
           },
           "bgcolor": "#E5ECF6",
           "caxis": {
            "gridcolor": "white",
            "linecolor": "white",
            "ticks": ""
           }
          },
          "title": {
           "x": 0.05
          },
          "xaxis": {
           "automargin": true,
           "gridcolor": "white",
           "linecolor": "white",
           "ticks": "",
           "title": {
            "standoff": 15
           },
           "zerolinecolor": "white",
           "zerolinewidth": 2
          },
          "yaxis": {
           "automargin": true,
           "gridcolor": "white",
           "linecolor": "white",
           "ticks": "",
           "title": {
            "standoff": 15
           },
           "zerolinecolor": "white",
           "zerolinewidth": 2
          }
         }
        },
        "title": {
         "text": "Flight Price Statistics Summary"
        },
        "width": 1000
       }
      }
     },
     "metadata": {},
     "output_type": "display_data"
    }
   ],
   "source": [
    "# Calculate comprehensive statistics for each flight\n",
    "flight_stats = df.groupby('Flight').agg(\n",
    "    min_price=('Price_EUR', 'min'),\n",
    "    max_price=('Price_EUR', 'max'),\n",
    "    avg_price=('Price_EUR', 'mean'),\n",
    "    median_price=('Price_EUR', 'median'),\n",
    "    std_price=('Price_EUR', 'std'),\n",
    "    price_range=('Price_EUR', lambda x: x.max() - x.min()),\n",
    "    records=('Price_EUR', 'count'),\n",
    "    first_date=('Datetime', 'min'),\n",
    "    last_date=('Datetime', 'max')\n",
    ").reset_index()\n",
    "\n",
    "# Add target price and difference columns\n",
    "flight_stats = flight_stats.merge(\n",
    "    df[['Flight', 'Target_Price']].drop_duplicates(),\n",
    "    on='Flight'\n",
    ")\n",
    "\n",
    "flight_stats['diff_from_target'] = flight_stats['avg_price'] - flight_stats['Target_Price']\n",
    "flight_stats['pct_diff'] = (flight_stats['diff_from_target'] / flight_stats['Target_Price']) * 100\n",
    "flight_stats['days_monitored'] = (flight_stats['last_date'] - flight_stats['first_date']).dt.days + 1\n",
    "\n",
    "# Display the statistics in a formatted table using Plotly\n",
    "fig = go.Figure(data=[go.Table(\n",
    "    header=dict(values=['Flight', 'Min Price (€)', 'Max Price (€)', 'Avg Price (€)', \n",
    "                        'Target Price (€)', 'Diff from Target (€)', 'Diff %', 'Days Monitored'],\n",
    "                fill_color='paleturquoise',\n",
    "                align='left'),\n",
    "    cells=dict(values=[flight_stats['Flight'], \n",
    "                      flight_stats['min_price'].round(2), \n",
    "                      flight_stats['max_price'].round(2), \n",
    "                      flight_stats['avg_price'].round(2),\n",
    "                      flight_stats['Target_Price'].round(2),\n",
    "                      flight_stats['diff_from_target'].round(2),\n",
    "                      flight_stats['pct_diff'].round(2),\n",
    "                      flight_stats['days_monitored']],\n",
    "               fill_color=['white', \n",
    "                          ['lightgreen' if val <= target else 'lightcoral' \n",
    "                           for val, target in zip(flight_stats['min_price'], flight_stats['Target_Price'])],\n",
    "                          'white',\n",
    "                          ['lightgreen' if val <= target else 'lightcoral' \n",
    "                           for val, target in zip(flight_stats['avg_price'], flight_stats['Target_Price'])],\n",
    "                          'white',\n",
    "                          ['lightgreen' if val <= 0 else 'lightcoral' \n",
    "                           for val in flight_stats['diff_from_target']],\n",
    "                          ['lightgreen' if val <= 0 else 'lightcoral' \n",
    "                           for val in flight_stats['pct_diff']],\n",
    "                          'white'],\n",
    "               align='left',\n",
    "               format=[None, '.2f', '.2f', '.2f', '.2f', '.2f', '.2f%', None]))\n",
    "])\n",
    "\n",
    "fig.update_layout(\n",
    "    title='Flight Price Statistics Summary',\n",
    "    height=150 + 50*len(flight_stats),\n",
    "    width=1000\n",
    ")\n",
    "\n",
    "fig.show()"
   ]
  },
  {
   "cell_type": "markdown",
   "id": "77131969",
   "metadata": {},
   "source": [
    "## Summary and Conclusion\n",
    "\n",
    "This analysis provides interactive visualizations of flight price trends over time. Key features include:\n",
    "\n",
    "1. **Interactive time series** showing exact price movements with precise datetime on the x-axis\n",
    "2. **Price comparison against targets** with clear visual indicators\n",
    "3. **Distribution analysis** to understand the price ranges and frequencies\n",
    "4. **Time-based patterns** including daily averages and hourly trends\n",
    "5. **Price change monitoring** to detect significant price movements\n",
    "6. **3D visualization** offering a unique perspective on price variations across time dimensions\n",
    "\n",
    "The interactive nature of these Plotly visualizations allows for deeper exploration by hovering, zooming, and filtering to uncover insights that might help in making optimal flight booking decisions."
   ]
  },
  {
   "cell_type": "markdown",
   "id": "d5317edf",
   "metadata": {},
   "source": [
    "## Individual Flight Price Trends\n",
    "\n",
    "Let's create separate graphs for each flight route to analyze their price trends independently. This will make it easier to see the patterns specific to each route without the visual clutter of multiple lines on the same graph."
   ]
  },
  {
   "cell_type": "code",
   "execution_count": 16,
   "id": "a355dd4f",
   "metadata": {},
   "outputs": [
    {
     "name": "stdout",
     "output_type": "stream",
     "text": [
      "Saved flight graph to flight_price_SDU_to_BSB.html\n"
     ]
    },
    {
     "data": {
      "application/vnd.plotly.v1+json": {
       "config": {
        "plotlyServerURL": "https://plot.ly"
       },
       "data": [
        {
         "hovertemplate": "<b>%{fullData.name}</b><br>Date: %{x|%Y-%m-%d %H:%M}<br>Price: €%{y:.2f}",
         "line": {
          "width": 2
         },
         "marker": {
          "size": 6
         },
         "mode": "lines+markers",
         "name": "SDU->BSB Price",
         "type": "scatter",
         "x": [
          "2025-03-25T11:32:55.000000000",
          "2025-03-25T12:46:21.000000000",
          "2025-03-25T13:46:23.000000000",
          "2025-03-25T14:46:21.000000000",
          "2025-03-25T15:46:20.000000000",
          "2025-03-25T16:15:01.000000000",
          "2025-03-25T16:19:10.000000000",
          "2025-03-25T21:53:00.000000000",
          "2025-03-25T23:07:06.000000000",
          "2025-03-26T09:16:27.000000000",
          "2025-03-26T10:16:21.000000000",
          "2025-03-26T11:16:23.000000000",
          "2025-03-26T13:16:19.000000000",
          "2025-03-26T14:16:21.000000000",
          "2025-03-26T17:16:22.000000000",
          "2025-03-28T20:02:14.000000000",
          "2025-03-28T21:02:12.000000000",
          "2025-03-29T09:00:24.000000000",
          "2025-03-29T11:12:45.000000000",
          "2025-03-29T11:18:20.000000000",
          "2025-03-29T12:18:23.000000000",
          "2025-03-29T13:18:23.000000000",
          "2025-03-29T14:18:22.000000000",
          "2025-03-29T16:18:24.000000000",
          "2025-03-29T17:18:29.000000000",
          "2025-03-29T20:18:22.000000000",
          "2025-03-30T18:15:13.000000000",
          "2025-03-30T20:15:14.000000000",
          "2025-03-30T21:15:15.000000000",
          "2025-03-31T10:47:30.000000000",
          "2025-03-31T10:48:33.000000000",
          "2025-03-31T11:48:34.000000000",
          "2025-03-31T14:48:39.000000000",
          "2025-03-31T15:48:34.000000000",
          "2025-04-04T10:19:49.000000000",
          "2025-04-04T11:19:47.000000000",
          "2025-04-04T12:19:47.000000000",
          "2025-04-04T13:19:47.000000000",
          "2025-04-04T15:19:47.000000000",
          "2025-04-04T16:19:47.000000000",
          "2025-04-04T17:19:45.000000000",
          "2025-04-04T18:19:47.000000000",
          "2025-04-04T19:19:53.000000000",
          "2025-04-04T20:19:47.000000000",
          "2025-04-05T17:22:26.000000000",
          "2025-04-05T18:22:23.000000000",
          "2025-04-06T09:29:50.000000000",
          "2025-04-06T10:29:51.000000000",
          "2025-04-06T11:29:59.000000000",
          "2025-04-06T12:29:53.000000000",
          "2025-04-06T13:29:53.000000000",
          "2025-04-06T15:29:54.000000000",
          "2025-04-06T17:29:54.000000000",
          "2025-04-06T18:29:53.000000000",
          "2025-04-06T19:29:54.000000000",
          "2025-04-06T20:29:51.000000000",
          "2025-04-06T21:29:53.000000000",
          "2025-04-06T22:29:54.000000000",
          "2025-04-08T09:52:50.000000000",
          "2025-04-08T10:52:52.000000000",
          "2025-04-08T11:52:51.000000000",
          "2025-04-08T12:52:53.000000000",
          "2025-04-08T13:52:50.000000000",
          "2025-04-08T14:52:51.000000000",
          "2025-04-08T15:52:52.000000000",
          "2025-04-08T16:52:53.000000000",
          "2025-04-08T17:52:50.000000000",
          "2025-04-08T18:52:49.000000000",
          "2025-04-08T20:52:52.000000000",
          "2025-04-08T21:52:57.000000000",
          "2025-04-08T22:52:50.000000000",
          "2025-04-08T23:52:50.000000000",
          "2025-04-09T00:52:52.000000000",
          "2025-04-09T01:52:53.000000000",
          "2025-04-09T02:52:50.000000000",
          "2025-04-09T03:52:50.000000000",
          "2025-04-09T04:52:53.000000000",
          "2025-04-09T05:52:53.000000000",
          "2025-04-09T06:52:53.000000000",
          "2025-04-09T07:52:53.000000000",
          "2025-04-09T09:52:53.000000000",
          "2025-04-09T11:52:54.000000000",
          "2025-04-09T12:52:51.000000000",
          "2025-04-09T13:52:53.000000000",
          "2025-04-09T14:52:53.000000000",
          "2025-04-09T15:52:53.000000000",
          "2025-04-09T16:52:53.000000000",
          "2025-04-09T18:52:59.000000000",
          "2025-04-09T19:52:54.000000000",
          "2025-04-09T21:52:53.000000000",
          "2025-04-09T23:52:53.000000000",
          "2025-04-10T00:52:53.000000000",
          "2025-04-10T01:52:53.000000000",
          "2025-04-10T03:52:54.000000000",
          "2025-04-10T04:52:54.000000000",
          "2025-04-10T05:52:54.000000000",
          "2025-04-10T06:52:55.000000000",
          "2025-04-10T07:52:55.000000000",
          "2025-04-10T08:52:52.000000000",
          "2025-04-10T09:52:52.000000000",
          "2025-04-10T10:52:55.000000000",
          "2025-04-10T11:52:54.000000000",
          "2025-04-10T12:53:02.000000000",
          "2025-04-10T13:52:54.000000000",
          "2025-04-10T14:52:54.000000000",
          "2025-04-10T15:52:55.000000000",
          "2025-04-10T16:52:56.000000000",
          "2025-04-10T18:52:53.000000000",
          "2025-04-10T21:52:56.000000000",
          "2025-04-10T22:53:03.000000000",
          "2025-04-11T00:52:56.000000000",
          "2025-04-11T01:53:04.000000000",
          "2025-04-11T02:52:56.000000000",
          "2025-04-11T03:52:55.000000000",
          "2025-04-11T04:52:56.000000000",
          "2025-04-11T05:53:00.000000000",
          "2025-04-11T07:52:56.000000000",
          "2025-04-11T08:53:02.000000000",
          "2025-04-11T09:52:57.000000000",
          "2025-04-11T11:52:56.000000000",
          "2025-04-11T12:52:54.000000000",
          "2025-04-11T13:52:56.000000000",
          "2025-04-11T14:52:56.000000000",
          "2025-04-11T16:52:56.000000000",
          "2025-04-11T17:52:57.000000000",
          "2025-04-11T18:52:57.000000000",
          "2025-04-11T19:52:57.000000000",
          "2025-04-11T20:53:00.000000000",
          "2025-04-11T21:52:53.000000000",
          "2025-04-11T22:52:55.000000000",
          "2025-04-11T23:52:57.000000000",
          "2025-04-12T00:52:54.000000000",
          "2025-04-12T02:52:56.000000000",
          "2025-04-12T03:52:57.000000000",
          "2025-04-12T05:52:56.000000000",
          "2025-04-12T06:52:57.000000000",
          "2025-04-12T07:53:01.000000000",
          "2025-04-12T08:52:59.000000000",
          "2025-04-12T09:52:58.000000000",
          "2025-04-12T10:52:57.000000000",
          "2025-04-12T11:52:57.000000000",
          "2025-04-12T12:53:03.000000000",
          "2025-04-12T13:53:02.000000000",
          "2025-04-12T14:52:57.000000000",
          "2025-04-12T15:52:55.000000000",
          "2025-04-12T16:53:06.000000000",
          "2025-04-12T17:52:53.000000000",
          "2025-04-12T18:52:54.000000000",
          "2025-04-12T19:52:58.000000000",
          "2025-04-12T20:53:02.000000000",
          "2025-04-12T21:52:57.000000000",
          "2025-04-13T10:11:43.000000000",
          "2025-04-13T12:11:52.000000000",
          "2025-04-13T13:11:46.000000000",
          "2025-04-13T15:11:48.000000000",
          "2025-04-13T16:11:44.000000000",
          "2025-04-13T18:11:41.000000000",
          "2025-04-13T20:11:49.000000000",
          "2025-04-13T21:11:43.000000000",
          "2025-04-13T22:11:43.000000000"
         ],
         "y": {
          "bdata": "4XoUrkdJb0DhehSuR0lvQOF6FK5HSW9A4XoUrkdJb0DhehSuR0lvQOF6FK5HSW9A4XoUrkdJb0DhehSuR0lvQOF6FK5HSW9APQrXo3CVb0A9CtejcJVvQD0K16NwlW9APQrXo3CVb0A9CtejcJVvQAAAAAAAiG9Aw/UoXI/iY0DD9Shcj+JjQK5H4XoUTm1ArkfhehRObUCuR+F6FE5tQK5H4XoUTm1ArkfhehRObUDNzMzMzHRtQM3MzMzMdG1A16NwPQrjcEDNzMzMzHRtQKRwPQrXi25ApHA9CteLbkCkcD0K14tuQOxRuB6FU29A7FG4HoVTb0DsUbgehVNvQOxRuB6FU29A7FG4HoVTb0C4HoXrUSBnQEjhehSub2dASOF6FK5vZ0BI4XoUrm9nQEjhehSub2dASOF6FK5vZ0AK16NwPQpmQHsUrkfhem1AKVyPwvW4b0ApXI/C9bhvQMP1KFyP2mxAw/UoXI/abEAAAAAAAHhuQAAAAAAAeG5AAAAAAAB4bkAAAAAAAHhuQAAAAAAAeG5AAAAAAAB4bkAAAAAAAHhuQAAAAAAAeG5AAAAAAAB4bkAAAAAAAHhuQAAAAAAAeG5AAAAAAAB4bkBSuB6F6+FhQFK4HoXr4WFApHA9CtfLYUCkcD0K18thQKRwPQrXy2FApHA9CtfLYUCkcD0K18thQKRwPQrXy2FApHA9CtfLYUCkcD0K18thQKRwPQrXy2FApHA9CtfLYUCkcD0K18thQKRwPQrXy2FACtejcD0iYkBmZmZmZuZlQGZmZmZm5mVAZmZmZmbmZUBmZmZmZuZlQPYoXI/CvWVA9ihcj8K9ZUD2KFyPwr1lQPYoXI/CvWVA9ihcj8K9ZUD2KFyPwr1lQPYoXI/CvWVA16NwPQrnZUDXo3A9CudlQNejcD0K52VA16NwPQrnZUC4HoXrUVhrQLgehetRWGtAuB6F61FYa0DD9Shcj5JrQMP1KFyPkmtAw/UoXI+Sa0DD9Shcj5JrQJqZmZmZEWtAmpmZmZkRa0CamZmZmRFrQJqZmZmZEWtAmpmZmZkRa0CamZmZmRFrQJqZmZmZEWtAmpmZmZkRa0CamZmZmRFrQJqZmZmZEWtAmpmZmZkRa0BSuB6F67FlQFK4HoXrsWVAUrgeheuxZUBSuB6F67FlQGZmZmZmJmZAZmZmZmYmZkBmZmZmZiZmQGZmZmZmJmZAZmZmZmYmZkCamZmZmaFmQJqZmZmZoWZAmpmZmZmhZkCamZmZmaFmQJqZmZmZoWZAmpmZmZmhZkCamZmZmaFmQJqZmZmZoWZAmpmZmZmhZkBSuB6F60FsQFK4HoXrQWxAUrgehetBbEBSuB6F60FsQFK4HoXrQWxAUrgehetBbEBSuB6F60FsQFK4HoXrkWtAUrgeheuRa0BSuB6F65FrQHsUrkfhumtAexSuR+G6a0B7FK5H4bprQHsUrkfhumtAexSuR+G6a0B7FK5H4bprQHsUrkfhumtAexSuR+G6a0B7FK5H4bprQHsUrkfhumtAexSuR+G6a0B7FK5H4bprQHsUrkfhumtAexSuR+G6a0B7FK5H4bprQHsUrkfhumtAexSuR+G6a0CuR+F6FI5rQK5H4XoUjmtArkfhehSOa0CuR+F6FI5rQK5H4XoUjmtArkfhehSOa0CuR+F6FI5rQK5H4XoUjmtArkfhehSOa0A=",
          "dtype": "f8"
         }
        },
        {
         "hovertemplate": "<b>%{fullData.name}</b><br>Date: %{x|%Y-%m-%d %H:%M}<br>Price: €%{y:.2f}",
         "line": {
          "color": "orange",
          "dash": "dot"
         },
         "mode": "lines",
         "name": "Average (€209.62)",
         "type": "scatter",
         "x": [
          "2025-03-25T11:32:55",
          "2025-04-13T22:11:43"
         ],
         "y": [
          209.62006249999996,
          209.62006249999996
         ]
        },
        {
         "hovertemplate": "<b>%{fullData.name}</b><br>Date: %{x|%Y-%m-%d %H:%M}<br>Price: €%{y:.2f}",
         "line": {
          "color": "green",
          "width": 1
         },
         "mode": "lines",
         "name": "7-Day Moving Avg",
         "type": "scatter",
         "x": [
          "2025-03-25T11:32:55.000000000",
          "2025-03-25T12:46:21.000000000",
          "2025-03-25T13:46:23.000000000",
          "2025-03-25T14:46:21.000000000",
          "2025-03-25T15:46:20.000000000",
          "2025-03-25T16:15:01.000000000",
          "2025-03-25T16:19:10.000000000",
          "2025-03-25T21:53:00.000000000",
          "2025-03-25T23:07:06.000000000",
          "2025-03-26T09:16:27.000000000",
          "2025-03-26T10:16:21.000000000",
          "2025-03-26T11:16:23.000000000",
          "2025-03-26T13:16:19.000000000",
          "2025-03-26T14:16:21.000000000",
          "2025-03-26T17:16:22.000000000",
          "2025-03-28T20:02:14.000000000",
          "2025-03-28T21:02:12.000000000",
          "2025-03-29T09:00:24.000000000",
          "2025-03-29T11:12:45.000000000",
          "2025-03-29T11:18:20.000000000",
          "2025-03-29T12:18:23.000000000",
          "2025-03-29T13:18:23.000000000",
          "2025-03-29T14:18:22.000000000",
          "2025-03-29T16:18:24.000000000",
          "2025-03-29T17:18:29.000000000",
          "2025-03-29T20:18:22.000000000",
          "2025-03-30T18:15:13.000000000",
          "2025-03-30T20:15:14.000000000",
          "2025-03-30T21:15:15.000000000",
          "2025-03-31T10:47:30.000000000",
          "2025-03-31T10:48:33.000000000",
          "2025-03-31T11:48:34.000000000",
          "2025-03-31T14:48:39.000000000",
          "2025-03-31T15:48:34.000000000",
          "2025-04-04T10:19:49.000000000",
          "2025-04-04T11:19:47.000000000",
          "2025-04-04T12:19:47.000000000",
          "2025-04-04T13:19:47.000000000",
          "2025-04-04T15:19:47.000000000",
          "2025-04-04T16:19:47.000000000",
          "2025-04-04T17:19:45.000000000",
          "2025-04-04T18:19:47.000000000",
          "2025-04-04T19:19:53.000000000",
          "2025-04-04T20:19:47.000000000",
          "2025-04-05T17:22:26.000000000",
          "2025-04-05T18:22:23.000000000",
          "2025-04-06T09:29:50.000000000",
          "2025-04-06T10:29:51.000000000",
          "2025-04-06T11:29:59.000000000",
          "2025-04-06T12:29:53.000000000",
          "2025-04-06T13:29:53.000000000",
          "2025-04-06T15:29:54.000000000",
          "2025-04-06T17:29:54.000000000",
          "2025-04-06T18:29:53.000000000",
          "2025-04-06T19:29:54.000000000",
          "2025-04-06T20:29:51.000000000",
          "2025-04-06T21:29:53.000000000",
          "2025-04-06T22:29:54.000000000",
          "2025-04-08T09:52:50.000000000",
          "2025-04-08T10:52:52.000000000",
          "2025-04-08T11:52:51.000000000",
          "2025-04-08T12:52:53.000000000",
          "2025-04-08T13:52:50.000000000",
          "2025-04-08T14:52:51.000000000",
          "2025-04-08T15:52:52.000000000",
          "2025-04-08T16:52:53.000000000",
          "2025-04-08T17:52:50.000000000",
          "2025-04-08T18:52:49.000000000",
          "2025-04-08T20:52:52.000000000",
          "2025-04-08T21:52:57.000000000",
          "2025-04-08T22:52:50.000000000",
          "2025-04-08T23:52:50.000000000",
          "2025-04-09T00:52:52.000000000",
          "2025-04-09T01:52:53.000000000",
          "2025-04-09T02:52:50.000000000",
          "2025-04-09T03:52:50.000000000",
          "2025-04-09T04:52:53.000000000",
          "2025-04-09T05:52:53.000000000",
          "2025-04-09T06:52:53.000000000",
          "2025-04-09T07:52:53.000000000",
          "2025-04-09T09:52:53.000000000",
          "2025-04-09T11:52:54.000000000",
          "2025-04-09T12:52:51.000000000",
          "2025-04-09T13:52:53.000000000",
          "2025-04-09T14:52:53.000000000",
          "2025-04-09T15:52:53.000000000",
          "2025-04-09T16:52:53.000000000",
          "2025-04-09T18:52:59.000000000",
          "2025-04-09T19:52:54.000000000",
          "2025-04-09T21:52:53.000000000",
          "2025-04-09T23:52:53.000000000",
          "2025-04-10T00:52:53.000000000",
          "2025-04-10T01:52:53.000000000",
          "2025-04-10T03:52:54.000000000",
          "2025-04-10T04:52:54.000000000",
          "2025-04-10T05:52:54.000000000",
          "2025-04-10T06:52:55.000000000",
          "2025-04-10T07:52:55.000000000",
          "2025-04-10T08:52:52.000000000",
          "2025-04-10T09:52:52.000000000",
          "2025-04-10T10:52:55.000000000",
          "2025-04-10T11:52:54.000000000",
          "2025-04-10T12:53:02.000000000",
          "2025-04-10T13:52:54.000000000",
          "2025-04-10T14:52:54.000000000",
          "2025-04-10T15:52:55.000000000",
          "2025-04-10T16:52:56.000000000",
          "2025-04-10T18:52:53.000000000",
          "2025-04-10T21:52:56.000000000",
          "2025-04-10T22:53:03.000000000",
          "2025-04-11T00:52:56.000000000",
          "2025-04-11T01:53:04.000000000",
          "2025-04-11T02:52:56.000000000",
          "2025-04-11T03:52:55.000000000",
          "2025-04-11T04:52:56.000000000",
          "2025-04-11T05:53:00.000000000",
          "2025-04-11T07:52:56.000000000",
          "2025-04-11T08:53:02.000000000",
          "2025-04-11T09:52:57.000000000",
          "2025-04-11T11:52:56.000000000",
          "2025-04-11T12:52:54.000000000",
          "2025-04-11T13:52:56.000000000",
          "2025-04-11T14:52:56.000000000",
          "2025-04-11T16:52:56.000000000",
          "2025-04-11T17:52:57.000000000",
          "2025-04-11T18:52:57.000000000",
          "2025-04-11T19:52:57.000000000",
          "2025-04-11T20:53:00.000000000",
          "2025-04-11T21:52:53.000000000",
          "2025-04-11T22:52:55.000000000",
          "2025-04-11T23:52:57.000000000",
          "2025-04-12T00:52:54.000000000",
          "2025-04-12T02:52:56.000000000",
          "2025-04-12T03:52:57.000000000",
          "2025-04-12T05:52:56.000000000",
          "2025-04-12T06:52:57.000000000",
          "2025-04-12T07:53:01.000000000",
          "2025-04-12T08:52:59.000000000",
          "2025-04-12T09:52:58.000000000",
          "2025-04-12T10:52:57.000000000",
          "2025-04-12T11:52:57.000000000",
          "2025-04-12T12:53:03.000000000",
          "2025-04-12T13:53:02.000000000",
          "2025-04-12T14:52:57.000000000",
          "2025-04-12T15:52:55.000000000",
          "2025-04-12T16:53:06.000000000",
          "2025-04-12T17:52:53.000000000",
          "2025-04-12T18:52:54.000000000",
          "2025-04-12T19:52:58.000000000",
          "2025-04-12T20:53:02.000000000",
          "2025-04-12T21:52:57.000000000",
          "2025-04-13T10:11:43.000000000",
          "2025-04-13T12:11:52.000000000",
          "2025-04-13T13:11:46.000000000",
          "2025-04-13T15:11:48.000000000",
          "2025-04-13T16:11:44.000000000",
          "2025-04-13T18:11:41.000000000",
          "2025-04-13T20:11:49.000000000",
          "2025-04-13T21:11:43.000000000",
          "2025-04-13T22:11:43.000000000"
         ],
         "y": {
          "bdata": "4XoUrkdJb0DhehSuR0lvQOF6FK5HSW9A4XoUrkdJb0DhehSuR0lvQOF6FK5HSW9A4XoUrkdJb0DhehSuR0lvQOF6FK5HSW9AXY/C9ShUb0DWo3A9Cl9vQFG4HoXraW9AzczMzMx0b0BH4XoUrn9vQHA9CtejiG9ASOF6FK7nbUCjcD0K1ztsQCLnPruA6GtAoF1AbCqVa0Ad1EEd1EFrQJtKQ8597mpAa3ljBBOdakD+TlbLG/trQJIkSZIkWW1ASZIkSZL8bUC6gNhUGgJuQN8YwUR/L25AAbGpNORcbkAlSZIkSYpuQAUT/Z2szm5A5dxnFxATb0B/J6vljbluQGDxFV/x/W5AjhFM9Hcab0D/TlbLGwtuQPEVX/EVB21Atrwxgonma0B5YwQT/cVqQD4K16NwpWlAAbGpNOSEaEDiehSuRzFnQLULiE2lGWhAi6/4iq9IaUBiU2nIuXdqQCsNOffZPWtA88YIJvoDbECgXUBsKgVtQDDR38lqOW5AjWCiv5NdbkBiU2nIuS9uQDhGMNHfAW5AGyOY6O88bkAAAAAAAHhuQAAAAAAAeG5AAAAAAAB4bkAAAAAAAHhuQAAAAAAAeG5AAAAAAAB4bkBVGnLus6tsQKk05Nxn32pA5o0RTPQPaUAi5z67gEBnQF5AbCoNcWVAmZmZmZmhY0DW8sYIJtJhQL0xgon+zmFApHA9CtfLYUCkcD0K18thQKRwPQrXy2FApHA9CtfLYUCkcD0K18thQKRwPQrXy2FAaci5zy7YYUAXEJtKQ25iQMZXfMVXBGNAc59dQGyaY0Ah5z67gDBkQMCT1fLGwGRAXkBsKg1RZUA3lYac+9RlQCb6O1ktz2VAFl/xFV/JZUAGxKbSkMNlQPYoXI/CvWVAOqiDOqjDZUB/J6vljcllQMOm0pBzz2VACSb6O1nVZUAlSZIkSaJmQEBsKg05b2dAXY/C9Sg8aEDrUbgehQtpQHsUrkfh2mlACtejcD2qakCZmZmZmXlrQN8YwUR/b2tAI5jo72Rla0BoFxCbSltrQPV3slreSGtAgdhUGnI2a0AOOffZBSRrQJqZmZmZEWtAmpmZmZkRa0CamZmZmRFrQJqZmZmZEWtAmpmZmZkRa0BreWMEE01qQD1ZLW+MiGlADjn32QXEaEDeGMFEf/9nQCA2lYacS2dAYlNpyLmXZkClcD0K1+NlQBWuR+F69GVAhetRuB4FZkCPwvUoXCdmQJmZmZmZSWZAMzMzMzNbZkDNzMzMzGxmQGZmZmZmfmZAAAAAAACQZkCamZmZmaFmQJqZmZmZoWZAmpmZmZmhZkCQwvUoXG9nQIbrUbgePWhAexSuR+EKaUBwPQrXo9hpQGdmZmZmpmpAXY/C9Sh0a0BSuB6F60FsQMCT1fLGKGxALm+MYKIPbECbSkPOffZrQDMzMzMz42tAyxsjmOjPa0BjBBP9nbxrQPvsAmJTqWtAJ/o7WS2va0BRB3VQB7VrQHsUrkfhumtAexSuR+G6a0B7FK5H4bprQHsUrkfhumtAexSuR+G6a0B7FK5H4bprQHsUrkfhumtAexSuR+G6a0B7FK5H4bprQHsUrkfhumtAexSuR+G6a0AVrkfherRrQK9H4XoUrmtAR+F6FK6na0DhehSuR6FrQHsUrkfhmmtAFa5H4XqUa0CuR+F6FI5rQK5H4XoUjmtArkfhehSOa0A=",
          "dtype": "f8"
         }
        }
       ],
       "layout": {
        "height": 500,
        "hoverlabel": {
         "bgcolor": "white",
         "font": {
          "size": 12
         }
        },
        "hovermode": "closest",
        "legend": {
         "bgcolor": "rgba(255,255,255,0.8)",
         "x": 0.01,
         "y": 0.99
        },
        "margin": {
         "b": 50,
         "l": 50,
         "r": 50,
         "t": 80
        },
        "template": {
         "data": {
          "bar": [
           {
            "error_x": {
             "color": "#2a3f5f"
            },
            "error_y": {
             "color": "#2a3f5f"
            },
            "marker": {
             "line": {
              "color": "#E5ECF6",
              "width": 0.5
             },
             "pattern": {
              "fillmode": "overlay",
              "size": 10,
              "solidity": 0.2
             }
            },
            "type": "bar"
           }
          ],
          "barpolar": [
           {
            "marker": {
             "line": {
              "color": "#E5ECF6",
              "width": 0.5
             },
             "pattern": {
              "fillmode": "overlay",
              "size": 10,
              "solidity": 0.2
             }
            },
            "type": "barpolar"
           }
          ],
          "carpet": [
           {
            "aaxis": {
             "endlinecolor": "#2a3f5f",
             "gridcolor": "white",
             "linecolor": "white",
             "minorgridcolor": "white",
             "startlinecolor": "#2a3f5f"
            },
            "baxis": {
             "endlinecolor": "#2a3f5f",
             "gridcolor": "white",
             "linecolor": "white",
             "minorgridcolor": "white",
             "startlinecolor": "#2a3f5f"
            },
            "type": "carpet"
           }
          ],
          "choropleth": [
           {
            "colorbar": {
             "outlinewidth": 0,
             "ticks": ""
            },
            "type": "choropleth"
           }
          ],
          "contour": [
           {
            "colorbar": {
             "outlinewidth": 0,
             "ticks": ""
            },
            "colorscale": [
             [
              0,
              "#0d0887"
             ],
             [
              0.1111111111111111,
              "#46039f"
             ],
             [
              0.2222222222222222,
              "#7201a8"
             ],
             [
              0.3333333333333333,
              "#9c179e"
             ],
             [
              0.4444444444444444,
              "#bd3786"
             ],
             [
              0.5555555555555556,
              "#d8576b"
             ],
             [
              0.6666666666666666,
              "#ed7953"
             ],
             [
              0.7777777777777778,
              "#fb9f3a"
             ],
             [
              0.8888888888888888,
              "#fdca26"
             ],
             [
              1,
              "#f0f921"
             ]
            ],
            "type": "contour"
           }
          ],
          "contourcarpet": [
           {
            "colorbar": {
             "outlinewidth": 0,
             "ticks": ""
            },
            "type": "contourcarpet"
           }
          ],
          "heatmap": [
           {
            "colorbar": {
             "outlinewidth": 0,
             "ticks": ""
            },
            "colorscale": [
             [
              0,
              "#0d0887"
             ],
             [
              0.1111111111111111,
              "#46039f"
             ],
             [
              0.2222222222222222,
              "#7201a8"
             ],
             [
              0.3333333333333333,
              "#9c179e"
             ],
             [
              0.4444444444444444,
              "#bd3786"
             ],
             [
              0.5555555555555556,
              "#d8576b"
             ],
             [
              0.6666666666666666,
              "#ed7953"
             ],
             [
              0.7777777777777778,
              "#fb9f3a"
             ],
             [
              0.8888888888888888,
              "#fdca26"
             ],
             [
              1,
              "#f0f921"
             ]
            ],
            "type": "heatmap"
           }
          ],
          "histogram": [
           {
            "marker": {
             "pattern": {
              "fillmode": "overlay",
              "size": 10,
              "solidity": 0.2
             }
            },
            "type": "histogram"
           }
          ],
          "histogram2d": [
           {
            "colorbar": {
             "outlinewidth": 0,
             "ticks": ""
            },
            "colorscale": [
             [
              0,
              "#0d0887"
             ],
             [
              0.1111111111111111,
              "#46039f"
             ],
             [
              0.2222222222222222,
              "#7201a8"
             ],
             [
              0.3333333333333333,
              "#9c179e"
             ],
             [
              0.4444444444444444,
              "#bd3786"
             ],
             [
              0.5555555555555556,
              "#d8576b"
             ],
             [
              0.6666666666666666,
              "#ed7953"
             ],
             [
              0.7777777777777778,
              "#fb9f3a"
             ],
             [
              0.8888888888888888,
              "#fdca26"
             ],
             [
              1,
              "#f0f921"
             ]
            ],
            "type": "histogram2d"
           }
          ],
          "histogram2dcontour": [
           {
            "colorbar": {
             "outlinewidth": 0,
             "ticks": ""
            },
            "colorscale": [
             [
              0,
              "#0d0887"
             ],
             [
              0.1111111111111111,
              "#46039f"
             ],
             [
              0.2222222222222222,
              "#7201a8"
             ],
             [
              0.3333333333333333,
              "#9c179e"
             ],
             [
              0.4444444444444444,
              "#bd3786"
             ],
             [
              0.5555555555555556,
              "#d8576b"
             ],
             [
              0.6666666666666666,
              "#ed7953"
             ],
             [
              0.7777777777777778,
              "#fb9f3a"
             ],
             [
              0.8888888888888888,
              "#fdca26"
             ],
             [
              1,
              "#f0f921"
             ]
            ],
            "type": "histogram2dcontour"
           }
          ],
          "mesh3d": [
           {
            "colorbar": {
             "outlinewidth": 0,
             "ticks": ""
            },
            "type": "mesh3d"
           }
          ],
          "parcoords": [
           {
            "line": {
             "colorbar": {
              "outlinewidth": 0,
              "ticks": ""
             }
            },
            "type": "parcoords"
           }
          ],
          "pie": [
           {
            "automargin": true,
            "type": "pie"
           }
          ],
          "scatter": [
           {
            "fillpattern": {
             "fillmode": "overlay",
             "size": 10,
             "solidity": 0.2
            },
            "type": "scatter"
           }
          ],
          "scatter3d": [
           {
            "line": {
             "colorbar": {
              "outlinewidth": 0,
              "ticks": ""
             }
            },
            "marker": {
             "colorbar": {
              "outlinewidth": 0,
              "ticks": ""
             }
            },
            "type": "scatter3d"
           }
          ],
          "scattercarpet": [
           {
            "marker": {
             "colorbar": {
              "outlinewidth": 0,
              "ticks": ""
             }
            },
            "type": "scattercarpet"
           }
          ],
          "scattergeo": [
           {
            "marker": {
             "colorbar": {
              "outlinewidth": 0,
              "ticks": ""
             }
            },
            "type": "scattergeo"
           }
          ],
          "scattergl": [
           {
            "marker": {
             "colorbar": {
              "outlinewidth": 0,
              "ticks": ""
             }
            },
            "type": "scattergl"
           }
          ],
          "scattermap": [
           {
            "marker": {
             "colorbar": {
              "outlinewidth": 0,
              "ticks": ""
             }
            },
            "type": "scattermap"
           }
          ],
          "scattermapbox": [
           {
            "marker": {
             "colorbar": {
              "outlinewidth": 0,
              "ticks": ""
             }
            },
            "type": "scattermapbox"
           }
          ],
          "scatterpolar": [
           {
            "marker": {
             "colorbar": {
              "outlinewidth": 0,
              "ticks": ""
             }
            },
            "type": "scatterpolar"
           }
          ],
          "scatterpolargl": [
           {
            "marker": {
             "colorbar": {
              "outlinewidth": 0,
              "ticks": ""
             }
            },
            "type": "scatterpolargl"
           }
          ],
          "scatterternary": [
           {
            "marker": {
             "colorbar": {
              "outlinewidth": 0,
              "ticks": ""
             }
            },
            "type": "scatterternary"
           }
          ],
          "surface": [
           {
            "colorbar": {
             "outlinewidth": 0,
             "ticks": ""
            },
            "colorscale": [
             [
              0,
              "#0d0887"
             ],
             [
              0.1111111111111111,
              "#46039f"
             ],
             [
              0.2222222222222222,
              "#7201a8"
             ],
             [
              0.3333333333333333,
              "#9c179e"
             ],
             [
              0.4444444444444444,
              "#bd3786"
             ],
             [
              0.5555555555555556,
              "#d8576b"
             ],
             [
              0.6666666666666666,
              "#ed7953"
             ],
             [
              0.7777777777777778,
              "#fb9f3a"
             ],
             [
              0.8888888888888888,
              "#fdca26"
             ],
             [
              1,
              "#f0f921"
             ]
            ],
            "type": "surface"
           }
          ],
          "table": [
           {
            "cells": {
             "fill": {
              "color": "#EBF0F8"
             },
             "line": {
              "color": "white"
             }
            },
            "header": {
             "fill": {
              "color": "#C8D4E3"
             },
             "line": {
              "color": "white"
             }
            },
            "type": "table"
           }
          ]
         },
         "layout": {
          "annotationdefaults": {
           "arrowcolor": "#2a3f5f",
           "arrowhead": 0,
           "arrowwidth": 1
          },
          "autotypenumbers": "strict",
          "coloraxis": {
           "colorbar": {
            "outlinewidth": 0,
            "ticks": ""
           }
          },
          "colorscale": {
           "diverging": [
            [
             0,
             "#8e0152"
            ],
            [
             0.1,
             "#c51b7d"
            ],
            [
             0.2,
             "#de77ae"
            ],
            [
             0.3,
             "#f1b6da"
            ],
            [
             0.4,
             "#fde0ef"
            ],
            [
             0.5,
             "#f7f7f7"
            ],
            [
             0.6,
             "#e6f5d0"
            ],
            [
             0.7,
             "#b8e186"
            ],
            [
             0.8,
             "#7fbc41"
            ],
            [
             0.9,
             "#4d9221"
            ],
            [
             1,
             "#276419"
            ]
           ],
           "sequential": [
            [
             0,
             "#0d0887"
            ],
            [
             0.1111111111111111,
             "#46039f"
            ],
            [
             0.2222222222222222,
             "#7201a8"
            ],
            [
             0.3333333333333333,
             "#9c179e"
            ],
            [
             0.4444444444444444,
             "#bd3786"
            ],
            [
             0.5555555555555556,
             "#d8576b"
            ],
            [
             0.6666666666666666,
             "#ed7953"
            ],
            [
             0.7777777777777778,
             "#fb9f3a"
            ],
            [
             0.8888888888888888,
             "#fdca26"
            ],
            [
             1,
             "#f0f921"
            ]
           ],
           "sequentialminus": [
            [
             0,
             "#0d0887"
            ],
            [
             0.1111111111111111,
             "#46039f"
            ],
            [
             0.2222222222222222,
             "#7201a8"
            ],
            [
             0.3333333333333333,
             "#9c179e"
            ],
            [
             0.4444444444444444,
             "#bd3786"
            ],
            [
             0.5555555555555556,
             "#d8576b"
            ],
            [
             0.6666666666666666,
             "#ed7953"
            ],
            [
             0.7777777777777778,
             "#fb9f3a"
            ],
            [
             0.8888888888888888,
             "#fdca26"
            ],
            [
             1,
             "#f0f921"
            ]
           ]
          },
          "colorway": [
           "#636efa",
           "#EF553B",
           "#00cc96",
           "#ab63fa",
           "#FFA15A",
           "#19d3f3",
           "#FF6692",
           "#B6E880",
           "#FF97FF",
           "#FECB52"
          ],
          "font": {
           "color": "#2a3f5f"
          },
          "geo": {
           "bgcolor": "white",
           "lakecolor": "white",
           "landcolor": "#E5ECF6",
           "showlakes": true,
           "showland": true,
           "subunitcolor": "white"
          },
          "hoverlabel": {
           "align": "left"
          },
          "hovermode": "closest",
          "mapbox": {
           "style": "light"
          },
          "paper_bgcolor": "white",
          "plot_bgcolor": "#E5ECF6",
          "polar": {
           "angularaxis": {
            "gridcolor": "white",
            "linecolor": "white",
            "ticks": ""
           },
           "bgcolor": "#E5ECF6",
           "radialaxis": {
            "gridcolor": "white",
            "linecolor": "white",
            "ticks": ""
           }
          },
          "scene": {
           "xaxis": {
            "backgroundcolor": "#E5ECF6",
            "gridcolor": "white",
            "gridwidth": 2,
            "linecolor": "white",
            "showbackground": true,
            "ticks": "",
            "zerolinecolor": "white"
           },
           "yaxis": {
            "backgroundcolor": "#E5ECF6",
            "gridcolor": "white",
            "gridwidth": 2,
            "linecolor": "white",
            "showbackground": true,
            "ticks": "",
            "zerolinecolor": "white"
           },
           "zaxis": {
            "backgroundcolor": "#E5ECF6",
            "gridcolor": "white",
            "gridwidth": 2,
            "linecolor": "white",
            "showbackground": true,
            "ticks": "",
            "zerolinecolor": "white"
           }
          },
          "shapedefaults": {
           "line": {
            "color": "#2a3f5f"
           }
          },
          "ternary": {
           "aaxis": {
            "gridcolor": "white",
            "linecolor": "white",
            "ticks": ""
           },
           "baxis": {
            "gridcolor": "white",
            "linecolor": "white",
            "ticks": ""
           },
           "bgcolor": "#E5ECF6",
           "caxis": {
            "gridcolor": "white",
            "linecolor": "white",
            "ticks": ""
           }
          },
          "title": {
           "x": 0.05
          },
          "xaxis": {
           "automargin": true,
           "gridcolor": "white",
           "linecolor": "white",
           "ticks": "",
           "title": {
            "standoff": 15
           },
           "zerolinecolor": "white",
           "zerolinewidth": 2
          },
          "yaxis": {
           "automargin": true,
           "gridcolor": "white",
           "linecolor": "white",
           "ticks": "",
           "title": {
            "standoff": 15
           },
           "zerolinecolor": "white",
           "zerolinewidth": 2
          }
         }
        },
        "title": {
         "text": "Flight Price Trend: SDU->BSB"
        },
        "width": 900,
        "xaxis": {
         "tickformat": "%Y-%m-%d %H:%M",
         "title": {
          "text": "Date and Time"
         }
        },
        "yaxis": {
         "title": {
          "text": "Price (EUR)"
         }
        }
       }
      }
     },
     "metadata": {},
     "output_type": "display_data"
    },
    {
     "name": "stdout",
     "output_type": "stream",
     "text": [
      "Saved flight graph to flight_price_BSB_to_SSA.html\n"
     ]
    },
    {
     "data": {
      "application/vnd.plotly.v1+json": {
       "config": {
        "plotlyServerURL": "https://plot.ly"
       },
       "data": [
        {
         "hovertemplate": "<b>%{fullData.name}</b><br>Date: %{x|%Y-%m-%d %H:%M}<br>Price: €%{y:.2f}",
         "line": {
          "width": 2
         },
         "marker": {
          "size": 6
         },
         "mode": "lines+markers",
         "name": "BSB->SSA Price",
         "type": "scatter",
         "x": [
          "2025-03-25T11:33:10.000000000",
          "2025-03-25T11:47:05.000000000",
          "2025-03-25T12:46:40.000000000",
          "2025-03-25T13:46:40.000000000",
          "2025-03-25T14:46:40.000000000",
          "2025-03-25T15:46:41.000000000",
          "2025-03-25T16:15:20.000000000",
          "2025-03-25T16:19:25.000000000",
          "2025-03-25T23:07:21.000000000",
          "2025-03-26T09:16:43.000000000",
          "2025-03-26T10:16:35.000000000",
          "2025-03-26T11:16:38.000000000",
          "2025-03-26T12:16:31.000000000",
          "2025-03-26T13:16:33.000000000",
          "2025-03-26T14:16:38.000000000",
          "2025-03-26T16:16:30.000000000",
          "2025-03-26T17:16:36.000000000",
          "2025-03-28T20:02:29.000000000",
          "2025-03-28T21:02:25.000000000",
          "2025-03-28T22:02:22.000000000",
          "2025-03-29T11:18:34.000000000",
          "2025-03-29T12:18:41.000000000",
          "2025-03-29T13:18:40.000000000",
          "2025-03-29T14:18:41.000000000",
          "2025-03-29T16:18:37.000000000",
          "2025-03-29T17:18:48.000000000",
          "2025-03-29T20:18:39.000000000",
          "2025-03-30T18:15:27.000000000",
          "2025-03-30T20:15:28.000000000",
          "2025-03-30T21:15:33.000000000",
          "2025-03-31T10:48:49.000000000",
          "2025-03-31T11:48:48.000000000",
          "2025-03-31T13:48:47.000000000",
          "2025-03-31T14:48:56.000000000",
          "2025-03-31T15:48:47.000000000",
          "2025-04-04T10:20:17.000000000",
          "2025-04-04T11:20:10.000000000",
          "2025-04-04T12:20:10.000000000",
          "2025-04-04T13:20:10.000000000",
          "2025-04-04T15:20:11.000000000",
          "2025-04-04T16:20:14.000000000",
          "2025-04-04T17:20:10.000000000",
          "2025-04-04T18:20:10.000000000",
          "2025-04-04T19:20:18.000000000",
          "2025-04-04T20:20:12.000000000",
          "2025-04-05T17:22:49.000000000",
          "2025-04-05T18:22:48.000000000",
          "2025-04-06T09:30:17.000000000",
          "2025-04-06T10:30:18.000000000",
          "2025-04-06T11:30:24.000000000",
          "2025-04-06T12:30:18.000000000",
          "2025-04-06T13:30:17.000000000",
          "2025-04-06T15:30:17.000000000",
          "2025-04-06T16:31:09.000000000",
          "2025-04-06T17:30:17.000000000",
          "2025-04-06T18:30:17.000000000",
          "2025-04-06T19:30:17.000000000",
          "2025-04-06T20:30:14.000000000",
          "2025-04-06T21:30:19.000000000",
          "2025-04-06T22:30:20.000000000",
          "2025-04-08T09:53:13.000000000",
          "2025-04-08T10:53:19.000000000",
          "2025-04-08T11:53:16.000000000",
          "2025-04-08T12:53:17.000000000",
          "2025-04-08T13:53:16.000000000",
          "2025-04-08T14:53:16.000000000",
          "2025-04-08T15:53:15.000000000",
          "2025-04-08T16:53:17.000000000",
          "2025-04-08T17:53:13.000000000",
          "2025-04-08T18:53:11.000000000",
          "2025-04-08T20:53:14.000000000",
          "2025-04-08T21:53:22.000000000",
          "2025-04-08T22:53:16.000000000",
          "2025-04-08T23:53:13.000000000",
          "2025-04-09T00:53:17.000000000",
          "2025-04-09T01:53:16.000000000",
          "2025-04-09T02:53:16.000000000",
          "2025-04-09T03:53:13.000000000",
          "2025-04-09T04:53:19.000000000",
          "2025-04-09T05:53:16.000000000",
          "2025-04-09T06:53:19.000000000",
          "2025-04-09T07:53:19.000000000",
          "2025-04-09T09:53:17.000000000",
          "2025-04-09T11:53:20.000000000",
          "2025-04-09T12:53:14.000000000",
          "2025-04-09T13:53:16.000000000",
          "2025-04-09T14:53:18.000000000",
          "2025-04-09T15:53:17.000000000",
          "2025-04-09T16:53:19.000000000",
          "2025-04-09T18:53:24.000000000",
          "2025-04-09T19:53:20.000000000",
          "2025-04-09T21:53:17.000000000",
          "2025-04-09T23:53:17.000000000",
          "2025-04-10T00:53:16.000000000",
          "2025-04-10T01:53:20.000000000",
          "2025-04-10T03:53:17.000000000",
          "2025-04-10T04:53:17.000000000",
          "2025-04-10T05:53:21.000000000",
          "2025-04-10T06:53:21.000000000",
          "2025-04-10T07:53:21.000000000",
          "2025-04-10T08:53:21.000000000",
          "2025-04-10T09:53:18.000000000",
          "2025-04-10T10:53:21.000000000",
          "2025-04-10T11:53:20.000000000",
          "2025-04-10T12:53:28.000000000",
          "2025-04-10T13:53:20.000000000",
          "2025-04-10T14:53:21.000000000",
          "2025-04-10T15:53:21.000000000",
          "2025-04-10T16:53:21.000000000",
          "2025-04-10T18:53:16.000000000",
          "2025-04-10T21:53:19.000000000",
          "2025-04-10T22:53:26.000000000",
          "2025-04-11T00:53:20.000000000",
          "2025-04-11T01:53:29.000000000",
          "2025-04-11T02:53:19.000000000",
          "2025-04-11T03:53:18.000000000",
          "2025-04-11T04:53:19.000000000",
          "2025-04-11T05:53:26.000000000",
          "2025-04-11T07:53:24.000000000",
          "2025-04-11T08:53:29.000000000",
          "2025-04-11T09:53:20.000000000",
          "2025-04-11T11:53:23.000000000",
          "2025-04-11T12:53:18.000000000",
          "2025-04-11T13:53:19.000000000",
          "2025-04-11T14:53:19.000000000",
          "2025-04-11T16:53:23.000000000",
          "2025-04-11T17:53:23.000000000",
          "2025-04-11T18:53:22.000000000",
          "2025-04-11T19:53:20.000000000",
          "2025-04-11T20:53:27.000000000",
          "2025-04-11T21:53:17.000000000",
          "2025-04-11T22:53:22.000000000",
          "2025-04-11T23:53:21.000000000",
          "2025-04-12T00:53:20.000000000",
          "2025-04-12T02:53:21.000000000",
          "2025-04-12T03:53:19.000000000",
          "2025-04-12T05:53:21.000000000",
          "2025-04-12T06:53:24.000000000",
          "2025-04-12T07:53:28.000000000",
          "2025-04-12T08:53:25.000000000",
          "2025-04-12T09:53:22.000000000",
          "2025-04-12T10:53:21.000000000",
          "2025-04-12T11:53:23.000000000",
          "2025-04-12T12:53:30.000000000",
          "2025-04-12T13:53:28.000000000",
          "2025-04-12T14:53:21.000000000",
          "2025-04-12T15:53:21.000000000",
          "2025-04-12T16:53:32.000000000",
          "2025-04-12T17:53:17.000000000",
          "2025-04-12T18:53:19.000000000",
          "2025-04-12T19:53:22.000000000",
          "2025-04-12T20:53:29.000000000",
          "2025-04-12T21:53:24.000000000",
          "2025-04-13T10:12:06.000000000",
          "2025-04-13T11:11:55.000000000",
          "2025-04-13T12:12:19.000000000",
          "2025-04-13T13:12:11.000000000",
          "2025-04-13T15:12:12.000000000",
          "2025-04-13T16:12:12.000000000",
          "2025-04-13T18:12:06.000000000",
          "2025-04-13T20:12:15.000000000",
          "2025-04-13T21:12:06.000000000",
          "2025-04-13T22:12:09.000000000"
         ],
         "y": {
          "bdata": "cT0K16NMckBxPQrXo0xyQHE9CtejTHJAcT0K16NMckBxPQrXo0xyQHE9CtejTHJAcT0K16NMckBxPQrXo0xyQHE9CtejTHJAcT0K16NMckBxPQrXo0xyQHE9CtejTHJAcT0K16NMckBxPQrXo0xyQHE9CtejTHJAcT0K16NMckBxPQrXo0xyQHE9CtejTHJAcT0K16NMckBxPQrXo0xyQJqZmZmZEXJAmpmZmZkRckCamZmZmRFyQJqZmZmZEXJAmpmZmZkRckApXI/C9TRyQM3MzMzM9HFApHA9CtcDckCkcD0K1wNyQKRwPQrXA3JAcT0K16NMckBxPQrXo0xyQHE9CtejTHJAcT0K16NMckBxPQrXo0xyQHE9CtejTHJAcT0K16NMckBxPQrXo0xyQHE9CtejTHJAcT0K16NMckBxPQrXo0xyQHE9CtejTHJAcT0K16NMckDsUbgehSNyQOxRuB6FI3JAexSuR+FycUB7FK5H4XJxQClcj8L1lHFAKVyPwvWUcUApXI/C9ZRxQClcj8L1lHFAKVyPwvWUcUApXI/C9ZRxQClcj8L1lHFAKVyPwvWUcUApXI/C9ZRxQClcj8L1lHFAKVyPwvWUcUApXI/C9ZRxQClcj8L1lHFAXI/C9Sg4ckBcj8L1KDhyQFyPwvUoOHJAXI/C9Sg4ckBcj8L1KDhyQFyPwvUoOHJAXI/C9Sg4ckBcj8L1KDhyQFyPwvUoOHJAXI/C9Sg4ckBcj8L1KDhyQFyPwvUoOHJAXI/C9Sg4ckCF61G4Hr1xQOxRuB6FE3JA7FG4HoUTckDsUbgehRNyQOxRuB6FE3JA7FG4HoUTckBcj8L1KDhyQFyPwvUoOHJAXI/C9Sg4ckBcj8L1KDhyQFyPwvUoOHJAXI/C9Sg4ckBcj8L1KDhyQFyPwvUoOHJAXI/C9Sg4ckBcj8L1KDhyQFyPwvUoOHJAXI/C9Sg4ckDsUbgehQ9yQMP1KFyP5nBAw/UoXI8KcUDNzMzMzLBwQM3MzMzMsHBAzczMzMywcEDNzMzMzLBwQClcj8L14HFAKVyPwvXgcUApXI/C9eBxQClcj8L14HFAKVyPwvXgcUApXI/C9eBxQClcj8L14HFAKVyPwvXgcUApXI/C9eBxQClcj8L14HFASOF6FK7XcUBI4XoUrtdxQEjhehSu13FASOF6FK7XcUCamZmZmdlwQM3MzMzMsHBAzczMzMywcEDNzMzMzLBwQJqZmZmZ2XBArkfhehRqcUCuR+F6FGpxQK5H4XoUanFArkfhehRqcUCuR+F6FGpxQK5H4XoUanFArkfhehRqcUCuR+F6FGpxQK5H4XoUanFAmpmZmZm5cEAAAAAAAAxwQOF6FK5HcW1ACtejcD2ibEAK16NwPaJsQArXo3A9omxACtejcD2ibEAK16NwPaJsQArXo3A9omxACtejcD2ibEAK16NwPaJsQArXo3A9omxACtejcD2ibEAK16NwPaJsQArXo3A9omxACtejcD2ibEAK16NwPaJsQArXo3A9omxACtejcD2ibEAK16NwPaJsQArXo3A9omxACtejcD2ibEAK16NwPaJsQArXo3A9omxACtejcD2ibEAK16NwPaJsQArXo3A9omxA9ihcj8KdbED2KFyPwp1sQPYoXI/CnWxA9ihcj8KdbED2KFyPwp1sQPYoXI/CnWxA9ihcj8KdbED2KFyPwp1sQArXo3A9YmxACtejcD1ibEA=",
          "dtype": "f8"
         }
        },
        {
         "hovertemplate": "<b>%{fullData.name}</b><br>Date: %{x|%Y-%m-%d %H:%M}<br>Price: €%{y:.2f}",
         "line": {
          "color": "orange",
          "dash": "dot"
         },
         "mode": "lines",
         "name": "Average (€273.98)",
         "type": "scatter",
         "x": [
          "2025-03-25T11:33:10",
          "2025-04-13T22:12:09"
         ],
         "y": [
          273.97748466257667,
          273.97748466257667
         ]
        },
        {
         "hovertemplate": "<b>%{fullData.name}</b><br>Date: %{x|%Y-%m-%d %H:%M}<br>Price: €%{y:.2f}",
         "line": {
          "color": "green",
          "width": 1
         },
         "mode": "lines",
         "name": "7-Day Moving Avg",
         "type": "scatter",
         "x": [
          "2025-03-25T11:33:10.000000000",
          "2025-03-25T11:47:05.000000000",
          "2025-03-25T12:46:40.000000000",
          "2025-03-25T13:46:40.000000000",
          "2025-03-25T14:46:40.000000000",
          "2025-03-25T15:46:41.000000000",
          "2025-03-25T16:15:20.000000000",
          "2025-03-25T16:19:25.000000000",
          "2025-03-25T23:07:21.000000000",
          "2025-03-26T09:16:43.000000000",
          "2025-03-26T10:16:35.000000000",
          "2025-03-26T11:16:38.000000000",
          "2025-03-26T12:16:31.000000000",
          "2025-03-26T13:16:33.000000000",
          "2025-03-26T14:16:38.000000000",
          "2025-03-26T16:16:30.000000000",
          "2025-03-26T17:16:36.000000000",
          "2025-03-28T20:02:29.000000000",
          "2025-03-28T21:02:25.000000000",
          "2025-03-28T22:02:22.000000000",
          "2025-03-29T11:18:34.000000000",
          "2025-03-29T12:18:41.000000000",
          "2025-03-29T13:18:40.000000000",
          "2025-03-29T14:18:41.000000000",
          "2025-03-29T16:18:37.000000000",
          "2025-03-29T17:18:48.000000000",
          "2025-03-29T20:18:39.000000000",
          "2025-03-30T18:15:27.000000000",
          "2025-03-30T20:15:28.000000000",
          "2025-03-30T21:15:33.000000000",
          "2025-03-31T10:48:49.000000000",
          "2025-03-31T11:48:48.000000000",
          "2025-03-31T13:48:47.000000000",
          "2025-03-31T14:48:56.000000000",
          "2025-03-31T15:48:47.000000000",
          "2025-04-04T10:20:17.000000000",
          "2025-04-04T11:20:10.000000000",
          "2025-04-04T12:20:10.000000000",
          "2025-04-04T13:20:10.000000000",
          "2025-04-04T15:20:11.000000000",
          "2025-04-04T16:20:14.000000000",
          "2025-04-04T17:20:10.000000000",
          "2025-04-04T18:20:10.000000000",
          "2025-04-04T19:20:18.000000000",
          "2025-04-04T20:20:12.000000000",
          "2025-04-05T17:22:49.000000000",
          "2025-04-05T18:22:48.000000000",
          "2025-04-06T09:30:17.000000000",
          "2025-04-06T10:30:18.000000000",
          "2025-04-06T11:30:24.000000000",
          "2025-04-06T12:30:18.000000000",
          "2025-04-06T13:30:17.000000000",
          "2025-04-06T15:30:17.000000000",
          "2025-04-06T16:31:09.000000000",
          "2025-04-06T17:30:17.000000000",
          "2025-04-06T18:30:17.000000000",
          "2025-04-06T19:30:17.000000000",
          "2025-04-06T20:30:14.000000000",
          "2025-04-06T21:30:19.000000000",
          "2025-04-06T22:30:20.000000000",
          "2025-04-08T09:53:13.000000000",
          "2025-04-08T10:53:19.000000000",
          "2025-04-08T11:53:16.000000000",
          "2025-04-08T12:53:17.000000000",
          "2025-04-08T13:53:16.000000000",
          "2025-04-08T14:53:16.000000000",
          "2025-04-08T15:53:15.000000000",
          "2025-04-08T16:53:17.000000000",
          "2025-04-08T17:53:13.000000000",
          "2025-04-08T18:53:11.000000000",
          "2025-04-08T20:53:14.000000000",
          "2025-04-08T21:53:22.000000000",
          "2025-04-08T22:53:16.000000000",
          "2025-04-08T23:53:13.000000000",
          "2025-04-09T00:53:17.000000000",
          "2025-04-09T01:53:16.000000000",
          "2025-04-09T02:53:16.000000000",
          "2025-04-09T03:53:13.000000000",
          "2025-04-09T04:53:19.000000000",
          "2025-04-09T05:53:16.000000000",
          "2025-04-09T06:53:19.000000000",
          "2025-04-09T07:53:19.000000000",
          "2025-04-09T09:53:17.000000000",
          "2025-04-09T11:53:20.000000000",
          "2025-04-09T12:53:14.000000000",
          "2025-04-09T13:53:16.000000000",
          "2025-04-09T14:53:18.000000000",
          "2025-04-09T15:53:17.000000000",
          "2025-04-09T16:53:19.000000000",
          "2025-04-09T18:53:24.000000000",
          "2025-04-09T19:53:20.000000000",
          "2025-04-09T21:53:17.000000000",
          "2025-04-09T23:53:17.000000000",
          "2025-04-10T00:53:16.000000000",
          "2025-04-10T01:53:20.000000000",
          "2025-04-10T03:53:17.000000000",
          "2025-04-10T04:53:17.000000000",
          "2025-04-10T05:53:21.000000000",
          "2025-04-10T06:53:21.000000000",
          "2025-04-10T07:53:21.000000000",
          "2025-04-10T08:53:21.000000000",
          "2025-04-10T09:53:18.000000000",
          "2025-04-10T10:53:21.000000000",
          "2025-04-10T11:53:20.000000000",
          "2025-04-10T12:53:28.000000000",
          "2025-04-10T13:53:20.000000000",
          "2025-04-10T14:53:21.000000000",
          "2025-04-10T15:53:21.000000000",
          "2025-04-10T16:53:21.000000000",
          "2025-04-10T18:53:16.000000000",
          "2025-04-10T21:53:19.000000000",
          "2025-04-10T22:53:26.000000000",
          "2025-04-11T00:53:20.000000000",
          "2025-04-11T01:53:29.000000000",
          "2025-04-11T02:53:19.000000000",
          "2025-04-11T03:53:18.000000000",
          "2025-04-11T04:53:19.000000000",
          "2025-04-11T05:53:26.000000000",
          "2025-04-11T07:53:24.000000000",
          "2025-04-11T08:53:29.000000000",
          "2025-04-11T09:53:20.000000000",
          "2025-04-11T11:53:23.000000000",
          "2025-04-11T12:53:18.000000000",
          "2025-04-11T13:53:19.000000000",
          "2025-04-11T14:53:19.000000000",
          "2025-04-11T16:53:23.000000000",
          "2025-04-11T17:53:23.000000000",
          "2025-04-11T18:53:22.000000000",
          "2025-04-11T19:53:20.000000000",
          "2025-04-11T20:53:27.000000000",
          "2025-04-11T21:53:17.000000000",
          "2025-04-11T22:53:22.000000000",
          "2025-04-11T23:53:21.000000000",
          "2025-04-12T00:53:20.000000000",
          "2025-04-12T02:53:21.000000000",
          "2025-04-12T03:53:19.000000000",
          "2025-04-12T05:53:21.000000000",
          "2025-04-12T06:53:24.000000000",
          "2025-04-12T07:53:28.000000000",
          "2025-04-12T08:53:25.000000000",
          "2025-04-12T09:53:22.000000000",
          "2025-04-12T10:53:21.000000000",
          "2025-04-12T11:53:23.000000000",
          "2025-04-12T12:53:30.000000000",
          "2025-04-12T13:53:28.000000000",
          "2025-04-12T14:53:21.000000000",
          "2025-04-12T15:53:21.000000000",
          "2025-04-12T16:53:32.000000000",
          "2025-04-12T17:53:17.000000000",
          "2025-04-12T18:53:19.000000000",
          "2025-04-12T19:53:22.000000000",
          "2025-04-12T20:53:29.000000000",
          "2025-04-12T21:53:24.000000000",
          "2025-04-13T10:12:06.000000000",
          "2025-04-13T11:11:55.000000000",
          "2025-04-13T12:12:19.000000000",
          "2025-04-13T13:12:11.000000000",
          "2025-04-13T15:12:12.000000000",
          "2025-04-13T16:12:12.000000000",
          "2025-04-13T18:12:06.000000000",
          "2025-04-13T20:12:15.000000000",
          "2025-04-13T21:12:06.000000000",
          "2025-04-13T22:12:09.000000000"
         ],
         "y": {
          "bdata": "cT0K16NMckBxPQrXo0xyQHE9CtejTHJAcT0K16NMckBxPQrXo0xyQHE9CtejTHJAcT0K16NMckBxPQrXo0xyQHE9CtejTHJAcT0K16NMckBxPQrXo0xyQHE9CtejTHJAcT0K16NMckBxPQrXo0xyQHE9CtejTHJAcT0K16NMckBxPQrXo0xyQHE9CtejTHJAcT0K16NMckBxPQrXo0xyQHcBsak0RHJAfcVXfMU7ckCCif5OVjNyQIlNpSHnKnJAjhFM9HcickDyFV/xFR9yQLa8MYKJEnJASpIkSZIQckDdZxcQmw5yQHE9CtejDHJAa3ljBBMVckBltbwxgh1yQAKxqTTkIHJAPgrXo3AtckCkcD0K1zdyQArXo3A9QnJAcT0K16NMckBxPQrXo0xyQHE9CtejTHJAcT0K16NMckBxPQrXo0xyQHE9CtejTHJAcT0K16NMckA599kFxEZyQAKxqTTkQHJAA2JTacghckAFE/2drAJyQPo7WS1v6HFA8GS1vDHOcUDmjRFM9LNxQBP9nayWn3FAQWwqDTmLcUA15NxnF5BxQClcj8L1lHFAKVyPwvWUcUApXI/C9ZRxQClcj8L1lHFAKVyPwvWUcUApXI/C9ZRxQClcj8L1lHFAnqyWN0ascUAT/Z2slsNxQIhNpSHn2nFA/Z2sljfycUBy7rMLiAlyQOc+u4DYIHJAXI/C9Sg4ckBcj8L1KDhyQFyPwvUoOHJAXI/C9Sg4ckBcj8L1KDhyQFyPwvUoOHJAXI/C9Sg4ckDPLiA2lSZyQAkm+jtZIXJAQh3UQR0cckB7FK5H4RZyQLQLiE2lEXJA7QJiU2kMckDtAmJTaQxyQHpjBBP9HXJAQWwqDTkjckAHdVAHdShyQM59dgGxLXJAlYac++wyckBcj8L1KDhyQFyPwvUoOHJAXI/C9Sg4ckBcj8L1KDhyQFyPwvUoOHJAXI/C9Sg4ckBM9HeyWjJyQMm5zy4gAnJA16NwPQrXcUAMiE2lIZ9xQEFsKg05Z3FAdlAHdVAvcUCqNOTcZ/dwQLNa3hjB8HBALyA2lYYUcUAZwUR/JzNxQN1nFxCbXnFAoQ7qoA6KcUBltbwxgrVxQClcj8L14HFAKVyPwvXgcUApXI/C9eBxQClcj8L14HFALW+MYKLfcUAygon+Tt5xQDaVhpz73HFAOqiDOqjbcUCU1fLGCLZxQNAuIDaVinFADIhNpSFfcUBDzn12ATVxQJno72S1EHFAXkBsKg0BcUAjmOjvZPFwQJPV8sYIBnFAIuc+u4AgcUCw+Iqv+DpxQD0K16NwVXFArkfhehRqcUCuR+F6FGpxQK5H4XoUanFA9HeyWt5QcUBu27Zt2x5xQNKQc59dvHBA8RVf8RVLcEAgNpWGnLNvQF5AbCoN0W5AmkpDzn3ubUBL9HeyWj5tQJc3RjDRv2xACtejcD2ibEAK16NwPaJsQArXo3A9omxACtejcD2ibEAK16NwPaJsQArXo3A9omxACtejcD2ibEAK16NwPaJsQArXo3A9omxACtejcD2ibEAK16NwPaJsQArXo3A9omxACtejcD2ibEAK16NwPaJsQArXo3A9omxACtejcD2ibEAK16NwPaJsQArXo3A9omxAmZmZmZmhbEApXI/C9aBsQLgehetRoGxASOF6FK6fbEDXo3A9Cp9sQGdmZmZmnmxA9ihcj8KdbED2KFyPwp1sQNNBHdRBlWxAs1reGMGMbEA=",
          "dtype": "f8"
         }
        }
       ],
       "layout": {
        "height": 500,
        "hoverlabel": {
         "bgcolor": "white",
         "font": {
          "size": 12
         }
        },
        "hovermode": "closest",
        "legend": {
         "bgcolor": "rgba(255,255,255,0.8)",
         "x": 0.01,
         "y": 0.99
        },
        "margin": {
         "b": 50,
         "l": 50,
         "r": 50,
         "t": 80
        },
        "template": {
         "data": {
          "bar": [
           {
            "error_x": {
             "color": "#2a3f5f"
            },
            "error_y": {
             "color": "#2a3f5f"
            },
            "marker": {
             "line": {
              "color": "#E5ECF6",
              "width": 0.5
             },
             "pattern": {
              "fillmode": "overlay",
              "size": 10,
              "solidity": 0.2
             }
            },
            "type": "bar"
           }
          ],
          "barpolar": [
           {
            "marker": {
             "line": {
              "color": "#E5ECF6",
              "width": 0.5
             },
             "pattern": {
              "fillmode": "overlay",
              "size": 10,
              "solidity": 0.2
             }
            },
            "type": "barpolar"
           }
          ],
          "carpet": [
           {
            "aaxis": {
             "endlinecolor": "#2a3f5f",
             "gridcolor": "white",
             "linecolor": "white",
             "minorgridcolor": "white",
             "startlinecolor": "#2a3f5f"
            },
            "baxis": {
             "endlinecolor": "#2a3f5f",
             "gridcolor": "white",
             "linecolor": "white",
             "minorgridcolor": "white",
             "startlinecolor": "#2a3f5f"
            },
            "type": "carpet"
           }
          ],
          "choropleth": [
           {
            "colorbar": {
             "outlinewidth": 0,
             "ticks": ""
            },
            "type": "choropleth"
           }
          ],
          "contour": [
           {
            "colorbar": {
             "outlinewidth": 0,
             "ticks": ""
            },
            "colorscale": [
             [
              0,
              "#0d0887"
             ],
             [
              0.1111111111111111,
              "#46039f"
             ],
             [
              0.2222222222222222,
              "#7201a8"
             ],
             [
              0.3333333333333333,
              "#9c179e"
             ],
             [
              0.4444444444444444,
              "#bd3786"
             ],
             [
              0.5555555555555556,
              "#d8576b"
             ],
             [
              0.6666666666666666,
              "#ed7953"
             ],
             [
              0.7777777777777778,
              "#fb9f3a"
             ],
             [
              0.8888888888888888,
              "#fdca26"
             ],
             [
              1,
              "#f0f921"
             ]
            ],
            "type": "contour"
           }
          ],
          "contourcarpet": [
           {
            "colorbar": {
             "outlinewidth": 0,
             "ticks": ""
            },
            "type": "contourcarpet"
           }
          ],
          "heatmap": [
           {
            "colorbar": {
             "outlinewidth": 0,
             "ticks": ""
            },
            "colorscale": [
             [
              0,
              "#0d0887"
             ],
             [
              0.1111111111111111,
              "#46039f"
             ],
             [
              0.2222222222222222,
              "#7201a8"
             ],
             [
              0.3333333333333333,
              "#9c179e"
             ],
             [
              0.4444444444444444,
              "#bd3786"
             ],
             [
              0.5555555555555556,
              "#d8576b"
             ],
             [
              0.6666666666666666,
              "#ed7953"
             ],
             [
              0.7777777777777778,
              "#fb9f3a"
             ],
             [
              0.8888888888888888,
              "#fdca26"
             ],
             [
              1,
              "#f0f921"
             ]
            ],
            "type": "heatmap"
           }
          ],
          "histogram": [
           {
            "marker": {
             "pattern": {
              "fillmode": "overlay",
              "size": 10,
              "solidity": 0.2
             }
            },
            "type": "histogram"
           }
          ],
          "histogram2d": [
           {
            "colorbar": {
             "outlinewidth": 0,
             "ticks": ""
            },
            "colorscale": [
             [
              0,
              "#0d0887"
             ],
             [
              0.1111111111111111,
              "#46039f"
             ],
             [
              0.2222222222222222,
              "#7201a8"
             ],
             [
              0.3333333333333333,
              "#9c179e"
             ],
             [
              0.4444444444444444,
              "#bd3786"
             ],
             [
              0.5555555555555556,
              "#d8576b"
             ],
             [
              0.6666666666666666,
              "#ed7953"
             ],
             [
              0.7777777777777778,
              "#fb9f3a"
             ],
             [
              0.8888888888888888,
              "#fdca26"
             ],
             [
              1,
              "#f0f921"
             ]
            ],
            "type": "histogram2d"
           }
          ],
          "histogram2dcontour": [
           {
            "colorbar": {
             "outlinewidth": 0,
             "ticks": ""
            },
            "colorscale": [
             [
              0,
              "#0d0887"
             ],
             [
              0.1111111111111111,
              "#46039f"
             ],
             [
              0.2222222222222222,
              "#7201a8"
             ],
             [
              0.3333333333333333,
              "#9c179e"
             ],
             [
              0.4444444444444444,
              "#bd3786"
             ],
             [
              0.5555555555555556,
              "#d8576b"
             ],
             [
              0.6666666666666666,
              "#ed7953"
             ],
             [
              0.7777777777777778,
              "#fb9f3a"
             ],
             [
              0.8888888888888888,
              "#fdca26"
             ],
             [
              1,
              "#f0f921"
             ]
            ],
            "type": "histogram2dcontour"
           }
          ],
          "mesh3d": [
           {
            "colorbar": {
             "outlinewidth": 0,
             "ticks": ""
            },
            "type": "mesh3d"
           }
          ],
          "parcoords": [
           {
            "line": {
             "colorbar": {
              "outlinewidth": 0,
              "ticks": ""
             }
            },
            "type": "parcoords"
           }
          ],
          "pie": [
           {
            "automargin": true,
            "type": "pie"
           }
          ],
          "scatter": [
           {
            "fillpattern": {
             "fillmode": "overlay",
             "size": 10,
             "solidity": 0.2
            },
            "type": "scatter"
           }
          ],
          "scatter3d": [
           {
            "line": {
             "colorbar": {
              "outlinewidth": 0,
              "ticks": ""
             }
            },
            "marker": {
             "colorbar": {
              "outlinewidth": 0,
              "ticks": ""
             }
            },
            "type": "scatter3d"
           }
          ],
          "scattercarpet": [
           {
            "marker": {
             "colorbar": {
              "outlinewidth": 0,
              "ticks": ""
             }
            },
            "type": "scattercarpet"
           }
          ],
          "scattergeo": [
           {
            "marker": {
             "colorbar": {
              "outlinewidth": 0,
              "ticks": ""
             }
            },
            "type": "scattergeo"
           }
          ],
          "scattergl": [
           {
            "marker": {
             "colorbar": {
              "outlinewidth": 0,
              "ticks": ""
             }
            },
            "type": "scattergl"
           }
          ],
          "scattermap": [
           {
            "marker": {
             "colorbar": {
              "outlinewidth": 0,
              "ticks": ""
             }
            },
            "type": "scattermap"
           }
          ],
          "scattermapbox": [
           {
            "marker": {
             "colorbar": {
              "outlinewidth": 0,
              "ticks": ""
             }
            },
            "type": "scattermapbox"
           }
          ],
          "scatterpolar": [
           {
            "marker": {
             "colorbar": {
              "outlinewidth": 0,
              "ticks": ""
             }
            },
            "type": "scatterpolar"
           }
          ],
          "scatterpolargl": [
           {
            "marker": {
             "colorbar": {
              "outlinewidth": 0,
              "ticks": ""
             }
            },
            "type": "scatterpolargl"
           }
          ],
          "scatterternary": [
           {
            "marker": {
             "colorbar": {
              "outlinewidth": 0,
              "ticks": ""
             }
            },
            "type": "scatterternary"
           }
          ],
          "surface": [
           {
            "colorbar": {
             "outlinewidth": 0,
             "ticks": ""
            },
            "colorscale": [
             [
              0,
              "#0d0887"
             ],
             [
              0.1111111111111111,
              "#46039f"
             ],
             [
              0.2222222222222222,
              "#7201a8"
             ],
             [
              0.3333333333333333,
              "#9c179e"
             ],
             [
              0.4444444444444444,
              "#bd3786"
             ],
             [
              0.5555555555555556,
              "#d8576b"
             ],
             [
              0.6666666666666666,
              "#ed7953"
             ],
             [
              0.7777777777777778,
              "#fb9f3a"
             ],
             [
              0.8888888888888888,
              "#fdca26"
             ],
             [
              1,
              "#f0f921"
             ]
            ],
            "type": "surface"
           }
          ],
          "table": [
           {
            "cells": {
             "fill": {
              "color": "#EBF0F8"
             },
             "line": {
              "color": "white"
             }
            },
            "header": {
             "fill": {
              "color": "#C8D4E3"
             },
             "line": {
              "color": "white"
             }
            },
            "type": "table"
           }
          ]
         },
         "layout": {
          "annotationdefaults": {
           "arrowcolor": "#2a3f5f",
           "arrowhead": 0,
           "arrowwidth": 1
          },
          "autotypenumbers": "strict",
          "coloraxis": {
           "colorbar": {
            "outlinewidth": 0,
            "ticks": ""
           }
          },
          "colorscale": {
           "diverging": [
            [
             0,
             "#8e0152"
            ],
            [
             0.1,
             "#c51b7d"
            ],
            [
             0.2,
             "#de77ae"
            ],
            [
             0.3,
             "#f1b6da"
            ],
            [
             0.4,
             "#fde0ef"
            ],
            [
             0.5,
             "#f7f7f7"
            ],
            [
             0.6,
             "#e6f5d0"
            ],
            [
             0.7,
             "#b8e186"
            ],
            [
             0.8,
             "#7fbc41"
            ],
            [
             0.9,
             "#4d9221"
            ],
            [
             1,
             "#276419"
            ]
           ],
           "sequential": [
            [
             0,
             "#0d0887"
            ],
            [
             0.1111111111111111,
             "#46039f"
            ],
            [
             0.2222222222222222,
             "#7201a8"
            ],
            [
             0.3333333333333333,
             "#9c179e"
            ],
            [
             0.4444444444444444,
             "#bd3786"
            ],
            [
             0.5555555555555556,
             "#d8576b"
            ],
            [
             0.6666666666666666,
             "#ed7953"
            ],
            [
             0.7777777777777778,
             "#fb9f3a"
            ],
            [
             0.8888888888888888,
             "#fdca26"
            ],
            [
             1,
             "#f0f921"
            ]
           ],
           "sequentialminus": [
            [
             0,
             "#0d0887"
            ],
            [
             0.1111111111111111,
             "#46039f"
            ],
            [
             0.2222222222222222,
             "#7201a8"
            ],
            [
             0.3333333333333333,
             "#9c179e"
            ],
            [
             0.4444444444444444,
             "#bd3786"
            ],
            [
             0.5555555555555556,
             "#d8576b"
            ],
            [
             0.6666666666666666,
             "#ed7953"
            ],
            [
             0.7777777777777778,
             "#fb9f3a"
            ],
            [
             0.8888888888888888,
             "#fdca26"
            ],
            [
             1,
             "#f0f921"
            ]
           ]
          },
          "colorway": [
           "#636efa",
           "#EF553B",
           "#00cc96",
           "#ab63fa",
           "#FFA15A",
           "#19d3f3",
           "#FF6692",
           "#B6E880",
           "#FF97FF",
           "#FECB52"
          ],
          "font": {
           "color": "#2a3f5f"
          },
          "geo": {
           "bgcolor": "white",
           "lakecolor": "white",
           "landcolor": "#E5ECF6",
           "showlakes": true,
           "showland": true,
           "subunitcolor": "white"
          },
          "hoverlabel": {
           "align": "left"
          },
          "hovermode": "closest",
          "mapbox": {
           "style": "light"
          },
          "paper_bgcolor": "white",
          "plot_bgcolor": "#E5ECF6",
          "polar": {
           "angularaxis": {
            "gridcolor": "white",
            "linecolor": "white",
            "ticks": ""
           },
           "bgcolor": "#E5ECF6",
           "radialaxis": {
            "gridcolor": "white",
            "linecolor": "white",
            "ticks": ""
           }
          },
          "scene": {
           "xaxis": {
            "backgroundcolor": "#E5ECF6",
            "gridcolor": "white",
            "gridwidth": 2,
            "linecolor": "white",
            "showbackground": true,
            "ticks": "",
            "zerolinecolor": "white"
           },
           "yaxis": {
            "backgroundcolor": "#E5ECF6",
            "gridcolor": "white",
            "gridwidth": 2,
            "linecolor": "white",
            "showbackground": true,
            "ticks": "",
            "zerolinecolor": "white"
           },
           "zaxis": {
            "backgroundcolor": "#E5ECF6",
            "gridcolor": "white",
            "gridwidth": 2,
            "linecolor": "white",
            "showbackground": true,
            "ticks": "",
            "zerolinecolor": "white"
           }
          },
          "shapedefaults": {
           "line": {
            "color": "#2a3f5f"
           }
          },
          "ternary": {
           "aaxis": {
            "gridcolor": "white",
            "linecolor": "white",
            "ticks": ""
           },
           "baxis": {
            "gridcolor": "white",
            "linecolor": "white",
            "ticks": ""
           },
           "bgcolor": "#E5ECF6",
           "caxis": {
            "gridcolor": "white",
            "linecolor": "white",
            "ticks": ""
           }
          },
          "title": {
           "x": 0.05
          },
          "xaxis": {
           "automargin": true,
           "gridcolor": "white",
           "linecolor": "white",
           "ticks": "",
           "title": {
            "standoff": 15
           },
           "zerolinecolor": "white",
           "zerolinewidth": 2
          },
          "yaxis": {
           "automargin": true,
           "gridcolor": "white",
           "linecolor": "white",
           "ticks": "",
           "title": {
            "standoff": 15
           },
           "zerolinecolor": "white",
           "zerolinewidth": 2
          }
         }
        },
        "title": {
         "text": "Flight Price Trend: BSB->SSA"
        },
        "width": 900,
        "xaxis": {
         "tickformat": "%Y-%m-%d %H:%M",
         "title": {
          "text": "Date and Time"
         }
        },
        "yaxis": {
         "title": {
          "text": "Price (EUR)"
         }
        }
       }
      }
     },
     "metadata": {},
     "output_type": "display_data"
    },
    {
     "name": "stdout",
     "output_type": "stream",
     "text": [
      "Saved flight graph to flight_price_ORY_to_GIG,_SSA_to_ORY.html\n"
     ]
    },
    {
     "data": {
      "application/vnd.plotly.v1+json": {
       "config": {
        "plotlyServerURL": "https://plot.ly"
       },
       "data": [
        {
         "hovertemplate": "<b>%{fullData.name}</b><br>Date: %{x|%Y-%m-%d %H:%M}<br>Price: €%{y:.2f}",
         "line": {
          "width": 2
         },
         "marker": {
          "size": 6
         },
         "mode": "lines+markers",
         "name": "ORY->GIG, SSA->ORY Price",
         "type": "scatter",
         "x": [
          "2025-03-25T11:33:33.000000000",
          "2025-03-25T11:47:28.000000000",
          "2025-03-25T12:47:03.000000000",
          "2025-03-25T13:47:03.000000000",
          "2025-03-25T14:47:03.000000000",
          "2025-03-25T15:47:05.000000000",
          "2025-03-25T16:15:42.000000000",
          "2025-03-25T16:19:40.000000000",
          "2025-03-25T23:07:44.000000000",
          "2025-03-26T09:17:06.000000000",
          "2025-03-26T10:16:57.000000000",
          "2025-03-26T11:17:01.000000000",
          "2025-03-26T12:16:53.000000000",
          "2025-03-26T13:17:05.000000000",
          "2025-03-26T14:17:00.000000000",
          "2025-03-26T15:17:29.000000000",
          "2025-03-26T16:16:52.000000000",
          "2025-03-26T17:16:58.000000000",
          "2025-03-28T20:02:51.000000000",
          "2025-03-28T21:02:47.000000000",
          "2025-03-28T22:02:44.000000000",
          "2025-03-29T11:18:56.000000000",
          "2025-03-29T12:19:03.000000000",
          "2025-03-29T13:19:01.000000000",
          "2025-03-29T14:19:02.000000000",
          "2025-03-29T15:19:29.000000000",
          "2025-03-29T16:18:58.000000000",
          "2025-03-29T17:19:09.000000000",
          "2025-03-29T18:19:30.000000000",
          "2025-03-29T19:20:25.000000000",
          "2025-03-29T20:19:00.000000000",
          "2025-03-29T21:19:30.000000000",
          "2025-03-30T18:15:49.000000000",
          "2025-03-30T19:16:18.000000000",
          "2025-03-30T20:15:50.000000000",
          "2025-03-30T21:15:54.000000000",
          "2025-03-31T10:49:10.000000000",
          "2025-03-31T11:49:09.000000000",
          "2025-03-31T12:49:41.000000000",
          "2025-03-31T13:49:08.000000000",
          "2025-03-31T14:49:19.000000000",
          "2025-03-31T15:49:09.000000000",
          "2025-03-31T16:49:43.000000000",
          "2025-03-31T17:49:43.000000000",
          "2025-04-04T10:20:50.000000000",
          "2025-04-04T11:20:44.000000000",
          "2025-04-04T12:20:43.000000000",
          "2025-04-04T13:20:42.000000000",
          "2025-04-04T14:20:59.000000000",
          "2025-04-04T15:20:43.000000000",
          "2025-04-04T16:20:46.000000000",
          "2025-04-04T17:20:42.000000000",
          "2025-04-04T18:20:43.000000000",
          "2025-04-04T19:20:51.000000000",
          "2025-04-04T20:20:45.000000000",
          "2025-04-04T21:20:59.000000000",
          "2025-04-05T17:23:21.000000000",
          "2025-04-05T18:23:20.000000000",
          "2025-04-06T09:30:51.000000000",
          "2025-04-06T10:30:53.000000000",
          "2025-04-06T11:30:57.000000000",
          "2025-04-06T12:30:50.000000000",
          "2025-04-06T13:30:50.000000000",
          "2025-04-06T14:31:06.000000000",
          "2025-04-06T15:30:49.000000000",
          "2025-04-06T16:31:41.000000000",
          "2025-04-06T17:30:50.000000000",
          "2025-04-06T18:30:50.000000000",
          "2025-04-06T19:30:49.000000000",
          "2025-04-06T20:30:46.000000000",
          "2025-04-06T21:30:52.000000000",
          "2025-04-06T22:30:52.000000000",
          "2025-04-08T09:53:46.000000000",
          "2025-04-08T10:53:53.000000000",
          "2025-04-08T11:53:49.000000000",
          "2025-04-08T12:53:49.000000000",
          "2025-04-08T13:53:49.000000000",
          "2025-04-08T14:53:49.000000000",
          "2025-04-08T15:53:47.000000000",
          "2025-04-08T16:53:49.000000000",
          "2025-04-08T17:53:46.000000000",
          "2025-04-08T18:53:44.000000000",
          "2025-04-08T19:54:05.000000000",
          "2025-04-08T20:53:47.000000000",
          "2025-04-08T21:53:55.000000000",
          "2025-04-08T22:53:49.000000000",
          "2025-04-08T23:53:45.000000000",
          "2025-04-09T00:53:49.000000000",
          "2025-04-09T01:53:50.000000000",
          "2025-04-09T02:53:48.000000000",
          "2025-04-09T03:53:46.000000000",
          "2025-04-09T04:53:51.000000000",
          "2025-04-09T05:53:48.000000000",
          "2025-04-09T06:53:52.000000000",
          "2025-04-09T07:53:52.000000000",
          "2025-04-09T08:54:05.000000000",
          "2025-04-09T09:53:49.000000000",
          "2025-04-09T10:54:06.000000000",
          "2025-04-09T11:53:53.000000000",
          "2025-04-09T12:53:47.000000000",
          "2025-04-09T13:53:48.000000000",
          "2025-04-09T14:53:51.000000000",
          "2025-04-09T15:53:49.000000000",
          "2025-04-09T16:53:51.000000000",
          "2025-04-09T17:54:06.000000000",
          "2025-04-09T18:53:58.000000000",
          "2025-04-09T19:53:53.000000000",
          "2025-04-09T20:54:07.000000000",
          "2025-04-09T21:53:49.000000000",
          "2025-04-09T22:54:06.000000000",
          "2025-04-09T23:53:49.000000000",
          "2025-04-10T00:53:48.000000000",
          "2025-04-10T01:53:53.000000000",
          "2025-04-10T02:54:30.000000000",
          "2025-04-10T03:53:50.000000000",
          "2025-04-10T04:53:49.000000000",
          "2025-04-10T05:53:54.000000000",
          "2025-04-10T06:53:54.000000000",
          "2025-04-10T07:53:54.000000000",
          "2025-04-10T08:53:55.000000000",
          "2025-04-10T09:53:52.000000000",
          "2025-04-10T10:53:54.000000000",
          "2025-04-10T11:53:53.000000000",
          "2025-04-10T12:54:01.000000000",
          "2025-04-10T13:53:53.000000000",
          "2025-04-10T14:53:54.000000000",
          "2025-04-10T15:53:53.000000000",
          "2025-04-10T16:53:54.000000000",
          "2025-04-10T17:54:08.000000000",
          "2025-04-10T18:53:48.000000000",
          "2025-04-10T19:54:12.000000000",
          "2025-04-10T20:54:08.000000000",
          "2025-04-10T21:53:52.000000000",
          "2025-04-10T22:54:00.000000000",
          "2025-04-10T23:54:07.000000000",
          "2025-04-11T00:53:53.000000000",
          "2025-04-11T01:54:02.000000000",
          "2025-04-11T02:53:51.000000000",
          "2025-04-11T03:53:50.000000000",
          "2025-04-11T04:53:51.000000000",
          "2025-04-11T05:53:59.000000000",
          "2025-04-11T06:54:08.000000000",
          "2025-04-11T07:53:57.000000000",
          "2025-04-11T08:54:02.000000000",
          "2025-04-11T09:53:54.000000000",
          "2025-04-11T10:54:10.000000000",
          "2025-04-11T11:53:55.000000000",
          "2025-04-11T12:53:51.000000000",
          "2025-04-11T13:53:52.000000000",
          "2025-04-11T14:53:51.000000000",
          "2025-04-11T15:54:09.000000000",
          "2025-04-11T16:53:55.000000000",
          "2025-04-11T17:53:56.000000000",
          "2025-04-11T18:53:54.000000000",
          "2025-04-11T19:53:52.000000000",
          "2025-04-11T20:54:01.000000000",
          "2025-04-11T21:53:50.000000000",
          "2025-04-11T22:53:55.000000000",
          "2025-04-11T23:53:53.000000000",
          "2025-04-12T00:53:52.000000000",
          "2025-04-12T01:54:11.000000000",
          "2025-04-12T02:53:54.000000000",
          "2025-04-12T03:53:52.000000000",
          "2025-04-12T04:54:12.000000000",
          "2025-04-12T05:53:53.000000000",
          "2025-04-12T06:53:56.000000000",
          "2025-04-12T07:54:02.000000000",
          "2025-04-12T08:53:58.000000000",
          "2025-04-12T09:53:55.000000000",
          "2025-04-12T10:53:54.000000000",
          "2025-04-12T11:53:56.000000000",
          "2025-04-12T12:54:03.000000000",
          "2025-04-12T13:54:01.000000000",
          "2025-04-12T14:53:53.000000000",
          "2025-04-12T15:53:53.000000000",
          "2025-04-12T16:54:07.000000000",
          "2025-04-12T17:53:50.000000000",
          "2025-04-12T18:53:52.000000000",
          "2025-04-12T19:53:54.000000000",
          "2025-04-12T20:54:03.000000000",
          "2025-04-12T21:53:57.000000000",
          "2025-04-13T09:12:55.000000000",
          "2025-04-13T10:12:40.000000000",
          "2025-04-13T11:12:28.000000000",
          "2025-04-13T12:12:53.000000000",
          "2025-04-13T13:12:45.000000000",
          "2025-04-13T14:12:55.000000000",
          "2025-04-13T15:12:45.000000000",
          "2025-04-13T16:12:45.000000000",
          "2025-04-13T17:13:18.000000000",
          "2025-04-13T18:12:43.000000000",
          "2025-04-13T19:12:56.000000000",
          "2025-04-13T20:12:49.000000000",
          "2025-04-13T21:12:39.000000000",
          "2025-04-13T22:12:41.000000000"
         ],
         "y": {
          "bdata": "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",
          "dtype": "f8"
         }
        },
        {
         "hovertemplate": "<b>%{fullData.name}</b><br>Date: %{x|%Y-%m-%d %H:%M}<br>Price: €%{y:.2f}",
         "line": {
          "color": "orange",
          "dash": "dot"
         },
         "mode": "lines",
         "name": "Average (€4516.08)",
         "type": "scatter",
         "x": [
          "2025-03-25T11:33:33",
          "2025-04-13T22:12:41"
         ],
         "y": [
          4516.083076923077,
          4516.083076923077
         ]
        },
        {
         "hovertemplate": "<b>%{fullData.name}</b><br>Date: %{x|%Y-%m-%d %H:%M}<br>Price: €%{y:.2f}",
         "line": {
          "color": "green",
          "width": 1
         },
         "mode": "lines",
         "name": "7-Day Moving Avg",
         "type": "scatter",
         "x": [
          "2025-03-25T11:33:33.000000000",
          "2025-03-25T11:47:28.000000000",
          "2025-03-25T12:47:03.000000000",
          "2025-03-25T13:47:03.000000000",
          "2025-03-25T14:47:03.000000000",
          "2025-03-25T15:47:05.000000000",
          "2025-03-25T16:15:42.000000000",
          "2025-03-25T16:19:40.000000000",
          "2025-03-25T23:07:44.000000000",
          "2025-03-26T09:17:06.000000000",
          "2025-03-26T10:16:57.000000000",
          "2025-03-26T11:17:01.000000000",
          "2025-03-26T12:16:53.000000000",
          "2025-03-26T13:17:05.000000000",
          "2025-03-26T14:17:00.000000000",
          "2025-03-26T15:17:29.000000000",
          "2025-03-26T16:16:52.000000000",
          "2025-03-26T17:16:58.000000000",
          "2025-03-28T20:02:51.000000000",
          "2025-03-28T21:02:47.000000000",
          "2025-03-28T22:02:44.000000000",
          "2025-03-29T11:18:56.000000000",
          "2025-03-29T12:19:03.000000000",
          "2025-03-29T13:19:01.000000000",
          "2025-03-29T14:19:02.000000000",
          "2025-03-29T15:19:29.000000000",
          "2025-03-29T16:18:58.000000000",
          "2025-03-29T17:19:09.000000000",
          "2025-03-29T18:19:30.000000000",
          "2025-03-29T19:20:25.000000000",
          "2025-03-29T20:19:00.000000000",
          "2025-03-29T21:19:30.000000000",
          "2025-03-30T18:15:49.000000000",
          "2025-03-30T19:16:18.000000000",
          "2025-03-30T20:15:50.000000000",
          "2025-03-30T21:15:54.000000000",
          "2025-03-31T10:49:10.000000000",
          "2025-03-31T11:49:09.000000000",
          "2025-03-31T12:49:41.000000000",
          "2025-03-31T13:49:08.000000000",
          "2025-03-31T14:49:19.000000000",
          "2025-03-31T15:49:09.000000000",
          "2025-03-31T16:49:43.000000000",
          "2025-03-31T17:49:43.000000000",
          "2025-04-04T10:20:50.000000000",
          "2025-04-04T11:20:44.000000000",
          "2025-04-04T12:20:43.000000000",
          "2025-04-04T13:20:42.000000000",
          "2025-04-04T14:20:59.000000000",
          "2025-04-04T15:20:43.000000000",
          "2025-04-04T16:20:46.000000000",
          "2025-04-04T17:20:42.000000000",
          "2025-04-04T18:20:43.000000000",
          "2025-04-04T19:20:51.000000000",
          "2025-04-04T20:20:45.000000000",
          "2025-04-04T21:20:59.000000000",
          "2025-04-05T17:23:21.000000000",
          "2025-04-05T18:23:20.000000000",
          "2025-04-06T09:30:51.000000000",
          "2025-04-06T10:30:53.000000000",
          "2025-04-06T11:30:57.000000000",
          "2025-04-06T12:30:50.000000000",
          "2025-04-06T13:30:50.000000000",
          "2025-04-06T14:31:06.000000000",
          "2025-04-06T15:30:49.000000000",
          "2025-04-06T16:31:41.000000000",
          "2025-04-06T17:30:50.000000000",
          "2025-04-06T18:30:50.000000000",
          "2025-04-06T19:30:49.000000000",
          "2025-04-06T20:30:46.000000000",
          "2025-04-06T21:30:52.000000000",
          "2025-04-06T22:30:52.000000000",
          "2025-04-08T09:53:46.000000000",
          "2025-04-08T10:53:53.000000000",
          "2025-04-08T11:53:49.000000000",
          "2025-04-08T12:53:49.000000000",
          "2025-04-08T13:53:49.000000000",
          "2025-04-08T14:53:49.000000000",
          "2025-04-08T15:53:47.000000000",
          "2025-04-08T16:53:49.000000000",
          "2025-04-08T17:53:46.000000000",
          "2025-04-08T18:53:44.000000000",
          "2025-04-08T19:54:05.000000000",
          "2025-04-08T20:53:47.000000000",
          "2025-04-08T21:53:55.000000000",
          "2025-04-08T22:53:49.000000000",
          "2025-04-08T23:53:45.000000000",
          "2025-04-09T00:53:49.000000000",
          "2025-04-09T01:53:50.000000000",
          "2025-04-09T02:53:48.000000000",
          "2025-04-09T03:53:46.000000000",
          "2025-04-09T04:53:51.000000000",
          "2025-04-09T05:53:48.000000000",
          "2025-04-09T06:53:52.000000000",
          "2025-04-09T07:53:52.000000000",
          "2025-04-09T08:54:05.000000000",
          "2025-04-09T09:53:49.000000000",
          "2025-04-09T10:54:06.000000000",
          "2025-04-09T11:53:53.000000000",
          "2025-04-09T12:53:47.000000000",
          "2025-04-09T13:53:48.000000000",
          "2025-04-09T14:53:51.000000000",
          "2025-04-09T15:53:49.000000000",
          "2025-04-09T16:53:51.000000000",
          "2025-04-09T17:54:06.000000000",
          "2025-04-09T18:53:58.000000000",
          "2025-04-09T19:53:53.000000000",
          "2025-04-09T20:54:07.000000000",
          "2025-04-09T21:53:49.000000000",
          "2025-04-09T22:54:06.000000000",
          "2025-04-09T23:53:49.000000000",
          "2025-04-10T00:53:48.000000000",
          "2025-04-10T01:53:53.000000000",
          "2025-04-10T02:54:30.000000000",
          "2025-04-10T03:53:50.000000000",
          "2025-04-10T04:53:49.000000000",
          "2025-04-10T05:53:54.000000000",
          "2025-04-10T06:53:54.000000000",
          "2025-04-10T07:53:54.000000000",
          "2025-04-10T08:53:55.000000000",
          "2025-04-10T09:53:52.000000000",
          "2025-04-10T10:53:54.000000000",
          "2025-04-10T11:53:53.000000000",
          "2025-04-10T12:54:01.000000000",
          "2025-04-10T13:53:53.000000000",
          "2025-04-10T14:53:54.000000000",
          "2025-04-10T15:53:53.000000000",
          "2025-04-10T16:53:54.000000000",
          "2025-04-10T17:54:08.000000000",
          "2025-04-10T18:53:48.000000000",
          "2025-04-10T19:54:12.000000000",
          "2025-04-10T20:54:08.000000000",
          "2025-04-10T21:53:52.000000000",
          "2025-04-10T22:54:00.000000000",
          "2025-04-10T23:54:07.000000000",
          "2025-04-11T00:53:53.000000000",
          "2025-04-11T01:54:02.000000000",
          "2025-04-11T02:53:51.000000000",
          "2025-04-11T03:53:50.000000000",
          "2025-04-11T04:53:51.000000000",
          "2025-04-11T05:53:59.000000000",
          "2025-04-11T06:54:08.000000000",
          "2025-04-11T07:53:57.000000000",
          "2025-04-11T08:54:02.000000000",
          "2025-04-11T09:53:54.000000000",
          "2025-04-11T10:54:10.000000000",
          "2025-04-11T11:53:55.000000000",
          "2025-04-11T12:53:51.000000000",
          "2025-04-11T13:53:52.000000000",
          "2025-04-11T14:53:51.000000000",
          "2025-04-11T15:54:09.000000000",
          "2025-04-11T16:53:55.000000000",
          "2025-04-11T17:53:56.000000000",
          "2025-04-11T18:53:54.000000000",
          "2025-04-11T19:53:52.000000000",
          "2025-04-11T20:54:01.000000000",
          "2025-04-11T21:53:50.000000000",
          "2025-04-11T22:53:55.000000000",
          "2025-04-11T23:53:53.000000000",
          "2025-04-12T00:53:52.000000000",
          "2025-04-12T01:54:11.000000000",
          "2025-04-12T02:53:54.000000000",
          "2025-04-12T03:53:52.000000000",
          "2025-04-12T04:54:12.000000000",
          "2025-04-12T05:53:53.000000000",
          "2025-04-12T06:53:56.000000000",
          "2025-04-12T07:54:02.000000000",
          "2025-04-12T08:53:58.000000000",
          "2025-04-12T09:53:55.000000000",
          "2025-04-12T10:53:54.000000000",
          "2025-04-12T11:53:56.000000000",
          "2025-04-12T12:54:03.000000000",
          "2025-04-12T13:54:01.000000000",
          "2025-04-12T14:53:53.000000000",
          "2025-04-12T15:53:53.000000000",
          "2025-04-12T16:54:07.000000000",
          "2025-04-12T17:53:50.000000000",
          "2025-04-12T18:53:52.000000000",
          "2025-04-12T19:53:54.000000000",
          "2025-04-12T20:54:03.000000000",
          "2025-04-12T21:53:57.000000000",
          "2025-04-13T09:12:55.000000000",
          "2025-04-13T10:12:40.000000000",
          "2025-04-13T11:12:28.000000000",
          "2025-04-13T12:12:53.000000000",
          "2025-04-13T13:12:45.000000000",
          "2025-04-13T14:12:55.000000000",
          "2025-04-13T15:12:45.000000000",
          "2025-04-13T16:12:45.000000000",
          "2025-04-13T17:13:18.000000000",
          "2025-04-13T18:12:43.000000000",
          "2025-04-13T19:12:56.000000000",
          "2025-04-13T20:12:49.000000000",
          "2025-04-13T21:12:39.000000000",
          "2025-04-13T22:12:41.000000000"
         ],
         "y": {
          "bdata": "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",
          "dtype": "f8"
         }
        }
       ],
       "layout": {
        "height": 500,
        "hoverlabel": {
         "bgcolor": "white",
         "font": {
          "size": 12
         }
        },
        "hovermode": "closest",
        "legend": {
         "bgcolor": "rgba(255,255,255,0.8)",
         "x": 0.01,
         "y": 0.99
        },
        "margin": {
         "b": 50,
         "l": 50,
         "r": 50,
         "t": 80
        },
        "template": {
         "data": {
          "bar": [
           {
            "error_x": {
             "color": "#2a3f5f"
            },
            "error_y": {
             "color": "#2a3f5f"
            },
            "marker": {
             "line": {
              "color": "#E5ECF6",
              "width": 0.5
             },
             "pattern": {
              "fillmode": "overlay",
              "size": 10,
              "solidity": 0.2
             }
            },
            "type": "bar"
           }
          ],
          "barpolar": [
           {
            "marker": {
             "line": {
              "color": "#E5ECF6",
              "width": 0.5
             },
             "pattern": {
              "fillmode": "overlay",
              "size": 10,
              "solidity": 0.2
             }
            },
            "type": "barpolar"
           }
          ],
          "carpet": [
           {
            "aaxis": {
             "endlinecolor": "#2a3f5f",
             "gridcolor": "white",
             "linecolor": "white",
             "minorgridcolor": "white",
             "startlinecolor": "#2a3f5f"
            },
            "baxis": {
             "endlinecolor": "#2a3f5f",
             "gridcolor": "white",
             "linecolor": "white",
             "minorgridcolor": "white",
             "startlinecolor": "#2a3f5f"
            },
            "type": "carpet"
           }
          ],
          "choropleth": [
           {
            "colorbar": {
             "outlinewidth": 0,
             "ticks": ""
            },
            "type": "choropleth"
           }
          ],
          "contour": [
           {
            "colorbar": {
             "outlinewidth": 0,
             "ticks": ""
            },
            "colorscale": [
             [
              0,
              "#0d0887"
             ],
             [
              0.1111111111111111,
              "#46039f"
             ],
             [
              0.2222222222222222,
              "#7201a8"
             ],
             [
              0.3333333333333333,
              "#9c179e"
             ],
             [
              0.4444444444444444,
              "#bd3786"
             ],
             [
              0.5555555555555556,
              "#d8576b"
             ],
             [
              0.6666666666666666,
              "#ed7953"
             ],
             [
              0.7777777777777778,
              "#fb9f3a"
             ],
             [
              0.8888888888888888,
              "#fdca26"
             ],
             [
              1,
              "#f0f921"
             ]
            ],
            "type": "contour"
           }
          ],
          "contourcarpet": [
           {
            "colorbar": {
             "outlinewidth": 0,
             "ticks": ""
            },
            "type": "contourcarpet"
           }
          ],
          "heatmap": [
           {
            "colorbar": {
             "outlinewidth": 0,
             "ticks": ""
            },
            "colorscale": [
             [
              0,
              "#0d0887"
             ],
             [
              0.1111111111111111,
              "#46039f"
             ],
             [
              0.2222222222222222,
              "#7201a8"
             ],
             [
              0.3333333333333333,
              "#9c179e"
             ],
             [
              0.4444444444444444,
              "#bd3786"
             ],
             [
              0.5555555555555556,
              "#d8576b"
             ],
             [
              0.6666666666666666,
              "#ed7953"
             ],
             [
              0.7777777777777778,
              "#fb9f3a"
             ],
             [
              0.8888888888888888,
              "#fdca26"
             ],
             [
              1,
              "#f0f921"
             ]
            ],
            "type": "heatmap"
           }
          ],
          "histogram": [
           {
            "marker": {
             "pattern": {
              "fillmode": "overlay",
              "size": 10,
              "solidity": 0.2
             }
            },
            "type": "histogram"
           }
          ],
          "histogram2d": [
           {
            "colorbar": {
             "outlinewidth": 0,
             "ticks": ""
            },
            "colorscale": [
             [
              0,
              "#0d0887"
             ],
             [
              0.1111111111111111,
              "#46039f"
             ],
             [
              0.2222222222222222,
              "#7201a8"
             ],
             [
              0.3333333333333333,
              "#9c179e"
             ],
             [
              0.4444444444444444,
              "#bd3786"
             ],
             [
              0.5555555555555556,
              "#d8576b"
             ],
             [
              0.6666666666666666,
              "#ed7953"
             ],
             [
              0.7777777777777778,
              "#fb9f3a"
             ],
             [
              0.8888888888888888,
              "#fdca26"
             ],
             [
              1,
              "#f0f921"
             ]
            ],
            "type": "histogram2d"
           }
          ],
          "histogram2dcontour": [
           {
            "colorbar": {
             "outlinewidth": 0,
             "ticks": ""
            },
            "colorscale": [
             [
              0,
              "#0d0887"
             ],
             [
              0.1111111111111111,
              "#46039f"
             ],
             [
              0.2222222222222222,
              "#7201a8"
             ],
             [
              0.3333333333333333,
              "#9c179e"
             ],
             [
              0.4444444444444444,
              "#bd3786"
             ],
             [
              0.5555555555555556,
              "#d8576b"
             ],
             [
              0.6666666666666666,
              "#ed7953"
             ],
             [
              0.7777777777777778,
              "#fb9f3a"
             ],
             [
              0.8888888888888888,
              "#fdca26"
             ],
             [
              1,
              "#f0f921"
             ]
            ],
            "type": "histogram2dcontour"
           }
          ],
          "mesh3d": [
           {
            "colorbar": {
             "outlinewidth": 0,
             "ticks": ""
            },
            "type": "mesh3d"
           }
          ],
          "parcoords": [
           {
            "line": {
             "colorbar": {
              "outlinewidth": 0,
              "ticks": ""
             }
            },
            "type": "parcoords"
           }
          ],
          "pie": [
           {
            "automargin": true,
            "type": "pie"
           }
          ],
          "scatter": [
           {
            "fillpattern": {
             "fillmode": "overlay",
             "size": 10,
             "solidity": 0.2
            },
            "type": "scatter"
           }
          ],
          "scatter3d": [
           {
            "line": {
             "colorbar": {
              "outlinewidth": 0,
              "ticks": ""
             }
            },
            "marker": {
             "colorbar": {
              "outlinewidth": 0,
              "ticks": ""
             }
            },
            "type": "scatter3d"
           }
          ],
          "scattercarpet": [
           {
            "marker": {
             "colorbar": {
              "outlinewidth": 0,
              "ticks": ""
             }
            },
            "type": "scattercarpet"
           }
          ],
          "scattergeo": [
           {
            "marker": {
             "colorbar": {
              "outlinewidth": 0,
              "ticks": ""
             }
            },
            "type": "scattergeo"
           }
          ],
          "scattergl": [
           {
            "marker": {
             "colorbar": {
              "outlinewidth": 0,
              "ticks": ""
             }
            },
            "type": "scattergl"
           }
          ],
          "scattermap": [
           {
            "marker": {
             "colorbar": {
              "outlinewidth": 0,
              "ticks": ""
             }
            },
            "type": "scattermap"
           }
          ],
          "scattermapbox": [
           {
            "marker": {
             "colorbar": {
              "outlinewidth": 0,
              "ticks": ""
             }
            },
            "type": "scattermapbox"
           }
          ],
          "scatterpolar": [
           {
            "marker": {
             "colorbar": {
              "outlinewidth": 0,
              "ticks": ""
             }
            },
            "type": "scatterpolar"
           }
          ],
          "scatterpolargl": [
           {
            "marker": {
             "colorbar": {
              "outlinewidth": 0,
              "ticks": ""
             }
            },
            "type": "scatterpolargl"
           }
          ],
          "scatterternary": [
           {
            "marker": {
             "colorbar": {
              "outlinewidth": 0,
              "ticks": ""
             }
            },
            "type": "scatterternary"
           }
          ],
          "surface": [
           {
            "colorbar": {
             "outlinewidth": 0,
             "ticks": ""
            },
            "colorscale": [
             [
              0,
              "#0d0887"
             ],
             [
              0.1111111111111111,
              "#46039f"
             ],
             [
              0.2222222222222222,
              "#7201a8"
             ],
             [
              0.3333333333333333,
              "#9c179e"
             ],
             [
              0.4444444444444444,
              "#bd3786"
             ],
             [
              0.5555555555555556,
              "#d8576b"
             ],
             [
              0.6666666666666666,
              "#ed7953"
             ],
             [
              0.7777777777777778,
              "#fb9f3a"
             ],
             [
              0.8888888888888888,
              "#fdca26"
             ],
             [
              1,
              "#f0f921"
             ]
            ],
            "type": "surface"
           }
          ],
          "table": [
           {
            "cells": {
             "fill": {
              "color": "#EBF0F8"
             },
             "line": {
              "color": "white"
             }
            },
            "header": {
             "fill": {
              "color": "#C8D4E3"
             },
             "line": {
              "color": "white"
             }
            },
            "type": "table"
           }
          ]
         },
         "layout": {
          "annotationdefaults": {
           "arrowcolor": "#2a3f5f",
           "arrowhead": 0,
           "arrowwidth": 1
          },
          "autotypenumbers": "strict",
          "coloraxis": {
           "colorbar": {
            "outlinewidth": 0,
            "ticks": ""
           }
          },
          "colorscale": {
           "diverging": [
            [
             0,
             "#8e0152"
            ],
            [
             0.1,
             "#c51b7d"
            ],
            [
             0.2,
             "#de77ae"
            ],
            [
             0.3,
             "#f1b6da"
            ],
            [
             0.4,
             "#fde0ef"
            ],
            [
             0.5,
             "#f7f7f7"
            ],
            [
             0.6,
             "#e6f5d0"
            ],
            [
             0.7,
             "#b8e186"
            ],
            [
             0.8,
             "#7fbc41"
            ],
            [
             0.9,
             "#4d9221"
            ],
            [
             1,
             "#276419"
            ]
           ],
           "sequential": [
            [
             0,
             "#0d0887"
            ],
            [
             0.1111111111111111,
             "#46039f"
            ],
            [
             0.2222222222222222,
             "#7201a8"
            ],
            [
             0.3333333333333333,
             "#9c179e"
            ],
            [
             0.4444444444444444,
             "#bd3786"
            ],
            [
             0.5555555555555556,
             "#d8576b"
            ],
            [
             0.6666666666666666,
             "#ed7953"
            ],
            [
             0.7777777777777778,
             "#fb9f3a"
            ],
            [
             0.8888888888888888,
             "#fdca26"
            ],
            [
             1,
             "#f0f921"
            ]
           ],
           "sequentialminus": [
            [
             0,
             "#0d0887"
            ],
            [
             0.1111111111111111,
             "#46039f"
            ],
            [
             0.2222222222222222,
             "#7201a8"
            ],
            [
             0.3333333333333333,
             "#9c179e"
            ],
            [
             0.4444444444444444,
             "#bd3786"
            ],
            [
             0.5555555555555556,
             "#d8576b"
            ],
            [
             0.6666666666666666,
             "#ed7953"
            ],
            [
             0.7777777777777778,
             "#fb9f3a"
            ],
            [
             0.8888888888888888,
             "#fdca26"
            ],
            [
             1,
             "#f0f921"
            ]
           ]
          },
          "colorway": [
           "#636efa",
           "#EF553B",
           "#00cc96",
           "#ab63fa",
           "#FFA15A",
           "#19d3f3",
           "#FF6692",
           "#B6E880",
           "#FF97FF",
           "#FECB52"
          ],
          "font": {
           "color": "#2a3f5f"
          },
          "geo": {
           "bgcolor": "white",
           "lakecolor": "white",
           "landcolor": "#E5ECF6",
           "showlakes": true,
           "showland": true,
           "subunitcolor": "white"
          },
          "hoverlabel": {
           "align": "left"
          },
          "hovermode": "closest",
          "mapbox": {
           "style": "light"
          },
          "paper_bgcolor": "white",
          "plot_bgcolor": "#E5ECF6",
          "polar": {
           "angularaxis": {
            "gridcolor": "white",
            "linecolor": "white",
            "ticks": ""
           },
           "bgcolor": "#E5ECF6",
           "radialaxis": {
            "gridcolor": "white",
            "linecolor": "white",
            "ticks": ""
           }
          },
          "scene": {
           "xaxis": {
            "backgroundcolor": "#E5ECF6",
            "gridcolor": "white",
            "gridwidth": 2,
            "linecolor": "white",
            "showbackground": true,
            "ticks": "",
            "zerolinecolor": "white"
           },
           "yaxis": {
            "backgroundcolor": "#E5ECF6",
            "gridcolor": "white",
            "gridwidth": 2,
            "linecolor": "white",
            "showbackground": true,
            "ticks": "",
            "zerolinecolor": "white"
           },
           "zaxis": {
            "backgroundcolor": "#E5ECF6",
            "gridcolor": "white",
            "gridwidth": 2,
            "linecolor": "white",
            "showbackground": true,
            "ticks": "",
            "zerolinecolor": "white"
           }
          },
          "shapedefaults": {
           "line": {
            "color": "#2a3f5f"
           }
          },
          "ternary": {
           "aaxis": {
            "gridcolor": "white",
            "linecolor": "white",
            "ticks": ""
           },
           "baxis": {
            "gridcolor": "white",
            "linecolor": "white",
            "ticks": ""
           },
           "bgcolor": "#E5ECF6",
           "caxis": {
            "gridcolor": "white",
            "linecolor": "white",
            "ticks": ""
           }
          },
          "title": {
           "x": 0.05
          },
          "xaxis": {
           "automargin": true,
           "gridcolor": "white",
           "linecolor": "white",
           "ticks": "",
           "title": {
            "standoff": 15
           },
           "zerolinecolor": "white",
           "zerolinewidth": 2
          },
          "yaxis": {
           "automargin": true,
           "gridcolor": "white",
           "linecolor": "white",
           "ticks": "",
           "title": {
            "standoff": 15
           },
           "zerolinecolor": "white",
           "zerolinewidth": 2
          }
         }
        },
        "title": {
         "text": "Flight Price Trend: ORY->GIG, SSA->ORY"
        },
        "width": 900,
        "xaxis": {
         "tickformat": "%Y-%m-%d %H:%M",
         "title": {
          "text": "Date and Time"
         }
        },
        "yaxis": {
         "title": {
          "text": "Price (EUR)"
         }
        }
       }
      }
     },
     "metadata": {},
     "output_type": "display_data"
    }
   ],
   "source": [
    "# Create individual graphs for each flight route\n",
    "unique_flights = df['Flight'].unique()\n",
    "\n",
    "# Create a separate figure for each flight\n",
    "for flight in unique_flights:\n",
    "    # Filter data for this flight only\n",
    "    flight_data = df[df['Flight'] == flight]\n",
    "    \n",
    "    # Create a new figure for this flight\n",
    "    fig = go.Figure()\n",
    "    \n",
    "    # Add the price trend line\n",
    "    fig.add_trace(go.Scatter(\n",
    "        x=flight_data['Datetime'],\n",
    "        y=flight_data['Price_EUR'],\n",
    "        mode='lines+markers',\n",
    "        name=f'{flight} Price',\n",
    "        line=dict(width=2),\n",
    "        marker=dict(size=6)\n",
    "    ))\n",
    "    \n",
    "    # # Add target price line if it exists\n",
    "    # if 'Target_Price' in flight_data.columns:\n",
    "    #     target_price = flight_data['Target_Price'].iloc[0]\n",
    "    #     fig.add_trace(go.Scatter(\n",
    "    #         x=[flight_data['Datetime'].min(), flight_data['Datetime'].max()],\n",
    "    #         y=[target_price, target_price],\n",
    "    #         mode='lines',\n",
    "    #         name=f'Target (€{target_price})',\n",
    "    #         line=dict(dash='dash', color='red')\n",
    "    #     ))\n",
    "    \n",
    "    # Add average price line\n",
    "    avg_price = flight_data['Price_EUR'].mean()\n",
    "    fig.add_trace(go.Scatter(\n",
    "        x=[flight_data['Datetime'].min(), flight_data['Datetime'].max()],\n",
    "        y=[avg_price, avg_price],\n",
    "        mode='lines',\n",
    "        name=f'Average (€{avg_price:.2f})',\n",
    "        line=dict(dash='dot', color='orange')\n",
    "    ))\n",
    "    \n",
    "    # Add moving average (7-day window) if enough data points\n",
    "    if len(flight_data) > 7:\n",
    "        flight_data = flight_data.sort_values('Datetime')\n",
    "        flight_data['7d_MA'] = flight_data['Price_EUR'].rolling(window=7, min_periods=1).mean()\n",
    "        \n",
    "        fig.add_trace(go.Scatter(\n",
    "            x=flight_data['Datetime'],\n",
    "            y=flight_data['7d_MA'],\n",
    "            mode='lines',\n",
    "            name='7-Day Moving Avg',\n",
    "            line=dict(color='green', width=1)\n",
    "        ))\n",
    "    \n",
    "    # Update layout with better formatting\n",
    "    fig.update_layout(\n",
    "        title=f'Flight Price Trend: {flight}',\n",
    "        xaxis_title='Date and Time',\n",
    "        yaxis_title='Price (EUR)',\n",
    "        height=500,\n",
    "        width=900,\n",
    "        hovermode='closest',\n",
    "        hoverlabel=dict(bgcolor=\"white\", font_size=12),\n",
    "        xaxis=dict(tickformat='%Y-%m-%d %H:%M'),\n",
    "        legend=dict(x=0.01, y=0.99, bgcolor='rgba(255,255,255,0.8)'),\n",
    "        margin=dict(l=50, r=50, t=80, b=50)\n",
    "    )\n",
    "    \n",
    "    # Add hover information\n",
    "    fig.update_traces(\n",
    "        hovertemplate='<b>%{fullData.name}</b><br>Date: %{x|%Y-%m-%d %H:%M}<br>Price: €%{y:.2f}'\n",
    "    )\n",
    "    \n",
    "    # Save the figure to a file\n",
    "    file_name = f\"flight_price_{flight.replace(' ', '_').replace('->', '_to_')}.html\"\n",
    "    fig.write_html(file_name)\n",
    "    print(f\"Saved flight graph to {file_name}\")\n",
    "    \n",
    "    # Show the interactive plot\n",
    "    fig.show()"
   ]
  },
  {
   "cell_type": "markdown",
   "id": "7fd7ba91",
   "metadata": {},
   "source": [
    "## Additional Individual Flight Analysis\n",
    "\n",
    "Now let's add some statistical analysis specific to each flight route."
   ]
  }
 ],
 "metadata": {
  "kernelspec": {
   "display_name": ".venv",
   "language": "python",
   "name": "python3"
  },
  "language_info": {
   "codemirror_mode": {
    "name": "ipython",
    "version": 3
   },
   "file_extension": ".py",
   "mimetype": "text/x-python",
   "name": "python",
   "nbconvert_exporter": "python",
   "pygments_lexer": "ipython3",
   "version": "3.11.11"
  }
 },
 "nbformat": 4,
 "nbformat_minor": 5
}
